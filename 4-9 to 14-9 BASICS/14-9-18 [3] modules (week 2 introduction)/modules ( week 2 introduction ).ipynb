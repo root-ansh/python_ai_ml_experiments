{
 "cells": [
  {
   "cell_type": "code",
   "execution_count": 8,
   "metadata": {},
   "outputs": [],
   "source": [
    "# modules\n",
    "import math as m"
   ]
  },
  {
   "cell_type": "code",
   "execution_count": 24,
   "metadata": {},
   "outputs": [
    {
     "name": "stdout",
     "output_type": "stream",
     "text": [
      "4\n",
      "120\n",
      "8\n",
      "1024.0\n",
      "3.141592653589793\n",
      "2.718281828459045\n",
      "nan\n",
      "True\n",
      "False\n"
     ]
    }
   ],
   "source": [
    "print(m.ceil(3.15))\n",
    "print(m.factorial(5))\n",
    "print(m.gcd(40,56))# greatest common divisor or simply HCF\n",
    "print(m.pow(2,10))\n",
    "print(m.pi)\n",
    "print(m.e) \n",
    "print(m.nan) #not a  number\n",
    "print(m.isnan(float('nan')))\n",
    "print(m.isnan(2.31))"
   ]
  },
  {
   "cell_type": "code",
   "execution_count": 21,
   "metadata": {
    "collapsed": true
   },
   "outputs": [
    {
     "data": {
      "text/plain": [
       "nan"
      ]
     },
     "execution_count": 21,
     "metadata": {},
     "output_type": "execute_result"
    }
   ],
   "source": [
    "float('nan')"
   ]
  },
  {
   "cell_type": "code",
   "execution_count": 25,
   "metadata": {},
   "outputs": [],
   "source": [
    "import random as r "
   ]
  },
  {
   "cell_type": "code",
   "execution_count": 34,
   "metadata": {
    "collapsed": true
   },
   "outputs": [
    {
     "name": "stdout",
     "output_type": "stream",
     "text": [
      "3\n",
      "3\n",
      "4\n",
      "[7, 'aa', 5, 6, 4, 3, 2, 1]\n"
     ]
    }
   ],
   "source": [
    "print(r.choice((1,2,3,4,5,6,7,'aa')))\n",
    "print(r.choice((1,2,3,4,5,6,7,'aa')))\n",
    "print(r.choice((1,2,3,4,5,6,7,'aa')))\n",
    "\n",
    "l=[1,2,3,4,5,6,7,'aa']\n",
    "r.shuffle(l)\n",
    "print(l)"
   ]
  },
  {
   "cell_type": "code",
   "execution_count": 55,
   "metadata": {},
   "outputs": [
    {
     "name": "stdout",
     "output_type": "stream",
     "text": [
      "C:\\Users\\anshs\\00ANSH_PYTHON\\14-9-18 [3] modules (week 2 introduction)\n",
      "['.ipynb_checkpoints', 'modules ( week 2 introduction ).ipynb']\n",
      "['.ipynb_checkpoints', 'modules ( week 2 introduction ).ipynb', 'tempDirMadeByCode']\n",
      "['.ipynb_checkpoints', 'modules ( week 2 introduction ).ipynb', 'TemporaryDirMadeByCode']\n",
      "['.ipynb_checkpoints', 'modules ( week 2 introduction ).ipynb']\n",
      "nt\n",
      "True\n"
     ]
    }
   ],
   "source": [
    "import os as os\n",
    "print(os.getcwd())# will tell you the current working directory\n",
    "\n",
    "print(os.listdir('.'))# lists all files in current dir\n",
    "\n",
    "os.mkdir('./tempDirMadeByCode') # creates a new folder (Note , gves error if folder of same name aready present)\n",
    "print(os.listdir('.'))\n",
    "\n",
    "os.rename('tempDirMadeByCode','TemporaryDirMadeByCode') # renames a folder to new name (Note : will give an error if old_name folder does not exists or , new_name folder already exists)\n",
    "print(os.listdir('.'))\n",
    "\n",
    "os.rmdir('TemporaryDirMadeByCode')# will give an error if folder is not empty or foldr does not exist\n",
    "print(os.listdir('.'))\n",
    "\n",
    "\n",
    "print(os.name) # returns name of th  os ( windows 10 is nt, macbook is posix)\n",
    "\n",
    "print(os.path.exists('C:\\\\'))# checks if current path exists"
   ]
  },
  {
   "cell_type": "code",
   "execution_count": 40,
   "metadata": {},
   "outputs": [
    {
     "data": {
      "text/plain": [
       "uname_result(system='Windows', node='LAPTOP-4NUIDUVP', release='10', version='10.0.17134', machine='AMD64', processor='Intel64 Family 6 Model 142 Stepping 9, GenuineIntel')"
      ]
     },
     "execution_count": 40,
     "metadata": {},
     "output_type": "execute_result"
    }
   ],
   "source": [
    "import platform\n",
    "#os.uname()# will telll you the details of current system\n",
    "platform.uname()# will telll you the details of current system\n",
    "\n"
   ]
  },
  {
   "cell_type": "code",
   "execution_count": null,
   "metadata": {},
   "outputs": [],
   "source": []
  }
 ],
 "metadata": {
  "kernelspec": {
   "display_name": "Python 3",
   "language": "python",
   "name": "python3"
  },
  "language_info": {
   "codemirror_mode": {
    "name": "ipython",
    "version": 3
   },
   "file_extension": ".py",
   "mimetype": "text/x-python",
   "name": "python",
   "nbconvert_exporter": "python",
   "pygments_lexer": "ipython3",
   "version": "3.6.5"
  }
 },
 "nbformat": 4,
 "nbformat_minor": 2
}
