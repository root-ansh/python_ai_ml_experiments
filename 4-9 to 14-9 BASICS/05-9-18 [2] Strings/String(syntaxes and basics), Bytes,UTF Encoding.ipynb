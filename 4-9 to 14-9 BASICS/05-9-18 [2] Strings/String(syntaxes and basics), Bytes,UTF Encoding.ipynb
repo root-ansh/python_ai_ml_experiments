{
 "cells": [
  {
   "cell_type": "code",
   "execution_count": 1,
   "metadata": {},
   "outputs": [
    {
     "name": "stdout",
     "output_type": "stream",
     "text": [
      "awesome strings\n"
     ]
    }
   ],
   "source": [
    "# strings : again, the beauty continues\n",
    "a= \"awesome\"\n",
    "b= str(\"strings\")\n",
    "print(a,b)\n",
    "\n"
   ]
  },
  {
   "cell_type": "code",
   "execution_count": 2,
   "metadata": {},
   "outputs": [
    {
     "name": "stdout",
     "output_type": "stream",
     "text": [
      "4\n",
      "a\n",
      "anshsachdeva\n",
      "sachdevasachdevasachdeva\n",
      "avedhcashsna\n",
      "kansdeva\n",
      "a-n-s-h-s-a-c-h-d-e-v-a-\n",
      "a,n,s,h,s,a,c,h,d,e,v,a\n",
      "knsh\n",
      "True\n"
     ]
    }
   ],
   "source": [
    "\"\"\"1 python uses utf8 encoded string format . basically this means that every \n",
    "character takes exactly 1 byte of data.However there is a lot more  history about \n",
    "characters and their representation in computer . read more about utf 8 , utf 16 , utf 32\n",
    "at http://diveinto.org/python3/strings.html\"\"\"\n",
    "\n",
    "#2 python too supports basic operations like individual element accessing, length,\n",
    "# concatination , repeatation, traversal , slicing, reversing , ...etc.BUT THEY\n",
    "#ARE NOT MUTABLE.(TypeError: 'str' object does not support item assignment)\n",
    "\n",
    "a= \"ansh\"\n",
    "b= 'sachdeva'\n",
    "print(len(a)) # count\n",
    "print(a[0]) # accessing an element\n",
    "c=a+b # concatination\n",
    "print(c) #printing\n",
    "print(b*3) #Repetition\n",
    "print(c[::-1]) #slicing\n",
    "print('kans'+b[4:])\n",
    "for i in list(c): # iteration1\n",
    "    print(i,end=\"-\")\n",
    "print()\n",
    "#or simply\n",
    "print (*c,sep=\",\")\n",
    "\n",
    "#a[0]='k' #DON'T DO THAT ever. strings are immutable. rather do:\n",
    "b2='k'+a[1:]\n",
    "print(b2)\n",
    "\n",
    "print(\"nsh\" in c)\n",
    "\n",
    "\n",
    "\n"
   ]
  },
  {
   "cell_type": "code",
   "execution_count": 4,
   "metadata": {},
   "outputs": [
    {
     "name": "stdout",
     "output_type": "stream",
     "text": [
      "{1} is super sexy\n",
      "ansh is super sexy\n",
      "abc\n",
      "111\n",
      "1ansh['uncle', 'pie', 1, True]\n",
      "D.Sachdeva\n",
      "D.Sachdeva is S\n",
      "that's fucking awesome ! 99 69 21.540000\n"
     ]
    }
   ],
   "source": [
    "#String fomatting \n",
    "a = \"{1} is super sexy\"\n",
    "print(a)\n",
    "b=\"{} is super sexy\".format(\"ansh\")\n",
    "print(b)\n",
    "\n",
    "# c =\"{} is super {} sexy\".format(\"ansh\")  # error\n",
    "# d =\"{} is super sexy\".format(\"ansh\",\"his gf\")  # error\n",
    "# e=\"{i am super sexy , but let's just replace me} is super sexy\".format(\"ansh\") # still error\n",
    "#e=\"{i} is super sexy\".format(\"ansh\") # still error\n",
    "'''\n",
    "thus if your string has '{int 'x' or empty}', it can be used with format()\n",
    "function which takes a tuple of min size 'x'+1. eg:\n",
    "'''\n",
    "print(\"{0}{1}{2}\".format('a','b','c'))#output= abc, string got tuple[0],tup[1],tup[2]\n",
    "print(\"{0}{0}{0}\".format(1))#output= 111, string got tup[0],tup[0],tup[0]\n",
    "\n",
    "#print(\"{}{}{}\".format(1))#output= error, first {} got tup[0]=1, but it was an 'iterative tuple'(#myterm) so the pointer moved onto next position and therefore tried assigning tuple[1] to next {} and raised an error\n",
    "#print(\"{0}{0}{}\".format(1))#error : don't mix manually numbering with automatic numbering!\n",
    "\n",
    "\n",
    "print(\"{}{}{}\".format(1,'ansh',['uncle','pie',1,True]))\n",
    "\n",
    "# compound formatting : a whole new different format and fuck it,its never used!\n",
    "print(\"{[0]}.Sachdeva\".format(\"Desi\"))\n",
    "print(\"{[0]}.Sachdeva is {[0]}\".format(\"Desi\",\"Sexy\"))# there is more to it . i just don't find nything\n",
    "\n",
    "\n",
    "\n",
    "#UPDATE : C'S FORMATTING IS ALSO SUPPORTED\n",
    "print(\"%s %s %s %c %i %d %3f\"%(r\"that's\",\"fucking\",\"awesome\",\"!\",99,69,21.54))\n",
    "\n",
    "\n",
    "\n"
   ]
  },
  {
   "cell_type": "code",
   "execution_count": 12,
   "metadata": {},
   "outputs": [
    {
     "name": "stdout",
     "output_type": "stream",
     "text": [
      "['this is a multiline string', 'are you fucking crazy? why use 3 colons?', 'because this is how it is . i cannot change.', 'meh.', 'but, does that mean comments are also strings, but just ignored?', \"i guess so, don't you think it could be right?\", 'Oh my god!!', 'meh, fuck it.']\n",
      "['this', 'is', 'a', 'multiline', 'string\\nare', 'you', 'fucking', 'crazy?', 'why', 'use', '3', 'colons?\\nbecause', 'this', 'is', 'how', 'it', 'is', '.', 'i', 'cannot', 'change.\\nmeh.\\nbut,', 'does', 'that', 'mean', 'comments', 'are', 'also', 'strings,', 'but', 'just', 'ignored?\\ni', 'guess', 'so,', \"don't\", 'you', 'think', 'it', 'could', 'be', 'right?\\nOh', 'my', 'god!!\\nmeh,', 'fuck', 'it.\\n']\n",
      "THIS IS A MULTILINE STRING\n",
      "ARE YOU FUCKING CRAZY? WHY USE 3 COLONS?\n",
      "BECAUSE THIS IS HOW IT IS . I CANNOT CHANGE.\n",
      "MEH.\n",
      "BUT, DOES THAT MEAN COMMENTS ARE ALSO STRINGS, BUT JUST IGNORED?\n",
      "I GUESS SO, DON'T YOU THINK IT COULD BE RIGHT?\n",
      "OH MY GOD!!\n",
      "MEH, FUCK IT.\n",
      "\n",
      "This is a multiline string\n",
      "are you fucking crazy? why use 3 colons?\n",
      "because this is how it is . i cannot change.\n",
      "meh.\n",
      "but, does that mean comments are also strings, but just ignored?\n",
      "i guess so, don't you think it could be right?\n",
      "oh my god!!\n",
      "meh, fuck it.\n",
      "\n",
      "2\n",
      "$$$$$$$$ansh$$$$$$$$\n",
      "True\n",
      "False\n",
      "1>>2>>3>>4>>5\n"
     ]
    }
   ],
   "source": [
    "# other important string functionds\n",
    "a= '''this is a multiline string\n",
    "are you fucking crazy? why use 3 colons?\n",
    "because this is how it is . i cannot change.\n",
    "meh.\n",
    "but, does that mean comments are also strings, but just ignored?\n",
    "i guess so, don't you think it could be right?\n",
    "Oh my god!!\n",
    "meh, fuck it.\n",
    "'''\n",
    "b= a.splitlines()\n",
    "c= a.split(' ')\n",
    "d=a.lower().upper()\n",
    "e=a.lower().capitalize()\n",
    "f=a.count(\"fuck\")# this searches for string fuck in the whole character steam: not as a solo word , but wherever it finds an exact combination of the letters , eg 'fucking' has fuck.\n",
    "g=\"ansh\".center(20,'$')\n",
    "h= g.endswith('$')\n",
    "i= g.endswith('$$$'*4)\n",
    "j =\"ansh$$\".isalnum()\n",
    "\n",
    "seperator='>>'\n",
    "k=seperator.join(['1','2','3','4','5'])\n",
    "#... more at https://www.tutorialspoint.com/python3/python_strings.htm\n",
    "\n",
    "\n",
    "\n",
    "\n",
    "print(b)\n",
    "print(c)\n",
    "print(d)\n",
    "print(e)\n",
    "print(f),#wow, just 2 fucks!\n",
    "print(g)\n",
    "print(h)\n",
    "print(i)\n",
    "print(k) # veryy nice :)\n",
    "\n",
    "\n"
   ]
  },
  {
   "cell_type": "code",
   "execution_count": null,
   "metadata": {},
   "outputs": [],
   "source": [
    "# escape character for string \n",
    "# there are many escape characters like "
   ]
  },
  {
   "cell_type": "code",
   "execution_count": null,
   "metadata": {},
   "outputs": [],
   "source": [
    "# side track : bytes\n",
    "# there is something similar to python characters in python only , and that's called byte\n",
    "# as we mentioned earlier a charater takes just 1 byte in py, then making a byte, but why?\n",
    "# ok leaving apart the aweful rhyme, \n",
    "\"\"\"\n",
    "Bytes are bytes; characters are an abstraction. An immutable sequence of Unicode\n",
    "characters is called a string. An immutable sequence of \n",
    "numbers-between-0-and-255 is called a bytes object. eg\n",
    "\n",
    ">>> by = b'abcd\\x65'\n",
    ">>> by\n",
    "b'abcde'\n",
    "\n",
    "read more about this stupid data type here :http://diveinto.org/python3/strings.html\n",
    "\"\"\"\n"
   ]
  },
  {
   "cell_type": "code",
   "execution_count": null,
   "metadata": {},
   "outputs": [],
   "source": [
    "# more on utf encoding\n",
    "\"\"\"\n",
    "Python 3 assumes that your source code — i.e. each .py file — is encoded in \n",
    "utf-8.(read more about utf 8 , utf 16 , utf 32at http://diveinto.org/python3/strings.html)\n",
    "\n",
    "☞In Python 2, the default encoding for .py files was ascii.\n",
    "In Python 3, the default encoding is utf-8.\n",
    "\n",
    "If you would like to use a different encoding within your Python code,\n",
    "you can put an encoding declaration on the first line of each file.\n",
    "This comment defines a .py file's encoding to be windows-1252:\n",
    "     \n",
    "     # -*- coding: windows-1252 -*-\n",
    "        \n",
    "Technically, the character encoding override can also be on the second line,\n",
    "if the first line is a unix-like hash-bang command.\n",
    "\n",
    "    #!/usr/bin/python3\n",
    "    # -*- coding: windows-1252 -*-\n",
    "For more information, consult [pep263: Defining Python Source Code Encodings](http://www.python.org/dev/peps/pep-0263/).\n",
    "\n",
    "\"\"\"\n"
   ]
  },
  {
   "cell_type": "code",
   "execution_count": null,
   "metadata": {},
   "outputs": [],
   "source": []
  },
  {
   "cell_type": "code",
   "execution_count": null,
   "metadata": {},
   "outputs": [],
   "source": []
  },
  {
   "cell_type": "code",
   "execution_count": null,
   "metadata": {},
   "outputs": [],
   "source": []
  },
  {
   "cell_type": "code",
   "execution_count": null,
   "metadata": {},
   "outputs": [],
   "source": []
  }
 ],
 "metadata": {
  "kernelspec": {
   "display_name": "Python 3",
   "language": "python",
   "name": "python3"
  },
  "language_info": {
   "codemirror_mode": {
    "name": "ipython",
    "version": 3
   },
   "file_extension": ".py",
   "mimetype": "text/x-python",
   "name": "python",
   "nbconvert_exporter": "python",
   "pygments_lexer": "ipython3",
   "version": "3.6.5"
  }
 },
 "nbformat": 4,
 "nbformat_minor": 2
}
