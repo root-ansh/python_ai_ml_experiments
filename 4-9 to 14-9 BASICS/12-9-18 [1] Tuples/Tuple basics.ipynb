{
 "cells": [
  {
   "cell_type": "code",
   "execution_count": 17,
   "metadata": {},
   "outputs": [
    {
     "name": "stdout",
     "output_type": "stream",
     "text": [
      "5 (5,) 5 6 5\n"
     ]
    }
   ],
   "source": [
    "# tuples and variables share a quite similar syntax\n",
    "\n",
    "a= 5          # a variable got assigned\n",
    "b= 5,         # a tuple got assigned\n",
    "x=(1)         # still an integer\n",
    "c,d = 5,6 # 2 variables got assigned\n",
    "\n",
    "\n",
    "print(a,b,c,d,x)\n"
   ]
  },
  {
   "cell_type": "code",
   "execution_count": 6,
   "metadata": {},
   "outputs": [
    {
     "name": "stdout",
     "output_type": "stream",
     "text": [
      "(2, 'ansh', True)\n"
     ]
    }
   ],
   "source": [
    "# tuples  basics\n",
    "tup =2,'ansh',True\n",
    "print(tup)"
   ]
  },
  {
   "cell_type": "code",
   "execution_count": 7,
   "metadata": {
    "scrolled": true
   },
   "outputs": [
    {
     "name": "stdout",
     "output_type": "stream",
     "text": [
      "2\n",
      "ansh\n",
      "True\n"
     ]
    }
   ],
   "source": [
    "print(tup[0])\n",
    "print(tup[1])\n",
    "print(tup[2])\n",
    "#print(tup[3])#error!"
   ]
  },
  {
   "cell_type": "code",
   "execution_count": 8,
   "metadata": {
    "collapsed": true
   },
   "outputs": [
    {
     "ename": "TypeError",
     "evalue": "'tuple' object does not support item assignment",
     "output_type": "error",
     "traceback": [
      "\u001b[1;31m---------------------------------------------------------------------------\u001b[0m",
      "\u001b[1;31mTypeError\u001b[0m                                 Traceback (most recent call last)",
      "\u001b[1;32m<ipython-input-8-f7733bab3821>\u001b[0m in \u001b[0;36m<module>\u001b[1;34m()\u001b[0m\n\u001b[0;32m      1\u001b[0m \u001b[1;31m# tuples are immutable\u001b[0m\u001b[1;33m\u001b[0m\u001b[1;33m\u001b[0m\u001b[0m\n\u001b[1;32m----> 2\u001b[1;33m \u001b[0mtup\u001b[0m\u001b[1;33m[\u001b[0m\u001b[1;36m0\u001b[0m\u001b[1;33m]\u001b[0m\u001b[1;33m=\u001b[0m\u001b[1;36m42\u001b[0m\u001b[1;33m\u001b[0m\u001b[0m\n\u001b[0m",
      "\u001b[1;31mTypeError\u001b[0m: 'tuple' object does not support item assignment"
     ]
    }
   ],
   "source": [
    "# tuples are immutable\n",
    "tup[0]=42 #typeError\n"
   ]
  },
  {
   "cell_type": "code",
   "execution_count": 21,
   "metadata": {},
   "outputs": [
    {
     "name": "stdout",
     "output_type": "stream",
     "text": [
      "(5, 'a', 2)\n",
      "(3, 'a', 2, 4)\n"
     ]
    }
   ],
   "source": [
    "# thus modifying tuples( adding removal , modyfieng of elements)\n",
    "# is not possible\n",
    "tup= 5,'a',2\n",
    "print(tup)\n",
    "#tup.insert('a') # insert doesnot exist\n",
    "#del tup[0]  # error\n",
    "#tup[1]=21\n",
    "\n",
    "#but this action is supported\n",
    "tup = 3,'a',2\n",
    "tup2 =tup + (4,)\n",
    "print(tup2)\n"
   ]
  },
  {
   "cell_type": "code",
   "execution_count": 23,
   "metadata": {},
   "outputs": [
    {
     "name": "stdout",
     "output_type": "stream",
     "text": [
      "(5, [2, 1, 1, 'aa'], 'ansh')\n"
     ]
    }
   ],
   "source": [
    "a= 5,[2,1,1,'aa'],'ansh'\n",
    "print(a)"
   ]
  },
  {
   "cell_type": "code",
   "execution_count": 33,
   "metadata": {},
   "outputs": [
    {
     "name": "stdout",
     "output_type": "stream",
     "text": [
      "(2, True, 2, True, 2, True, 2, True, 2, True, 5, 6)\n",
      "(2, True, 2, True, 2, True, 2, True, 2, True)\n"
     ]
    }
   ],
   "source": [
    "# concatination and repetion works here too\n",
    "a= 2,True\n",
    "\n",
    "c = a+(5,6)\n",
    "print(c)\n",
    "\n",
    "a=a*5\n",
    "print(a)\n"
   ]
  },
  {
   "cell_type": "code",
   "execution_count": null,
   "metadata": {},
   "outputs": [],
   "source": [
    "# although by now you should notice a subtle pattern here:\n",
    "\n",
    "# in java ,concatination is   : string + anything = string  \n",
    "# in python, concatination is : str(anything)= string"
   ]
  },
  {
   "cell_type": "code",
   "execution_count": 39,
   "metadata": {},
   "outputs": [
    {
     "name": "stdout",
     "output_type": "stream",
     "text": [
      "4\n",
      "a\n",
      "('a', 'n', 's', 'h', 's', 'a', 'c', 'h', 'd', 'e', 'v', 'a')\n",
      "(1, 2, 1, 2, 1, 2)\n",
      "('a', 'v', 'e', 'd', 'h', 'c', 'a', 's', 'h', 's', 'n', 'a')\n",
      "('k', 'a', 'n', 's', 'd', 'e', 'v', 'a')\n",
      "a-n-s-h-s-a-c-h-d-e-v-a-\n",
      "a,n,s,h,s,a,c,h,d,e,v,a\n",
      "('k', 'n', 's', 'h')\n"
     ]
    }
   ],
   "source": [
    "\n",
    "a= 'a','n','s','h'\n",
    "b= 's','a','c','h','d','e','v','a'\n",
    "rep =1,2\n",
    "print(len(a)) # count\n",
    "print(a[0]) # accessing an element\n",
    "c=a+b # concatination\n",
    "print(c) #printing\n",
    "print(rep*3) #Repetition\n",
    "print(c[::-1]) #slicing\n",
    "print(('k','a','n','s')+b[4:])\n",
    "for i in list(c): # iteration1\n",
    "    print(i,end=\"-\")\n",
    "print()\n",
    "#or simply\n",
    "print (*c,sep=\",\")\n",
    "\n",
    "#a[0]='k' #DON'T DO THAT ever. tuple are immutable. rather do:\n",
    "b2=('k',)+a[1:]\n",
    "print(b2)\n"
   ]
  },
  {
   "cell_type": "code",
   "execution_count": null,
   "metadata": {},
   "outputs": [],
   "source": []
  }
 ],
 "metadata": {
  "kernelspec": {
   "display_name": "Python 3",
   "language": "python",
   "name": "python3"
  },
  "language_info": {
   "codemirror_mode": {
    "name": "ipython",
    "version": 3
   },
   "file_extension": ".py",
   "mimetype": "text/x-python",
   "name": "python",
   "nbconvert_exporter": "python",
   "pygments_lexer": "ipython3",
   "version": "3.6.5"
  }
 },
 "nbformat": 4,
 "nbformat_minor": 2
}
