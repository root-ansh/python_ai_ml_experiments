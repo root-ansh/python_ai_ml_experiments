{
 "cells": [
  {
   "cell_type": "code",
   "execution_count": 22,
   "metadata": {
    "collapsed": true
   },
   "outputs": [
    {
     "name": "stdout",
     "output_type": "stream",
     "text": [
      "True\n",
      "True\n",
      "False\n",
      "False\n",
      "True\n",
      "True\n",
      "False\n",
      "True\n",
      "you\n",
      "False\n",
      "Enter a number:47\n",
      "woah man, wait. that's an else condition goin on here!\n",
      "woohoo dude , you killed it!\n"
     ]
    }
   ],
   "source": [
    "# conditionals Question: guess the answer:\n",
    "print(1>0)\n",
    "print('a'==\"a\")\n",
    "print('ansh'==\"Ansh\")\n",
    "print(max(1,3,5)>35)\n",
    "print((1,3,5)[1]==3)\n",
    "print(6%3!=1)\n",
    "print(0=='0')\n",
    "print(0==int('0'))\n",
    "#print(0==int('0.0')) #error!? why!\n",
    "print(\"me\" if(25>36) else \"you\")\n",
    "\n",
    "print(\"me\">\"yo\") #why doesn't it give an error?\n",
    "\n",
    "a=int(input(\"Enter a number:\"))\n",
    "\n",
    "if(a>50):\n",
    "    print(\"too high dude\")\n",
    "elif (a>30 and a<=45):\n",
    "    print(\"meh. Ok\")\n",
    "else:\n",
    "    print(\"woah man, wait. that's an else condition goin on here!\")\n",
    "\n",
    "\n",
    "if(a==46 or a==47):\n",
    "    print(\"woohoo dude , you killed it!\")\n"
   ]
  },
  {
   "cell_type": "code",
   "execution_count": null,
   "metadata": {},
   "outputs": [],
   "source": []
  },
  {
   "cell_type": "code",
   "execution_count": null,
   "metadata": {},
   "outputs": [],
   "source": []
  },
  {
   "cell_type": "code",
   "execution_count": null,
   "metadata": {},
   "outputs": [],
   "source": []
  }
 ],
 "metadata": {
  "kernelspec": {
   "display_name": "Python 3",
   "language": "python",
   "name": "python3"
  },
  "language_info": {
   "codemirror_mode": {
    "name": "ipython",
    "version": 3
   },
   "file_extension": ".py",
   "mimetype": "text/x-python",
   "name": "python",
   "nbconvert_exporter": "python",
   "pygments_lexer": "ipython3",
   "version": "3.6.5"
  }
 },
 "nbformat": 4,
 "nbformat_minor": 2
}
