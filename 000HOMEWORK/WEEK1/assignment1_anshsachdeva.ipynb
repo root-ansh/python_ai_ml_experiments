{
 "cells": [
  {
   "cell_type": "code",
   "execution_count": 6,
   "metadata": {},
   "outputs": [
    {
     "name": "stdout",
     "output_type": "stream",
     "text": [
      "8\n",
      "{1: 1, 2: 4, 3: 9, 4: 16, 5: 25, 6: 36, 7: 49, 8: 64}\n"
     ]
    }
   ],
   "source": [
    "# Question 1\n",
    "myDict = {}\n",
    "for i in range(1,int(input())+1):\n",
    "    myDict[i]=i*i\n",
    "print(myDict)\n",
    "    "
   ]
  },
  {
   "cell_type": "code",
   "execution_count": 9,
   "metadata": {},
   "outputs": [
    {
     "name": "stdout",
     "output_type": "stream",
     "text": [
      "Ravi,Srivastava\n",
      "RAVI srivastava\n"
     ]
    }
   ],
   "source": [
    "#Question 2\n",
    "a,b = input().split(',')\n",
    "print(a.upper(),b.lower())"
   ]
  },
  {
   "cell_type": "code",
   "execution_count": 16,
   "metadata": {},
   "outputs": [
    {
     "name": "stdout",
     "output_type": "stream",
     "text": [
      "“Jai”, 22, “Btech”, “Noida”\n",
      "You are qualified\n"
     ]
    }
   ],
   "source": [
    "#Question 3\n",
    "a = (input()).split(',')\n",
    "\n",
    "if(int(a[1])>20):\n",
    "    print(\"You are qualified\")\n",
    "else:\n",
    "    print(\"You are not qualified\")"
   ]
  },
  {
   "cell_type": "code",
   "execution_count": 20,
   "metadata": {},
   "outputs": [
    {
     "name": "stdout",
     "output_type": "stream",
     "text": [
      "MyPasswordIsVeryVeryVeryLong \n",
      "Password is very long\n"
     ]
    }
   ],
   "source": [
    "#Question 4\n",
    "a=str(input())\n",
    "size =len(a)\n",
    "if(size<6):\n",
    "    print(\"Password is too short\")\n",
    "elif(size>15):\n",
    "    print(\"Password is very long\")\n",
    "else :\n",
    "    print(\"Password is okay\")\n",
    "\n"
   ]
  },
  {
   "cell_type": "code",
   "execution_count": 21,
   "metadata": {},
   "outputs": [
    {
     "name": "stdout",
     "output_type": "stream",
     "text": [
      "6\n",
      "6 x 1 = 6\n",
      "6 x 2 = 12\n",
      "6 x 3 = 18\n",
      "6 x 4 = 24\n",
      "6 x 5 = 30\n",
      "6 x 6 = 36\n",
      "6 x 7 = 42\n",
      "6 x 8 = 48\n",
      "6 x 9 = 54\n",
      "6 x 10 = 60\n"
     ]
    }
   ],
   "source": [
    "#Question 5\n",
    "n=int(input())\n",
    "for i in range(1 ,11):\n",
    "    print(n,'x',i,'=',(n*i))\n",
    "    "
   ]
  },
  {
   "cell_type": "code",
   "execution_count": null,
   "metadata": {},
   "outputs": [],
   "source": []
  }
 ],
 "metadata": {
  "kernelspec": {
   "display_name": "Python 3",
   "language": "python",
   "name": "python3"
  },
  "language_info": {
   "codemirror_mode": {
    "name": "ipython",
    "version": 3
   },
   "file_extension": ".py",
   "mimetype": "text/x-python",
   "name": "python",
   "nbconvert_exporter": "python",
   "pygments_lexer": "ipython3",
   "version": "3.6.5"
  }
 },
 "nbformat": 4,
 "nbformat_minor": 2
}
