{
 "cells": [
  {
   "cell_type": "code",
   "execution_count": 3,
   "metadata": {},
   "outputs": [
    {
     "name": "stdout",
     "output_type": "stream",
     "text": [
      "enter your numbers seperated by space (' ') : 1 2 3 4 5\n",
      "your list: [1, 2, 3, 4, 5]\n",
      "your array: [1 2 3 4 5]\n"
     ]
    }
   ],
   "source": [
    "# question 1 Write a Python program to convert a list of numeric value into a one-dimensional NumPy array.\n",
    "import numpy as np \n",
    "def convert_to_array(l):\n",
    "    return np.array(l)\n",
    "\n",
    "    \n",
    "#---driver code---\n",
    "my_list = [int(x) for x in input(\"enter your numbers seperated by space (' ') : \").split(\" \")]\n",
    "print(\"your list:\",my_list)\n",
    "print(\"your array:\",convert_to_array(my_list))\n"
   ]
  },
  {
   "cell_type": "code",
   "execution_count": 4,
   "metadata": {},
   "outputs": [
    {
     "name": "stdout",
     "output_type": "stream",
     "text": [
      "[[ 2  3  4]\n",
      " [ 5  6  7]\n",
      " [ 8  9 10]]\n"
     ]
    }
   ],
   "source": [
    "# question 2) Create a 3x3 matrix with values ranging from 2 to 10.\n",
    "\n",
    "print(np.arange(2,11).reshape(3,3))\n"
   ]
  },
  {
   "cell_type": "code",
   "execution_count": 6,
   "metadata": {},
   "outputs": [
    {
     "name": "stdout",
     "output_type": "stream",
     "text": [
      "enter your numbers seperated by space (' ') : 1 2 3 4 5\n",
      "your list: [1, 2, 3, 4, 5]\n",
      "your array: [1 2 3 4 5]\n",
      "your array reversed: [5 4 3 2 1]\n"
     ]
    }
   ],
   "source": [
    "#3) Write a Python program to reverse an array (first element becomes last).\n",
    "# using the function created in queston 1:\n",
    "\n",
    "#---driver code---\n",
    "my_list = [int(x) for x in input(\"enter your numbers seperated by space (' ') : \").split(\" \")]\n",
    "arr=convert_to_array(my_list)\n",
    "\n",
    "print(\"your list:\",my_list)\n",
    "print(\"your array:\",arr)\n",
    "print(\"your array reversed:\",arr[::-1])\n",
    "\n",
    "\n"
   ]
  },
  {
   "cell_type": "code",
   "execution_count": 8,
   "metadata": {},
   "outputs": [
    {
     "name": "stdout",
     "output_type": "stream",
     "text": [
      "enter your numbers seperated by space (' ') : 1 2 3 4\n",
      "enter more numbers to be appended seperated by space (' ') : 2 22\n",
      "your list: [1, 2, 3, 4]\n",
      "your items to be appended: [1, 2, 3, 4]\n",
      "your array after appending: [ 1  2  3  4  2 22]\n"
     ]
    }
   ],
   "source": [
    "#q4Write a Python program to append values to the end of an array.\n",
    "#(Use Numpy append() method )\n",
    "\n",
    "#---driver code---\n",
    "my_list = [int(x) for x in input(\"enter your numbers seperated by space (' ') : \").split(\" \")]\n",
    "items = [int(x) for x in input(\"enter more numbers to be appended seperated by space (' ') : \").split(\" \")]\n",
    "\n",
    "arr=convert_to_array(my_list)\n",
    "arr=np.append(arr,items)\n",
    "\n",
    "print(\"your list:\",my_list)\n",
    "print(\"your items to be appended:\",my_list)\n",
    "print(\"your array after appending:\",arr)\n"
   ]
  },
  {
   "cell_type": "code",
   "execution_count": 10,
   "metadata": {},
   "outputs": [
    {
     "name": "stdout",
     "output_type": "stream",
     "text": [
      "non zero indexes are : [0 1 4]\n",
      "non zero elements are : [1 2 4]\n"
     ]
    }
   ],
   "source": [
    "#q5 Find indices of non-zero elements from [1,2,0,0,4,0]\n",
    "\n",
    "l=[1,2,0,0,4,0]\n",
    "arr=convert_to_array(l)\n",
    "indexes=np.nonzero(arr)[0]\n",
    "print(\"non zero indexes are :\",indexes)\n",
    "print(\"non zero elements are :\",arr[indexes])"
   ]
  },
  {
   "cell_type": "code",
   "execution_count": null,
   "metadata": {},
   "outputs": [],
   "source": []
  }
 ],
 "metadata": {
  "kernelspec": {
   "display_name": "Python 3",
   "language": "python",
   "name": "python3"
  },
  "language_info": {
   "codemirror_mode": {
    "name": "ipython",
    "version": 3
   },
   "file_extension": ".py",
   "mimetype": "text/x-python",
   "name": "python",
   "nbconvert_exporter": "python",
   "pygments_lexer": "ipython3",
   "version": "3.6.6"
  }
 },
 "nbformat": 4,
 "nbformat_minor": 1
}
