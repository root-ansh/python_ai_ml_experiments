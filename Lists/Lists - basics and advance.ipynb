{
 "cells": [
  {
   "cell_type": "code",
   "execution_count": 87,
   "metadata": {},
   "outputs": [
    {
     "name": "stdout",
     "output_type": "stream",
     "text": [
      "[1, 2, 3, 4]\n",
      "[1, 2, 3, 'hey', 'a', [1, 2, 3], {'a': 1}]\n"
     ]
    }
   ],
   "source": [
    "#python lists : the beauty\n",
    "li =[1,2,3,4]\n",
    "print(li)\n",
    "\n",
    "l2 = list((1,2,3,'hey','a',[1,2,3],{'a':1}))\n",
    "print(l2)\n"
   ]
  },
  {
   "cell_type": "code",
   "execution_count": 7,
   "metadata": {
    "collapsed": true
   },
   "outputs": [
    {
     "name": "stdout",
     "output_type": "stream",
     "text": [
      "[1.11, 2.22, 3.33, 4.44]\n",
      "['hey', 'baby', \"what's up\"]\n",
      "[True, False, True, True]\n",
      "[[1.11, 2.22, 3.33, 4.44], [1, 2], 22, 'a mix of any datatype!', False]\n"
     ]
    }
   ],
   "source": [
    "#there can be list for every other data type too\n",
    "\n",
    "l1 =[1.11,2.22,3.33,4.44]\n",
    "l2 =[\"hey\",\"baby\",\"what's up\"]\n",
    "l3 =[True,False,True,True]\n",
    "l4 =[l1,[1,2],22,\"a mix of any datatype!\",False]\n",
    "# and your custom class too!( although  i forgot its syntax)\n",
    "print(l1)\n",
    "print(l2)\n",
    "print(l3)\n",
    "print(l4)\n"
   ]
  },
  {
   "cell_type": "code",
   "execution_count": 18,
   "metadata": {
    "collapsed": true
   },
   "outputs": [
    {
     "name": "stdout",
     "output_type": "stream",
     "text": [
      "list= [1, True, 'A mixed list', [222, 21.23], (1, 2, 3)] \t length= 5\n",
      "index= 0 |value= 1 \t\t|type= <class 'int'>\n",
      "index= 1 |value= True \t\t|type= <class 'bool'>\n",
      "index= 2 |value= A mixed list \t|type= <class 'str'>\n",
      "index= 3 |value= [222, 21.23] \t|type= <class 'list'>\n",
      "index= 4 |value= (1, 2, 3) \t|type= <class 'tuple'>\n"
     ]
    }
   ],
   "source": [
    "# a list has indices and length. eg\"\n",
    "l =[1,True,\"A mixed list\",[222,21.23],(1,2,3)]\n",
    "\n",
    "print(\"list=\",l,\"\\t length=\",len(l))\n",
    "print(\"index=\",0,\"|value=\",l[0],\"\\t\\t|type=\",type(l[0]))\n",
    "print(\"index=\",1,\"|value=\",l[1],\"\\t\\t|type=\",type(l[1]))\n",
    "print(\"index=\",2,\"|value=\",l[2],\"\\t|type=\",type(l[2]))\n",
    "print(\"index=\",3,\"|value=\",l[3],\"\\t|type=\",type(l[3]))\n",
    "print(\"index=\",4,\"|value=\",l[4],\"\\t|type=\",type(l[4]))\n",
    "\n",
    "\n"
   ]
  },
  {
   "cell_type": "code",
   "execution_count": 19,
   "metadata": {
    "collapsed": true
   },
   "outputs": [
    {
     "name": "stdout",
     "output_type": "stream",
     "text": [
      "[1, True, 'A mixed list', [222, 21.23], (1, 2, 3)]\n"
     ]
    }
   ],
   "source": [
    "print(l)"
   ]
  },
  {
   "cell_type": "code",
   "execution_count": 20,
   "metadata": {
    "collapsed": true
   },
   "outputs": [
    {
     "name": "stdout",
     "output_type": "stream",
     "text": [
      "['pochinki', True, 'A mixed list', [222, 21.23], (1, 2, 3)]\n"
     ]
    }
   ],
   "source": [
    "# a list is mutable eg :\n",
    "l[0]=\"pochinki\"\n",
    "print(l)"
   ]
  },
  {
   "cell_type": "code",
   "execution_count": 21,
   "metadata": {
    "collapsed": true
   },
   "outputs": [
    {
     "name": "stdout",
     "output_type": "stream",
     "text": [
      "['a', 2, False]\n",
      "['a', 2, False, 'a', 2, False]\n",
      "['a', 2, False, 'a', 2, False, 'a', 2, False]\n"
     ]
    }
   ],
   "source": [
    "#Multiplaction and addition\n",
    "# again , the overloading of + and * operator is not so uncommon in python\n",
    "l=['a',2,False]\n",
    "l2 = l+l\n",
    "l3 = l*3\n",
    "\n",
    "print(l)\n",
    "print(l2)\n",
    "print(l3)\n"
   ]
  },
  {
   "cell_type": "code",
   "execution_count": 4,
   "metadata": {},
   "outputs": [
    {
     "name": "stdout",
     "output_type": "stream",
     "text": [
      " [0, 1, 2, 3, 4, 5, 6, 7, 8, 9] \n",
      " [0, 1, 2, 3, 4, 5, 6, 7, 8, 9] \n",
      " [0, 1, 2, 3, 4, 5, 6, 7, 8, 9] \n",
      "\n",
      " [10, 9, 8, 7, 6, 5, 4, 3, 2, 1] \n",
      " [10, 9, 8, 7, 6, 5, 4, 3, 2, 1, 0] \n",
      " [0, 3, 6, 9, 12, 15, 18, 21, 24, 27]\n",
      "<class 'type'>\n"
     ]
    }
   ],
   "source": [
    "# todo : list , string , loops( pass break continue)\n",
    "# on a side note, there is also a function range(start,stop, step) that will produce a list of numbers( well, not really a list in py3 , but kind of) . its very fast and used for itrating over a list.\n",
    "l = list(range(0,10,1))\n",
    "l2= list(range(0,10))\n",
    "l3= list(range(10))# all 3 are same, really\n",
    "\n",
    "l4= list(range(10,0,-1))\n",
    "l5= list(range(10,-1,-1))\n",
    "l6= list(range(0,30,3))\n",
    "\n",
    "print('',l,'\\n',l2,'\\n',l3,'\\n\\n',l4,'\\n',l5,'\\n',l6)\n",
    "\n",
    "print(type(range))\n"
   ]
  },
  {
   "cell_type": "code",
   "execution_count": 50,
   "metadata": {
    "collapsed": true
   },
   "outputs": [
    {
     "name": "stdout",
     "output_type": "stream",
     "text": [
      "214325\n",
      "2 1 4 3 2 5\n",
      "2,1,4,3,2,5\n",
      "2 1 4 3 2 5 "
     ]
    }
   ],
   "source": [
    "#so therefore, we can simply itereate a list like:\n",
    "l= [2,1,4,3,2,5]\n",
    "\n",
    "for i in range(len(l)):\n",
    "    print(l[i],end='')# this is advance version of print statement\n",
    "print()\n",
    "# there is another cool way of print a list\n",
    "print(*l)\n",
    "print(*l,sep=',')\n",
    "# or simply \n",
    "for x in l : print(x,end=\" \")"
   ]
  },
  {
   "cell_type": "code",
   "execution_count": 10,
   "metadata": {},
   "outputs": [
    {
     "name": "stdout",
     "output_type": "stream",
     "text": [
      "[0, 1, 2, 3, 4, 5, 6]\n",
      "0\n",
      "0\n",
      "6\n",
      "------------\n",
      "[0, 1, 2]\n",
      "[]\n",
      "[3, 2, 1]\n",
      "[0, 2, 4]\n",
      "[1, 2, 3, 4, 5, 6]\n",
      "[0, 1, 2, 3, 4]\n",
      "[0, 1, 2, 3, 4, 5, 6]\n",
      "[6, 5, 4, 3, 2, 1, 0]\n",
      "[6, 4]\n",
      "[0, 2, 4, 6]\n"
     ]
    }
   ],
   "source": [
    "#More on indexes and slices\n",
    "# python has backward indexes as well\n",
    "l=[0,1,2,3,4,5,6]\n",
    "print(l)\n",
    "print(l[0])#2\n",
    "print(l[-0]) # again 2\n",
    "print(l[-1]) #its len(l)-1 =l[6]=last number=100\n",
    "print(\"------------\")\n",
    "\n",
    "#slicing: list supports slices\n",
    "print(l[0:3])# returns list of elements at indices 0..2\n",
    "print(l[2:2])#returns element between \"2nd and 2-1th position\" , i.e nothing \n",
    "print(l[3:0:-1])# returns list of elements at indices 3..1, note for -ve indexes, we have to always provide a step value\n",
    "print(l[0:5:2])#returns elements l[0],l[2],l[4]\n",
    "print(l[1:])# returns full lit starting from index 1\n",
    "print(l[:5])# returns full list ending at index 4\n",
    "print(l[:]) # guess?\n",
    "print(l[::-1]) #guess?\n",
    "print(l[-1:-4:-2]) # guess?\n",
    "print(l[::2])# you know it. a list with alternates\n",
    "\n",
    "\n"
   ]
  },
  {
   "cell_type": "code",
   "execution_count": 16,
   "metadata": {
    "collapsed": true
   },
   "outputs": [
    {
     "name": "stdout",
     "output_type": "stream",
     "text": [
      "[0, 1, ['not 2', 'not 2'], 224, 225, 'booh yeah!', 3, 4, 5, 6]\n",
      "[0, 1, 'not 2', 'not 2', 2, 3, 4, 5, 6]\n",
      "[0, 1, 223, 224, 225, 'booh yeah!', 3, 4, 5, 6]\n",
      "[0, 1, ['badboy 2'], 3, 4, 5, 6]\n"
     ]
    }
   ],
   "source": [
    "#there can be some pretty neat tricks with slicing too\n",
    "\n",
    "#adding more values to list using slicing\n",
    "l [2] =[\"not 2\",\"not 2\"]\n",
    "print(l) # [0, 1, ['not 2', 'not 2'], 3, 4, 5, 6] ,nah bad\n",
    "\n",
    "l=[0, 1, 2, 3, 4, 5, 6]\n",
    "l[2:2] = [\"not 2\",\"not 2\"]\n",
    "print(l)#cool!\n",
    "\n",
    "#replacing  values from list using slicing\n",
    "l=[0, 1, 2, 3, 4, 5, 6]\n",
    "l[2:3] = [223,224,225,'booh yeah!']\n",
    "print(l)#l[2:3]=l[2]=2 is replaced by 4 elelments\n",
    "\n",
    "l=[0, 1, 2, 3, 4, 5, 6]\n",
    "l[2:3] = [['badboy 2']]\n",
    "print(l)#l[2:3]=l[2]=2 is replaced by a sting in a list\n",
    "\n",
    "\n",
    "\n"
   ]
  },
  {
   "cell_type": "code",
   "execution_count": 22,
   "metadata": {},
   "outputs": [
    {
     "name": "stdout",
     "output_type": "stream",
     "text": [
      "[5, 2, 3] \n",
      "[5, 2, 3]\n",
      "[1, 2, 3] \t\t---\t [1, 2, 3]\n",
      "[1, 2, 'changed it'] \t---\t [1, 2, 3]\n"
     ]
    }
   ],
   "source": [
    "#shallow copy of a list : kinda like 2 pointers pointing to same data\n",
    "l=[1,2,3]\n",
    "b=l\n",
    "b[0]=5\n",
    "print (l,'\\n'+str(b))\n",
    "\n",
    "#hardcopy of a list : you know it\n",
    "l= [1,2,3]\n",
    "l2 = list(l)\n",
    "\n",
    "print(l,\"\\t\\t---\\t\",l2)\n",
    "l[2]=\"changed it\"\n",
    "print(l,\"\\t---\\t\",l2)\n"
   ]
  },
  {
   "cell_type": "code",
   "execution_count": 85,
   "metadata": {},
   "outputs": [
    {
     "name": "stdout",
     "output_type": "stream",
     "text": [
      "108\n",
      "<class 'list_iterator'>\n",
      "<list_iterator object at 0x000001E9E2F38E80>\n",
      "1\n",
      "2\n",
      "ansh\n",
      "3\n",
      "4\n",
      "don't go beyond this\n",
      "(1, 'a', False) type=<class 'tuple'>\n",
      "(2, 'b', True)\n",
      "(3, 'c', True)\n",
      "[(1, 2, 3), ('a', 'b', 'c'), (False, True, True)]\n",
      "[21, 3, 85, -2, 12, 3, 66, 4, 0, 21, 67, 32, 85, -4, 11]\n",
      "85 -4\n"
     ]
    }
   ],
   "source": [
    "#some instances of pyclasses work with list too\n",
    "\"\"\"\n",
    "ok there is nothing like 'pyclasses', i coined this shitty \n",
    "term because i don't know what to call these 'system keywords' .\n",
    "what the hell they are ? like sum(a,b) is a function, but \n",
    "takes list as arguement too. ok , it maybe an overloaded func.\n",
    "but what about iterators? x= iter(1,2,3) , x now becomes an\n",
    "object of class 'iter'. and this object can  now call 'next' function.\n",
    "so , pyclasses will be something that looks like a function , but it isn't \n",
    "and could call 0 or more extended functions(like iter)\n",
    "\"\"\"\n",
    "\n",
    "#1) sum\n",
    "l= [2,ord('a'),4,5] #make sure that the list should not have anything else than numbers #ord('a')=65= ascii value of 'a'\n",
    "print(sum(l))\n",
    "\n",
    "#2) iter\n",
    "l =[1,2,'ansh',3,4,\"don't go beyond this\"]\n",
    "x = iter(l)\n",
    "print(type(x))\n",
    "print(x)\n",
    "print(next(x))\n",
    "print(next(x))\n",
    "print(next(x))\n",
    "print(next(x))\n",
    "print(next(x))\n",
    "print(next(x))#don't go beyond this\n",
    "#print(next(x))\n",
    "\n",
    "#3)zip and unzip: creates a single tuple-iterable out of n lists of siz\n",
    "l =[1,2,3]\n",
    "l2 =['a','b','c','d','e']# unneccessary , because min size for l1,l2,l3 is 3 \n",
    "l3 =[False,True,True,False]#\n",
    "z =zip(l,l2,l3)\n",
    "\n",
    "p=next(z)\n",
    "print(str(p),\"type=\"+str(type(p)))\n",
    "print(next(z))\n",
    "print(next(z))\n",
    "\n",
    "# to get a 'zipped list'(again its not any official word, but a zip(list1, list2,..) used to give this result in answer by default), use this:\n",
    "z =zip(l,l2,l3)\n",
    "#print(list(z))\n",
    "\n",
    "# unzip \n",
    "\n",
    "unzip = zip(*z)\n",
    "#print(unzip)\n",
    "print (list(unzip))\n",
    "\n",
    "#4 max(list), min(list)\n",
    "l=[21,3,85,-2,12,3,66,4,0,21,67,32,85,-4,11]\n",
    "print(l)\n",
    "print(max(l),min(l))\n",
    "\n",
    "\n"
   ]
  },
  {
   "cell_type": "code",
   "execution_count": 69,
   "metadata": {},
   "outputs": [
    {
     "name": "stdout",
     "output_type": "stream",
     "text": [
      "[[2, 3], [2, 3], [2, 3]]\n",
      "[[22, 3], [22, 3], [22, 3]]\n",
      "[[2, 2], [2, 2], [2, 2]]\n",
      "[[401, 2], [401, 2], [401, 2]]\n"
     ]
    }
   ],
   "source": [
    "# python list are sometimes funny \n",
    "l = [[2,3]]*3\n",
    "print(l)\n",
    "l[0][0]=22\n",
    "print(l)\n",
    "# explaination : because the inside lists are shallow copies of first list #UPDATE , no this is a wrong reason\n"
   ]
  },
  {
   "cell_type": "code",
   "execution_count": 82,
   "metadata": {},
   "outputs": [
    {
     "name": "stdout",
     "output_type": "stream",
     "text": [
      "[10, 11, 12, 13, 14]\n",
      "True\n",
      "False\n",
      "after removing element at 2nd position,l= [10, 11, 13, 14]\n",
      "after removing element '10',l= [11, 13, 14]\n",
      "after removing last element ' 14 ',l= [11, 13]\n"
     ]
    }
   ],
   "source": [
    "# deletion  and  in function\n",
    "\n",
    "l= [10,11,12,13,14]\n",
    "print(l)\n",
    "print(10 in l)\n",
    "print('a' in l)\n",
    "\n",
    "del l[2] # doesn't return any value, simply removes ith element\n",
    "print(\"after removing element at 2nd position,l=\",l)\n",
    "\n",
    "a=l.remove(10) # returns 'None', removes the element (value , not position) directly from the list\n",
    "print(\"after removing element '10',l=\",l)\n",
    "\n",
    "a = l.pop()# removes the last element and returns it\n",
    "print(\"after removing last element '\",a ,\"',l=\",l)\n"
   ]
  },
  {
   "cell_type": "code",
   "execution_count": 94,
   "metadata": {},
   "outputs": [
    {
     "name": "stdout",
     "output_type": "stream",
     "text": [
      "False\n",
      "True\n"
     ]
    }
   ],
   "source": [
    "#built-in functions for list\n",
    "'''\n",
    "1\tlist.append(obj)\n",
    "Appends object obj to list\n",
    "\n",
    "2\tlist.count(obj)\n",
    "Returns count of how many times obj occurs in list\n",
    "\n",
    "3\tlist.extend(seq)\n",
    "Appends the contents of seq to list\n",
    "\n",
    "4\tlist.index(obj)\n",
    "Returns the lowest index in list that obj appears\n",
    "\n",
    "5\tlist.insert(index, obj)\n",
    "Inserts object obj into list at offset index\n",
    "\n",
    "6\tlist.pop(obj = list[-1])\n",
    "Removes and returns last object or obj from list\n",
    "\n",
    "7\tlist.remove(obj)\n",
    "Removes object obj from list\n",
    "\n",
    "8\tlist.reverse()\n",
    "Reverses objects of list in place\n",
    "\n",
    "9   list.sort([func])\n",
    "Sorts objects of list IN_PLACE, uses compare func if given.\n",
    "doesn't return anything, therefore O(1) interms of memory.\n",
    "\n",
    "9 sorted(list l)--> returns a sorted copy of given list l\n",
    "although it takes more memory, it is often\n",
    "\n",
    "'''\n",
    "# equalising operation in list\n",
    "a=[1,2,3,4]\n",
    "b=['1',2,3,4]\n",
    "c=list(a)\n",
    "\n",
    "print(a==b)\n",
    "print(a==c)\n"
   ]
  },
  {
   "cell_type": "code",
   "execution_count": null,
   "metadata": {},
   "outputs": [],
   "source": []
  }
 ],
 "metadata": {
  "kernelspec": {
   "display_name": "Python 3",
   "language": "python",
   "name": "python3"
  },
  "language_info": {
   "codemirror_mode": {
    "name": "ipython",
    "version": 3
   },
   "file_extension": ".py",
   "mimetype": "text/x-python",
   "name": "python",
   "nbconvert_exporter": "python",
   "pygments_lexer": "ipython3",
   "version": "3.6.5"
  }
 },
 "nbformat": 4,
 "nbformat_minor": 2
}
