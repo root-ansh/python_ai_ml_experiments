{
 "cells": [
  {
   "cell_type": "code",
   "execution_count": 2,
   "metadata": {
    "collapsed": true
   },
   "outputs": [
    {
     "name": "stdout",
     "output_type": "stream",
     "text": [
      "python version :3.6.6 |Anaconda custom (64-bit)| (default, Jun 28 2018, 11:27:44) [MSC v.1900 64 bit (AMD64)]\npandas version :0.23.4\nnumpy version :1.15.1\n"
     ]
    }
   ],
   "source": [
    "import sys\n",
    "import pandas as pd\n",
    "import numpy as np\n",
    "\n",
    "print('python version :' + sys.version)\n",
    "print('pandas version :' + pd.__version__) # its version is hidden\n",
    "print('numpy version :' + np.__version__) # its version is hidden\n"
   ]
  },
  {
   "cell_type": "code",
   "execution_count": 3,
   "metadata": {},
   "outputs": [
    {
     "name": "stdout",
     "output_type": "stream",
     "text": [
      ">>> <class 'pandas.core.frame.DataFrame'> \n>>>\n   emp_id               name   location  age    home_at\n0  emp12        Naman Arora    Lucknow   18      Delhi\n1  emp13         Vikas Jain     Bhopal   18    Gurgaon\n2  emp14      Nirmal Mishra    Gurgaon   21    Gurgaon\n3  emp15        Priya Singh    Gurgaon   25      Delhi\n4  cnt17  Rishab Srivastava     Mumbai   22      Noida\n5  emp16      Pravita Singh     Kanpur   21      Delhi\n6  tmp18        Naina Gupta    Sonipat   28  New Delhi\n7  cnt19         Jai Tiwari  Hyderabad   24      Noida\n"
     ]
    }
   ],
   "source": [
    "filename = r\"C:\\Users\\anshs\\00ANSH_PYTHON\\04-10-18 [1] NUMPY\\PANDAS\\new_records.csv\"\n",
    "\n",
    "col_names=\"emp_id,name,location,age,home_at\".split(',')\n",
    "table = pd.read_csv(filename, header=1,names=col_names)\n",
    "print(\">>>\", type(table), '\\n>>>\\n', table)\n"
   ]
  },
  {
   "cell_type": "code",
   "execution_count": 4,
   "metadata": {
    "collapsed": false
   },
   "outputs": [
    {
     "name": "stdout",
     "output_type": "stream",
     "text": [
      "  emp_id       name   location  age    home_at\n0  emp12  new_value    Lucknow   18      Delhi\n1  emp13  new_value     Bhopal   18    Gurgaon\n2  emp14  new_value    Gurgaon   21    Gurgaon\n3  emp15  new_value    Gurgaon   25      Delhi\n4  cnt17  new_value     Mumbai   22      Noida\n5  emp16  new_value     Kanpur   21      Delhi\n6  tmp18  new_value    Sonipat   28  New Delhi\n7  cnt19  new_value  Hyderabad   24      Noida\n\n\n  emp_id       name   location  age    home_at gender\n0  emp12  new_value    Lucknow   18      Delhi      M\n1  emp13  new_value     Bhopal   18    Gurgaon      F\n2  emp14  new_value    Gurgaon   21    Gurgaon      F\n3  emp15  new_value    Gurgaon   25      Delhi      F\n4  cnt17  new_value     Mumbai   22      Noida      M\n5  emp16  new_value     Kanpur   21      Delhi      M\n6  tmp18  new_value    Sonipat   28  New Delhi      M\n7  cnt19  new_value  Hyderabad   24      Noida      F\n"
     ]
    }
   ],
   "source": [
    "table['name']='new_value' #will assign 'new_val' to every cell in column 'name'        \n",
    "print(table)\n",
    "print()\n",
    "print()\n",
    "\n",
    "# will add a new column , along with its values for each column   \n",
    "table['gender']=list(\"MFFFMMMF\") \n",
    "print(table)\n"
   ]
  },
  {
   "cell_type": "code",
   "execution_count": 5,
   "metadata": {
    "collapsed": true
   },
   "outputs": [
    {
     "name": "stdout",
     "output_type": "stream",
     "text": [
      "  emp_id       name   location  age gender\n0  emp12  new_value    Lucknow   18      M\n1  emp13  new_value     Bhopal   18      F\n2  emp14  new_value    Gurgaon   21      F\n3  emp15  new_value    Gurgaon   25      F\n4  cnt17  new_value     Mumbai   22      M\n5  emp16  new_value     Kanpur   21      M\n6  tmp18  new_value    Sonipat   28      M\n7  cnt19  new_value  Hyderabad   24      F\n"
     ]
    }
   ],
   "source": [
    "del table['home_at']  # deletes all values of column 'home_at'\n",
    "print(table)\n",
    "a = \\\n",
    "    \"\"\"\n",
    "    del table[''] is dangerous to use. suppose del table['home_at']\n",
    "    is used once and somehow print() doesn't work. then we run this \n",
    "    code again and now we will get an error saying \"column does not exist\n",
    "    \n",
    "    a better way is to wrap it around some conditional function like:\n",
    "        if table.does_column_exist(col_name):\n",
    "            del table[col_name] \n",
    "            print(table)\n",
    "    does any function like that exists??\n",
    "    \n",
    "    \"\"\"\n"
   ]
  },
  {
   "cell_type": "code",
   "execution_count": 6,
   "metadata": {
    "collapsed": true
   },
   "outputs": [
    {
     "name": "stdout",
     "output_type": "stream",
     "text": [
      "  emp_id       name   location  age gender\n0  emp12  new_value    Lucknow   18      M\n2  emp14  new_value    Gurgaon   21      F\n3  emp15  new_value    Gurgaon   25      F\n4  cnt17  new_value     Mumbai   22      M\n5  emp16  new_value     Kanpur   21      M\n6  tmp18  new_value    Sonipat   28      M\n7  cnt19  new_value  Hyderabad   24      F\n"
     ]
    }
   ],
   "source": [
    "# how to remove rows???\n",
    "\n",
    "table=table.drop(table.index[1])\n",
    "print(table)\n",
    "#it removes row from a copy of main table. therefore to make changes\n",
    "#  in original table, you gotta assign it\n"
   ]
  },
  {
   "cell_type": "code",
   "execution_count": 36,
   "metadata": {
    "collapsed": true
   },
   "outputs": [
    {
     "name": "stdout",
     "output_type": "stream",
     "text": [
      ">>>\n <class 'pandas.core.series.Series'> emp_id          emp12\nname        new_value\nlocation      Lucknow\nage                18\ngender              M\nName: 0, dtype: object\n>>>\n <class 'pandas.core.series.Series'> emp_id          emp13\nname        new_value\nlocation       Bhopal\nage                18\ngender              F\nName: 1, dtype: object\n>>>\n <class 'pandas.core.series.Series'> emp_id          emp14\nname        new_value\nlocation      Gurgaon\nage                21\ngender              F\nName: 2, dtype: object\n>>>\n <class 'pandas.core.series.Series'> emp_id          emp15\nname        new_value\nlocation      Gurgaon\nage                25\ngender              F\nName: 3, dtype: object\n>>>\n <class 'pandas.core.series.Series'> emp_id          cnt17\nname        new_value\nlocation       Mumbai\nage                22\ngender              M\nName: 4, dtype: object\n>>>\n <class 'pandas.core.series.Series'> emp_id          emp16\nname        new_value\nlocation       Kanpur\nage                21\ngender              M\nName: 5, dtype: object\n>>>\n <class 'pandas.core.series.Series'> emp_id          tmp18\nname        new_value\nlocation      Sonipat\nage                28\ngender              M\nName: 6, dtype: object\n>>>\n <class 'pandas.core.series.Series'> emp_id          cnt19\nname        new_value\nlocation    Hyderabad\nage                24\ngender              F\nName: 7, dtype: object\n"
     ]
    }
   ],
   "source": [
    "# accessing each row:\n",
    "table_length = len(table)\n",
    "for i in range(table_length):\n",
    "    print(\">>>\\n\", type(table.loc[i]), table.loc[i])\n",
    "\n",
    "#but i think this is wrong for 3 aspects:\n",
    "#1) table.loc[:] is not defined anywhere\n",
    "#2) we want data in  a list format, and not in column-value format (series format)\n",
    "#3) since the indexes we are using are 0,1,2.. in this example, it does not mean ,\n",
    "#  it will be always the same(remember that pandas is a 2-d datastructure whose both  indexname and column_name can be \n",
    "# changed and need not be 0,1,2...\n"
   ]
  },
  {
   "cell_type": "code",
   "execution_count": 7,
   "metadata": {},
   "outputs": [
    {
     "name": "stdout",
     "output_type": "stream",
     "text": [
      "  emp_id       name   location  age gender\n0  emp12  new_value    Lucknow   18      M\n2  emp14  new_value    Gurgaon   21      F\n3  emp15  new_value    Gurgaon   25      F\n4  cnt17  new_value     Mumbai   22      M\n5  emp16  new_value     Kanpur   21      M\n6  tmp18  new_value    Sonipat   28      M\n7  cnt19  new_value  Hyderabad   24      F\n"
     ]
    }
   ],
   "source": [
    "#adding new row \n",
    "\n",
    "#table.loc[-1] = 'emp_-1', 'val_added', 'val_added', 0, 'G'\n",
    "print(table)\n",
    "a = \\\n",
    "    '''output(before executing the next statement)\n",
    "    \n",
    "        emp_id       name   location  age gender\n",
    "     0   emp12  new_value    Lucknow   18      M\n",
    "     1   emp13  new_value     Bhopal   18      F\n",
    "     2   emp14  new_value    Gurgaon   21      F\n",
    "     3   emp15  new_value    Gurgaon   25      F\n",
    "     4   cnt17  new_value     Mumbai   22      M\n",
    "     5   emp16  new_value     Kanpur   21      M\n",
    "     6   tmp18  new_value    Sonipat   28      M\n",
    "     7   cnt19  new_value  Hyderabad   24      F\n",
    "    -1  emp_-1  val_added  val_added    0      G\n",
    "    \n",
    "    '''\n",
    "#table.index+=1\n",
    "\n",
    "\n",
    "'''output(before after the next statement)\n",
    "\n",
    "    emp_id       name   location  age gender\n",
    "1   emp12  new_value    Lucknow   18      M\n",
    "2   emp13  new_value     Bhopal   18      F\n",
    "3   emp14  new_value    Gurgaon   21      F\n",
    "4   emp15  new_value    Gurgaon   25      F\n",
    "5   cnt17  new_value     Mumbai   22      M\n",
    "6   emp16  new_value     Kanpur   21      M\n",
    "7   tmp18  new_value    Sonipat   28      M\n",
    "8   cnt19  new_value  Hyderabad   24      F\n",
    "0  emp_-1  val_added  val_added    0      G\n",
    "\n",
    "'''\n",
    "\n",
    "#BUT THIS IS CLEARLY WRONG! THE ORDER GOT DISRUPTED!\n",
    "# but this guy solves it using the next line -_-\n",
    "table = table.sort_index()\n"
   ]
  },
  {
   "cell_type": "code",
   "execution_count": 8,
   "metadata": {},
   "outputs": [
    {
     "name": "stdout",
     "output_type": "stream",
     "text": [
      "  emp_id       name   location   age gender\n0  emp12  new_value    Lucknow    18      M\n2  emp14  new_value    Gurgaon    21      F\n3  emp15  new_value    Gurgaon    25      F\n4  cnt17  new_value     Mumbai    22      M\n5     hi         hi         hi    hi     hi\n6   this       will     change  full    row\n7  cnt19  new_value  Hyderabad    24      F\n"
     ]
    }
   ],
   "source": [
    "#modyfieng the current data,again it surely needs an if clause\n",
    "\n",
    "table.loc[5] = 'hi'\n",
    "table.loc[6] = 'this', 'will', 'change', 'full', 'row'\n",
    "print(table)\n"
   ]
  },
  {
   "cell_type": "code",
   "execution_count": 69,
   "metadata": {},
   "outputs": [
    {
     "name": "stdout",
     "output_type": "stream",
     "text": [
      ">>> 7 \n    emp_id       name   location   age gender\n1  emp_-1  val_added  val_added     0      G\n2   emp14  new_value    Gurgaon    21      F\n3   emp15  new_value    Gurgaon    25      F\n4      hi         hi         hi    hi     hi\n5    this       will     change  full    row\n6   tmp18  new_value    Sonipat    28      M\n7   cnt19  new_value  Hyderabad    24      F\n>>>\n    emp_id       name   location   age gender\na  emp_-1  val_added  val_added     0      G\nb   emp14  new_value    Gurgaon    21      F\nc   emp15  new_value    Gurgaon    25      F\nd      hi         hi         hi    hi     hi\ne    this       will     change  full    row\nf   tmp18  new_value    Sonipat    28      M\ng   cnt19  new_value  Hyderabad    24      F\n"
     ]
    }
   ],
   "source": [
    "print('>>>',table.__len__(),'\\n',table)\n",
    "table.index=list('abcdefg')\n",
    "print('>>>\\n',table)\n",
    "\n"
   ]
  },
  {
   "cell_type": "code",
   "execution_count": 70,
   "metadata": {},
   "outputs": [
    {
     "name": "stdout",
     "output_type": "stream",
     "text": [
      ">>>\n    emp_id       name   location   age gender\na  emp_-1  val_added  val_added     0      G\nb   emp14  new_value    Gurgaon    21      F\nc   emp15  new_value    Gurgaon    25      F\nd      hi         hi         hi    hi     hi\ne    this       will     change  full    row\nf   tmp18  new_value    Sonipat    28      M\ng   cnt19  new_value  Hyderabad    24      F\n"
     ]
    }
   ],
   "source": [
    "table.reset_index()  #doesn't work, ideally it should revert to default index\n",
    "print('>>>\\n', table)\n",
    "\n",
    "#but table.rset_index() works in this example::\n",
    "a = \\\n",
    "    \"\"\"\n",
    "    suppose we have data like this :\n",
    "    \n",
    "     emp_id               name   location   age    home_at  spec_number\n",
    "    0  emp11       Aakash Kumar      Patna   22      Noida         0.00\n",
    "    1  emp12        Naman Arora    Lucknow   18      Delhi        -1.25\n",
    "    2  emp13         Vikas Jain     Bhopal   18    Gurgaon         1.00\n",
    "    3  emp14      Nirmal Mishra    Gurgaon   21    Gurgaon         2.00\n",
    "    4  emp15        Priya Singh    Gurgaon   25      Delhi        -1.75\n",
    "    5  cnt17  Rishab Srivastava     Mumbai   22      Noida         3.25\n",
    "    6  emp16      Pravita Singh     Kanpur   21      Delhi         0.00\n",
    "    7  tmp18        Naina Gupta    Sonipat   28  New Delhi         0.00\n",
    "    8  cnt19         Jai Tiwari  Hyderabad   24      Noida        -2.25\n",
    "    0  emp11       Aakash Kumar      Patna   22      Noida         0.00\n",
    "    1  emp12        Naman Arora    Lucknow   18      Delhi        -1.25\n",
    "    2  emp13         Vikas Jain     Bhopal   18    Gurgaon         1.00\n",
    "    3  emp14      Nirmal Mishra    Gurgaon   21    Gurgaon         2.00\n",
    "    4  emp15        Priya Singh    Gurgaon   25      Delhi        -1.75\n",
    "    5  cnt17  Rishab Srivastava     Mumbai   22      Noida         3.25\n",
    "    6  emp16      Pravita Singh     Kanpur   21      Delhi         0.00\n",
    "    7  tmp18        Naina Gupta    Sonipat   28  New Delhi         0.00\n",
    "    8  cnt19         Jai Tiwari  Hyderabad   24      Noida        -2.25\n",
    "    0  emp11       Aakash Kumar      Patna   22      Noida         0.00\n",
    "    1  emp12        Naman Arora    Lucknow   18      Delhi        -1.25\n",
    "    2  emp13         Vikas Jain     Bhopal   18    Gurgaon         1.00\n",
    "    3  emp14      Nirmal Mishra    Gurgaon   21    Gurgaon         2.00\n",
    "    4  emp15        Priya Singh    Gurgaon   25      Delhi        -1.75\n",
    "    5  cnt17  Rishab Srivastava     Mumbai   22      Noida         3.25\n",
    "    6  emp16      Pravita Singh     Kanpur   21      Delhi         0.00\n",
    "    7  tmp18        Naina Gupta    Sonipat   28  New Delhi         0.00\n",
    "    8  cnt19         Jai Tiwari  Hyderabad   24      Noida        -2.25\n",
    "    0  emp11       Aakash Kumar      Patna   22      Noida         0.00\n",
    "    1  emp12        Naman Arora    Lucknow   18      Delhi        -1.25\n",
    "    2  emp13         Vikas Jain     Bhopal   18    Gurgaon         1.00\n",
    "    3  emp14      Nirmal Mishra    Gurgaon   21    Gurgaon         2.00\n",
    "    4  emp15        Priya Singh    Gurgaon   25      Delhi        -1.75\n",
    "    5  cnt17  Rishab Srivastava     Mumbai   22      Noida         3.25\n",
    "    6  emp16      Pravita Singh     Kanpur   21      Delhi         0.00\n",
    "    \n",
    "    data.resetindex() will add current indexs as 0th column to your data \n",
    "    and replace it by new indeses. i.e,\n",
    "    \n",
    "         index emp_id            name   location    age    home_at   spec_number             \n",
    "    0       0  emp11       Aakash Kumar      Patna   22      Noida         0.00\n",
    "    1       1  emp12        Naman Arora    Lucknow   18      Delhi        -1.25\n",
    "    2       2  emp13         Vikas Jain     Bhopal   18    Gurgaon         1.00\n",
    "    3       3  emp14      Nirmal Mishra    Gurgaon   21    Gurgaon         2.00\n",
    "    4       4  emp15        Priya Singh    Gurgaon   25      Delhi        -1.75\n",
    "    5       5  cnt17  Rishab Srivastava     Mumbai   22      Noida         3.25\n",
    "    6       6  emp16      Pravita Singh     Kanpur   21      Delhi         0.00\n",
    "    7       7  tmp18        Naina Gupta    Sonipat   28  New Delhi         0.00\n",
    "    8       8  cnt19         Jai Tiwari  Hyderabad   24      Noida        -2.25\n",
    "    9       0  emp11       Aakash Kumar      Patna   22      Noida         0.00\n",
    "    10      1  emp12        Naman Arora    Lucknow   18      Delhi        -1.25\n",
    "    11      2  emp13         Vikas Jain     Bhopal   18    Gurgaon         1.00\n",
    "    ...\n",
    "    \n",
    "    \n",
    "    if we don't want that, we can simply write : \n",
    "    data=data.reset_index(drop=True)\n",
    "    \n",
    "       emp_id               name   location  age    home_at  spec_number\n",
    "    0   emp11       Aakash Kumar      Patna   22      Noida         0.00\n",
    "    1   emp12        Naman Arora    Lucknow   18      Delhi        -1.25\n",
    "    2   emp13         Vikas Jain     Bhopal   18    Gurgaon         1.00\n",
    "    3   emp14      Nirmal Mishra    Gurgaon   21    Gurgaon         2.00\n",
    "    4   emp15        Priya Singh    Gurgaon   25      Delhi        -1.75\n",
    "    5   cnt17  Rishab Srivastava     Mumbai   22      Noida         3.25\n",
    "    6   emp16      Pravita Singh     Kanpur   21      Delhi         0.00\n",
    "    7   tmp18        Naina Gupta    Sonipat   28  New Delhi         0.00\n",
    "    8   cnt19         Jai Tiwari  Hyderabad   24      Noida        -2.25\n",
    "    9   emp11       Aakash Kumar      Patna   22      Noida         0.00\n",
    "    10  emp12        Naman Arora    Lucknow   18      Delhi        -1.25\n",
    "    11  emp13         Vikas Jain     Bhopal   18    Gurgaon         1.00\n",
    "    12  emp14      Nirmal Mishra    Gurgaon   21    Gurgaon         2.00\n",
    "    13  emp15        Priya Singh    Gurgaon   25      Delhi        -1.75\n",
    "    14  cnt17  Rishab Srivastava     Mumbai   22      Noida         3.25\n",
    "    \"\"\"\n"
   ]
  },
  {
   "cell_type": "code",
   "execution_count": 1,
   "metadata": {},
   "outputs": [
    {
     "ename": "NameError",
     "evalue": "name 'table' is not defined",
     "traceback": [
      "\u001b[1;31m---------------------------------------------------------------------------\u001b[0m",
      "\u001b[1;31mNameError\u001b[0m                                 Traceback (most recent call last)",
      "\u001b[1;32m<ipython-input-1-0685f26eccf6>\u001b[0m in \u001b[0;36m<module>\u001b[1;34m()\u001b[0m\n\u001b[1;32m----> 1\u001b[1;33m \u001b[0mtable\u001b[0m\u001b[1;33m[\u001b[0m\u001b[1;34m'koo'\u001b[0m\u001b[1;33m]\u001b[0m\u001b[1;33m=\u001b[0m\u001b[1;34m'aah'\u001b[0m\u001b[1;33m\u001b[0m\u001b[0m\n\u001b[0m",
      "\u001b[1;31mNameError\u001b[0m: name 'table' is not defined"
     ],
     "output_type": "error"
    }
   ],
   "source": [
    "table['koo']='aah'"
   ]
  },
  {
   "cell_type": "code",
   "execution_count": 78,
   "metadata": {},
   "outputs": [
    {
     "name": "stdout",
     "output_type": "stream",
     "text": [
      "   emp_id       name   location   age gender     k  koo\na  emp_-1  val_added  val_added     0      G  meow  aah\nb   emp14  new_value    Gurgaon    21      F  meow  aah\nc   emp15  new_value    Gurgaon    25      F  meow  aah\nd      hi         hi         hi    hi     hi  meow  aah\ne    this       will     change  full    row  meow  aah\nf   tmp18  new_value    Sonipat    28      M  meow  aah\ng   cnt19  new_value  Hyderabad    24      F  meow  aah\n"
     ]
    }
   ],
   "source": [
    "print(table)"
   ]
  },
  {
   "cell_type": "code",
   "execution_count": 79,
   "metadata": {},
   "outputs": [
    {
     "name": "stdout",
     "output_type": "stream",
     "text": [
      "   emp_id       name   location   age gender     k\na  emp_-1  val_added  val_added     0      G  meow\nb   emp14  new_value    Gurgaon    21      F  meow\nc   emp15  new_value    Gurgaon    25      F  meow\nd      hi         hi         hi    hi     hi  meow\ne    this       will     change  full    row  meow\nf   tmp18  new_value    Sonipat    28      M  meow\ng   cnt19  new_value  Hyderabad    24      F  meow\n"
     ]
    }
   ],
   "source": [
    "del table['koo']\n",
    "print(table)"
   ]
  },
  {
   "cell_type": "code",
   "execution_count": null,
   "metadata": {},
   "outputs": [],
   "source": []
  }
 ],
 "metadata": {
  "kernelspec": {
   "display_name": "Python 2",
   "language": "python",
   "name": "python2"
  },
  "language_info": {
   "codemirror_mode": {
    "name": "ipython",
    "version": 2
   },
   "file_extension": ".py",
   "mimetype": "text/x-python",
   "name": "python",
   "nbconvert_exporter": "python",
   "pygments_lexer": "ipython2",
   "version": "2.7.6"
  }
 },
 "nbformat": 4,
 "nbformat_minor": 0
}
