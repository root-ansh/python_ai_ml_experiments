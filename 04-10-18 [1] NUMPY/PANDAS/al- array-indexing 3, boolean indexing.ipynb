{
 "cells": [
  {
   "cell_type": "code",
   "execution_count": 2,
   "metadata": {
    "collapsed": true
   },
   "outputs": [],
   "source": [
    "import numpy as np"
   ]
  },
  {
   "cell_type": "code",
   "execution_count": 16,
   "metadata": {},
   "outputs": [
    {
     "name": "stdout",
     "output_type": "stream",
     "text": [
      "[[ 0  1  2  3  4]\n [ 5  6  7  8  9]\n [10 11 12 13 14]]\n[[ True False  True False  True]\n [False  True False  True False]\n [ True False  True False  True]]\n[ 0  2  4  6  8 10 12 14]\n6\n6\n15\n[5 1 0]\n"
     ]
    }
   ],
   "source": [
    "a = np.arange(15).reshape([3, 5])\n",
    "b = a % 2 == 0  #this will generate a 3x5 matrix of trues and falses\n",
    "\n",
    "print(a)\n",
    "print(b)\n",
    "print(a[b])\n",
    "# this will generate a list of all values  which have true against the condition.\n",
    "# not that it won't generate the same shaped matrix. rather, it generates a 1d list                          \n",
    "\n",
    "print(np.count_nonzero(a < 6))\n",
    "# this actually works after makeing true=1 and false =0\n",
    "print(np.sum(a < 6))  # simply, sum[1,1,1,1,1,1.00000...]\n",
    "print(np.sum(a[a < 6]))  #sum of all the numbers for which the condition evealuates to true.\n",
    "\n",
    "print(np.sum(a<6,axis=1))\n",
    "# it gives [5,1,0] which is the row-wise sum of :\n",
    "# [ 1,1,1,1,1              [ T,T,T,T,T    \n",
    "#   1,0,0,0,0           or   T,F,F,F,F\n",
    "#   0,0,0,0,0 ]              F,F,F,F,F ]\n"
   ]
  },
  {
   "cell_type": "code",
   "execution_count": 19,
   "metadata": {},
   "outputs": [
    {
     "name": "stdout",
     "output_type": "stream",
     "text": [
      "[[ 0  1  2  3  4]\n [ 5  6  7  8  9]\n [10 11 12 13 14]]\nTrue\nFalse\n[False  True  True]\n[ True  True False]\n"
     ]
    }
   ],
   "source": [
    "print(a)\n",
    "print(np.any(a>6)) #is any element greater than 6?\n",
    "print(np.all(a<12))# are all elements of a <12?\n",
    "\n",
    "print(np.any(a>6,axis=1)) #is any element greater than 6, row-wise?\n",
    "print(np.all(a<12,axis=1))# are all elements of a <12,rowise?                             \n",
    "\n"
   ]
  },
  {
   "cell_type": "code",
   "execution_count": 20,
   "metadata": {},
   "outputs": [],
   "source": [
    "#indexing with string structured arrays"
   ]
  },
  {
   "cell_type": "code",
   "execution_count": 22,
   "metadata": {},
   "outputs": [],
   "source": [
    "#MAKING A CUSTOM N-DIM default ARRAY\n",
    "\"\"\"\n",
    "-what is a 'custom default' array and how is it custom?\n",
    "usually if we have to create an array, we \n",
    "write x=np.arrange(15).reshape(3,5)\n",
    "-it generates a 3x5 array with garbage values. we remove \n",
    "the garbage using np.zeros(x)\n",
    "- it thus generates a 3x5 array of 0s. but what  if we\n",
    "want to pass strings or float to it?\n",
    "although we know , that python is super flexible , and we cn\n",
    "simply pass a string at a particular position,But we all\n",
    "know their must be some auto casting going on under the hood\n",
    "\n",
    "\n",
    "But wouldn't it be good, if, instead of getting a zero,\n",
    "the array get's a default value of the datatype \n",
    "its about to recieve?like if we knw we have to put\n",
    "a string in row 1, every element of the row is initalised\n",
    "by default to '', with datatype = utf-10??\n",
    "\n",
    "numpy gives us that solution\n",
    "\"\"\"\n",
    "garbage=None"
   ]
  },
  {
   "cell_type": "code",
   "execution_count": 29,
   "metadata": {},
   "outputs": [
    {
     "name": "stdout",
     "output_type": "stream",
     "text": [
      "[('', 0, 0.) ('', 0, 0.) ('', 0, 0.) ('', 0, 0.)]\nnew database:  \n[('alisha', 123, 8.5 ) ('bhavya', 234, 9.03) ('chanda', 345, 8.76)\n ('diksha', 456, 7.82)]\n['alisha' 'bhavya' 'chanda' 'diksha']\n('bhavya', 234, 9.03) ('diksha', 456, 7.82)\n"
     ]
    }
   ],
   "source": [
    "name = \"alisha bhavya chanda diksha\".split(' ')\n",
    "emp_id = [123, 234, 345, 456]\n",
    "salary = [8.5, 9.03, 8.76, 7.82]\n",
    "\n",
    "emp_db = np.zeros(\n",
    "    4,\n",
    "    dtype={\n",
    "        'names'  : ('name', 'id', 'sal'),\n",
    "        'formats': ('U10', 'i4', 'f8')\n",
    "    }\n",
    ")\n",
    "print(emp_db)\n",
    "#this generates the custom array with custom , pre\n",
    "# -defined datatypes and custom default values.\n",
    "# its no harm to add  other data type data to the position\n",
    "# but this is basically done to add extra features of the\n",
    "# strict typing languages here.like check these out:\n",
    "\n",
    "\n",
    "emp_db['name']=name\n",
    "emp_db['id']=emp_id\n",
    "emp_db['sal']=salary\n",
    "print(\"new database:  \")\n",
    "print(emp_db)# every name goes in name column, id goes in id column ,... so on!. its like we made alias of every column!\n",
    "print(emp_db['name'])# we can even access data column wise now in such an easy manner!\n",
    "print(emp_db[1],emp_db[-1])# row-wise indexing work as usual\n"
   ]
  },
  {
   "cell_type": "code",
   "execution_count": 31,
   "metadata": {},
   "outputs": [
    {
     "name": "stdout",
     "output_type": "stream",
     "text": [
      "[('bhavya', 234, 9.03) ('chanda', 345, 8.76)]\n"
     ]
    }
   ],
   "source": [
    "# let's try a tricky one\n",
    "\n",
    "print(emp_db[emp_db['sal']>8.6])\n"
   ]
  },
  {
   "cell_type": "code",
   "execution_count": null,
   "metadata": {},
   "outputs": [],
   "source": []
  }
 ],
 "metadata": {
  "kernelspec": {
   "display_name": "Python 2",
   "language": "python",
   "name": "python2"
  },
  "language_info": {
   "codemirror_mode": {
    "name": "ipython",
    "version": 2
   },
   "file_extension": ".py",
   "mimetype": "text/x-python",
   "name": "python",
   "nbconvert_exporter": "python",
   "pygments_lexer": "ipython2",
   "version": "2.7.6"
  }
 },
 "nbformat": 4,
 "nbformat_minor": 0
}
