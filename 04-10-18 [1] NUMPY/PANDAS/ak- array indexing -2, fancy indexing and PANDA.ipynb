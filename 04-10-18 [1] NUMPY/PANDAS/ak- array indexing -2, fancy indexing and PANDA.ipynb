{
 "cells": [
  {
   "cell_type": "code",
   "execution_count": 1,
   "metadata": {
    "collapsed": true
   },
   "outputs": [],
   "source": [
    "import numpy as np\n",
    "import pandas as pd\n",
    "import matplotlib.pyplot as plt\n"
   ]
  },
  {
   "cell_type": "code",
   "execution_count": 7,
   "metadata": {
    "collapsed": false
   },
   "outputs": [
    {
     "name": "stdout",
     "output_type": "stream",
     "text": [
      "                 name location  age  home_at\nemp_id                                      \nemp11    Aakash Kumar    Patna   22    Noida\nemp12     Naman Arora  Lucknow   18    Delhi\nemp13      Vikas Jain   Bhopal   18  Gurgaon\nemp14   Nirmal Mishra  Gurgaon   21  Gurgaon\nemp15     Priya Singh  Gurgaon   25    Delhi\n"
     ]
    },
    {
     "data": {
      "text/html": [
       "<div>\n",
       "<style scoped>\n",
       "    .dataframe tbody tr th:only-of-type {\n",
       "        vertical-align: middle;\n",
       "    }\n",
       "\n",
       "    .dataframe tbody tr th {\n",
       "        vertical-align: top;\n",
       "    }\n",
       "\n",
       "    .dataframe thead th {\n",
       "        text-align: right;\n",
       "    }\n",
       "</style>\n",
       "<table border=\"1\" class=\"dataframe\">\n",
       "  <thead>\n",
       "    <tr style=\"text-align: right;\">\n",
       "      <th></th>\n",
       "      <th>name</th>\n",
       "      <th>location</th>\n",
       "      <th>age</th>\n",
       "      <th>home_at</th>\n",
       "    </tr>\n",
       "    <tr>\n",
       "      <th>emp_id</th>\n",
       "      <th></th>\n",
       "      <th></th>\n",
       "      <th></th>\n",
       "      <th></th>\n",
       "    </tr>\n",
       "  </thead>\n",
       "  <tbody>\n",
       "    <tr>\n",
       "      <th>emp11</th>\n",
       "      <td>Aakash Kumar</td>\n",
       "      <td>Patna</td>\n",
       "      <td>22</td>\n",
       "      <td>Noida</td>\n",
       "    </tr>\n",
       "    <tr>\n",
       "      <th>emp12</th>\n",
       "      <td>Naman Arora</td>\n",
       "      <td>Lucknow</td>\n",
       "      <td>18</td>\n",
       "      <td>Delhi</td>\n",
       "    </tr>\n",
       "    <tr>\n",
       "      <th>emp13</th>\n",
       "      <td>Vikas Jain</td>\n",
       "      <td>Bhopal</td>\n",
       "      <td>18</td>\n",
       "      <td>Gurgaon</td>\n",
       "    </tr>\n",
       "    <tr>\n",
       "      <th>emp14</th>\n",
       "      <td>Nirmal Mishra</td>\n",
       "      <td>Gurgaon</td>\n",
       "      <td>21</td>\n",
       "      <td>Gurgaon</td>\n",
       "    </tr>\n",
       "    <tr>\n",
       "      <th>emp15</th>\n",
       "      <td>Priya Singh</td>\n",
       "      <td>Gurgaon</td>\n",
       "      <td>25</td>\n",
       "      <td>Delhi</td>\n",
       "    </tr>\n",
       "  </tbody>\n",
       "</table>\n",
       "</div>"
      ],
      "text/plain": [
       "<div>\n",
       "<style scoped>\n",
       "    .dataframe tbody tr th:only-of-type {\n",
       "        vertical-align: middle;\n",
       "    }\n",
       "\n",
       "    .dataframe tbody tr th {\n",
       "        vertical-align: top;\n",
       "    }\n",
       "\n",
       "    .dataframe thead th {\n",
       "        text-align: right;\n",
       "    }\n",
       "</style>\n",
       "<table border=\"1\" class=\"dataframe\">\n",
       "  <thead>\n",
       "    <tr style=\"text-align: right;\">\n",
       "      <th></th>\n",
       "      <th>name</th>\n",
       "      <th>location</th>\n",
       "      <th>age</th>\n",
       "      <th>home_at</th>\n",
       "    </tr>\n",
       "    <tr>\n",
       "      <th>emp_id</th>\n",
       "      <th></th>\n",
       "      <th></th>\n",
       "      <th></th>\n",
       "      <th></th>\n",
       "    </tr>\n",
       "  </thead>\n",
       "  <tbody>\n",
       "    <tr>\n",
       "      <th>emp11</th>\n",
       "      <td>Aakash Kumar</td>\n",
       "      <td>Patna</td>\n",
       "      <td>22</td>\n",
       "      <td>Noida</td>\n",
       "    </tr>\n",
       "    <tr>\n",
       "      <th>emp12</th>\n",
       "      <td>Naman Arora</td>\n",
       "      <td>Lucknow</td>\n",
       "      <td>18</td>\n",
       "      <td>Delhi</td>\n",
       "    </tr>\n",
       "    <tr>\n",
       "      <th>emp13</th>\n",
       "      <td>Vikas Jain</td>\n",
       "      <td>Bhopal</td>\n",
       "      <td>18</td>\n",
       "      <td>Gurgaon</td>\n",
       "    </tr>\n",
       "    <tr>\n",
       "      <th>emp14</th>\n",
       "      <td>Nirmal Mishra</td>\n",
       "      <td>Gurgaon</td>\n",
       "      <td>21</td>\n",
       "      <td>Gurgaon</td>\n",
       "    </tr>\n",
       "    <tr>\n",
       "      <th>emp15</th>\n",
       "      <td>Priya Singh</td>\n",
       "      <td>Gurgaon</td>\n",
       "      <td>25</td>\n",
       "      <td>Delhi</td>\n",
       "    </tr>\n",
       "  </tbody>\n",
       "</table>\n",
       "</div>"
      ]
     },
     "execution_count": 7,
     "metadata": {},
     "output_type": "execute_result"
    }
   ],
   "source": [
    "filename = r'C:\\Users\\anshs\\00ANSH_PYTHON\\04-10-18 [1] NUMPY\\PANDAS\\new_records.csv'\n",
    "cal_data = pd.read_csv(filename, header=0, index_col=0)\n",
    "print(cal_data.head())\n",
    "cal_data.head()\n",
    "\n",
    "# index_col=0 says that value in 0th column should be used as 'id' or \n",
    "# the 'unique element used for identifieng this row\n"
   ]
  },
  {
   "cell_type": "code",
   "execution_count": 9,
   "metadata": {},
   "outputs": [
    {
     "name": "stdout",
     "output_type": "stream",
     "text": [
      "emp_id\nemp11    22\nemp12    18\nemp13    18\nemp14    21\nemp15    25\nName: age, dtype: int64 <class 'pandas.core.series.Series'>\n"
     ]
    },
    {
     "data": {
      "text/plain": [
       "emp_id\nemp11    22\nemp12    18\nemp13    18\nemp14    21\nemp15    25\nName: age, dtype: int64"
      ]
     },
     "execution_count": 9,
     "metadata": {},
     "output_type": "execute_result"
    }
   ],
   "source": [
    "ages=cal_data.head()['age']\n",
    "print(ages,type(ages))\n",
    "ages"
   ]
  },
  {
   "cell_type": "code",
   "execution_count": 10,
   "metadata": {},
   "outputs": [
    {
     "data": {
      "text/plain": [
       "count     5.000000\nmean     20.800000\nstd       2.949576\nmin      18.000000\n25%      18.000000\n50%      21.000000\n75%      22.000000\nmax      25.000000\nName: age, dtype: float64"
      ]
     },
     "execution_count": 10,
     "metadata": {},
     "output_type": "execute_result"
    }
   ],
   "source": [
    "ages.describe() # this gives statsof all the elements present inside the column.\n",
    "# if the elements are integer/float/.. numeric data, \n",
    "#       it will give stats like max/min/median/std dev/ top 25,50,75 percentiles,\n",
    "#       count,etc\n",
    "# if the elements are strings, it will give stats like \n",
    "#       total, top, most-repeating, etc\n",
    "\n"
   ]
  },
  {
   "cell_type": "code",
   "execution_count": 11,
   "metadata": {},
   "outputs": [
    {
     "data": {
      "text/plain": [
       "[<matplotlib.lines.Line2D at 0x1e1fd3424a8>]"
      ]
     },
     "execution_count": 11,
     "metadata": {},
     "output_type": "execute_result"
    },
    {
     "data": {
      "image/png": "[encoded data removed]",
      "text/plain": [
       "<Figure size 432x288 with 1 Axes>"
      ]
     },
     "metadata": {},
     "output_type": "display_data"
    }
   ],
   "source": [
    "filename = r'C:\\Users\\anshs\\00ANSH_PYTHON\\04-10-18 [1] NUMPY\\PANDAS\\new_records.csv'\n",
    "ages = pd.read_csv(filename, header=0, index_col=0)['age'].values\n",
    "ages #array([22, 18, 18, 21, 25, 22, 21, 28, 24], dtype=int64), its a numpy array!!!\n",
    "\n",
    "plt.plot(ages)\n",
    "\n",
    "\n",
    "\n"
   ]
  },
  {
   "cell_type": "code",
   "execution_count": 12,
   "metadata": {},
   "outputs": [
    {
     "data": {
      "text/plain": [
       "3"
      ]
     },
     "execution_count": 12,
     "metadata": {},
     "output_type": "execute_result"
    }
   ],
   "source": [
    "np.count_nonzero(ages>22)\n",
    "#countall non-zero values  which are greater than 22"
   ]
  },
  {
   "cell_type": "code",
   "execution_count": 13,
   "metadata": {},
   "outputs": [
    {
     "name": "stdout",
     "output_type": "stream",
     "text": [
      "[22 18 18 21 25 22 21 28 24]\n[18 18 21 21 22]\n[22 24 25 28]\n"
     ]
    }
   ],
   "source": [
    "print(ages)\n",
    "print(np.sort(ages)[0:5])\n",
    "#select first 5 values after sorting\n",
    "print(np.sort(ages)[-4:])\n",
    "#select last 4 values after sorting\n"
   ]
  },
  {
   "cell_type": "code",
   "execution_count": null,
   "metadata": {},
   "outputs": [],
   "source": []
  }
 ],
 "metadata": {
  "kernelspec": {
   "display_name": "Python 2",
   "language": "python",
   "name": "python2"
  },
  "language_info": {
   "codemirror_mode": {
    "name": "ipython",
    "version": 2
   },
   "file_extension": ".py",
   "mimetype": "text/x-python",
   "name": "python",
   "nbconvert_exporter": "python",
   "pygments_lexer": "ipython2",
   "version": "2.7.6"
  }
 },
 "nbformat": 4,
 "nbformat_minor": 0
}
