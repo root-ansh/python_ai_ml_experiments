{
 "cells": [
  {
   "cell_type": "code",
   "execution_count": 9,
   "metadata": {
    "collapsed": true
   },
   "outputs": [
    {
     "name": "stdout",
     "output_type": "stream",
     "text": [
      ">> pandas version: 0.23.4\n>> sqlite3 version: 2.6.0\n>> sys version: 3.6.6 |Anaconda custom (64-bit)| (default, Jun 28 2018, 11:27:44) [MSC v.1900 64 bit (AMD64)]\n"
     ]
    }
   ],
   "source": [
    "import pandas as pd\n",
    "import sys\n",
    "import sqlite3\n",
    "\n",
    "print('>> pandas version:', pd.__version__)\n",
    "print('>> sqlite3 version:', sqlite3.version)\n",
    "print('>> sys version:', sys.version)\n"
   ]
  },
  {
   "cell_type": "code",
   "execution_count": 11,
   "metadata": {},
   "outputs": [
    {
     "name": "stdout",
     "output_type": "stream",
     "text": [
      "Connected db\ncreated table\n"
     ]
    }
   ],
   "source": [
    "db = sqlite3.connect('MyDB.db')\n",
    "print('Connected db')\n",
    "\n",
    "crsr = db.cursor()\n",
    "\n",
    "sql_command = \"\"\"CREATE TABLE FORBES (\n",
    "RANK INTEGER PRIMARY KEY,\n",
    "FNAME VARCHAR(20),\n",
    "LNAME VARCHAR(20),\n",
    "AGE INTEGER,\n",
    "GENDER CHAR(1),\n",
    "DOB DATE\n",
    ");\n",
    "\"\"\"\n",
    "crsr.execute(sql_command)  # warning , your sql doesn't handle 'already exists' condition,\n",
    "print(\"created table\")      #  you can't run this block again, ever"
   ]
  },
  {
   "cell_type": "code",
   "execution_count": 12,
   "metadata": {},
   "outputs": [
    {
     "name": "stdout",
     "output_type": "stream",
     "text": [
      "added data successfully\n"
     ]
    }
   ],
   "source": [
    "#insertion\n",
    "sql_command=\"\"\"INSERT INTO FORBES VALUES(1,\"ANSH\",\"SACHDEVA\",20,\"M\",\"05-07-1998\");\"\"\"\n",
    "crsr.execute(sql_command)\n",
    "print(\"added data successfully\")\n",
    "\n",
    "# once again we didn't handle non unique rows\n"
   ]
  },
  {
   "cell_type": "code",
   "execution_count": 13,
   "metadata": {},
   "outputs": [
    {
     "name": "stdout",
     "output_type": "stream",
     "text": [
      "added data successfully\nadded data successfully\nadded data successfully\nadded data successfully\nadded data successfully\n"
     ]
    }
   ],
   "source": [
    "sql_command=\"\"\"INSERT INTO FORBES VALUES(2,\"ANSH2\",\"SACHDEVA\",20,\"M\",\"05-07-1998\");\"\"\"\n",
    "crsr.execute(sql_command)\n",
    "print(\"added data successfully\")\n",
    "\n",
    "sql_command=\"\"\"INSERT INTO FORBES VALUES(3,\"ANSH3\",\"SACHDEVA\",20,\"M\",\"05-07-1998\");\"\"\"\n",
    "crsr.execute(sql_command)\n",
    "print(\"added data successfully\")\n",
    "\n",
    "sql_command=\"\"\"INSERT INTO FORBES VALUES(4,\"ANSH4\",\"SACHDEVA\",20,\"M\",\"05-07-1998\");\"\"\"\n",
    "crsr.execute(sql_command)\n",
    "print(\"added data successfully\")\n",
    "\n",
    "sql_command=\"\"\"INSERT INTO FORBES VALUES(5,\"ANSH5\",\"SACHDEVA\",20,\"M\",\"05-07-1998\");\"\"\"\n",
    "crsr.execute(sql_command)\n",
    "print(\"added data successfully\")\n",
    "\n",
    "sql_command=\"\"\"INSERT INTO FORBES VALUES(6,\"ANSH6\",\"SACHDEVA\",20,\"M\",\"05-07-1998\");\"\"\"\n",
    "crsr.execute(sql_command)\n",
    "print(\"added data successfully\")"
   ]
  },
  {
   "cell_type": "code",
   "execution_count": 14,
   "metadata": {},
   "outputs": [],
   "source": [
    "db.commit()"
   ]
  },
  {
   "cell_type": "code",
   "execution_count": 17,
   "metadata": {},
   "outputs": [
    {
     "name": "stdout",
     "output_type": "stream",
     "text": [
      "Connected db\n"
     ]
    }
   ],
   "source": [
    "# can't check if cursor is open or close\n",
    "crsr.close()\n",
    "db.close()\n",
    "db = sqlite3.connect('MyDB.db')\n",
    "print('Connected db')\n",
    "crsr = db.cursor()\n"
   ]
  },
  {
   "cell_type": "code",
   "execution_count": 23,
   "metadata": {},
   "outputs": [
    {
     "name": "stdout",
     "output_type": "stream",
     "text": [
      "succesfully retrieved ad stored values internally\n"
     ]
    }
   ],
   "source": [
    "query=\"SELECT * FROM FORBES\"\n",
    "crsr.execute(query)\n",
    "print('succesfully retrieved ad stored values internally')\n",
    "data = crsr.fetchall()  # will look inside cursor object and retrieve all the stored query results"
   ]
  },
  {
   "cell_type": "code",
   "execution_count": 24,
   "metadata": {},
   "outputs": [
    {
     "data": {
      "text/html": [
       "<div>\n",
       "<style scoped>\n",
       "    .dataframe tbody tr th:only-of-type {\n",
       "        vertical-align: middle;\n",
       "    }\n",
       "\n",
       "    .dataframe tbody tr th {\n",
       "        vertical-align: top;\n",
       "    }\n",
       "\n",
       "    .dataframe thead th {\n",
       "        text-align: right;\n",
       "    }\n",
       "</style>\n",
       "<table border=\"1\" class=\"dataframe\">\n",
       "  <thead>\n",
       "    <tr style=\"text-align: right;\">\n",
       "      <th></th>\n",
       "      <th>0</th>\n",
       "      <th>1</th>\n",
       "      <th>2</th>\n",
       "      <th>3</th>\n",
       "      <th>4</th>\n",
       "      <th>5</th>\n",
       "    </tr>\n",
       "  </thead>\n",
       "  <tbody>\n",
       "    <tr>\n",
       "      <th>0</th>\n",
       "      <td>1</td>\n",
       "      <td>ANSH</td>\n",
       "      <td>SACHDEVA</td>\n",
       "      <td>20</td>\n",
       "      <td>M</td>\n",
       "      <td>05-07-1998</td>\n",
       "    </tr>\n",
       "    <tr>\n",
       "      <th>1</th>\n",
       "      <td>2</td>\n",
       "      <td>ANSH2</td>\n",
       "      <td>SACHDEVA</td>\n",
       "      <td>20</td>\n",
       "      <td>M</td>\n",
       "      <td>05-07-1998</td>\n",
       "    </tr>\n",
       "    <tr>\n",
       "      <th>2</th>\n",
       "      <td>3</td>\n",
       "      <td>ANSH3</td>\n",
       "      <td>SACHDEVA</td>\n",
       "      <td>20</td>\n",
       "      <td>M</td>\n",
       "      <td>05-07-1998</td>\n",
       "    </tr>\n",
       "    <tr>\n",
       "      <th>3</th>\n",
       "      <td>4</td>\n",
       "      <td>ANSH4</td>\n",
       "      <td>SACHDEVA</td>\n",
       "      <td>20</td>\n",
       "      <td>M</td>\n",
       "      <td>05-07-1998</td>\n",
       "    </tr>\n",
       "    <tr>\n",
       "      <th>4</th>\n",
       "      <td>5</td>\n",
       "      <td>ANSH5</td>\n",
       "      <td>SACHDEVA</td>\n",
       "      <td>20</td>\n",
       "      <td>M</td>\n",
       "      <td>05-07-1998</td>\n",
       "    </tr>\n",
       "    <tr>\n",
       "      <th>5</th>\n",
       "      <td>6</td>\n",
       "      <td>ANSH6</td>\n",
       "      <td>SACHDEVA</td>\n",
       "      <td>20</td>\n",
       "      <td>M</td>\n",
       "      <td>05-07-1998</td>\n",
       "    </tr>\n",
       "  </tbody>\n",
       "</table>\n",
       "</div>"
      ],
      "text/plain": [
       "<div>\n",
       "<style scoped>\n",
       "    .dataframe tbody tr th:only-of-type {\n",
       "        vertical-align: middle;\n",
       "    }\n",
       "\n",
       "    .dataframe tbody tr th {\n",
       "        vertical-align: top;\n",
       "    }\n",
       "\n",
       "    .dataframe thead th {\n",
       "        text-align: right;\n",
       "    }\n",
       "</style>\n",
       "<table border=\"1\" class=\"dataframe\">\n",
       "  <thead>\n",
       "    <tr style=\"text-align: right;\">\n",
       "      <th></th>\n",
       "      <th>0</th>\n",
       "      <th>1</th>\n",
       "      <th>2</th>\n",
       "      <th>3</th>\n",
       "      <th>4</th>\n",
       "      <th>5</th>\n",
       "    </tr>\n",
       "  </thead>\n",
       "  <tbody>\n",
       "    <tr>\n",
       "      <th>0</th>\n",
       "      <td>1</td>\n",
       "      <td>ANSH</td>\n",
       "      <td>SACHDEVA</td>\n",
       "      <td>20</td>\n",
       "      <td>M</td>\n",
       "      <td>05-07-1998</td>\n",
       "    </tr>\n",
       "    <tr>\n",
       "      <th>1</th>\n",
       "      <td>2</td>\n",
       "      <td>ANSH2</td>\n",
       "      <td>SACHDEVA</td>\n",
       "      <td>20</td>\n",
       "      <td>M</td>\n",
       "      <td>05-07-1998</td>\n",
       "    </tr>\n",
       "    <tr>\n",
       "      <th>2</th>\n",
       "      <td>3</td>\n",
       "      <td>ANSH3</td>\n",
       "      <td>SACHDEVA</td>\n",
       "      <td>20</td>\n",
       "      <td>M</td>\n",
       "      <td>05-07-1998</td>\n",
       "    </tr>\n",
       "    <tr>\n",
       "      <th>3</th>\n",
       "      <td>4</td>\n",
       "      <td>ANSH4</td>\n",
       "      <td>SACHDEVA</td>\n",
       "      <td>20</td>\n",
       "      <td>M</td>\n",
       "      <td>05-07-1998</td>\n",
       "    </tr>\n",
       "    <tr>\n",
       "      <th>4</th>\n",
       "      <td>5</td>\n",
       "      <td>ANSH5</td>\n",
       "      <td>SACHDEVA</td>\n",
       "      <td>20</td>\n",
       "      <td>M</td>\n",
       "      <td>05-07-1998</td>\n",
       "    </tr>\n",
       "    <tr>\n",
       "      <th>5</th>\n",
       "      <td>6</td>\n",
       "      <td>ANSH6</td>\n",
       "      <td>SACHDEVA</td>\n",
       "      <td>20</td>\n",
       "      <td>M</td>\n",
       "      <td>05-07-1998</td>\n",
       "    </tr>\n",
       "  </tbody>\n",
       "</table>\n",
       "</div>"
      ]
     },
     "execution_count": 24,
     "metadata": {},
     "output_type": "execute_result"
    }
   ],
   "source": [
    "# creating dataframe out of database\n",
    "dframe=pd.DataFrame(data)\n",
    "dframe\n",
    "\n"
   ]
  },
  {
   "cell_type": "code",
   "execution_count": 25,
   "metadata": {},
   "outputs": [],
   "source": [
    "crsr.close()\n",
    "db.close()"
   ]
  },
  {
   "cell_type": "code",
   "execution_count": 26,
   "metadata": {},
   "outputs": [
    {
     "name": "stdout",
     "output_type": "stream",
     "text": [
      "<sqlite3.Connection object at 0x000002721602F1F0>\n"
     ]
    }
   ],
   "source": [
    "print(sqlite3.connect(\"NEW.db\"))"
   ]
  },
  {
   "cell_type": "code",
   "execution_count": null,
   "metadata": {},
   "outputs": [],
   "source": []
  }
 ],
 "metadata": {
  "kernelspec": {
   "display_name": "Python 2",
   "language": "python",
   "name": "python2"
  },
  "language_info": {
   "codemirror_mode": {
    "name": "ipython",
    "version": 2
   },
   "file_extension": ".py",
   "mimetype": "text/x-python",
   "name": "python",
   "nbconvert_exporter": "python",
   "pygments_lexer": "ipython2",
   "version": "2.7.6"
  }
 },
 "nbformat": 4,
 "nbformat_minor": 0
}
