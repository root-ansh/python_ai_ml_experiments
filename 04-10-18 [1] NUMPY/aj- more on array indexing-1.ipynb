{
 "cells": [
  {
   "cell_type": "code",
   "execution_count": 10,
   "metadata": {
    "collapsed": true
   },
   "outputs": [
    {
     "name": "stdout",
     "output_type": "stream",
     "text": [
      "['ab' 'cd' 'ef' 'gh' 'ij' 'kl' 'mn' 'op' 'qr' 'st' 'uv' 'qx' 'yz']\n['ef' 'gh' 'ij'] <class 'numpy.ndarray'>\n"
     ]
    }
   ],
   "source": [
    "import numpy as np\n",
    "\n",
    "#previous array indexing in array operations -3\n",
    "\n",
    "# helper functions>>>>>>>>>>>>\n",
    "#<<<<<<<<<<<<<<<<<<<<<<<<<<<<<\n",
    "\n",
    "#1d\n",
    "a = np.array(\"ab cd ef gh ij kl mn op qr st uv qx yz\".split(' '))\n",
    "print(a)\n",
    "\n",
    "index_array = [2, 3, 4]\n",
    "#b = a[index_array] or\n",
    "b = a[[2, 3, 4]]\n",
    "print(b, type(b))\n"
   ]
  },
  {
   "cell_type": "code",
   "execution_count": 23,
   "metadata": {
    "collapsed": true
   },
   "outputs": [
    {
     "name": "stdout",
     "output_type": "stream",
     "text": [
      "[['10' '40']\n ['90' '12']]\n[['aa' '20' '30' 'aa']\n ['50' '60' '70' '80']\n ['aa' '10' '11' 'aa']]\n"
     ]
    }
   ],
   "source": [
    "#multi dimensional\n",
    "l = [[10, 20, 30, 40],\n",
    "     [50, 60, 70, 80],\n",
    "     [90, 10, 11, 12]]\n",
    "a = np.array(l,dtype=str)\n",
    "\n",
    "row = np.array([[0, 0], [2, 2]])\n",
    "col = np.array([[0, 3], [0, 3]])\n",
    "b=a[row,col]\n",
    "print(b)\n",
    "\n",
    "\"\"\"\n",
    "explaination: we basically wrote b= a[(0,0,2,2),(0,3,0,3)]\n",
    "but since its a 2d array, therefore we have to map the values to their positions\n",
    "thus we wrote b ~= a[ [[0,0],[2,2]] , [[0,3],[0,3]] ]\n",
    "\n",
    "\"\"\"\n",
    "\n",
    "a[row,col]='aa'\n",
    "print(a)"
   ]
  },
  {
   "cell_type": "code",
   "execution_count": 33,
   "metadata": {},
   "outputs": [
    {
     "name": "stdout",
     "output_type": "stream",
     "text": [
      "[  1   4   9  16  25  36  49  64  81 100]\n[ 1  9 25 49 81]\n[  0   4   0  16   0  36   0  64   0 100]\n[ 15   4  15  16  15  36  15  64  15 100]\n"
     ]
    }
   ],
   "source": [
    "# testing your skills\n",
    "arr=np.arange(1,11)**2\n",
    "print(arr)\n",
    "\n",
    "idx=[0,2,4,6,8]\n",
    "print(arr[idx])\n",
    "\n",
    "arr[idx]=0\n",
    "print(arr)\n",
    "\n",
    "arr[idx]=(arr[idx]+3)*5\n",
    "print(arr)"
   ]
  },
  {
   "cell_type": "code",
   "execution_count": null,
   "metadata": {},
   "outputs": [],
   "source": []
  }
 ],
 "metadata": {
  "kernelspec": {
   "display_name": "Python 2",
   "language": "python",
   "name": "python2"
  },
  "language_info": {
   "codemirror_mode": {
    "name": "ipython",
    "version": 2
   },
   "file_extension": ".py",
   "mimetype": "text/x-python",
   "name": "python",
   "nbconvert_exporter": "python",
   "pygments_lexer": "ipython2",
   "version": "2.7.6"
  }
 },
 "nbformat": 4,
 "nbformat_minor": 0
}
