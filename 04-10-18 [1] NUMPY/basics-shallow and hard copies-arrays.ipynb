{
 "cells": [
  {
   "cell_type": "code",
   "execution_count": 2,
   "metadata": {
    "collapsed": true
   },
   "outputs": [],
   "source": [
    "import numpy as np\n",
    "\n",
    "#helper functions:\n",
    "\n"
   ]
  },
  {
   "cell_type": "code",
   "execution_count": 30,
   "metadata": {},
   "outputs": [
    {
     "name": "stdout",
     "output_type": "stream",
     "text": [
      "['voilet' 'indigo' 'blue' 'gren' 'yellow' 'orange' 'red']\n['voilet' 'indigo' 'blue' 'gren' 'yellow' 'orange' 'red']\n['voilet' 'indigo' 'blue' 'gren' 'yellow' 'orange' 'red']\n1567292923136\n1567292923136\n1567292922736\nTrue\nFalse\nTrue\n['voilet' 'wwww' 'blue' 'gren' 'yellow' 'orange' 'red'] ['voilet' 'wwww' 'blue' 'gren' 'yellow' 'orange' 'red']\n['voilet' 'wwww' 'blue' 'gren' 'peee' 'orange' 'red'] ['voilet' 'wwww' 'blue' 'gren' 'peee' 'orange' 'red']\n['voilet' 'wwww' 'blue' 'gren' 'peee' 'orange' 'red'] ['aaa' 'baa' 'caa']\n['voilet' 'indigo' 'blue' 'gren' 'yellow' 'orange' 'red'] ['voilet' 'indigo' 'blue' 'gren' 'yellow' 'orange' 'red']\n['voilet' 'indigo' 'blue' 'gren' 'yellow' 'orange' 'red' 'whiteeeee'] ['voilet' 'indigo' 'blue' 'gren' 'yellow' 'orange' 'red']\n['voilet' 'indigo' 'blue' 'gren' 'yellow' 'orange' 'red' 'whiteeeee'] ['voilet' 'indigo' 'blue' 'gren' 'yellow' 'orange' 'red' 'blackykyky']\n[['voilet' 'indigo']\n ['blue' 'gren']\n ['yellow' 'orange']\n ['red' 'whiteeeee']] ['voilet' 'indigo' 'blue' 'gren' 'yellow' 'orange' 'red' 'blackykyky']\n[['voilet' 'indigo' 'blue' 'gren' 'yellow' 'orange' 'red' 'whiteeeee']] [['voilet' 'indigo' 'blue' 'gren']\n ['yellow' 'orange' 'red' 'blackykyky']]\n1567292765248\n1567292922736\n['voilet' 'indigo' 'blue' 'gren' 'yellow' 'orange' 'red'] ['voilet' 'indigo' 'blue' 'gren' 'yellow' 'orange' 'red']\n"
     ]
    }
   ],
   "source": [
    "col = np.array(('voilet', 'indigo', 'blue', 'gren', 'yellow', 'orange', 'red'))\n",
    "\n",
    "#1shallow copying\n",
    "col_obj_copy = col  #this is not a shallow copy, since both the objcts share the same id\n",
    "col_shallow1 = col.view()  # this is a true shallow copy\n",
    "\n",
    "\n",
    "print(col)\n",
    "print(col_obj_copy)\n",
    "print(col_shallow1)\n",
    "\n",
    "print(id(col))  #<----some value x\n",
    "print(id(col_obj_copy))  #<--- x\n",
    "print(id(col_shallow1))  #<---different than x\n",
    "\n",
    "print(col is col_obj_copy)  #true\n",
    "print(col is col_shallow1)  #false\n",
    "print(col is col_shallow1.base)  #true\n",
    "\n",
    "col_shallow1[1] = 'wwww'\n",
    "print(col, col_shallow1)  # both changes\n",
    "\n",
    "col[4] = \"peee\"\n",
    "print(col, col_shallow1)  # both changes\n",
    "\n",
    "col_shallow1 = np.array(['aaa', 'baa', 'caa'])\n",
    "print(col,\n",
    "      col_shallow1)  # only shallow copy  changes. thus assigning a totally new object to shallow copy does not affect main copy\n",
    "\n",
    "#reverting last change\n",
    "col = np.array(('voilet', 'indigo', 'blue', 'gren', 'yellow', 'orange', 'red'))\n",
    "col_shallow1 = col.view()\n",
    "print(col, col_shallow1)\n",
    "\n",
    "col = np.append(col, 'whiteeeee')\n",
    "print(col, col_shallow1)  # only col changes, col_shallow dows not change\n",
    "\n",
    "col_shallow1 = np.append(col_shallow1, 'blackykyky')\n",
    "print(col, col_shallow1)  # only col_shallow changes, col does not change\n",
    "\n",
    "#changing shapes:\n",
    "col.shape = 4, 2\n",
    "print(col, col_shallow1)#col changes  but col_shallow remains the same\n",
    "\n",
    "col.shape=1,8\n",
    "col_shallow1.shape = 2, 4\n",
    "print(col, col_shallow1)#col_shallow changes  but col remains the same\n",
    "\n",
    "#===================================================\n",
    "col = np.array(('voilet', 'indigo', 'blue', 'gren', 'yellow', 'orange', 'red'))\n",
    "col_shallow2 = col[:] # this is also a true shallow copy\n",
    "print(id(col))  #<--- x\n",
    "print(id(col_shallow2))  #<---different than x\n",
    "print(col,col_shallow2)\n"
   ]
  },
  {
   "cell_type": "code",
   "execution_count": 36,
   "metadata": {},
   "outputs": [
    {
     "name": "stdout",
     "output_type": "stream",
     "text": [
      "['voilet' 'indigo' 'blue' 'gren' 'yellow' 'orange' 'red'] ['voilet' 'indigo' 'blue' 'gren' 'yellow' 'orange' 'red']\n1567292958240 1567292957920\nFalse\nTrue\n['jalebi' 'indigo' 'blue' 'gren' 'yellow' 'orange' 'red'] ['voilet' 'indigo' 'blue' 'gren' 'yellow' 'orange' 'red']\n1567292958240 1567292957920\nFalse\nTrue\n[False  True  True  True  True  True  True]\n"
     ]
    }
   ],
   "source": [
    "#deep copying\n",
    "col = np.array(('voilet', 'indigo', 'blue', 'gren', 'yellow', 'orange', 'red'))\n",
    "col_deep = col.copy()  # this is a true deep copy\n",
    "\n",
    "print(col, col_deep)\n",
    "print(id(col), id(col_deep))  # both are different\n",
    "print(col is col_deep)  #false\n",
    "print(col.base == col_deep.base)  # true, since both have same data\n",
    "\n",
    "col[0]=\"jalebi\"\n",
    "\n",
    "print(col, col_deep)\n",
    "print(id(col), id(col_deep))  # both are different\n",
    "print(col is col_deep)  #false\n",
    "print(col.base == col_deep.base)  # should be false, but getting true\n",
    "print(col == col_deep) #[False  True  True  True  True  True  True] huh?\n"
   ]
  },
  {
   "cell_type": "code",
   "execution_count": 7,
   "metadata": {},
   "outputs": [],
   "source": []
  },
  {
   "cell_type": "code",
   "execution_count": null,
   "metadata": {},
   "outputs": [],
   "source": []
  }
 ],
 "metadata": {
  "kernelspec": {
   "display_name": "Python 2",
   "language": "python",
   "name": "python2"
  },
  "language_info": {
   "codemirror_mode": {
    "name": "ipython",
    "version": 2
   },
   "file_extension": ".py",
   "mimetype": "text/x-python",
   "name": "python",
   "nbconvert_exporter": "python",
   "pygments_lexer": "ipython2",
   "version": "2.7.6"
  }
 },
 "nbformat": 4,
 "nbformat_minor": 0
}
