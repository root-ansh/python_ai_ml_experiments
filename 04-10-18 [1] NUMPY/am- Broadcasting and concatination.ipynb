{
 "cells": [
  {
   "cell_type": "code",
   "execution_count": 2,
   "metadata": {
    "collapsed": true
   },
   "outputs": [
    {
     "data": {
      "text/plain": [
       "'\\na = np.ones([1, 5], dtype=np.int16)\\nprint(a, a.shape)       # [1,1,1,1,1]\\nprint(a * 5, a.shape)   # [5,5,5,5,5]\\n\\nthis was a simpler broadcasting such that\\n[x,x,x,x,x] * [y] ==[xy,xy,xy,xy,xy] \\ni.e, a simple scaler multiplication\\n\\nbut what if we have to perform :\\n[                       [\\n[x,x,x,x,x],            [y1],\\n[x,x,x,x,x],      *     [y2],\\n[x,x,x,x,x]             [y3]\\n]                       ]\\n??\\n\\nnumpy does it using the following method:\\n-it replicates all the values horizontally for y till\\n the no. of  elements in y matrix is == x . i.e it makes\\n something like this: \\n \\n[                       [\\n[x,x,x,x,x],            [y1,y1,y1,y1,y1],\\n[x,x,x,x,x],      *     [y2,y2,y2,y2,y2],\\n[x,x,x,x,x]             [y3,y3,y3,y3,y3]\\n]                       ]\\n \\n \\nbut what if it is something like: \\n[                       [\\n[x,x,x,x,x],            [y1,y4],\\n[x,x,x,x,x],      *     [y2,y5],\\n[x,x,x,x,x]             [y3,y6]\\n]                       ]\\n??\\nwell, broadcast will NOT happen.\\n\\nrule:\\nfor a matrix M(a,b)  to perform scaler multiplication\\nwith other matrix N(x,y) is possible only if:\\n1. x==a\\n2. y==1 or y==b\\n\\n'"
      ]
     },
     "execution_count": 2,
     "metadata": {},
     "output_type": "execute_result"
    }
   ],
   "source": [
    "import numpy as np\n",
    "\"\"\"\n",
    "a = np.ones([1, 5], dtype=np.int16)\n",
    "print(a, a.shape)       # [1,1,1,1,1]\n",
    "print(a * 5, a.shape)   # [5,5,5,5,5]\n",
    "\n",
    "this was a simpler broadcasting such that\n",
    "[x,x,x,x,x] * [y] ==[xy,xy,xy,xy,xy] \n",
    "i.e, a simple scaler multiplication\n",
    "\n",
    "but what if we have to perform :\n",
    "[                       [\n",
    "[x,x,x,x,x],            [y1],\n",
    "[x,x,x,x,x],      *     [y2],\n",
    "[x,x,x,x,x]             [y3]\n",
    "]                       ]\n",
    "??\n",
    "\n",
    "numpy does it using the following method:\n",
    "-it replicates all the values horizontally for y till\n",
    " the no. of  elements in y matrix is == x . i.e it makes\n",
    " something like this: \n",
    " \n",
    "[                       [\n",
    "[x,x,x,x,x],            [y1,y1,y1,y1,y1],\n",
    "[x,x,x,x,x],      *     [y2,y2,y2,y2,y2],\n",
    "[x,x,x,x,x]             [y3,y3,y3,y3,y3]\n",
    "]                       ]\n",
    " \n",
    " \n",
    "but what if it is something like: \n",
    "[                       [\n",
    "[x,x,x,x,x],            [y1,y4],\n",
    "[x,x,x,x,x],      *     [y2,y5],\n",
    "[x,x,x,x,x]             [y3,y6]\n",
    "]                       ]\n",
    "??\n",
    "well, broadcast will NOT happen.\n",
    "\n",
    "rule:\n",
    "for a matrix M(a,b)  to perform scaler multiplication\n",
    "with other matrix N(x,y) is possible only if:\n",
    "1. x==a\n",
    "2. y==1 or y==b\n",
    "\n",
    "\"\"\"\n"
   ]
  },
  {
   "cell_type": "code",
   "execution_count": 19,
   "metadata": {},
   "outputs": [
    {
     "name": "stdout",
     "output_type": "stream",
     "text": [
      "[2 3 4 5 6] (5,)\n[5 5 5 5 5]\n"
     ]
    }
   ],
   "source": [
    "x = np.array([1, 1, 1, 1, 1])\n",
    "y = np.array([2, 3, 4, 5, 6])\n",
    "print(x * y,x.shape)\n",
    "print(x * 5)\n",
    "# one-d array has dimensions [length, nothing]"
   ]
  },
  {
   "cell_type": "code",
   "execution_count": 15,
   "metadata": {},
   "outputs": [
    {
     "name": "stdout",
     "output_type": "stream",
     "text": [
      "[[1. 1. 1.]\n [1. 1. 1.]\n [1. 1. 1.]\n [1. 1. 1.]]\n[[ 0.  1.  2.]\n [ 3.  4.  5.]\n [ 6.  7.  8.]\n [ 9. 10. 11.]]\n[[5. 5. 5.]\n [5. 5. 5.]\n [5. 5. 5.]\n [5. 5. 5.]]\n"
     ]
    }
   ],
   "source": [
    "x = np.ones([4, 3])\n",
    "y = np.arange(12).reshape([4, 3])\n",
    "print(x)\n",
    "print(x * y)\n",
    "print(x * 5)\n"
   ]
  },
  {
   "cell_type": "code",
   "execution_count": 33,
   "metadata": {},
   "outputs": [
    {
     "name": "stdout",
     "output_type": "stream",
     "text": [
      "[14 19 28 44 39] (5,)\n[46 49 34 27 28] (5,)\n[[14 19 28 44 39]\n [46 49 34 27 28]] (2, 5)\n==================\n[[0.05]\n [0.1 ]] (2, 1)\n[[0.7  0.95 1.4  2.2  1.95]\n [4.6  4.9  3.4  2.7  2.8 ]]\n"
     ]
    }
   ],
   "source": [
    "mat = (np.random.randint(10, 50, 5))\n",
    "sci = (np.random.randint(10, 50, 5))\n",
    "sub = np.array([mat, sci])\n",
    "\n",
    "print(mat, mat.shape)\n",
    "print(sci, sci.shape)\n",
    "print(sub, sub.shape)\n",
    "\n",
    "#grace= np.array([0.05,0.1)]\n",
    "#print(grace,grace.shape)#[0.05,0.1] ,[1,2]\n",
    "\n",
    "#print(sub*grace) won't work since broadcasting not possible\n",
    "#(column size should be either 1 or = sub's column size\n",
    "\n",
    "grace= np.array([0.05,0.1])\n",
    "grace=grace.reshape(len(grace),-1)\n",
    "print(\"==================\")\n",
    "print(grace,grace.shape)\n",
    "print(grace*sub)\n",
    "\n",
    "\n"
   ]
  },
  {
   "cell_type": "code",
   "execution_count": 26,
   "metadata": {},
   "outputs": [
    {
     "name": "stdout",
     "output_type": "stream",
     "text": [
      ">>> [92 38 58 58 78] >>> [56 51 49 21 45]\n>>> [92 38 58 58 78 56 51 49 21 45]\n=========\n>>>\n [['a' 'b']\n ['c' 'd']]\n>>>\n [['f' 'u']\n ['q' 'e']]\n>>>\n [['a' 'b']\n ['c' 'd']\n ['f' 'u']\n ['q' 'e']]\n>>>\n [['a' 'b' 'f' 'u']\n ['c' 'd' 'q' 'e']]\n"
     ]
    }
   ],
   "source": [
    "# concatination\n",
    "#1 using concatinate\n",
    "a = np.random.randint(1, 99, 5)\n",
    "b = np.random.randint(1, 99, 5)\n",
    "print(\">>>\", a, \">>>\", b)\n",
    "print(\">>>\", np.concatenate([a, b], axis=0)) #horizontal\n",
    "#print(\">>>\", np.concatenate([a, b], axis=1))#vertical # not possible for i-d\n",
    "\n",
    "print(\"=========\")\n",
    "a = np.array(\"a b c d\".split(' ')).reshape([2, 2])\n",
    "b = np.array(\"f u q e\".split(' ')).reshape([2, 2])\n",
    "print(\">>>\\n\", a)\n",
    "print(\">>>\\n\", b)\n",
    "print(\">>>\\n\", np.concatenate([a, b], axis=0)) # vertical(?_?)\n",
    "print(\">>>\\n\", np.concatenate([a, b], axis=1)) #horizontal(??)\n"
   ]
  },
  {
   "cell_type": "code",
   "execution_count": 28,
   "metadata": {},
   "outputs": [
    {
     "name": "stdout",
     "output_type": "stream",
     "text": [
      ">>> [64 30 73  5 28] >>> [10 22 54 51 45] >>> [94 47 33 46 42]\n>>>\n [[64 30 73  5 28]\n [10 22 54 51 45]\n [94 47 33 46 42]]\n>>>\n [[64 10 94]\n [30 22 47]\n [73 54 33]\n [ 5 51 46]\n [28 45 42]]\n"
     ]
    }
   ],
   "source": [
    "#2 using stack\n",
    "a = np.random.randint(1, 99, 5)\n",
    "b = np.random.randint(1, 99, 5)\n",
    "c = np.random.randint(1, 99, 5)\n",
    "print('>>>', a, '>>>', b, '>>>', c)\n",
    "\n",
    "print(\">>>\\n\", np.stack([a, b, c], axis=0))\n",
    "print(\">>>\\n\", np.stack([a, b, c], axis=1))\n"
   ]
  },
  {
   "cell_type": "code",
   "execution_count": 35,
   "metadata": {},
   "outputs": [
    {
     "name": "stdout",
     "output_type": "stream",
     "text": [
      "[0 1 5 6]\n"
     ]
    }
   ],
   "source": [
    "a=np.arange(10)\n",
    "np.append(a,[222])\n",
    "\n",
    "a=np.array([1,2,0,0,0,4,40,0])\n",
    "\n",
    "b=np.nonzero(a)\n",
    "print(b[0])\n"
   ]
  },
  {
   "cell_type": "code",
   "execution_count": null,
   "metadata": {},
   "outputs": [],
   "source": []
  }
 ],
 "metadata": {
  "kernelspec": {
   "display_name": "Python 2",
   "language": "python",
   "name": "python2"
  },
  "language_info": {
   "codemirror_mode": {
    "name": "ipython",
    "version": 2
   },
   "file_extension": ".py",
   "mimetype": "text/x-python",
   "name": "python",
   "nbconvert_exporter": "python",
   "pygments_lexer": "ipython2",
   "version": "2.7.6"
  }
 },
 "nbformat": 4,
 "nbformat_minor": 0
}
