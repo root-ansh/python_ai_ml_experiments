{
 "cells": [
  {
   "cell_type": "code",
   "execution_count": 1,
   "metadata": {
    "collapsed": true
   },
   "outputs": [],
   "source": []
  },
  {
   "cell_type": "code",
   "execution_count": 2,
   "metadata": {},
   "outputs": [],
   "source": [
    "import numpy as np"
   ]
  },
  {
   "cell_type": "code",
   "execution_count": 13,
   "metadata": {},
   "outputs": [
    {
     "name": "stdout",
     "output_type": "stream",
     "text": [
      ">>> [  0  30  45  60  90 120 180]\n>>> [0.         0.52359878 0.78539816 1.04719755 1.57079633 2.0943951\n 3.14159265]\n>>> [0.         0.52359878 0.78539816 1.04719755 1.57079633 2.0943951\n 3.14159265]\n>>> [  0.  30.  45.  60.  90. 120. 180.]\n>>> [ 0.         -0.98803162  0.85090352 -0.30481062  0.89399666  0.58061118\n -0.80115264]\n>>> [0.00000000e+00 5.00000000e-01 7.07106781e-01 8.66025404e-01\n 1.00000000e+00 8.66025404e-01 1.22464680e-16]\n>>> [ 1.00000000e+00  8.66025404e-01  7.07106781e-01  5.00000000e-01\n  6.12323400e-17 -5.00000000e-01 -1.00000000e+00]\n>>> [ 0.00000000e+00  5.77350269e-01  1.00000000e+00  1.73205081e+00\n  1.63312394e+16 -1.73205081e+00 -1.22464680e-16]\n>>> [0.00000000e+00 5.23598776e-01 7.85398163e-01 1.04719755e+00\n 1.57079633e+00 1.04719755e+00 1.22464680e-16]\n>>> [0.         0.52359878 0.78539816 1.04719755 1.57079633 2.0943951\n 3.14159265]\n>>> [ 0.00000000e+00  5.23598776e-01  7.85398163e-01  1.04719755e+00\n  1.57079633e+00 -1.04719755e+00 -1.22464680e-16]\n"
     ]
    }
   ],
   "source": [
    "ang_degrees     = np.array([0, 30, 45, 60, 90, 120, 180])\n",
    "ang_radians     = ang_degrees * np.pi / 180\n",
    "ang_radians2    = np.radians(ang_degrees)  # similar to ang_radians\n",
    "ang_degrees2    = np.degrees(ang_radians)  # just another function for comfy transformation\n",
    "\n",
    "sines_deg       = np.sin(ang_degrees)  # this gives wrong values \n",
    "sines_rad       = np.sin(ang_radians)  # this gives right values sinces np.sine(angle in radians)        \n",
    "\n",
    "coses           = np.cos(ang_radians)\n",
    "tans            = np.tan(ang_radians)\n",
    "\n",
    "sin_invs        = np.arcsin(sines_rad)\n",
    "cos_invs        = np.arccos(coses)\n",
    "tan_invs        = np.arctan(tans)\n",
    "#sinh/cosh/tanh/ their inverses also available\n",
    "\n",
    "#===================================\n",
    "print(\">>>\",ang_degrees)\n",
    "print(\">>>\",ang_radians)\n",
    "print(\">>>\",ang_radians2)\n",
    "print(\">>>\",ang_degrees2)\n",
    "\n",
    "print(\">>>\",sines_deg)\n",
    "\n",
    "print(\">>>\",sines_rad)\n",
    "print(\">>>\",coses)\n",
    "print(\">>>\",tans)\n",
    "print(\">>>\",sin_invs)\n",
    "print(\">>>\",cos_invs)\n",
    "print(\">>>\",tan_invs)\n"
   ]
  },
  {
   "cell_type": "code",
   "execution_count": 25,
   "metadata": {},
   "outputs": [
    {
     "name": "stdout",
     "output_type": "stream",
     "text": [
      ">>> [50.   50.7  52.5  58.   55.63 73.25 49.5  45.  ]\n>>> 51.6\n>>> 54.3225\n>>> 8.052773978574091\n>>> 64.84716875\n"
     ]
    }
   ],
   "source": [
    "weights = np.array([50, 50.7, 52.5, 58, 55.63, 73.25, 49.5, 45])\n",
    "median = np.median(weights)\n",
    "mean = np.mean(weights)\n",
    "#mode   = no function defined\n",
    "std_dev = np.std(weights)\n",
    "variance = np.var(weights)\n",
    "\n",
    "#===============================\n",
    "print(\">>>\", weights)\n",
    "print(\">>>\", median)\n",
    "print(\">>>\", mean)\n",
    "print(\">>>\", std_dev)\n",
    "print(\">>>\", variance)\n"
   ]
  },
  {
   "cell_type": "code",
   "execution_count": 6,
   "metadata": {},
   "outputs": [
    {
     "name": "stdout",
     "output_type": "stream",
     "text": [
      "[22 18 25 21 25 22 21 28 24]\n(9,)\n>>> [22 18 25 21 25 22 21 28 24]\n>>> 22.0\n>>> 22.88888888888889\n>>> 2.7666443551086073\n>>> 7.65432098765432\n"
     ]
    }
   ],
   "source": [
    "filename = r'C:\\Users\\anshs\\00ANSH_PYTHON\\04-10-18 [1] NUMPY\\new_records.csv'              \n",
    "data = np.genfromtxt(filename, delimiter=',', dtype=int,usecols=3)\n",
    "print(data)\n",
    "#gen from text parameters:\n",
    "#skip_header=1   >>> skips first row\n",
    "#usecols=(1,2,..)>>> shows data for only those columns\n",
    "#... many\n",
    "\n",
    "#since np.genfromtext(...) gave a numpy array , therefore:\n",
    "print(data.shape)\n",
    "\n",
    "median = np.median(data)\n",
    "mean = np.mean(data)\n",
    "std_dev = np.std(data)\n",
    "variance = np.var(data)\n",
    "\n",
    "#===============================\n",
    "print(\">>>\", data)\n",
    "print(\">>>\", median)\n",
    "print(\">>>\", mean)\n",
    "print(\">>>\", std_dev)\n",
    "print(\">>>\", variance)\n",
    "\n"
   ]
  },
  {
   "cell_type": "code",
   "execution_count": null,
   "metadata": {},
   "outputs": [],
   "source": []
  }
 ],
 "metadata": {
  "kernelspec": {
   "display_name": "Python 2",
   "language": "python",
   "name": "python2"
  },
  "language_info": {
   "codemirror_mode": {
    "name": "ipython",
    "version": 2
   },
   "file_extension": ".py",
   "mimetype": "text/x-python",
   "name": "python",
   "nbconvert_exporter": "python",
   "pygments_lexer": "ipython2",
   "version": "2.7.6"
  }
 },
 "nbformat": 4,
 "nbformat_minor": 0
}
