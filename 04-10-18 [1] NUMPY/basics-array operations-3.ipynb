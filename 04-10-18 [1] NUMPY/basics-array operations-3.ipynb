{
 "cells": [
  {
   "cell_type": "code",
   "execution_count": 1,
   "metadata": {
    "collapsed": true
   },
   "outputs": [],
   "source": [
    "import numpy as np"
   ]
  },
  {
   "cell_type": "code",
   "execution_count": 9,
   "metadata": {},
   "outputs": [
    {
     "name": "stdout",
     "output_type": "stream",
     "text": [
      ">>> [ 0  1  4  9 16 25 36 49 64 81]\n>>> 0\n>>> [ 4  9 16]\n>>> [ 4 16 36 64]\n>>> [25 16  9]\n>>> [ 0  4 16 36 64]\n>>> [ 0  1  4  9 16 25 36 49 64 81]\n>>> [81 64 49 36 25 16  9  4  1  0]\n>>> [81 64 49 36]\n>>> [25 36 49 64]\n"
     ]
    }
   ],
   "source": [
    "#indexing and slicing\n",
    "arr= np.arange(10)**2\n",
    "print(\">>>\",arr)\n",
    "print(\">>>\",arr[0])\n",
    "print(\">>>\",arr[2:5])\n",
    "print(\">>>\",arr[2:10:2])\n",
    "print(\">>>\",arr[5:2:-1])\n",
    "print(\">>>\",arr[:10:2])\n",
    "print(\">>>\",arr[:])\n",
    "\n",
    "print(\">>>\",arr[::-1])\n",
    "print(\">>>\",arr[-1:-5:-1])\n",
    "print(\">>>\",arr[-5:-1])"
   ]
  },
  {
   "cell_type": "code",
   "execution_count": 14,
   "metadata": {},
   "outputs": [
    {
     "name": "stdout",
     "output_type": "stream",
     "text": [
      ">>> array([['a', 'b', 'c', 'd'],\n       ['12', '13', '14', '15'],\n       ['0', '0', '0', '0']], dtype='<U2')\n>>> [['a' 'b' 'c' 'd']\n ['12' '13' '14' '15']\n ['0' '0' '0' '0']]\n>>> ['a' 'b' 'c' 'd']\n>>> c\n>>> c\n>>> [['b']\n ['13']]\n>>> [['b' 'c']\n ['13' '14']\n ['0' '0']]\n"
     ]
    }
   ],
   "source": [
    "# special type of indexing/slicing , when using n-dim arrays              \n",
    "a = [['a', 'b', 'c', 'd'], [12, 13, 14, 15], [0, 0, 0, 0]]\n",
    "arr = np.array(a)\n",
    "print(\">>>\", arr.__repr__())\n",
    "print(\">>>\", arr.__str__())\n",
    "print(\">>>\", arr[0])  #row 0\n",
    "print(\">>>\", arr[0, 2])  #row 0 , col 2 i.e cell[0][2]\n",
    "print(\">>>\", arr[0, 2])  #row 0 , col 2 i.e cell[0][2]\n",
    "print(\">>>\", arr[0:2,1:2])  #row 0:2 i.e roe 0 and 1, col 1:2 i.e col 1   i.e cell [0][1]  and cell[1][1]                                                         \n",
    "print(\">>>\", arr[:,1:3]) # all elements of 1 and second column\n"
   ]
  },
  {
   "cell_type": "code",
   "execution_count": 29,
   "metadata": {},
   "outputs": [
    {
     "name": "stdout",
     "output_type": "stream",
     "text": [
      ">> array([['a', 'b', 'c', 'd'],\n       ['12', '13', '14', '15'],\n       ['0', '0', '0', '0']], dtype='<U2')\n>>> [['a' 'b' 'c' 'd']\n ['12' '13' '14' '15']\n ['0' '0' '0' '0']]\n>>\ni= ['a' 'b' 'c' 'd']\ni= ['12' '13' '14' '15']\ni= ['0' '0' '0' '0']\n>>>\na b c d 12 13 14 15 0 0 0 0 \n>> [[0 1 2]\n [3 4 5]]\n>>> [[ 0  2  4]\n [ 6  8 10]]\n>>\na b c d 12 13 14 15 0 0 0 0 \n>>>\na 12 0 b 13 0 c 14 0 d 15 0 \n>>> [['aa' 'bb' 'cc' 'dd']\n ['12' '13' '14' '15']\n ['00' '00' '00' '00']]\n>>> ['aa' 'bb' 'cc' 'dd' '12' '13' '14' '15' '00' '00' '00' '00']\n>>> [['aa' 'bb' 'cc' 'dd']\n ['12' '13' '14' '15']\n ['00' '00' '00' '00']]\n"
     ]
    }
   ],
   "source": [
    "# iteration\n",
    "a = [['a', 'b', 'c', 'd'], [12, 13, 14, 15], [0, 0, 0, 0]]\n",
    "arr = np.array(a)\n",
    "print(\">>\", arr.__repr__())\n",
    "print(\">>>\", arr.__str__())\n",
    "\n",
    "#basic iteration : prints rows\n",
    "print(\">>\")\n",
    "for i in arr:\n",
    "    print('i=', i)\n",
    "#element iteration : prints elements by flattening a n-dim matrix                                  \n",
    "print(\">>>\")\n",
    "for i in arr.flatten(): # or arr.ravel()\n",
    "    print( i, end=' ')\n",
    "print()\n",
    "\n",
    "a2= np.arange(6).reshape(2,3)\n",
    "print(\">>\",a2)\n",
    "for i in a2:\n",
    "    i[...]*=2\n",
    "print(\">>>\",a2)\n",
    "# we are accesing the items elementwise and not index. but we can still modify it.\n",
    "\n",
    "#np.nditer(arr) :similar to flatten(), but memory efficient since it\n",
    "# generates a much smaller iterator object insted of creating a whole new flattened list.                                                               \n",
    "#(but this won't provide the inplace-editing feature in default mode, its read only kind-of thing)                             \n",
    "print(\">>\")\n",
    "for i in np.nditer(arr):\n",
    "    print(i,end=' ')\n",
    "print()\n",
    "#npiter can also be used to traverse columnwise.\n",
    "print(\">>>\")\n",
    "for i in np.nditer(arr, order='F'):\n",
    "    print(i,end=' ')\n",
    "print()\n",
    "# as i said , nditor does not have inplace editing , coz of generator , well, i was lying. we can do inlace editing(LOL)\n",
    "for i in np.nditer(arr, order='F',op_flags=['readwrite']):\n",
    "    i[...]= str(i)*2\n",
    "print(\">>>\",arr)\n",
    "\n",
    "\n",
    "\n"
   ]
  },
  {
   "cell_type": "code",
   "execution_count": null,
   "metadata": {},
   "outputs": [],
   "source": []
  }
 ],
 "metadata": {
  "kernelspec": {
   "display_name": "Python 2",
   "language": "python",
   "name": "python2"
  },
  "language_info": {
   "codemirror_mode": {
    "name": "ipython",
    "version": 2
   },
   "file_extension": ".py",
   "mimetype": "text/x-python",
   "name": "python",
   "nbconvert_exporter": "python",
   "pygments_lexer": "ipython2",
   "version": "2.7.6"
  }
 },
 "nbformat": 4,
 "nbformat_minor": 0
}
