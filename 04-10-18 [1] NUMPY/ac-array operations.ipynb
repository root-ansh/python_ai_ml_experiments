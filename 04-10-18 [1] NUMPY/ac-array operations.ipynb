{
 "cells": [
  {
   "cell_type": "code",
   "execution_count": 1,
   "metadata": {},
   "outputs": [],
   "source": [
    "import numpy as np"
   ]
  },
  {
   "cell_type": "code",
   "execution_count": 17,
   "metadata": {
    "collapsed": true
   },
   "outputs": [
    {
     "name": "stdout",
     "output_type": "stream",
     "text": [
      ">>> [1 2 3]\n",
      ">>> [2 2 2]\n",
      ">>> [3 4 5]\n",
      ">>> [5 5 5]\n",
      ">>> [-1 -1 -1]\n",
      "===================\n",
      ">>> [[0 1 2]\n",
      " [3 4 5]]\n",
      ">>> [[1 1 1]\n",
      " [1 1 1]]\n",
      ">>> [[1 2 3]\n",
      " [4 5 6]]\n",
      ">>> [[4 4 4]\n",
      " [4 4 4]]\n",
      ">>> [[-2 -2 -2]\n",
      " [-2 -2 -2]]\n",
      "===================\n"
     ]
    }
   ],
   "source": [
    "#matrx sum and difference and scaler sum/dif\n",
    "#1 dimension\n",
    "x= np.array([1,2,3])\n",
    "y= np.array([2,2,2])\n",
    "summ = x+y\n",
    "diff = x-y\n",
    "scaler1 = y+3\n",
    "scaler2 = y-3\n",
    "\n",
    "print(\">>>\",x)\n",
    "print(\">>>\",y)\n",
    "print(\">>>\",summ)\n",
    "print(\">>>\",scaler1)\n",
    "print(\">>>\",scaler2)\n",
    "print(\"===================\")\n",
    "#multi - dimensional\n",
    "x=np.arange(6).reshape(2,3)\n",
    "y=np.ones_like(x)\n",
    "summ = x+y\n",
    "diff = x-y\n",
    "scaler1 = y+3\n",
    "scaler2 = y-3\n",
    "\n",
    "print(\">>>\",x)\n",
    "print(\">>>\",y)\n",
    "print(\">>>\",summ)\n",
    "print(\">>>\",scaler1)\n",
    "print(\">>>\",scaler2)\n",
    "print(\"===================\")"
   ]
  },
  {
   "cell_type": "code",
   "execution_count": 27,
   "metadata": {
    "collapsed": true
   },
   "outputs": [
    {
     "name": "stdout",
     "output_type": "stream",
     "text": [
      ">>> [5 5 5]\n",
      ">>> [2 2 2]\n",
      ">>> [10 10 10]\n",
      ">>> [2.5 2.5 2.5]\n",
      ">>> [2 2 2]\n",
      ">>> [1 1 1]\n",
      ">>> [15 15 15]\n",
      ">>> [1.66666667 1.66666667 1.66666667]\n",
      ">>> [1 1 1]\n",
      ">>> [2 2 2]\n",
      "===================\n",
      "[[5 5]\n",
      " [5 5]]\n",
      "[[2 2]\n",
      " [2 2]]\n",
      "[[10 10]\n",
      " [10 10]]\n",
      "[[2.5 2.5]\n",
      " [2.5 2.5]]\n",
      "[[2 2]\n",
      " [2 2]]\n",
      "[[1 1]\n",
      " [1 1]]\n",
      "[[15 15]\n",
      " [15 15]]\n",
      "[[1 2]\n",
      " [2 1]]\n",
      "[[1 0]\n",
      " [0 1]]\n",
      "[[1 2]\n",
      " [2 1]]\n"
     ]
    }
   ],
   "source": [
    "#product ,division,modulo and scaler product/div/mod\n",
    "#1dimensional: a[a1,a2,a3] * b[b1,b2,b3] =c[a1b1,a2b2,a3b3]. size of both the arrays should be same.\n",
    "x= np.array([5,5,5])\n",
    "y= np.array([2,2,2])\n",
    "prod = x*y\n",
    "div  = x/y\n",
    "div2 = x//y\n",
    "modu = x%y\n",
    "scaler1 = x*3\n",
    "scaler2 = x/3\n",
    "scaler3 = x//3\n",
    "scaler4 = x%3\n",
    "\n",
    "print(\">>>\",x)\n",
    "print(\">>>\",y)\n",
    "print(\">>>\",prod)\n",
    "print(\">>>\",div)\n",
    "print(\">>>\",div2)\n",
    "print(\">>>\",modu)\n",
    "print(\">>>\",scaler1)\n",
    "print(\">>>\",scaler2)\n",
    "print(\">>>\",scaler3)\n",
    "print(\">>>\",scaler4)\n",
    "\n",
    "print(\"===================\")\n",
    "# multi dimensional:will be same as 1 dimensionals\n",
    "\n",
    "x= np.array([5,5,5,5]).reshape((2,2))\n",
    "y= np.array([2,2,2,2]).reshape((2,2))\n",
    "prod = x*y\n",
    "div  = x/y\n",
    "div2 = x//y\n",
    "modu = x%y\n",
    "scaler1 = x*3\n",
    "scaler2 = x/3\n",
    "scaler3 = x//3\n",
    "scaler4 = x%3\n",
    "\n",
    "print(x)\n",
    "print(y)\n",
    "print(prod)\n",
    "print(div)\n",
    "print(div2)\n",
    "print(modu)\n",
    "print(scaler1)\n",
    "print(\"===================\")\n",
    "\n",
    "#mathemetical matrix multiplication : dot products\n",
    "x= np.array([1,2,2,1]).reshape((2,2))\n",
    "y= np.array([1,0,0,1]).reshape((2,2))\n",
    "prod =x.dot(y) #or np.dot(x,y)\n",
    "print(x)\n",
    "print(y)\n",
    "print(prod)\n",
    "\n",
    "\n"
   ]
  },
  {
   "cell_type": "code",
   "execution_count": 32,
   "metadata": {
    "collapsed": true
   },
   "outputs": [
    {
     "name": "stdout",
     "output_type": "stream",
     "text": [
      ">>> [2132 1021 4401 3013 7744 5975]\n",
      ">>> [False  True  True  True False  True]\n",
      "=======================\n",
      "[[2132 1021]\n",
      " [4401 3013]\n",
      " [7744 5975]]\n",
      "[[False  True]\n",
      " [ True  True]\n",
      " [False  True]]\n"
     ]
    }
   ],
   "source": [
    "# checks  : similar to np.ones_like(arr) function , but rather creates an aray of booleans based on the condition and not 1's. it also does not uses any functions\n",
    "\n",
    "a=np.array([2132,1021,4401,3013,7744,5975])\n",
    "b= (a%2 != 0)\n",
    "print(\">>>\",a)\n",
    "print(\">>>\",b)\n",
    "print(\"=======================\")\n",
    "\n",
    "a=np.array([2132,1021,4401,3013,7744,5975]).reshape(3,2)\n",
    "b= (a%2 != 0)\n",
    "print(a)\n",
    "print(b)\n"
   ]
  },
  {
   "cell_type": "code",
   "execution_count": 43,
   "metadata": {
    "collapsed": true
   },
   "outputs": [
    {
     "name": "stdout",
     "output_type": "stream",
     "text": [
      ">>> [ 1  2 32 23 12 24]\n",
      ">>> 1\n",
      ">>> 32\n",
      ">>> 94\n",
      ">>> 94\n",
      "================\n",
      "\n",
      "[[ 1  2 32]\n",
      " [23 12 24]]\n",
      ">>> 94\n",
      ">>> [24 14 56]\n",
      ">>> [35 59]\n",
      ">>> 1\n",
      ">>> [ 1  2 24]\n",
      ">>> [ 1 12]\n",
      ">>> 32\n",
      ">>> [23 12 32]\n",
      ">>> [32 24]\n"
     ]
    }
   ],
   "source": [
    "#other basic  numpy functions\n",
    "a= np.array([1,2,32,23,12,24])\n",
    "a_ndim = np.array([1,2,32,23,12,24]).reshape((2,3))\n",
    "\n",
    "print('>>>',a)\n",
    "print('>>>',a.min())\n",
    "print('>>>',a.max())\n",
    "print('>>>',a.sum())\n",
    "print('>>>',a.sum(axis=0)) #horizontal direction\n",
    "#print('>>>',a.sum(axis=1)) #vertical direction. although error for this  since its a 1-d array\n",
    "\n",
    "print(\"================\\n\")\n",
    "\n",
    "\n",
    "print(a_ndim)\n",
    "\n",
    "print('>>>',a_ndim.sum())\n",
    "print('>>>',a_ndim.sum(axis=0)) #vertical direction sum??\n",
    "print('>>>',a_ndim.sum(axis=1)) #horizontal direction. sum??how??\n",
    "\n",
    "print('>>>',a_ndim.min())\n",
    "print('>>>',a_ndim.min(axis=0))\n",
    "print('>>>',a_ndim.min(axis=1))\n",
    "\n",
    "print('>>>',a_ndim.max())\n",
    "print('>>>',a_ndim.max(axis=0))\n",
    "print('>>>',a_ndim.max(axis=1))\n",
    "\n",
    "\n",
    "#there are other functions like average(), mod(),etc in array library, check'em out"
   ]
  },
  {
   "cell_type": "code",
   "execution_count": null,
   "metadata": {},
   "outputs": [],
   "source": []
  }
 ],
 "metadata": {
  "kernelspec": {
   "display_name": "Python 3",
   "language": "python",
   "name": "python3"
  },
  "language_info": {
   "codemirror_mode": {
    "name": "ipython",
    "version": 3
   },
   "file_extension": ".py",
   "mimetype": "text/x-python",
   "name": "python",
   "nbconvert_exporter": "python",
   "pygments_lexer": "ipython3",
   "version": "3.6.6"
  }
 },
 "nbformat": 4,
 "nbformat_minor": 2
}
