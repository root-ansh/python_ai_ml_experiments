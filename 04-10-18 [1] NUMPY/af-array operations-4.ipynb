{
 "cells": [
  {
   "cell_type": "code",
   "execution_count": 1,
   "metadata": {
    "collapsed": true
   },
   "outputs": [],
   "source": [
    "import numpy as np"
   ]
  },
  {
   "cell_type": "code",
   "execution_count": 19,
   "metadata": {
    "collapsed": true
   },
   "outputs": [
    {
     "name": "stdout",
     "output_type": "stream",
     "text": [
      ">> [ 1  2  3  4  5  6  7  8  9 10 11 12 13 14 15 16]\n>> [array([1, 2, 3, 4]), array([5, 6, 7, 8]), array([ 9, 10, 11, 12]), array([13, 14, 15, 16])]\n>> [ 0  1  2  3  4  5  6  7  8  9 10 11 12 13 14]\n>> [array([0, 1, 2, 3, 4]), array([ 5,  6,  7,  8,  9, 10, 11, 12]), array([13, 14])]\n[['raj' 'goa' 'shimla' 'manali']\n ['jai' 'dis' 'panaji' 'shimla']]\n[['raj' 'goa' 'shimla' 'manali']]\n[['jai' 'dis' 'panaji' 'shimla']]\n[['raj' 'goa']\n ['jai' 'dis']]\n[['shimla' 'manali']\n ['panaji' 'shimla']]\n[['raj']\n ['jai']]\n[['goa']\n ['dis']]\n[['shimla']\n ['panaji']]\n[['manali']\n ['shimla']]\n[['raj' 'goa' 'shimla' 'manali']\n ['jai' 'dis' 'panaji' 'shimla']]\n[['raj' 'goa' 'shimla' 'manali']]\n[['jai' 'dis' 'panaji' 'shimla']]\n"
     ]
    }
   ],
   "source": [
    "#splitting an array \n",
    "\"\"\"\n",
    " np.split() doesn't reshape the array to create one like\n",
    " rather it splits the array into n equal sized new arrays\n",
    " .\n",
    " its important that the array should be equally splittable\n",
    " for eg \n",
    " if array size is 15 and is needed to splitted into\n",
    " 5 or 3 equal parts, its ok.\n",
    " but if array size is 15 and is neede to be splitted into \n",
    " 4 parts, its not ok, since 15%4 !=0\n",
    "\"\"\"\n",
    "arr = np.arange(1, 17)\n",
    "print('>>', arr)\n",
    "b = np.split(arr, 4)\n",
    "print('>>', b)\n",
    "\n",
    "#although this is a default behavior of split, it has an optional  customization\n",
    "arr = np.arange(15)\n",
    "print('>>', arr)\n",
    "b = np.split(arr, [5, 13])  #will divide array as [0-4][5-12][13-..]\n",
    "print('>>', b)\n",
    "\n",
    "#HSPLIT\n",
    "\n",
    "x = [\n",
    "    ['raj', 'goa', 'shimla', 'manali'],\n",
    "    ['jai', 'dis', 'panaji', 'shimla']\n",
    "]\n",
    "arr = np.array(x)\n",
    "p1, p2 = np.hsplit(arr, 2)\n",
    "a1, a2 = np.split(arr, 2)\n",
    "print(arr)\n",
    "\n",
    "print(a1)\n",
    "print(a2)\n",
    "\n",
    "print(p1)\n",
    "print(p2)\n",
    "\"\"\"\n",
    "as you can see, split() function works on the outermost\n",
    "array and splits it into 2 based on the number of elements\n",
    "in outermost array, i.e 2\n",
    "hsplit sees the array as \"a list of 4 columns\" and not as \n",
    "\"a list of 2 rows\" and thus splits the whole array as it is\n",
    "in a vertical manner.\n",
    "\"\"\"\n",
    "p1, p2, p3, p4 = np.hsplit(arr, 4)\n",
    "print(p1)\n",
    "print(p2)\n",
    "print(p3)\n",
    "print(p4)\n",
    "\"\"\"i don't know why its hsplit and bnot vsplit(). oh wait\n",
    ",vsplit() does exist!\"\"\"\n",
    "\n",
    "p1, p2 = np.vsplit(arr, 2)\n",
    "print(arr)\n",
    "print(p1)\n",
    "print(p2)\n"
   ]
  },
  {
   "cell_type": "code",
   "execution_count": 22,
   "metadata": {
    "collapsed": false
   },
   "outputs": [
    {
     "name": "stdout",
     "output_type": "stream",
     "text": [
      "array(['raj', 'goa', 'shimla', 'manali'], dtype='<U6')\narray(['jai', 'dis', 'panaji', 'shimla'], dtype='<U6')\n"
     ]
    }
   ],
   "source": [
    "a,b=arr #basic assignment operation of a list : a,b=[1,2]=> a=1,b=2                         \n",
    "print(a.__repr__())\n",
    "print(b.__repr__())\n"
   ]
  },
  {
   "cell_type": "code",
   "execution_count": null,
   "metadata": {},
   "outputs": [],
   "source": []
  }
 ],
 "metadata": {
  "kernelspec": {
   "display_name": "Python 2",
   "language": "python",
   "name": "python2"
  },
  "language_info": {
   "codemirror_mode": {
    "name": "ipython",
    "version": 2
   },
   "file_extension": ".py",
   "mimetype": "text/x-python",
   "name": "python",
   "nbconvert_exporter": "python",
   "pygments_lexer": "ipython2",
   "version": "2.7.6"
  }
 },
 "nbformat": 4,
 "nbformat_minor": 0
}
