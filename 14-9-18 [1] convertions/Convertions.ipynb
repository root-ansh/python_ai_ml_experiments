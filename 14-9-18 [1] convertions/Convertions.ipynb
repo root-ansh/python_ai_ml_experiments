{
 "cells": [
  {
   "cell_type": "code",
   "execution_count": 13,
   "metadata": {},
   "outputs": [
    {
     "name": "stdout",
     "output_type": "stream",
     "text": [
      "False\n",
      "True\n",
      "False\n",
      "True\n",
      "False\n",
      "1234.5 , True\n",
      "False\n",
      "1234.5 , True\n",
      "('h', 'e', 'l', 'l', 'o')\n"
     ]
    }
   ],
   "source": [
    "# General convertions\n",
    "\n",
    "'''currently we have the following datatypes\n",
    "\n",
    "float/double            : a=2.13 , b= 3.44444444444499999999\n",
    "integer(base 10)        : a= 5\n",
    "char                    : a='$'\n",
    "string                  : a= \"ansh\"\n",
    "boolean                 : a=True\n",
    "list                    : a=['hi',333,True,2.3,'a']\n",
    "tuple                   : a='hi',333,True,2.3,'a'\n",
    "dictionary(but that involves to sub datatpes, so nope)\n",
    "\n",
    "so, we should try the convertions in the following manner\n",
    "           +-------+---------+------+--------+----------------+---------+\n",
    "           + FLOAT + INTEGER + CHAR + STRING + BOOLEAN + LIST + TUPLE   |\n",
    "+----------+-------+---------+------+--------+---------+------+---------|\n",
    "|FLOAT     + [X]   +    a    +  b   +   c    +    d    +  e   +    f    |\n",
    "|INTEGER   +  a    +   [X]   +  g   +   h    +    i    +  j   +    k    |\n",
    "|CHAR      +  b    +    g    + [X]  +   l    +    m    +  n   +    o    |\n",
    "|STRING    +  c    +    h    +  l   +  [X]   +    p    +  q   +    r    |\n",
    "|BOOLEAN   +  d    +    i    +  m   +   p    +   [X]   +  s   +    t    |\n",
    "|LIST      +  e    +    j    +  n   +   q    +    s    + [X]  +    u    |\n",
    "|TUPLE     +  f    +    k    +  o   +   r    +    t    +  u   +   [X]   |\n",
    "+-----------------------------------------------------------------------+\n",
    "\n",
    "7 dataypes, 21 convertions\n",
    "(note that we got different bases for int and float too like base 2 , base 16 , etc\n",
    "'''\n",
    "\n",
    "# (h) String to int and vice versa\n",
    "a=\"123\"\n",
    "b=123\n",
    "c=int(a)\n",
    "d=str(b)\n",
    "print(b==a)#false, since int!=string\n",
    "print(b==c)#true, since c has an integral value converted from a\n",
    "print(a==b)#false,since int!=string\n",
    "print(a==d)#true, since d has a string value converted from b\n",
    "\n",
    "e=\"21.abc\"\n",
    "#f=int(e) # !!! ValueError: invalid literal for int() with base 10: '21.abc'\n",
    "\n",
    "#=======================================\n",
    "# (c) String to float and vice versa\n",
    "a=\"1234.5\"\n",
    "b=1234.5\n",
    "c=float(a)\n",
    "d=str(b)\n",
    "\n",
    "print(b==a)\n",
    "print(c,',',b==c)\n",
    "print(a==b)\n",
    "print(d,',',a==d)\n",
    "\n",
    "#=======================================\n",
    "# (r) String to tuple and vice versa\n",
    "print(tuple(\"hello\"))\n"
   ]
  },
  {
   "cell_type": "code",
   "execution_count": 7,
   "metadata": {},
   "outputs": [],
   "source": [
    "# value error\n",
    "# received : when the input is wrong , or when the  computer can't convert one datype to other like a = int(\"abcdef\")\n",
    "\n",
    "a=12"
   ]
  },
  {
   "cell_type": "code",
   "execution_count": 12,
   "metadata": {
    "collapsed": true
   },
   "outputs": [
    {
     "name": "stdout",
     "output_type": "stream",
     "text": [
      "0x19\n",
      "0o31\n",
      "0b11001\n"
     ]
    }
   ],
   "source": [
    "# integer and float bases convertions:\n",
    "print(hex(25))\n",
    "print(oct(25))\n",
    "print(bin(25))\n",
    "#print(int(hex(25))) value error something is not passed in right\n",
    "\n"
   ]
  },
  {
   "cell_type": "code",
   "execution_count": 17,
   "metadata": {
    "collapsed": true
   },
   "outputs": [
    {
     "name": "stdout",
     "output_type": "stream",
     "text": [
      "{'h', 'e', 'l', 'o'}\n"
     ]
    }
   ],
   "source": [
    "#SET FUNCTION : removes duplicates from the list. a set will necer have a duplicate value(mathemetically)\n",
    "a=tuple('helloe') #(h,e,l,l,o,e)\n",
    "b=set(a)\n",
    "print(b) # {h,e,l,o}\n",
    "\n",
    "\n",
    "#TODO : learn more about set\n"
   ]
  },
  {
   "cell_type": "code",
   "execution_count": 20,
   "metadata": {},
   "outputs": [
    {
     "name": "stdout",
     "output_type": "stream",
     "text": [
      "jxqdhnuew\n",
      "313253???\n",
      "12.43333f\n",
      "stdout:\n",
      "jxqdhnuew <class 'str'>\n",
      "313253??? <class 'str'>\n",
      "12.43333f <class 'str'>\n"
     ]
    }
   ],
   "source": [
    "# input()\n",
    "# input() is a function which takes anything , converts it to type string and passes it to the variable if stated\n",
    "a= input() # will take input and pass it to  a. no matter whatever you type , it will be converted to string\n",
    "b= input()\n",
    "c= input()\n",
    "\n",
    "print(\"stdout:\")\n",
    "print(a,type(a))\n",
    "print(b,type(b))\n",
    "print(c,type(c))\n",
    "\n",
    "\n"
   ]
  },
  {
   "cell_type": "code",
   "execution_count": 18,
   "metadata": {},
   "outputs": [
    {
     "data": {
      "text/plain": [
       "['a', 'n', 't']"
      ]
     },
     "execution_count": 18,
     "metadata": {},
     "output_type": "execute_result"
    }
   ],
   "source": [
    "#Misc\n",
    "list(tuple(\"ant\"))"
   ]
  }
 ],
 "metadata": {
  "kernelspec": {
   "display_name": "Python 3",
   "language": "python",
   "name": "python3"
  },
  "language_info": {
   "codemirror_mode": {
    "name": "ipython",
    "version": 3
   },
   "file_extension": ".py",
   "mimetype": "text/x-python",
   "name": "python",
   "nbconvert_exporter": "python",
   "pygments_lexer": "ipython3",
   "version": "3.6.5"
  }
 },
 "nbformat": 4,
 "nbformat_minor": 2
}
