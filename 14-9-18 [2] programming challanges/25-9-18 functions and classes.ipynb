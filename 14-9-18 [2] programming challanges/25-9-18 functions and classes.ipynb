{
 "cells": [
  {
   "cell_type": "code",
   "execution_count": 5,
   "metadata": {},
   "outputs": [
    {
     "name": "stdout",
     "output_type": "stream",
     "text": [
      "314.1592653589793\n"
     ]
    }
   ],
   "source": [
    "from math import pi\n",
    "def area(x):\n",
    "    #area of circle\n",
    "    if(type(x)==int):\n",
    "        return(pi*x*x)\n",
    "    \n",
    "print(area(10))"
   ]
  },
  {
   "cell_type": "code",
   "execution_count": 7,
   "metadata": {},
   "outputs": [
    {
     "data": {
      "text/plain": [
       "[0, 1, 4, 9, 16, 25, 36, 49, 64, 81, 100]"
      ]
     },
     "execution_count": 7,
     "metadata": {},
     "output_type": "execute_result"
    }
   ],
   "source": [
    "def listOfSq(x):\n",
    "    if(type(x)==int):\n",
    "        return([i*i for i in range(x+1)])\n",
    "listOfSq(10)"
   ]
  },
  {
   "cell_type": "code",
   "execution_count": 13,
   "metadata": {},
   "outputs": [
    {
     "data": {
      "text/plain": [
       "[25, 100, 400, 625, 1225, 1600, 2500]"
      ]
     },
     "execution_count": 13,
     "metadata": {},
     "output_type": "execute_result"
    }
   ],
   "source": [
    "def listdivby5(l):\n",
    "    newL=[]\n",
    "    for i in l:\n",
    "        if(i%5==0 and i%3!=0):\n",
    "            newL.append(i)\n",
    "    return newL\n",
    "listdivby5(listOfSq(50))"
   ]
  },
  {
   "cell_type": "code",
   "execution_count": 15,
   "metadata": {},
   "outputs": [
    {
     "name": "stdout",
     "output_type": "stream",
     "text": [
      "[0, 1, 1, 2, 3, 5, 8, 13, 21, 34, 55]\n"
     ]
    }
   ],
   "source": [
    "def fibo(n):\n",
    "    l=[]\n",
    "    l.append(0)\n",
    "    l.append(1)\n",
    "    for i in range(2,n+1):\n",
    "        l.append(l[i-1]+l[i-2])\n",
    "        \n",
    "    return l\n",
    "print(fibo(10))\n",
    "    "
   ]
  },
  {
   "cell_type": "code",
   "execution_count": 17,
   "metadata": {},
   "outputs": [
    {
     "data": {
      "text/plain": [
       "['b1-g1', 'b1-g2', 'b1-g3', 'b2-g1', 'b2-g2', 'b2-g3']"
      ]
     },
     "execution_count": 17,
     "metadata": {},
     "output_type": "execute_result"
    }
   ],
   "source": [
    "def dance(boyL,girlL):\n",
    "    pairs=[]\n",
    "    for boy in boyL:\n",
    "        for girl in girlL:\n",
    "            pairs.append(boy+'-'+girl)\n",
    "    return pairs\n",
    "dance(['b1','b2'],['g1','g2','g3'])"
   ]
  },
  {
   "cell_type": "code",
   "execution_count": 27,
   "metadata": {},
   "outputs": [
    {
     "data": {
      "text/plain": [
       "{'a': 1, 'e': 1, 'i': 1, 'o': 1, 'u': 1}"
      ]
     },
     "execution_count": 27,
     "metadata": {},
     "output_type": "execute_result"
    }
   ],
   "source": [
    "def countVowels(s):\n",
    "    dic={'a': 0, 'e': 0,'i': 0, 'o': 0,'u': 0}\n",
    "    for i in s:\n",
    "        if(i=='a'):\n",
    "            dic['a']+=1\n",
    "        elif(i=='e'):\n",
    "            dic['e']+=1\n",
    "        \n",
    "        elif(i=='i'):\n",
    "            dic['i']+=1\n",
    "        \n",
    "        elif(i=='o'):\n",
    "            dic['o']+=1\n",
    "        \n",
    "        elif(i=='u'):\n",
    "            dic['u']+=1\n",
    "    return dic\n",
    "countVowels(\"abcdefghijklmnopqrstuvwxyz\")"
   ]
  },
  {
   "cell_type": "code",
   "execution_count": 25,
   "metadata": {},
   "outputs": [
    {
     "data": {
      "text/plain": [
       "{'a': 1, 'b': 1}"
      ]
     },
     "execution_count": 25,
     "metadata": {},
     "output_type": "execute_result"
    }
   ],
   "source": [
    "dic={}\n",
    "dic['a']=1\n",
    "dic\n",
    "dic['b']=1\n",
    "dic\n"
   ]
  },
  {
   "cell_type": "code",
   "execution_count": 29,
   "metadata": {},
   "outputs": [
    {
     "data": {
      "text/plain": [
       "[-3, 0, 1, 1, 3, 3, 3, 4, 4, 5, 6, 7, 8, 9, 11, 12, 12, 13, 13, 17, 21]"
      ]
     },
     "execution_count": 29,
     "metadata": {},
     "output_type": "execute_result"
    }
   ],
   "source": [
    "def merger(s1,s2):\n",
    "    l=[]\n",
    "    i,j=0,0\n",
    "    while(True):\n",
    "        if(i<len(s1) and j<len(s2)):\n",
    "            if(s1[i]<=s2[j]):\n",
    "                l.append(s1[i])\n",
    "                i+=1\n",
    "            else :\n",
    "                l.append(s2[j])\n",
    "                j+=1\n",
    "        else:\n",
    "            for k in range(i,len(s1)):\n",
    "                l.append(s1[k])\n",
    "            for m in range(j,len(s2)):\n",
    "                l.append(s2[m])\n",
    "            break\n",
    "    return l\n",
    "            \n",
    "merger([1,3,3,3,5,7,9,11,13,21],[-3,0,1,4,4,6,8,12,12,13,17])"
   ]
  },
  {
   "cell_type": "code",
   "execution_count": 30,
   "metadata": {},
   "outputs": [
    {
     "ename": "SyntaxError",
     "evalue": "positional argument follows keyword argument (<ipython-input-30-70ba12e68d6d>, line 6)",
     "output_type": "error",
     "traceback": [
      "\u001b[1;36m  File \u001b[1;32m\"<ipython-input-30-70ba12e68d6d>\"\u001b[1;36m, line \u001b[1;32m6\u001b[0m\n\u001b[1;33m    add(a = 40, b = 2,6)\u001b[0m\n\u001b[1;37m                     ^\u001b[0m\n\u001b[1;31mSyntaxError\u001b[0m\u001b[1;31m:\u001b[0m positional argument follows keyword argument\n"
     ]
    }
   ],
   "source": [
    "def add(a, b=20, c=25):\n",
    "    print(a+b+c)\n",
    "\n",
    "add(2,10)\n",
    "add(6, b = 24)\n",
    "add(a = 40, b = 2,6)"
   ]
  },
  {
   "cell_type": "code",
   "execution_count": null,
   "metadata": {},
   "outputs": [],
   "source": [
    "#----------classes------------------------------------"
   ]
  },
  {
   "cell_type": "code",
   "execution_count": 2,
   "metadata": {},
   "outputs": [
    {
     "name": "stdout",
     "output_type": "stream",
     "text": [
      "{ansh,22,413}\n"
     ]
    }
   ],
   "source": [
    "class student:\n",
    "    name=\"\"\n",
    "    age=0\n",
    "    roll=0\n",
    "    def __init__(self,dicti):\n",
    "        self.name=dicti['name']\n",
    "        self.age=dicti['age']\n",
    "        self.roll=dicti['roll']\n",
    "    def __repr__(self):\n",
    "        return '{'+str(self.name)+','+str(self.age)+','+str(self.roll)+'}'\n",
    "a=student({'name':\"ansh\",'age':22,'roll':413})\n",
    "print(a)"
   ]
  },
  {
   "cell_type": "code",
   "execution_count": null,
   "metadata": {},
   "outputs": [],
   "source": []
  }
 ],
 "metadata": {
  "kernelspec": {
   "display_name": "Python 3",
   "language": "python",
   "name": "python3"
  },
  "language_info": {
   "codemirror_mode": {
    "name": "ipython",
    "version": 3
   },
   "file_extension": ".py",
   "mimetype": "text/x-python",
   "name": "python",
   "nbconvert_exporter": "python",
   "pygments_lexer": "ipython3",
   "version": "3.6.5"
  }
 },
 "nbformat": 4,
 "nbformat_minor": 2
}
