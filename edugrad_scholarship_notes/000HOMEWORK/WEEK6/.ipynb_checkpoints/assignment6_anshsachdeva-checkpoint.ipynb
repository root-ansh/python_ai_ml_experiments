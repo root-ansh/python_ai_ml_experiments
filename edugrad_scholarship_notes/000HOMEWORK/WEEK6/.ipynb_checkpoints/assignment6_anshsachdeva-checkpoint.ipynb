{
 "cells": [
  {
   "cell_type": "markdown",
   "metadata": {},
   "source": [
    "## Important :\n",
    "Please run the first program( that is , the one below this announcement ) before running any other program , since every program depends  on this code."
   ]
  },
  {
   "cell_type": "code",
   "execution_count": 2,
   "metadata": {},
   "outputs": [
    {
     "name": "stdout",
     "output_type": "stream",
     "text": [
      "enter your numbers seperated by space (' ') : 1 2\n",
      "your list: [1, 2]\n",
      "your array: [1 2]\n"
     ]
    }
   ],
   "source": [
    "# question 1 Write a Python program to convert a list of numeric value into a one-dimensional NumPy array.\n",
    "import numpy as np \n",
    "def convert_to_array(l):\n",
    "    return np.array(l)\n",
    "\n",
    "    \n",
    "#---driver code---\n",
    "my_list = [int(x) for x in input(\"enter your numbers seperated by space (' ') : \").split(\" \")]\n",
    "print(\"your list:\",my_list)\n",
    "print(\"your array:\",convert_to_array(my_list))\n"
   ]
  },
  {
   "cell_type": "code",
   "execution_count": 2,
   "metadata": {},
   "outputs": [
    {
     "name": "stdout",
     "output_type": "stream",
     "text": [
      "[[ 2  3  4]\n",
      " [ 5  6  7]\n",
      " [ 8  9 10]]\n"
     ]
    }
   ],
   "source": [
    "# question 2) Create a 3x3 matrix with values ranging from 2 to 10.\n",
    "\n",
    "print(np.arange(2,11).reshape(3,3))\n"
   ]
  },
  {
   "cell_type": "code",
   "execution_count": 6,
   "metadata": {},
   "outputs": [
    {
     "name": "stdout",
     "output_type": "stream",
     "text": [
      "enter your numbers seperated by space (' ') : 1 2 3 4 5\n",
      "your list: [1, 2, 3, 4, 5]\n",
      "your array: [1 2 3 4 5]\n",
      "your array reversed: [5 4 3 2 1]\n"
     ]
    }
   ],
   "source": [
    "#3) Write a Python program to reverse an array (first element becomes last).\n",
    "# using the function created in queston 1:\n",
    "\n",
    "my_list = [int(x) for x in input(\"enter your numbers seperated by space (' ') : \").split(\" \")]\n",
    "arr=convert_to_array(my_list)\n",
    "\n",
    "print(\"your list:\",my_list)\n",
    "print(\"your array:\",arr)\n",
    "print(\"your array reversed:\",arr[::-1])\n",
    "\n",
    "\n"
   ]
  },
  {
   "cell_type": "code",
   "execution_count": 8,
   "metadata": {},
   "outputs": [
    {
     "name": "stdout",
     "output_type": "stream",
     "text": [
      "enter your numbers seperated by space (' ') : 1 2 3 4\n",
      "enter more numbers to be appended seperated by space (' ') : 2 22\n",
      "your list: [1, 2, 3, 4]\n",
      "your items to be appended: [1, 2, 3, 4]\n",
      "your array after appending: [ 1  2  3  4  2 22]\n"
     ]
    }
   ],
   "source": [
    "#q4Write a Python program to append values to the end of an array.\n",
    "#(Use Numpy append() method )\n",
    "\n",
    "# using the function created in queston 1:\n",
    "\n",
    "my_list = [int(x) for x in input(\"enter your numbers seperated by space (' ') : \").split(\" \")]\n",
    "items = [int(x) for x in input(\"enter more numbers to be appended seperated by space (' ') : \").split(\" \")]\n",
    "\n",
    "arr=convert_to_array(my_list)\n",
    "arr=np.append(arr,items)\n",
    "\n",
    "print(\"your list:\",my_list)\n",
    "print(\"your items to be appended:\",my_list)\n",
    "print(\"your array after appending:\",arr)\n"
   ]
  },
  {
   "cell_type": "code",
   "execution_count": 10,
   "metadata": {},
   "outputs": [
    {
     "name": "stdout",
     "output_type": "stream",
     "text": [
      "non zero indexes are : [0 1 4]\n",
      "non zero elements are : [1 2 4]\n"
     ]
    }
   ],
   "source": [
    "#q5 Find indices of non-zero elements from [1,2,0,0,4,0]\n",
    "# using the function created in queston 1:\n",
    "\n",
    "\n",
    "l=[1,2,0,0,4,0]\n",
    "arr=convert_to_array(l)\n",
    "indexes=np.nonzero(arr)[0]\n",
    "print(\"non zero indexes are :\",indexes)\n",
    "print(\"non zero elements are :\",arr[indexes])"
   ]
  },
  {
   "cell_type": "code",
   "execution_count": 3,
   "metadata": {},
   "outputs": [
    {
     "name": "stdout",
     "output_type": "stream",
     "text": [
      "[0. 0. 0. 0. 0. 0. 0. 0. 0. 0.]\n"
     ]
    }
   ],
   "source": [
    "#q6 Create a null vector of size 10\n",
    "\n",
    "null_vector=np.zeros(10)\n",
    "print(null_vector)\n"
   ]
  },
  {
   "cell_type": "code",
   "execution_count": 4,
   "metadata": {},
   "outputs": [
    {
     "name": "stdout",
     "output_type": "stream",
     "text": [
      "[0. 0. 0. 0. 1. 0. 0. 0. 0. 0.]\n"
     ]
    }
   ],
   "source": [
    "#q7 Create a null vector of size 10 but the fifth value which is 1\n",
    "\n",
    "null_vector=np.zeros(10)\n",
    "null_vector[4]=1\n",
    "print(null_vector)\n"
   ]
  },
  {
   "cell_type": "code",
   "execution_count": 5,
   "metadata": {},
   "outputs": [
    {
     "name": "stdout",
     "output_type": "stream",
     "text": [
      "[0.13976795 0.33029344 0.39439804 0.41128089 0.45156846 0.65540598\n",
      " 0.6614005  0.95325784 0.98156207 0.99399873]\n"
     ]
    }
   ],
   "source": [
    "#q8 Create a random vector of size 10 and sort it\n",
    "\n",
    "rand_vector = np.random.random(10)\n",
    "rand_vector.sort()\n",
    "print(rand_vector)"
   ]
  },
  {
   "cell_type": "code",
   "execution_count": 6,
   "metadata": {
    "scrolled": true
   },
   "outputs": [
    {
     "name": "stdout",
     "output_type": "stream",
     "text": [
      "enter 'n' no.s for a square matrix, seperated by space:1 2 3 2\n",
      "current array:\n",
      " [[1 2]\n",
      " [3 2]]\n",
      "mean for each row= [1.5 2.5]\n",
      "array after subtraction=\n",
      " [[-0.5  0.5]\n",
      " [ 0.5 -0.5]]\n",
      "\n"
     ]
    }
   ],
   "source": [
    "#q9 Subtract the mean of each row of a matrix\n",
    "\n",
    "prompt=\"enter 'n' no.s for a square matrix, seperated by space:\"\n",
    "my_list = [int(x) for x in input(prompt).split(\" \")]\n",
    "\n",
    "n= int(len(my_list)**0.5)  # no. of rows(or columns) for an nXn  matrix\n",
    "my_arr = np.array(my_list).reshape([n,-1])  #-1, because it helps handling cases where no. of inputs is even but not perfect square. \n",
    "print(\"current array:\\n\",my_arr)\n",
    "\n",
    "mean_arr=np.mean(my_arr, axis=1) #  nX1 array with mean of each row\n",
    "print(\"mean for each row=\",mean_arr)\n",
    "\n",
    "mean_arr_T=mean_arr.reshape([-1,1]) #mean_arr converted to 1Xn dimension (vertical) array\n",
    "my_arr= my_arr - mean_arr_T # subtracting mean of each row from elements of each row\n",
    "\n",
    "print(\"array after subtraction=\\n\",my_arr)\n",
    "\n",
    "\"\"\"\n",
    "explaination for creation of array:\n",
    "    #correct input\n",
    "    [in ]:enter [1 or 4 or 9 or 16 or....] numbers seperated by space (' ')  :1 2 3 4\n",
    "    [out]:[[1 2]\n",
    "          [3 4]]\n",
    "\n",
    "    #slightly incorrect input\n",
    "    [in ]:enter [1 or 4 or 9 or 16 or....] numbers seperated by space (' ') :1 2 3 4 5 6\n",
    "    [out]:[[1 2 3]\n",
    "           [4 5 6]]\n",
    "   \n",
    "\"\"\"\n",
    "print()\n",
    "\n",
    "\n"
   ]
  },
  {
   "cell_type": "code",
   "execution_count": 5,
   "metadata": {},
   "outputs": [
    {
     "name": "stdout",
     "output_type": "stream",
     "text": [
      "(array([0, 6, 4, 5, 4, 2], dtype=int64), array([0, 1, 2, 3, 4, 5, 6]))\n"
     ]
    },
    {
     "data": {
      "image/png": "[encoded data removed]",
      "text/plain": [
       "<Figure size 432x288 with 1 Axes>"
      ]
     },
     "metadata": {
      "needs_background": "light"
     },
     "output_type": "display_data"
    }
   ],
   "source": [
    "\"\"\"\n",
    "q10\n",
    "Create a histogram using Numpy for the following data: \n",
    "1,2,1,3,4,5,1,3,4,1,2,3,5,4,1,2,3,4,1,3,2\n",
    "with the bin range bins=[0, 1, 2, 3, 4, 5, 6]\n",
    "Also use matplotlib to visualize the histogram.\n",
    "\"\"\"\n",
    "import numpy as np\n",
    "import matplotlib.pyplot as plt\n",
    "\n",
    "data = [1, 2, 1, 3, 4, 5, 1, 3, 4, 1, 2, 3, 5, 4, 1, 2, 3, 4, 1, 3, 2]\n",
    "bins = [0, 1, 2, 3, 4, 5, 6]\n",
    "\n",
    "freq_dist = np.histogram(data, bins)\n",
    "print(freq_dist)  # numpy created in histogram\n",
    "\n",
    "plt.hist(data, bins[1:]) #histogram created directly\n",
    "plt.plot(freq_dist[1][1:], freq_dist[0]) # histogram using numpy histogram data\n",
    "plt.show()\n"
   ]
  },
  {
   "cell_type": "code",
   "execution_count": null,
   "metadata": {},
   "outputs": [],
   "source": []
  },
  {
   "cell_type": "code",
   "execution_count": null,
   "metadata": {},
   "outputs": [],
   "source": []
  }
 ],
 "metadata": {
  "kernelspec": {
   "display_name": "Python 3",
   "language": "python",
   "name": "python3"
  },
  "language_info": {
   "codemirror_mode": {
    "name": "ipython",
    "version": 3
   },
   "file_extension": ".py",
   "mimetype": "text/x-python",
   "name": "python",
   "nbconvert_exporter": "python",
   "pygments_lexer": "ipython3",
   "version": "3.6.6"
  }
 },
 "nbformat": 4,
 "nbformat_minor": 1
}
