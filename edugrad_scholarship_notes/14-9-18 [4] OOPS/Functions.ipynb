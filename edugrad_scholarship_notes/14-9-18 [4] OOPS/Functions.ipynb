{
 "cells": [
  {
   "cell_type": "code",
   "execution_count": null,
   "metadata": {},
   "outputs": [],
   "source": [
    "# python functions"
   ]
  },
  {
   "cell_type": "code",
   "execution_count": 1,
   "metadata": {},
   "outputs": [
    {
     "name": "stdout",
     "output_type": "stream",
     "text": [
      "hello\n",
      "89\n",
      "hello\n",
      "3\n",
      "hello\n",
      "36\n"
     ]
    }
   ],
   "source": [
    "import random as r\n",
    "\n",
    "def fun1():\n",
    "    # simple function , returns a random number\n",
    "    print(\"hello\")\n",
    "    return r.randint(0,100)\n",
    "\n",
    "print(fun1())\n",
    "print(fun1())\n",
    "print(fun1())\n"
   ]
  },
  {
   "cell_type": "code",
   "execution_count": 2,
   "metadata": {},
   "outputs": [
    {
     "name": "stdout",
     "output_type": "stream",
     "text": [
      "you sent: woo hoo\n",
      "you sent: 11\n",
      "you sent: [1, 2, 3]\n"
     ]
    }
   ],
   "source": [
    "\n",
    "def fun2(x):\n",
    "    #a function which needs 1 variable\n",
    "    print(\"you sent:\",x)\n",
    "\n",
    "fun2(\"woo hoo\")\n",
    "fun2(11)\n",
    "fun2([1,2,3])\n"
   ]
  },
  {
   "cell_type": "code",
   "execution_count": null,
   "metadata": {},
   "outputs": [],
   "source": [
    "def fun3(x=5):\n",
    "    # a function which can take anything, but has a default value for x =5\n",
    "    # thus you can calll even without an input\n",
    "    print(\"you sent in fun3:\",x)\n",
    "fun3()\n",
    "fun3(23)\n",
    "fun3(\"hello\")\n",
    "#fun3(1,2,3)# always pass tuple as (1,2,3) and not simply 1,2,3\n",
    "fun3((1,2,'a'))\n",
    "\n",
    "\n"
   ]
  },
  {
   "cell_type": "code",
   "execution_count": 7,
   "metadata": {},
   "outputs": [
    {
     "name": "stdout",
     "output_type": "stream",
     "text": [
      "received values are a,b,c: def1 def2 def3\n",
      "received values are a,b,c: 1 2 3\n",
      "received values are a,b,c: 2 1 3\n"
     ]
    }
   ],
   "source": [
    "#making functions with default values also lets you use them in any order you want or even omit them if you don't\n",
    "def funky(a=\"def1\",b=\"def2\", c=\"def3\"):\n",
    "    print (\"received values are a,b,c:\",a,b,c)\n",
    "    \n",
    "funky()\n",
    "funky(1,2,3)\n",
    "funky(b=1,a=2,c=3)"
   ]
  },
  {
   "cell_type": "code",
   "execution_count": 4,
   "metadata": {},
   "outputs": [
    {
     "name": "stdout",
     "output_type": "stream",
     "text": [
      "before invocking, a,b: 5 10\n",
      "after  invocking, a,b: 5 10\n",
      "before invocking, k: [5, 10]\n",
      "after  invocking, k: [10, 5]\n"
     ]
    }
   ],
   "source": [
    "# functions in python are call by value\n",
    "def fun4(x,y):\n",
    "    tep=x\n",
    "    x=y\n",
    "    y=tep\n",
    "\n",
    "a=5\n",
    "b=10\n",
    "print(\"before invocking, a,b:\",a,b)\n",
    "fun4(a,b)\n",
    "print(\"after  invocking, a,b:\",a,b)\n",
    "\n",
    "#but sometimes it is not?\n",
    "def fun5(l):\n",
    "    \n",
    "    tep=l[0]\n",
    "    l[0]=l[1]\n",
    "    l[1]=tep\n",
    "\n",
    "k=[5,10]\n",
    "print(\"before invocking, k:\",k)\n",
    "fun5(k)\n",
    "print(\"after  invocking, k:\",k)\n",
    "\n"
   ]
  },
  {
   "cell_type": "code",
   "execution_count": null,
   "metadata": {},
   "outputs": [],
   "source": [
    "# function accessing global variables\n",
    "\n",
    "def funt1():\n",
    "    print(zz)\n",
    "zz= \"i am global\"\n",
    "funt1()\n"
   ]
  },
  {
   "cell_type": "code",
   "execution_count": 9,
   "metadata": {},
   "outputs": [
    {
     "name": "stdout",
     "output_type": "stream",
     "text": [
      ">>i got no arg\n",
      ">>i got arg 1\n",
      ">>i got 2 args 1 , 2 \n",
      ">>i got 2 args None , 1 \n"
     ]
    }
   ],
   "source": [
    "\n",
    "# overloaded functions # not allowed!!! (but possible using None)\n",
    "'''\n",
    "def  funt2():\n",
    "    print(\" i got no arg\")\n",
    "\n",
    "def  funt2(x):\n",
    "    print(\" i got arg %d\"%x)\n",
    "\n",
    "def  funt2(x,y):\n",
    "    print(\" i got 2 args %d , %d \"%(x,y))\n",
    "\n",
    "funt2()\n",
    "funt2(1)\n",
    "funt2(1,2)\n",
    "'''\n",
    "def funt2(a=None, b=None):\n",
    "    if(a is None and b is None):\n",
    "        print(\">>i got no arg\")\n",
    "    elif(a is not None and b is None):\n",
    "        print(\">>i got arg %s\"%a)\n",
    "    else :\n",
    "        print(\">>i got 2 args %s , %s \"%(a,b))\n",
    "    \n",
    "funt2()\n",
    "funt2(1)\n",
    "funt2(1,2)\n",
    "funt2(b=1)\n",
    "\n"
   ]
  },
  {
   "cell_type": "code",
   "execution_count": null,
   "metadata": {},
   "outputs": [],
   "source": [
    "#todo: more on  FUNCTIONS NAMED ARGUEMENT AND POSITIONAL ARFUEMENTS"
   ]
  },
  {
   "cell_type": "code",
   "execution_count": 3,
   "metadata": {},
   "outputs": [
    {
     "name": "stdout",
     "output_type": "stream",
     "text": [
      "7\n"
     ]
    }
   ],
   "source": [
    "#first class Functions: storing a function in a variable\n",
    "# a complete defination of a function can be stored in a \n",
    "#variable\n",
    "def add2(x,y):\n",
    "    return x+y\n",
    "a=add2\n",
    "print(a(3,4))"
   ]
  },
  {
   "cell_type": "code",
   "execution_count": 4,
   "metadata": {},
   "outputs": [
    {
     "name": "stdout",
     "output_type": "stream",
     "text": [
      "12\n"
     ]
    }
   ],
   "source": [
    "# this defination can be passed onto some other function too\n",
    "def add2(a,b):\n",
    "    return a+b\n",
    "\n",
    "def add5(ad2,a,b):\n",
    "    return ad2(a,b)+5\n",
    "\n",
    "x=add2\n",
    "print(add5(x,3,4))\n",
    "\n"
   ]
  },
  {
   "cell_type": "code",
   "execution_count": 5,
   "metadata": {},
   "outputs": [
    {
     "data": {
      "text/plain": [
       "['m', 'a', 'n', 'g', 'o']"
      ]
     },
     "execution_count": 5,
     "metadata": {},
     "output_type": "execute_result"
    }
   ],
   "source": [
    "[m.lower() for m in \"MANGO\"]"
   ]
  },
  {
   "cell_type": "code",
   "execution_count": 9,
   "metadata": {},
   "outputs": [
    {
     "data": {
      "text/plain": [
       "42"
      ]
     },
     "execution_count": 9,
     "metadata": {},
     "output_type": "execute_result"
    }
   ],
   "source": [
    "def multi(x,y=20):\n",
    "    return x*y\n",
    "\n",
    "def perform(fn,x,y):\n",
    "    result=fn(x,y)\n",
    "    return result\n",
    "perform(multi,2,21)\n",
    "\n"
   ]
  },
  {
   "cell_type": "code",
   "execution_count": null,
   "metadata": {},
   "outputs": [],
   "source": []
  }
 ],
 "metadata": {
  "kernelspec": {
   "display_name": "Python 3",
   "language": "python",
   "name": "python3"
  },
  "language_info": {
   "codemirror_mode": {
    "name": "ipython",
    "version": 3
   },
   "file_extension": ".py",
   "mimetype": "text/x-python",
   "name": "python",
   "nbconvert_exporter": "python",
   "pygments_lexer": "ipython3",
   "version": "3.6.5"
  }
 },
 "nbformat": 4,
 "nbformat_minor": 2
}
