{
 "cells": [
  {
   "cell_type": "code",
   "execution_count": 2,
   "metadata": {},
   "outputs": [
    {
     "name": "stdout",
     "output_type": "stream",
     "text": [
      "this is a doc string.it can be accessed using class`s object.__doc__ \n",
      "0\n",
      "2005\n",
      "i changed the doc string.\n",
      "this is a doc string.it can be accessed using class`s object.__doc__ \n",
      "0\n"
     ]
    }
   ],
   "source": [
    " #classes in python : our favourite buddy right up there\n",
    "#1 A basic class : just like a template to create custom data structures , all with data holders( variables) and actions( functions)\n",
    "class basic: \n",
    "    'this is a doc string.it can be accessed using class`s object.__doc__ '\n",
    "    variable1=0 #class variable. the values of variables here are shared as default values by all instances of this class.\n",
    "\n",
    "obj = basic() # an instance of that class\n",
    "print(obj.__doc__)\n",
    "print(obj.variable1)\n",
    "obj.variable1=2005   # even if class variable's value is changed , it won't effect any other instance of that class because that has changed for THAT perticular instance\n",
    "obj.__doc__=\"i changed the doc string.\" # nope, it won't effect the other instances\n",
    "print(obj.variable1)\n",
    "print(obj.__doc__)\n",
    "\n",
    "obj2 = basic()\n",
    "print(obj2.__doc__)\n",
    "print(obj2.variable1)    "
   ]
  },
  {
   "cell_type": "code",
   "execution_count": 15,
   "metadata": {
    "collapsed": true
   },
   "outputs": [
    {
     "data": {
      "text/plain": [
       "\"\\nnow there is this funny things about functions in a class.\\n\\nUsually, a class's function(or method) is just like a \\nnormal function whose main aim is to perform some action.\\n\\nBut like we defined earlier, a class is just a template\\n,or a skeleton to create objects.Like class man: would \\ncreate objects b1 depicting  boy ansh, class phone: would \\ncreate objects like miA2 and iphone7.\\nThese objects have the same skeleton, but very different\\nattributes's values and associated actions.\\n\\nso thus we can have variables attached to our own object,\\nlike we saw in previous example(where we changed the \\ndocstring and variables but that remained uniqued to\\nthat perticular object  only).we can have functions too \\nlike that, which will only work with the object and not directly\\nusing class name. just add 'self' as the first arg while \\ndefining the function and now it can be invoked as \\nmia2.camera() , but not Phones.camera(). there is no need\\nto even pass 'self' at the time of calling, python does it\\nfor u automatically.\\n\\n\""
      ]
     },
     "execution_count": 15,
     "metadata": {},
     "output_type": "execute_result"
    }
   ],
   "source": [
    "    \n",
    "\"\"\"\n",
    "    now there is this funny things about functions in a class.\n",
    "\n",
    "    Usually, a class's function(or method) is just like a \n",
    "    normal function whose main aim is to perform some action.\n",
    "    \n",
    "    But like we defined earlier, a class is just a template\n",
    "    ,or a skeleton to create objects.Like class man: would \n",
    "    create objects b1 depicting  boy ansh, class phone: would \n",
    "    create objects like miA2 and iphone7.\n",
    "    These objects have the same skeleton, but very different\n",
    "    attributes's values and associated actions.\n",
    "    \n",
    "    so thus we can have variables attached to our own object,\n",
    "    like we saw in previous example(where we changed the \n",
    "    docstring and variables but that remained uniqued to\n",
    "    that perticular object  only).we can have functions too \n",
    "    like that, which will only work with the object and not directly\n",
    "    using class name. just add 'self' as the first arg while \n",
    "    defining the function and now it can be invoked as \n",
    "    mia2.camera() , but not Phones.camera(). there is no need\n",
    "    to even pass 'self' at the time of calling, python does it\n",
    "    for u automatically.\n",
    "    basically python tries to  call whatever function you are trying\n",
    "    to call , call with an extra variable 'self'  \n",
    "    \n",
    "\"\"\" "
   ]
  },
  {
   "cell_type": "code",
   "execution_count": 20,
   "metadata": {},
   "outputs": [
    {
     "name": "stdout",
     "output_type": "stream",
     "text": [
      "hi.\n",
      "fine me too\n"
     ]
    }
   ],
   "source": [
    "class Boy:\n",
    "    looks=0\n",
    "    \"\"\"\n",
    "    class variable.call using Boy.looks , it will give you\n",
    "    default value. call it using boyObj.looks, it gives u \n",
    "    the value assigned for boyObj's looks previously.\n",
    "    \n",
    "    \"\"\"\n",
    "    \n",
    "    def fun(): \n",
    "        #class functions . call using Boy.fun(), you get a 'hi', call it with boyObj.fun(), nah uh , its an error\n",
    "        #(because when you call it with bouObj.fun(), the actual calll that is going internally is boyObj.fun(self)) )\n",
    "        print(\"hi.\")\n",
    "    \n",
    "    def fun2(self):#member function. call using Boy.fun(), you get an error, call it with boyObj.fun(),you get result as \"fine me too\"\n",
    "        #(because of the same reason as above)\n",
    "        print(\"fine me too\")\n",
    "\n",
    "Boy.fun()\n",
    "b= Boy()\n",
    "#b.fun() #error\n",
    "\n",
    "b.fun2()\n",
    "#Boy.fun2()#error\n"
   ]
  },
  {
   "cell_type": "code",
   "execution_count": 32,
   "metadata": {},
   "outputs": [
    {
     "name": "stdout",
     "output_type": "stream",
     "text": [
      "girl{None,None,[]}\n",
      "girl{Wendy,18,[36, 24, 36]}\n"
     ]
    }
   ],
   "source": [
    "# constructors : they are a convenient way of initialising the unique values for variables for each object. their are many types of constructors\n",
    "\n",
    "\n",
    "class girl:\n",
    "    name=None\n",
    "    age =None\n",
    "    looks=[]\n",
    "    \n",
    "    \n",
    "#     def __init__(self):\n",
    "#         self.name = \"Default\"\n",
    "#         self.age=0\n",
    "#         self.looks=[1,2,3]\n",
    "#     def __init__(self,name,age,looks):<-- the default and parameter constructor won't work like this\n",
    "#         self.name=name\n",
    "#         self.age=age\n",
    "#         self.looks=looks\n",
    "\n",
    "\n",
    "\n",
    "#     def __init__(self,mgirl): <---copy constructor is not allowed\n",
    "#         self.name=mgirl.name\n",
    "#         self.age=mgirl.age\n",
    "#         self.looks=mgirl.looks\n",
    "\n",
    "    def __init__(self, name=None,age=None,looks=[]):\n",
    "        self.name=name\n",
    "        self.age=age\n",
    "        self.looks=looks\n",
    "        \n",
    "    \n",
    "    \n",
    "    def __str__(self):\n",
    "        return 'girl{'+str(self.name)+','+str(self.age)+','+str(self.looks)+'}'\n",
    "        \"\"\"\n",
    "        just to mention that unlike java , you cannot simply mix class\n",
    "        variables with object's variables. therefore , 'name'\n",
    "        might be a global variable , in the class, but if its\n",
    "        a non static function(i.e the one with self) no variables \n",
    "        allowed without self!!\n",
    "        \"\"\"\n",
    "\n",
    "    def __repr__(self):\n",
    "        #str and repr are same , although some people say repr represents the 'official' string representation of object\n",
    "        # its cool to override the both\n",
    "        return 'girl{'+str(self.name)+','+str(self.age)+','+str(self.looks)+'}'\n",
    "    \n",
    "\n",
    "        \n",
    "g=girl()\n",
    "print(g)\n",
    "\n",
    "g=girl(\"Wendy\",18,[36,24,36])\n",
    "print(g)"
   ]
  },
  {
   "cell_type": "code",
   "execution_count": 42,
   "metadata": {},
   "outputs": [
    {
     "name": "stdout",
     "output_type": "stream",
     "text": [
      "None\n",
      "ansh\n"
     ]
    }
   ],
   "source": [
    "#they say , that data safety is just a myth in the online world , but python really prooves it\n",
    "#it says it has data abstraction , but pythons hiding techniques are quite poor\n",
    "# well , we can't do anything about them ,except learn\n",
    "\n",
    "# UPDATE: oh boy i was wrong!! python is good too!\n",
    "# but still you can know all the variables and function names in the class using class.__dict__, that's bad\n",
    "class boy:\n",
    "    __name=None\n",
    "    __age=None\n",
    "    \n",
    "    def getName(self):\n",
    "        return self.__name\n",
    "    def setName(self,name):\n",
    "        self.__name=name\n",
    "    \n",
    "b=boy()\n",
    "#print(b.__name)\n",
    "print(b.getName())\n",
    "b.setName(\"ansh\")\n",
    "print(b.getName())\n"
   ]
  },
  {
   "cell_type": "code",
   "execution_count": 48,
   "metadata": {},
   "outputs": [
    {
     "name": "stdout",
     "output_type": "stream",
     "text": [
      "girl{amy,[22, 22, 22]}\n",
      "girl{miku,[34, 32, 36]}\n",
      "girl{amy,[22, 22, 22]}\n",
      "girl{miku,[34, 32, 36, 'nice']}\n",
      "girl{amy,[22, 22, 22]}\n"
     ]
    }
   ],
   "source": [
    "\"\"\"\n",
    "remember the problem with passing list as paremeter to\n",
    "a function? well we have a similar kind of problem here \n",
    "too.\n",
    "when we have a list as class variable, then if the value\n",
    "of such list changes for 1 instance, the change is reflected\n",
    "to all instances.\n",
    "thus for a class named girl, you have looks=[] as the list\n",
    "then if a girl's object amy has its looks=[22,22,22],\n",
    "and new girl miku is registered with looks=[34,32,36],then if \n",
    "we add 'nice' in miku's list, 'nice' will get added in amy's\n",
    "list too\n",
    "\"\"\"\n",
    "class girl:\n",
    "    __name=None\n",
    "    __looks=[]\n",
    "    def __init__(self, name, looks):\n",
    "        self.__name=name\n",
    "        self.__looks=looks\n",
    "    def __repr__(self):\n",
    "        return \"girl{\"+self.__name+','+str(self.__looks)+'}'\n",
    "    def addGrade(self, grade):\n",
    "        self.__looks.append(grade)\n",
    "    \n",
    "a=girl('amy',[22,22,22])\n",
    "print(a)\n",
    "\n",
    "b=girl('miku',[34,32,36])\n",
    "print(b)\n",
    "print(a)\n",
    "\n",
    "b.addGrade('nice')\n",
    "print(b)\n",
    "print(a)"
   ]
  },
  {
   "cell_type": "code",
   "execution_count": null,
   "metadata": {},
   "outputs": [],
   "source": []
  }
 ],
 "metadata": {
  "kernelspec": {
   "display_name": "Python 3",
   "language": "python",
   "name": "python3"
  },
  "language_info": {
   "codemirror_mode": {
    "name": "ipython",
    "version": 3
   },
   "file_extension": ".py",
   "mimetype": "text/x-python",
   "name": "python",
   "nbconvert_exporter": "python",
   "pygments_lexer": "ipython3",
   "version": "3.6.5"
  }
 },
 "nbformat": 4,
 "nbformat_minor": 2
}
