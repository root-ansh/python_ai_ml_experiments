{
 "cells": [
  {
   "cell_type": "code",
   "execution_count": 1,
   "metadata": {
    "collapsed": true
   },
   "outputs": [],
   "source": [
    "\"\"\"\n",
    "    yield or generator functions are kind of special functions which 'generate' values when \n",
    "    needed.\n",
    "    they are totally unique, and i don't know how to replicate their behavior using any\n",
    "    available function creation techniques\n",
    "\"\"\"\n",
    "flag=0"
   ]
  },
  {
   "cell_type": "code",
   "execution_count": 3,
   "metadata": {},
   "outputs": [
    {
     "name": "stdout",
     "output_type": "stream",
     "text": [
      "22\n<generator object func_y at 0x0000029B529A2780>\n22\n"
     ]
    }
   ],
   "source": [
    "#basic\n",
    "\n",
    "def func():\n",
    "    a = 22\n",
    "    return a\n",
    "\n",
    "def func_y():\n",
    "    a = 22\n",
    "    yield a\n",
    "\n",
    "print(func())\n",
    "print(func_y())\n",
    "# usual function directly returns a value , but yielding functions return an iterator.\n",
    "# therefore, they can be used only with loop, like its sending the value as [22]\n",
    "\n",
    "for i in func_y():\n",
    "    print(i)\n"
   ]
  },
  {
   "cell_type": "code",
   "execution_count": 4,
   "metadata": {},
   "outputs": [
    {
     "name": "stdout",
     "output_type": "stream",
     "text": [
      "(1, 2, 3, 4)\n<generator object func_y at 0x0000029B529A22B0>\n1-2-3-4-\n(1, 2, 3, 4)-\n"
     ]
    }
   ],
   "source": [
    "#directly returning multiple values\n",
    "\n",
    "def func():\n",
    "    a = 1, 2, 3, 4\n",
    "    return a\n",
    "\n",
    "def func_y():\n",
    "    a = 1, 2, 3, 4\n",
    "    yield a\n",
    "\n",
    "print(func())\n",
    "print(func_y())\n",
    "# again, the yielder gives an iterator object enclosing all values , but this time \n",
    "# we can't even iterate it properly, as if it is returning the tuple as whole, like\n",
    "# [(1,2,3,4)]\n",
    "for i in func():\n",
    "    print(i, end='-')\n",
    "print()\n",
    "for i in func_y():\n",
    "    print(i, end='-')\n",
    "print()\n"
   ]
  },
  {
   "cell_type": "code",
   "execution_count": 6,
   "metadata": {
    "collapsed": true
   },
   "outputs": [
    {
     "name": "stdout",
     "output_type": "stream",
     "text": [
      "1\n2\n3\n4\n1\n2\n3\n4\nNone\nNone\nNone\n"
     ]
    }
   ],
   "source": [
    "#best use case\n",
    "def func_y():\n",
    "    a = 1, 2, 3, 4\n",
    "    for i in a:\n",
    "        yield i\n",
    "\n",
    "for i in func_y():\n",
    "    print(i)\n",
    "\n",
    "\"\"\"\n",
    "I don't know how this works , but here it goes:\n",
    "- when the funk_y() is first called, it would somehow return the no. of times it should\n",
    "  be called again, therby telling the external loop a value for no. of times to iterate.\n",
    "- it is also somehow maintaining an internal pointer hich increase by 1 every time we call it.\n",
    "  and it returns the value accordingly. nearest i came to this is:\n",
    "  \n",
    "\"\"\"\n",
    "\n",
    "\n",
    "class Y:\n",
    "    i = 0\n",
    "    def func(self):\n",
    "        a = 1, 2, 3, 4\n",
    "        if (self.i < len(a)):\n",
    "            u = a[self.i]\n",
    "            self.i+=1\n",
    "            return u\n",
    "y= Y()\n",
    "print(y.func())\n",
    "print(y.func())\n",
    "print(y.func())\n",
    "print(y.func())\n",
    "print(y.func())\n",
    "print(y.func())\n",
    "print(y.func())\n",
    "# but this won't work for external loops/  when called multiple times\n"
   ]
  },
  {
   "cell_type": "code",
   "execution_count": null,
   "metadata": {},
   "outputs": [],
   "source": []
  }
 ],
 "metadata": {
  "kernelspec": {
   "display_name": "Python 2",
   "language": "python",
   "name": "python2"
  },
  "language_info": {
   "codemirror_mode": {
    "name": "ipython",
    "version": 2
   },
   "file_extension": ".py",
   "mimetype": "text/x-python",
   "name": "python",
   "nbconvert_exporter": "python",
   "pygments_lexer": "ipython2",
   "version": "2.7.6"
  }
 },
 "nbformat": 4,
 "nbformat_minor": 0
}
