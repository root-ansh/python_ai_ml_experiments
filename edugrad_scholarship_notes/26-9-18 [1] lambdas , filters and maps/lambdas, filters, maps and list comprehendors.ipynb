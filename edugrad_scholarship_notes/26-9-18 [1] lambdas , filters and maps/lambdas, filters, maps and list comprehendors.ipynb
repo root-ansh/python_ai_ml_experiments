{
 "cells": [
  {
   "cell_type": "code",
   "execution_count": null,
   "metadata": {},
   "outputs": [],
   "source": [
    "'''lambdas are just functions shortened to \n",
    "simpler form.\n",
    "\n",
    "syntax : func_name= lambda par1,par2,... : returning_value\n",
    "\n",
    "it is equal to:\n",
    "def func_name(par1,par2,...):\n",
    "    return returning_value\n",
    "\n",
    "'''"
   ]
  },
  {
   "cell_type": "code",
   "execution_count": 8,
   "metadata": {
    "scrolled": false
   },
   "outputs": [
    {
     "name": "stdout",
     "output_type": "stream",
     "text": [
      "7\n"
     ]
    }
   ],
   "source": [
    "'''\n",
    "def add2(x,y):\n",
    "    return x+y\n",
    "'''\n",
    "add2 = lambda x,y :x+y\n",
    "\n",
    "print(add2(2,5))\n",
    "del add2\n",
    "#print(add2)"
   ]
  },
  {
   "cell_type": "code",
   "execution_count": 10,
   "metadata": {},
   "outputs": [
    {
     "name": "stdout",
     "output_type": "stream",
     "text": [
      "False\n"
     ]
    }
   ],
   "source": [
    "isXbigger =lambda x,y:x>y\n",
    "print(isXbigger(21,1111))"
   ]
  },
  {
   "cell_type": "code",
   "execution_count": null,
   "metadata": {},
   "outputs": [],
   "source": [
    "#filter is a short form of a loop applied to run a function many times for a list of inputs\n",
    "\n"
   ]
  },
  {
   "cell_type": "code",
   "execution_count": 12,
   "metadata": {},
   "outputs": [
    {
     "name": "stdout",
     "output_type": "stream",
     "text": [
      "[64, 81, 100]\n"
     ]
    }
   ],
   "source": [
    "isXgreater50 =lambda x: x>50\n",
    "\n",
    "listi=[1,4,9,16,25,36,49,64,81,100]\n",
    "val= filter(isXgreater50,listi)\n",
    "print(list(val))\n",
    "\n",
    "'''this is equal to :\n",
    "\n",
    "def isXgreater50(x):\n",
    "    return x>50\n",
    "def filter(listi):\n",
    "    l=[]\n",
    "    for i in listi:\n",
    "        if(isXgreater(i)==True):\n",
    "            l.append(i)\n",
    "    return l\n",
    "\n",
    "val =filter([1,4,9,16,25,36,49,64,81,100])\n",
    "'''"
   ]
  },
  {
   "cell_type": "code",
   "execution_count": 39,
   "metadata": {},
   "outputs": [
    {
     "name": "stdout",
     "output_type": "stream",
     "text": [
      "['ansh', 'aby', 'amy']\n",
      "[1, 4, 9, 16, 25, 36, 49, 64, 81, 100]\n",
      "=========================\n",
      "[0, 1, 2, 3, 4, 5, 6, 7, 8, 9, 10]\n",
      "[0, 1, 10, 11, 100, 101, 110, 111, 1000, 1001, 1010]\n",
      "[True, False, True, False, True, False, True, False, True, False, True]\n",
      "woohoo!,nailed it X)\n"
     ]
    }
   ],
   "source": [
    "#usually a filter work with only a function returning\n",
    "#boolean and a filterable list, bcz that's what 'filter'\n",
    "#means.\n",
    "\n",
    "a= ['ansh','aby','medusa','amy']\n",
    "\n",
    "#filter function to get a list of names starting with a\n",
    "l=list(filter(lambda s:s[0]=='a',a))\n",
    "print(l)\n",
    "\n",
    "#map is a function similar to flter but it works with functions returning values other than boolean\n",
    "a=list(range(1,11))#[1,2,3,4,5,6,7,8,9,10]\n",
    "sq=list(map(lambda x:x*x,a))\n",
    "print(sq)#[1, 4, 9, 16, 25, 36, 49, 64, 81, 100]\n",
    "\n",
    "\n",
    "#let's see if map can be used to find (1) binary equalant\n",
    "#of  given list (2) if binry equallant of them %2==0 is\n",
    "#true or not and make a list of booleans out of it\n",
    "\n",
    "l=list(range(11))\n",
    "print(\"=========================\\n\"+str(l))\n",
    "binList=list(map(lambda x:int(bin(x)[2:]),l))\n",
    "print(binList)\n",
    "\n",
    "isTrueList= list(map(lambda x:x%2==0,binList))\n",
    "print(isTrueList)\n",
    "print(\"woohoo!,nailed it X)\")\n",
    "\n"
   ]
  },
  {
   "cell_type": "code",
   "execution_count": 27,
   "metadata": {},
   "outputs": [
    {
     "data": {
      "text/plain": [
       "1111111"
      ]
     },
     "execution_count": 27,
     "metadata": {},
     "output_type": "execute_result"
    }
   ],
   "source": [
    "int(bin(127)[2:])"
   ]
  },
  {
   "cell_type": "code",
   "execution_count": 56,
   "metadata": {},
   "outputs": [
    {
     "name": "stdout",
     "output_type": "stream",
     "text": [
      "[1, 2, 3, 4, 5, 6, 7, 8, 9, 10]\n",
      "[1, 4, 9, 16, 25, 36, 49, 64, 81, 100]\n",
      "[5, 6, 7, 8, 9, 10]\n"
     ]
    }
   ],
   "source": [
    "# or , instead of map , we can simply used list comprehenders\n",
    "\n",
    "l=list(range(1,11))\n",
    "print(l)\n",
    "m=[i*i for i in l] # easy to understan in single loop\n",
    "print(m)\n",
    "\n",
    "n=[[(str(i)+'-'+str(j)) for i in l] for j in m] # weird when nested\n",
    "#print(n)\n",
    "\n",
    "o=[x for x in l if x+5>=10]\n",
    "print(o)\n"
   ]
  },
  {
   "cell_type": "code",
   "execution_count": null,
   "metadata": {},
   "outputs": [],
   "source": []
  }
 ],
 "metadata": {
  "kernelspec": {
   "display_name": "Python 3",
   "language": "python",
   "name": "python3"
  },
  "language_info": {
   "codemirror_mode": {
    "name": "ipython",
    "version": 3
   },
   "file_extension": ".py",
   "mimetype": "text/x-python",
   "name": "python",
   "nbconvert_exporter": "python",
   "pygments_lexer": "ipython3",
   "version": "3.6.5"
  }
 },
 "nbformat": 4,
 "nbformat_minor": 2
}
