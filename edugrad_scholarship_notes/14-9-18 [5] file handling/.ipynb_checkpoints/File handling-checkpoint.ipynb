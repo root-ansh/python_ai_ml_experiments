{
 "cells": [
  {
   "cell_type": "code",
   "execution_count": 1,
   "metadata": {},
   "outputs": [],
   "source": [
    "# file handling"
   ]
  },
  {
   "cell_type": "code",
   "execution_count": 27,
   "metadata": {},
   "outputs": [
    {
     "name": "stdout",
     "output_type": "stream",
     "text": [
      "<_io.TextIOWrapper name='.\\\\inputdata_folder\\\\employee_list.csv' mode='a+' encoding='cp1252'>\n",
      "['1,Anshika,Garg,Ranchi,21,Noida\\n', '2,Rohit,Awasthi,Allahabad,20,Delhi\\n']\n",
      "1,Anshika,Garg,Ranchi,21,Noida\n",
      "\n",
      "2,Rohit,Awasthi,Allahabad,20,Delhi\n",
      "\n",
      "[['1', 'Anshika', 'Garg', 'Ranchi', '21', 'Noida'], ['2', 'Rohit', 'Awasthi', 'Allahabad', '20', 'Delhi']]\n"
     ]
    }
   ],
   "source": [
    "f=open(\".\\inputdata_folder\\employee_list.csv\",'a+') # csv file = comma seperated values file\n",
    "print(f)\n",
    "f.seek(0)\n",
    "lines=f.readlines()\n",
    "print(lines)\n",
    "f.close()\n",
    "\n",
    "\n",
    "lines=[]\n",
    "\n",
    "# no need to close file handler when used with 'with open(...,..)' as handler_name\n",
    "with open(\".\\inputdata_folder\\employee_list.csv\",'r') as f:\n",
    "    for l in f:\n",
    "        print(l)# will read and print the line directly\n",
    "        #all the lines in the file cn be iterated directly using the handler!\n",
    "        lines.append(l.rstrip('\\n').split(','))\n",
    "    print(lines)\n",
    "\n",
    "    \n"
   ]
  },
  {
   "cell_type": "code",
   "execution_count": 28,
   "metadata": {},
   "outputs": [
    {
     "name": "stdout",
     "output_type": "stream",
     "text": [
      "current handler pointer position= 0\n",
      "['1', 'Anshika', 'Garg', 'Ranchi', '21', 'Noida']\n",
      "['2', 'Rohit', 'Awasthi', 'Allahabad', '20', 'Delhi']\n",
      "current handler pointer position= 2\n"
     ]
    }
   ],
   "source": [
    "import csv #similar to cursor library in android\n",
    "\n",
    "with open(\".\\inputdata_folder\\employee_list.csv\",'r') as csvFile:\n",
    "    cvReader = csv.reader(csvFile)\n",
    "    # cvReader = csv.reader(csvFile, delimeter=',') can also be used\n",
    "    print(\"current handler pointer position= %s\"%cvReader.line_num)\n",
    "    for i in cvReader:\n",
    "        print(i)# will read the line, strip the '\\n' part , and convert it to a list of entities(i.e an equalant to i.rstrip('\\n').split(','))\n",
    "    print(\"current handler pointer position= %s\"%cvReader.line_num)\n",
    "\n"
   ]
  },
  {
   "cell_type": "code",
   "execution_count": null,
   "metadata": {},
   "outputs": [],
   "source": [
    "#python can also parse json files. the "
   ]
  },
  {
   "cell_type": "code",
   "execution_count": 21,
   "metadata": {},
   "outputs": [
    {
     "name": "stdout",
     "output_type": "stream",
     "text": [
      "['ansh\\n', 'l\\n', 'm\\n', 'nn\\n']\n"
     ]
    }
   ],
   "source": [
    "l=['ansh\\n', 'l\\n','m\\n','nn\\n']\n",
    "for x in l:"
   ]
  },
  {
   "cell_type": "code",
   "execution_count": null,
   "metadata": {},
   "outputs": [],
   "source": [
    "#permission error , file not found error"
   ]
  }
 ],
 "metadata": {
  "kernelspec": {
   "display_name": "Python 3",
   "language": "python",
   "name": "python3"
  },
  "language_info": {
   "codemirror_mode": {
    "name": "ipython",
    "version": 3
   },
   "file_extension": ".py",
   "mimetype": "text/x-python",
   "name": "python",
   "nbconvert_exporter": "python",
   "pygments_lexer": "ipython3",
   "version": "3.6.5"
  }
 },
 "nbformat": 4,
 "nbformat_minor": 2
}
