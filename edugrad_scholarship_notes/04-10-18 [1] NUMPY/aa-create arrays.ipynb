{
 "cells": [
  {
   "cell_type": "code",
   "execution_count": 1,
   "metadata": {
    "collapsed": true
   },
   "outputs": [
    {
     "name": "stdout",
     "output_type": "stream",
     "text": [
      "C:\\ProgramData\\Anaconda3\\python.exe\n"
     ]
    }
   ],
   "source": [
    "import sys\n",
    "\n",
    "print(sys.executable)"
   ]
  },
  {
   "cell_type": "code",
   "execution_count": 1,
   "metadata": {
    "collapsed": true
   },
   "outputs": [
    {
     "name": "stdout",
     "output_type": "stream",
     "text": [
      "[1 2 3 4 5 6]\n"
     ]
    }
   ],
   "source": [
    "#numpy is a cool maths library\n",
    "\n",
    "import numpy as np\n",
    "array = np.array([1,2,3,4,5,6])\n",
    "print(array)\n"
   ]
  },
  {
   "cell_type": "code",
   "execution_count": 8,
   "metadata": {
    "collapsed": true
   },
   "outputs": [
    {
     "name": "stdout",
     "output_type": "stream",
     "text": [
      "[[0. 0. 0.]\n",
      " [0. 0. 0.]]\n",
      "[[[0. 0. 0.]\n",
      "  [0. 0. 0.]\n",
      "  [0. 0. 0.]]\n",
      "\n",
      " [[0. 0. 0.]\n",
      "  [0. 0. 0.]\n",
      "  [0. 0. 0.]]\n",
      "\n",
      " [[0. 0. 0.]\n",
      "  [0. 0. 0.]\n",
      "  [0. 0. 0.]]]\n"
     ]
    }
   ],
   "source": [
    "array =np.zeros((2,3)) # makes an array of  dimensions with each value =0\n",
    "print(array)\n",
    "#a2 =np.zeros((6,5,4,3,2)) # makes an array of 5  dimensions\n",
    "#print(a2)\n",
    "a3 =np.zeros((3,3,3)) # makes an array of 5  dimensions\n",
    "print(a3)\n"
   ]
  },
  {
   "cell_type": "code",
   "execution_count": 10,
   "metadata": {
    "collapsed": true
   },
   "outputs": [
    {
     "name": "stdout",
     "output_type": "stream",
     "text": [
      "[[1. 1. 1.]\n",
      " [1. 1. 1.]]\n",
      "[[[1. 1. 1.]\n",
      "  [1. 1. 1.]\n",
      "  [1. 1. 1.]]\n",
      "\n",
      " [[1. 1. 1.]\n",
      "  [1. 1. 1.]\n",
      "  [1. 1. 1.]]\n",
      "\n",
      " [[1. 1. 1.]\n",
      "  [1. 1. 1.]\n",
      "  [1. 1. 1.]]]\n"
     ]
    }
   ],
   "source": [
    "array =np.ones((2,3)) # makes an array of  dimensions\n",
    "print(array)\n",
    "#a2 =np.ones((6,5,4,3,2)) # makes an array of 5  dimensions\n",
    "#print(a2)\n",
    "a3 =np.ones((3,3,3)) # makes an array of 5  dimensions\n",
    "print(a3)\n"
   ]
  },
  {
   "cell_type": "code",
   "execution_count": 13,
   "metadata": {
    "collapsed": true
   },
   "outputs": [
    {
     "name": "stdout",
     "output_type": "stream",
     "text": [
      "[[1 1 1]\n",
      " [1 1 1]]\n"
     ]
    }
   ],
   "source": [
    "# we can add other datatypes too\n",
    "a =np.ones((2,3),dtype=np.int16)  # we implied that every element should be a 16 bit integer\n",
    "print(a)\n"
   ]
  },
  {
   "cell_type": "code",
   "execution_count": 15,
   "metadata": {
    "collapsed": true
   },
   "outputs": [
    {
     "name": "stdout",
     "output_type": "stream",
     "text": [
      "[[1. 1. 1.]\n",
      " [1. 1. 1.]]\n"
     ]
    }
   ],
   "source": [
    "#another way to initialise\n",
    "b= np.empty((2,3))\n",
    "print(b)"
   ]
  },
  {
   "cell_type": "code",
   "execution_count": 16,
   "metadata": {
    "collapsed": true
   },
   "outputs": [
    {
     "name": "stdout",
     "output_type": "stream",
     "text": [
      "[[1. 0. 0. 0.]\n",
      " [0. 1. 0. 0.]\n",
      " [0. 0. 1. 0.]\n",
      " [0. 0. 0. 1.]]\n"
     ]
    }
   ],
   "source": [
    "#diagonal matrix( ony diagonal has the values)\n",
    "diag=np.eye(4) # this always makes a sq matrix\n",
    "print(diag)\n"
   ]
  },
  {
   "cell_type": "code",
   "execution_count": 2,
   "metadata": {
    "collapsed": true
   },
   "outputs": [
    {
     "name": "stdout",
     "output_type": "stream",
     "text": [
      "[ 0  5 10 15 20 25 30 35 40 45]\n[0.   0.01 0.02 0.03 0.04 0.05 0.06 0.07 0.08 0.09 0.1  0.11 0.12 0.13\n 0.14 0.15 0.16 0.17 0.18 0.19 0.2  0.21 0.22 0.23 0.24 0.25 0.26 0.27\n 0.28 0.29 0.3  0.31 0.32 0.33 0.34 0.35 0.36 0.37 0.38 0.39 0.4  0.41\n 0.42 0.43 0.44 0.45 0.46 0.47 0.48 0.49 0.5  0.51 0.52 0.53 0.54 0.55\n 0.56 0.57 0.58 0.59 0.6  0.61 0.62 0.63 0.64 0.65 0.66 0.67 0.68 0.69\n 0.7  0.71 0.72 0.73 0.74 0.75 0.76 0.77 0.78 0.79 0.8  0.81 0.82 0.83\n 0.84 0.85 0.86 0.87 0.88 0.89 0.9  0.91 0.92 0.93 0.94 0.95 0.96 0.97\n 0.98 0.99 1.   1.01 1.02 1.03 1.04 1.05 1.06 1.07 1.08 1.09 1.1  1.11\n 1.12 1.13 1.14 1.15 1.16 1.17 1.18 1.19 1.2  1.21 1.22 1.23 1.24 1.25\n 1.26 1.27 1.28 1.29 1.3  1.31 1.32 1.33 1.34 1.35 1.36 1.37 1.38 1.39\n 1.4  1.41 1.42 1.43 1.44 1.45 1.46 1.47 1.48 1.49 1.5  1.51 1.52 1.53\n 1.54 1.55 1.56 1.57 1.58 1.59 1.6  1.61 1.62 1.63 1.64 1.65 1.66 1.67\n 1.68 1.69 1.7  1.71 1.72 1.73 1.74 1.75 1.76 1.77 1.78 1.79 1.8  1.81\n 1.82 1.83 1.84 1.85 1.86 1.87 1.88 1.89 1.9  1.91 1.92 1.93 1.94 1.95\n 1.96 1.97 1.98 1.99]\n[  0   1   4   9  16  25  36  49  64  81 100 121 144]\n"
     ]
    }
   ],
   "source": [
    "# numpy has its own range function called arange[a,b,c]\n",
    "#but unlike range() of py3, it returns a numpy array instead of iterator\n",
    "n= np.arange(0,50,5) # list of all numbers <=49 divisible by 5\n",
    "print(n)\n",
    "\n",
    "#its more cooler tha usual range , because it can take decimal  step too\n",
    "n2= np.arange(0,2,0.01)# all numbers <=1.99\n",
    "print(n2)\n",
    "\n",
    "n3= np.arange((13))**2\n",
    "print(n3)\n"
   ]
  },
  {
   "cell_type": "code",
   "execution_count": 21,
   "metadata": {
    "collapsed": true
   },
   "outputs": [
    {
     "name": "stdout",
     "output_type": "stream",
     "text": [
      "[[1 1 1]\n",
      " [2 2 2]\n",
      " [3 3 3]]\n"
     ]
    }
   ],
   "source": [
    "# we can create multi dimensional arrays manually using array([[]])\n",
    "a= np.array(([1,1,1],[2,2,2],[3,3,3]))\n",
    "print(a)"
   ]
  },
  {
   "cell_type": "code",
   "execution_count": 24,
   "metadata": {
    "collapsed": true
   },
   "outputs": [
    {
     "name": "stdout",
     "output_type": "stream",
     "text": [
      "(3, 3)\n"
     ]
    }
   ],
   "source": [
    "# we can get dimensions using shape property\n",
    "print(a.shape)\n"
   ]
  },
  {
   "cell_type": "code",
   "execution_count": 4,
   "metadata": {
    "collapsed": true
   },
   "outputs": [
    {
     "name": "stdout",
     "output_type": "stream",
     "text": [
      "[0 1 2 3 4 5]\n[[0 1 2]\n [3 4 5]]\n[0 1 2 3 4 5 6 7 8 9]\n[[0 1]\n [2 3]\n [4 5]\n [6 7]\n [8 9]]\n"
     ]
    }
   ],
   "source": [
    "#reshape is a function that converts a 1d numpy-array to multi dimensional array\n",
    "# syntax : reshape(np_arr)--> np_arr\n",
    "a= np.arange(6)\n",
    "print(a)\n",
    "b=a.reshape(2,3)\n",
    "print(b)\n",
    "\n",
    "\"\"\"\n",
    "if an array of dimensions a1,a2...an has the product of dimensions as X ,\n",
    "i.e X=a1*a2*a3*a4*...*an ,and it is being reshaped into another array of \n",
    "dimensions p1,p2,p3...pn, then:\n",
    "p1*p2*...*pn == X == a1*a2*a3*..an\n",
    "\n",
    "or simply , the product of new dimensions must be equal to total elements\n",
    "in old array (or product of old array's dimensions)\n",
    "\"\"\"\n",
    "a=np.arange(10)\n",
    "print(a)\n",
    "\n",
    "b=a.reshape(5,2) #correct , since 10==5*2\n",
    "print(b)\n",
    "\n",
    "#c=a.reshape(3,4) #wrong\n",
    "#print(c)"
   ]
  },
  {
   "cell_type": "code",
   "execution_count": 29,
   "metadata": {
    "collapsed": false
   },
   "outputs": [
    {
     "name": "stdout",
     "output_type": "stream",
     "text": [
      ">>> array([['raj', 'goa', 'shimla', 'manali', 'delhi'],\n       ['jai', 'dis', 'panaji', 'shimla', 'delhi']], dtype='<U6')\n[['raj' 'jai']\n ['goa' 'dis']\n ['shimla' 'panaji']\n ['manali' 'shimla']\n ['delhi' 'delhi']]\n['raj' 'goa' 'shimla' 'manali' 'delhi' 'jai' 'dis' 'panaji' 'shimla'\n 'delhi']\n[['raj' 'goa' 'shimla' 'manali' 'delhi']\n ['jai' 'dis' 'panaji' 'shimla' 'delhi']]\n[['raj' 'goa']\n ['shimla' 'manali']\n ['delhi' 'jai']\n ['dis' 'panaji']\n ['shimla' 'delhi']]\n"
     ]
    }
   ],
   "source": [
    "#[6-10-18] more on reshaping()                                                                                                             \n",
    "#1) transposing\n",
    "x=[\n",
    "    ['raj','goa','shimla','manali','delhi'],\n",
    "    ['jai','dis','panaji','shimla','delhi']\n",
    "]\n",
    "arr = np.array(x)\n",
    "print('>>>',arr.__repr__())\n",
    "#print(arr.shape)\n",
    "\n",
    "transpose=arr.T #returns a transpose matrix\n",
    "print(transpose)\n",
    "#print(transpose.shape)\n",
    "\n",
    "# 2)reshaping an numpy array into 2d mtrix when total elements are unknow, but we know how many columns/rows are needed\n",
    "#   ans: use -1 for unknown index. but be warned , other index should be following the rehaping rule\n",
    "\n",
    "arr=np.array(x).flatten()\n",
    "print(arr)\n",
    "arr=arr.reshape(-1,5)\n",
    "print(arr)\n",
    "print(arr.reshape(5,-1))\n"
   ]
  },
  {
   "cell_type": "code",
   "execution_count": 20,
   "metadata": {
    "collapsed": true
   },
   "outputs": [
    {
     "name": "stdout",
     "output_type": "stream",
     "text": [
      "[[0 1 2]\n [3 4 5]\n [6 7 8]]\n[0 1 2 3 4 5 6 7 8]\n[[[[ 0]\n   [ 1]]\n\n  [[ 2]\n   [ 3]]\n\n  [[ 4]\n   [ 5]]]\n\n\n [[[ 6]\n   [ 7]]\n\n  [[ 8]\n   [ 9]]\n\n  [[10]\n   [11]]]\n\n\n [[[12]\n   [13]]\n\n  [[14]\n   [15]]\n\n  [[16]\n   [17]]]\n\n\n [[[18]\n   [19]]\n\n  [[20]\n   [21]]\n\n  [[22]\n   [23]]]]\n[ 0  1  2  3  4  5  6  7  8  9 10 11 12 13 14 15 16 17 18 19 20 21 22 23]\n[[[[ 0]\n   [ 1]]\n\n  [[ 2]\n   [ 3]]\n\n  [[ 4]\n   [ 5]]]\n\n\n [[[ 6]\n   [ 7]]\n\n  [[ 8]\n   [ 9]]\n\n  [[10]\n   [11]]]\n\n\n [[[12]\n   [13]]\n\n  [[14]\n   [15]]\n\n  [[16]\n   [17]]]\n\n\n [[[18]\n   [19]]\n\n  [[20]\n   [21]]\n\n  [[22]\n   [23]]]]\n>>> [ 0  1  2  3  4  5  6  7  8  9 10 11 12 13 14 15 16 17 18 19 20 21 22 23]\n>>> [[[[ 0]\n   [ 1]]\n\n  [[ 2]\n   [ 3]]\n\n  [[ 4]\n   [ 5]]]\n\n\n [[[ 6]\n   [ 7]]\n\n  [[ 8]\n   [ 9]]\n\n  [[10]\n   [11]]]\n\n\n [[[12]\n   [13]]\n\n  [[14]\n   [15]]\n\n  [[16]\n   [17]]]\n\n\n [[[18]\n   [19]]\n\n  [[20]\n   [21]]\n\n  [[22]\n   [23]]]]\n"
     ]
    }
   ],
   "source": [
    "# reverse of reshape is flatten\n",
    "# it flattens the elements row-wise\n",
    "a = np.arange(9).reshape(3, 3)\n",
    "print(a)  # very big\n",
    "a = a.flatten()\n",
    "print(a)\n",
    "\n",
    "\n",
    "a = np.arange(24).reshape(4, 3, 2, 1)\n",
    "print(a)  # very big\n",
    "b = a.flatten()\n",
    "print(b) #but a does not change\n",
    "#print(a)\n",
    "\n",
    "#another efficient method is ravel()\n",
    "x=a.ravel()\n",
    "print('>>>',x)\n",
    "print('>>>',a)\n"
   ]
  },
  {
   "cell_type": "code",
   "execution_count": 31,
   "metadata": {
    "collapsed": true
   },
   "outputs": [
    {
     "name": "stdout",
     "output_type": "stream",
     "text": [
      "120\n[[[[[  0   1]\n    [  2   3]\n    [  4   5]]\n\n   [[  6   7]\n    [  8   9]\n    [ 10  11]]\n\n   [[ 12  13]\n    [ 14  15]\n    [ 16  17]]\n\n   [[ 18  19]\n    [ 20  21]\n    [ 22  23]]\n\n   [[ 24  25]\n    [ 26  27]\n    [ 28  29]]]\n\n\n  [[[ 30  31]\n    [ 32  33]\n    [ 34  35]]\n\n   [[ 36  37]\n    [ 38  39]\n    [ 40  41]]\n\n   [[ 42  43]\n    [ 44  45]\n    [ 46  47]]\n\n   [[ 48  49]\n    [ 50  51]\n    [ 52  53]]\n\n   [[ 54  55]\n    [ 56  57]\n    [ 58  59]]]]\n\n\n\n [[[[ 60  61]\n    [ 62  63]\n    [ 64  65]]\n\n   [[ 66  67]\n    [ 68  69]\n    [ 70  71]]\n\n   [[ 72  73]\n    [ 74  75]\n    [ 76  77]]\n\n   [[ 78  79]\n    [ 80  81]\n    [ 82  83]]\n\n   [[ 84  85]\n    [ 86  87]\n    [ 88  89]]]\n\n\n  [[[ 90  91]\n    [ 92  93]\n    [ 94  95]]\n\n   [[ 96  97]\n    [ 98  99]\n    [100 101]]\n\n   [[102 103]\n    [104 105]\n    [106 107]]\n\n   [[108 109]\n    [110 111]\n    [112 113]]\n\n   [[114 115]\n    [116 117]\n    [118 119]]]]]\n"
     ]
    }
   ],
   "source": [
    "#to get total elements of a matrix of unknown size or dimensions, function is narray.size                 \n",
    "arr=np.arange(120).reshape(2,2,5,3,2)\n",
    "print(arr.size)\n",
    "print(arr)\n"
   ]
  },
  {
   "cell_type": "code",
   "execution_count": 41,
   "metadata": {
    "scrolled": true,
    "collapsed": true
   },
   "outputs": [
    {
     "name": "stdout",
     "output_type": "stream",
     "text": [
      "[[[ 0  2  4]\n",
      "  [ 6  8 10]\n",
      "  [12 14 16]]\n",
      "\n",
      " [[18 20 22]\n",
      "  [24 26 28]\n",
      "  [30 32 34]]\n",
      "\n",
      " [[36 38 40]\n",
      "  [42 44 46]\n",
      "  [48 50 52]]]\n",
      "[[[1 1 1]\n",
      "  [1 1 1]\n",
      "  [1 1 1]]\n",
      "\n",
      " [[1 1 1]\n",
      "  [1 1 1]\n",
      "  [1 1 1]]\n",
      "\n",
      " [[1 1 1]\n",
      "  [1 1 1]\n",
      "  [1 1 1]]]\n"
     ]
    }
   ],
   "source": [
    "a=np.arange(0,54,2).reshape(3,3,3)\n",
    "print(a)\n",
    "b=np.ones_like(a) # will create b with same dimensions as that of a , but with only 1's\n",
    "print(b)\n"
   ]
  },
  {
   "cell_type": "code",
   "execution_count": 30,
   "metadata": {
    "collapsed": true
   },
   "outputs": [
    {
     "name": "stdout",
     "output_type": "stream",
     "text": [
      "[[[ 0  2  4]\n  [ 6  8 10]\n  [12 14 16]]\n\n [[18 20 22]\n  [24 26 28]\n  [30 32 34]]\n\n [[36 38 40]\n  [42 44 46]\n  [48 50 52]]]\n[[[0 0 0]\n  [0 0 0]\n  [0 0 0]]\n\n [[0 0 0]\n  [0 0 0]\n  [0 0 0]]\n\n [[0 0 0]\n  [0 0 0]\n  [0 0 0]]]\n"
     ]
    }
   ],
   "source": [
    "a=np.arange(0,54,2).reshape(3,3,3)\n",
    "print(a)\n",
    "b=np.empty_like(a) # will create b with same dimensions as that of a , but with only 0's\n",
    "print(b)\n"
   ]
  },
  {
   "cell_type": "code",
   "execution_count": null,
   "metadata": {},
   "outputs": [],
   "source": []
  }
 ],
 "metadata": {
  "kernelspec": {
   "display_name": "Python 3",
   "language": "python",
   "name": "python3"
  },
  "language_info": {
   "codemirror_mode": {
    "name": "ipython",
    "version": 3
   },
   "file_extension": ".py",
   "mimetype": "text/x-python",
   "name": "python",
   "nbconvert_exporter": "python",
   "pygments_lexer": "ipython3",
   "version": "3.6.6"
  }
 },
 "nbformat": 4,
 "nbformat_minor": 2
}
