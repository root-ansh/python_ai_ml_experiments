{
 "cells": [
  {
   "cell_type": "code",
   "execution_count": 2,
   "metadata": {
    "collapsed": true
   },
   "outputs": [
    {
     "name": "stdout",
     "output_type": "stream",
     "text": [
      "python version :3.6.6 |Anaconda custom (64-bit)| (default, Jun 28 2018, 11:27:44) [MSC v.1900 64 bit (AMD64)]\npandas version :0.23.4\nnumpy version :1.15.1\n"
     ]
    }
   ],
   "source": [
    "import sys\n",
    "import pandas as pd\n",
    "import numpy as np\n",
    "\n",
    "print('python version :' + sys.version)\n",
    "print('pandas version :' + pd.__version__) # its version is hidden\n",
    "print('numpy version :' + np.__version__) # its version is hidden\n"
   ]
  },
  {
   "cell_type": "code",
   "execution_count": 3,
   "metadata": {
    "collapsed": true
   },
   "outputs": [
    {
     "name": "stdout",
     "output_type": "stream",
     "text": [
      ">>> <class 'pandas.core.frame.DataFrame'> \n>>>\n                                  Model   MPG  Cylinders  Displacement  \\\n0            chevrolet chevelle malibu  18.0          8         307.0   \n1                    buick skylark 320  15.0          8         350.0   \n2                   plymouth satellite  18.0          8         318.0   \n3                        amc rebel sst  16.0          8         304.0   \n4                          ford torino  17.0          8         302.0   \n5                     ford galaxie 500  15.0          8         429.0   \n6                     chevrolet impala  14.0          8         454.0   \n7                    plymouth fury iii  14.0          8         440.0   \n8                     pontiac catalina  14.0          8         455.0   \n9                   amc ambassador dpl  15.0          8         390.0   \n10                 dodge challenger se  15.0          8         383.0   \n11                  plymouth 'cuda 340  14.0          8         340.0   \n12               chevrolet monte carlo  15.0          8         400.0   \n13             buick estate wagon (sw)  14.0          8         455.0   \n14               toyota corona mark ii  24.0          4         113.0   \n15                     plymouth duster  22.0          6         198.0   \n16                          amc hornet  18.0          6         199.0   \n17                       ford maverick  21.0          6         200.0   \n18                        datsun pl510  27.0          4          97.0   \n19        volkswagen 1131 deluxe sedan  26.0          4          97.0   \n20                         peugeot 504  25.0          4         110.0   \n21                         audi 100 ls  24.0          4         107.0   \n22                            saab 99e  25.0          4         104.0   \n23                            bmw 2002  26.0          4         121.0   \n24                         amc gremlin  21.0          6         199.0   \n25                           ford f250  10.0          8         360.0   \n26                           chevy c20  10.0          8         307.0   \n27                          dodge d200  11.0          8         318.0   \n28                            hi 1200d   9.0          8         304.0   \n29                        datsun pl510  27.0          4          97.0   \n..                                 ...   ...        ...           ...   \n364           chevrolet cavalier wagon  27.0          4         112.0   \n365          chevrolet cavalier 2-door  34.0          4         112.0   \n366         pontiac j2000 se hatchback  31.0          4         112.0   \n367                     dodge aries se  29.0          4         135.0   \n368                    pontiac phoenix  27.0          4         151.0   \n369               ford fairmont futura  24.0          4         140.0   \n370                     amc concord dl  23.0          4         151.0   \n371                volkswagen rabbit l  36.0          4         105.0   \n372                 mazda glc custom l  37.0          4          91.0   \n373                   mazda glc custom  31.0          4          91.0   \n374             plymouth horizon miser  38.0          4         105.0   \n375                     mercury lynx l  36.0          4          98.0   \n376                   nissan stanza xe  36.0          4         120.0   \n377                       honda accord  36.0          4         107.0   \n378                     toyota corolla  34.0          4         108.0   \n379                        honda civic  38.0          4          91.0   \n380                 honda civic (auto)  32.0          4          91.0   \n381                      datsun 310 gx  38.0          4          91.0   \n382              buick century limited  25.0          6         181.0   \n383  oldsmobile cutlass ciera (diesel)  38.0          6         262.0   \n384         chrysler lebaron medallion  26.0          4         156.0   \n385                     ford granada l  22.0          6         232.0   \n386                   toyota celica gt  32.0          4         144.0   \n387                  dodge charger 2.2  36.0          4         135.0   \n388                   chevrolet camaro  27.0          4         151.0   \n389                    ford mustang gl  27.0          4         140.0   \n390                          vw pickup  44.0          4          97.0   \n391                      dodge rampage  32.0          4         135.0   \n392                        ford ranger  28.0          4         120.0   \n393                         chevy s-10  31.0          4         119.0   \n\n     Horsepower  Weight  Acceleration  Year  Origin  \n0         130.0    3504          12.0    70      US  \n1         165.0    3693          11.5    70      US  \n2         150.0    3436          11.0    70      US  \n3         150.0    3433          12.0    70      US  \n4         140.0    3449          10.5    70      US  \n5         198.0    4341          10.0    70      US  \n6         220.0    4354           9.0    70      US  \n7         215.0    4312           8.5    70      US  \n8         225.0    4425          10.0    70      US  \n9         190.0    3850           8.5    70      US  \n10        170.0    3563          10.0    70      US  \n11        160.0    3609           8.0    70      US  \n12        150.0    3761           9.5    70      US  \n13        225.0    3086          10.0    70      US  \n14         95.0    2372          15.0    70   Japan  \n15         95.0    2833          15.5    70      US  \n16         97.0    2774          15.5    70      US  \n17         85.0    2587          16.0    70      US  \n18         88.0    2130          14.5    70   Japan  \n19         46.0    1835          20.5    70  Europe  \n20         87.0    2672          17.5    70  Europe  \n21         90.0    2430          14.5    70  Europe  \n22         95.0    2375          17.5    70  Europe  \n23        113.0    2234          12.5    70  Europe  \n24         90.0    2648          15.0    70      US  \n25        215.0    4615          14.0    70      US  \n26        200.0    4376          15.0    70      US  \n27        210.0    4382          13.5    70      US  \n28        193.0    4732          18.5    70      US  \n29         88.0    2130          14.5    71   Japan  \n..          ...     ...           ...   ...     ...  \n364        88.0    2640          18.6    82      US  \n365        88.0    2395          18.0    82      US  \n366        85.0    2575          16.2    82      US  \n367        84.0    2525          16.0    82      US  \n368        90.0    2735          18.0    82      US  \n369        92.0    2865          16.4    82      US  \n370         NaN    3035          20.5    82      US  \n371        74.0    1980          15.3    82  Europe  \n372        68.0    2025          18.2    82   Japan  \n373        68.0    1970          17.6    82   Japan  \n374        63.0    2125          14.7    82      US  \n375        70.0    2125          17.3    82      US  \n376        88.0    2160          14.5    82   Japan  \n377        75.0    2205          14.5    82   Japan  \n378        70.0    2245          16.9    82   Japan  \n379        67.0    1965          15.0    82   Japan  \n380        67.0    1965          15.7    82   Japan  \n381        67.0    1995          16.2    82   Japan  \n382       110.0    2945          16.4    82      US  \n383        85.0    3015          17.0    82      US  \n384        92.0    2585          14.5    82      US  \n385       112.0    2835          14.7    82      US  \n386        96.0    2665          13.9    82   Japan  \n387        84.0    2370          13.0    82      US  \n388        90.0    2950          17.3    82      US  \n389        86.0    2790          15.6    82      US  \n390        52.0    2130          24.6    82  Europe  \n391        84.0    2295          11.6    82      US  \n392        79.0    2625          18.6    82      US  \n393        82.0    2720          19.4    82      US  \n\n[394 rows x 9 columns]\n"
     ]
    }
   ],
   "source": [
    "filename = r'C:\\Users\\anshs\\00ANSH_PYTHON\\04-10-18 [1] NUMPY\\PANDAS\\cars.csv'\n",
    "\n",
    "table = pd.read_csv(filename)\n",
    "print(\">>>\", type(table), '\\n>>>\\n', table)\n"
   ]
  },
  {
   "cell_type": "code",
   "execution_count": 4,
   "metadata": {
    "collapsed": true
   },
   "outputs": [
    {
     "name": "stdout",
     "output_type": "stream",
     "text": [
      "                                  Model   MPG  Cylinders  Displacement  \\\n0a            chevrolet chevelle malibu  18.0          8         307.0   \n1a                    buick skylark 320  15.0          8         350.0   \n2a                   plymouth satellite  18.0          8         318.0   \n3a                        amc rebel sst  16.0          8         304.0   \n4a                          ford torino  17.0          8         302.0   \n5a                     ford galaxie 500  15.0          8         429.0   \n6a                     chevrolet impala  14.0          8         454.0   \n7a                    plymouth fury iii  14.0          8         440.0   \n8a                     pontiac catalina  14.0          8         455.0   \n9a                   amc ambassador dpl  15.0          8         390.0   \n10a                 dodge challenger se  15.0          8         383.0   \n11a                  plymouth 'cuda 340  14.0          8         340.0   \n12a               chevrolet monte carlo  15.0          8         400.0   \n13a             buick estate wagon (sw)  14.0          8         455.0   \n14a               toyota corona mark ii  24.0          4         113.0   \n15a                     plymouth duster  22.0          6         198.0   \n16a                          amc hornet  18.0          6         199.0   \n17a                       ford maverick  21.0          6         200.0   \n18a                        datsun pl510  27.0          4          97.0   \n19a        volkswagen 1131 deluxe sedan  26.0          4          97.0   \n20a                         peugeot 504  25.0          4         110.0   \n21a                         audi 100 ls  24.0          4         107.0   \n22a                            saab 99e  25.0          4         104.0   \n23a                            bmw 2002  26.0          4         121.0   \n24a                         amc gremlin  21.0          6         199.0   \n25a                           ford f250  10.0          8         360.0   \n26a                           chevy c20  10.0          8         307.0   \n27a                          dodge d200  11.0          8         318.0   \n28a                            hi 1200d   9.0          8         304.0   \n29a                        datsun pl510  27.0          4          97.0   \n...                                 ...   ...        ...           ...   \n364a           chevrolet cavalier wagon  27.0          4         112.0   \n365a          chevrolet cavalier 2-door  34.0          4         112.0   \n366a         pontiac j2000 se hatchback  31.0          4         112.0   \n367a                     dodge aries se  29.0          4         135.0   \n368a                    pontiac phoenix  27.0          4         151.0   \n369a               ford fairmont futura  24.0          4         140.0   \n370a                     amc concord dl  23.0          4         151.0   \n371a                volkswagen rabbit l  36.0          4         105.0   \n372a                 mazda glc custom l  37.0          4          91.0   \n373a                   mazda glc custom  31.0          4          91.0   \n374a             plymouth horizon miser  38.0          4         105.0   \n375a                     mercury lynx l  36.0          4          98.0   \n376a                   nissan stanza xe  36.0          4         120.0   \n377a                       honda accord  36.0          4         107.0   \n378a                     toyota corolla  34.0          4         108.0   \n379a                        honda civic  38.0          4          91.0   \n380a                 honda civic (auto)  32.0          4          91.0   \n381a                      datsun 310 gx  38.0          4          91.0   \n382a              buick century limited  25.0          6         181.0   \n383a  oldsmobile cutlass ciera (diesel)  38.0          6         262.0   \n384a         chrysler lebaron medallion  26.0          4         156.0   \n385a                     ford granada l  22.0          6         232.0   \n386a                   toyota celica gt  32.0          4         144.0   \n387a                  dodge charger 2.2  36.0          4         135.0   \n388a                   chevrolet camaro  27.0          4         151.0   \n389a                    ford mustang gl  27.0          4         140.0   \n390a                          vw pickup  44.0          4          97.0   \n391a                      dodge rampage  32.0          4         135.0   \n392a                        ford ranger  28.0          4         120.0   \n393a                         chevy s-10  31.0          4         119.0   \n\n      Horsepower  Weight  Acceleration  Year  Origin  \n0a         130.0    3504          12.0    70      US  \n1a         165.0    3693          11.5    70      US  \n2a         150.0    3436          11.0    70      US  \n3a         150.0    3433          12.0    70      US  \n4a         140.0    3449          10.5    70      US  \n5a         198.0    4341          10.0    70      US  \n6a         220.0    4354           9.0    70      US  \n7a         215.0    4312           8.5    70      US  \n8a         225.0    4425          10.0    70      US  \n9a         190.0    3850           8.5    70      US  \n10a        170.0    3563          10.0    70      US  \n11a        160.0    3609           8.0    70      US  \n12a        150.0    3761           9.5    70      US  \n13a        225.0    3086          10.0    70      US  \n14a         95.0    2372          15.0    70   Japan  \n15a         95.0    2833          15.5    70      US  \n16a         97.0    2774          15.5    70      US  \n17a         85.0    2587          16.0    70      US  \n18a         88.0    2130          14.5    70   Japan  \n19a         46.0    1835          20.5    70  Europe  \n20a         87.0    2672          17.5    70  Europe  \n21a         90.0    2430          14.5    70  Europe  \n22a         95.0    2375          17.5    70  Europe  \n23a        113.0    2234          12.5    70  Europe  \n24a         90.0    2648          15.0    70      US  \n25a        215.0    4615          14.0    70      US  \n26a        200.0    4376          15.0    70      US  \n27a        210.0    4382          13.5    70      US  \n28a        193.0    4732          18.5    70      US  \n29a         88.0    2130          14.5    71   Japan  \n...          ...     ...           ...   ...     ...  \n364a        88.0    2640          18.6    82      US  \n365a        88.0    2395          18.0    82      US  \n366a        85.0    2575          16.2    82      US  \n367a        84.0    2525          16.0    82      US  \n368a        90.0    2735          18.0    82      US  \n369a        92.0    2865          16.4    82      US  \n370a         NaN    3035          20.5    82      US  \n371a        74.0    1980          15.3    82  Europe  \n372a        68.0    2025          18.2    82   Japan  \n373a        68.0    1970          17.6    82   Japan  \n374a        63.0    2125          14.7    82      US  \n375a        70.0    2125          17.3    82      US  \n376a        88.0    2160          14.5    82   Japan  \n377a        75.0    2205          14.5    82   Japan  \n378a        70.0    2245          16.9    82   Japan  \n379a        67.0    1965          15.0    82   Japan  \n380a        67.0    1965          15.7    82   Japan  \n381a        67.0    1995          16.2    82   Japan  \n382a       110.0    2945          16.4    82      US  \n383a        85.0    3015          17.0    82      US  \n384a        92.0    2585          14.5    82      US  \n385a       112.0    2835          14.7    82      US  \n386a        96.0    2665          13.9    82   Japan  \n387a        84.0    2370          13.0    82      US  \n388a        90.0    2950          17.3    82      US  \n389a        86.0    2790          15.6    82      US  \n390a        52.0    2130          24.6    82  Europe  \n391a        84.0    2295          11.6    82      US  \n392a        79.0    2625          18.6    82      US  \n393a        82.0    2720          19.4    82      US  \n\n[394 rows x 9 columns]\n"
     ]
    }
   ],
   "source": [
    "# replacing all indexes\n",
    "\n",
    "# non unique values.,\n",
    "\"\"\"\n",
    "\n",
    "# possible  but renders the property of dual access nearly useless\n",
    "lotsofa = 'a' * len(table)\n",
    "table.index = list(lotsofa)  #['a','a','a',...]\n",
    "# print(table)\n",
    "print(table.loc['a'])  # this becomes similar to calling complete table. single row can't be called now.\n",
    "\n",
    "\"\"\"\n",
    "\n",
    "# with unique values\n",
    "curr_index =list(table.index)\n",
    "new_index = list((str(i)+'a') for i in curr_index)\n",
    "# print(new_index)\n",
    "table.index=new_index\n",
    "print(table)"
   ]
  },
  {
   "cell_type": "code",
   "execution_count": 5,
   "metadata": {
    "collapsed": true
   },
   "outputs": [
    {
     "name": "stdout",
     "output_type": "stream",
     "text": [
      "                                 Model   MPG  Cylinders  Displacement  \\\n0            chevrolet chevelle malibu  18.0          8         307.0   \n1                    buick skylark 320  15.0          8         350.0   \n2                   plymouth satellite  18.0          8         318.0   \n3                        amc rebel sst  16.0          8         304.0   \n4                          ford torino  17.0          8         302.0   \n5                     ford galaxie 500  15.0          8         429.0   \n6                     chevrolet impala  14.0          8         454.0   \n7                    plymouth fury iii  14.0          8         440.0   \n8                     pontiac catalina  14.0          8         455.0   \n9                   amc ambassador dpl  15.0          8         390.0   \n10                 dodge challenger se  15.0          8         383.0   \n11                  plymouth 'cuda 340  14.0          8         340.0   \n12               chevrolet monte carlo  15.0          8         400.0   \n13             buick estate wagon (sw)  14.0          8         455.0   \n14               toyota corona mark ii  24.0          4         113.0   \n15                     plymouth duster  22.0          6         198.0   \n16                          amc hornet  18.0          6         199.0   \n17                       ford maverick  21.0          6         200.0   \n18                        datsun pl510  27.0          4          97.0   \n19        volkswagen 1131 deluxe sedan  26.0          4          97.0   \n20                         peugeot 504  25.0          4         110.0   \n21                         audi 100 ls  24.0          4         107.0   \n22                            saab 99e  25.0          4         104.0   \n23                            bmw 2002  26.0          4         121.0   \n24                         amc gremlin  21.0          6         199.0   \n25                           ford f250  10.0          8         360.0   \n26                           chevy c20  10.0          8         307.0   \n27                          dodge d200  11.0          8         318.0   \n28                            hi 1200d   9.0          8         304.0   \n29                        datsun pl510  27.0          4          97.0   \n..                                 ...   ...        ...           ...   \n364           chevrolet cavalier wagon  27.0          4         112.0   \n365          chevrolet cavalier 2-door  34.0          4         112.0   \n366         pontiac j2000 se hatchback  31.0          4         112.0   \n367                     dodge aries se  29.0          4         135.0   \n368                    pontiac phoenix  27.0          4         151.0   \n369               ford fairmont futura  24.0          4         140.0   \n370                     amc concord dl  23.0          4         151.0   \n371                volkswagen rabbit l  36.0          4         105.0   \n372                 mazda glc custom l  37.0          4          91.0   \n373                   mazda glc custom  31.0          4          91.0   \n374             plymouth horizon miser  38.0          4         105.0   \n375                     mercury lynx l  36.0          4          98.0   \n376                   nissan stanza xe  36.0          4         120.0   \n377                       honda accord  36.0          4         107.0   \n378                     toyota corolla  34.0          4         108.0   \n379                        honda civic  38.0          4          91.0   \n380                 honda civic (auto)  32.0          4          91.0   \n381                      datsun 310 gx  38.0          4          91.0   \n382              buick century limited  25.0          6         181.0   \n383  oldsmobile cutlass ciera (diesel)  38.0          6         262.0   \n384         chrysler lebaron medallion  26.0          4         156.0   \n385                     ford granada l  22.0          6         232.0   \n386                   toyota celica gt  32.0          4         144.0   \n387                  dodge charger 2.2  36.0          4         135.0   \n388                   chevrolet camaro  27.0          4         151.0   \n389                    ford mustang gl  27.0          4         140.0   \n390                          vw pickup  44.0          4          97.0   \n391                      dodge rampage  32.0          4         135.0   \n392                        ford ranger  28.0          4         120.0   \n393                         chevy s-10  31.0          4         119.0   \n\n     Horsepower  Weight  Acceleration  Year  Origin  \n0         130.0    3504          12.0    70      US  \n1         165.0    3693          11.5    70      US  \n2         150.0    3436          11.0    70      US  \n3         150.0    3433          12.0    70      US  \n4         140.0    3449          10.5    70      US  \n5         198.0    4341          10.0    70      US  \n6         220.0    4354           9.0    70      US  \n7         215.0    4312           8.5    70      US  \n8         225.0    4425          10.0    70      US  \n9         190.0    3850           8.5    70      US  \n10        170.0    3563          10.0    70      US  \n11        160.0    3609           8.0    70      US  \n12        150.0    3761           9.5    70      US  \n13        225.0    3086          10.0    70      US  \n14         95.0    2372          15.0    70   Japan  \n15         95.0    2833          15.5    70      US  \n16         97.0    2774          15.5    70      US  \n17         85.0    2587          16.0    70      US  \n18         88.0    2130          14.5    70   Japan  \n19         46.0    1835          20.5    70  Europe  \n20         87.0    2672          17.5    70  Europe  \n21         90.0    2430          14.5    70  Europe  \n22         95.0    2375          17.5    70  Europe  \n23        113.0    2234          12.5    70  Europe  \n24         90.0    2648          15.0    70      US  \n25        215.0    4615          14.0    70      US  \n26        200.0    4376          15.0    70      US  \n27        210.0    4382          13.5    70      US  \n28        193.0    4732          18.5    70      US  \n29         88.0    2130          14.5    71   Japan  \n..          ...     ...           ...   ...     ...  \n364        88.0    2640          18.6    82      US  \n365        88.0    2395          18.0    82      US  \n366        85.0    2575          16.2    82      US  \n367        84.0    2525          16.0    82      US  \n368        90.0    2735          18.0    82      US  \n369        92.0    2865          16.4    82      US  \n370         NaN    3035          20.5    82      US  \n371        74.0    1980          15.3    82  Europe  \n372        68.0    2025          18.2    82   Japan  \n373        68.0    1970          17.6    82   Japan  \n374        63.0    2125          14.7    82      US  \n375        70.0    2125          17.3    82      US  \n376        88.0    2160          14.5    82   Japan  \n377        75.0    2205          14.5    82   Japan  \n378        70.0    2245          16.9    82   Japan  \n379        67.0    1965          15.0    82   Japan  \n380        67.0    1965          15.7    82   Japan  \n381        67.0    1995          16.2    82   Japan  \n382       110.0    2945          16.4    82      US  \n383        85.0    3015          17.0    82      US  \n384        92.0    2585          14.5    82      US  \n385       112.0    2835          14.7    82      US  \n386        96.0    2665          13.9    82   Japan  \n387        84.0    2370          13.0    82      US  \n388        90.0    2950          17.3    82      US  \n389        86.0    2790          15.6    82      US  \n390        52.0    2130          24.6    82  Europe  \n391        84.0    2295          11.6    82      US  \n392        79.0    2625          18.6    82      US  \n393        82.0    2720          19.4    82      US  \n\n[394 rows x 9 columns]\n"
     ]
    }
   ],
   "source": [
    "table=table.reset_index(drop=True)\n",
    "print(table)"
   ]
  },
  {
   "cell_type": "code",
   "execution_count": 5,
   "metadata": {},
   "outputs": [],
   "source": [
    "# slicing\n",
    "\n",
    "# column position based. note they are edge case exlusive.\n",
    "# i.e for rows 10:15--> 10,11,12,13,14,14 will be displayed\n",
    "slice = table.iloc[4, :]\n",
    "slice2 = table.iloc[20:25, 4:8]\n",
    "\n",
    "# column name based . note they are edge case inclusive.\n",
    "# i.e for rows 10:15--> 10,11,12,13,14,15 will bedisplayed \n",
    "slice3 = table.loc[10:15, ('Model', 'MPG')]\n",
    "slice4 = table.loc[15:18, table.columns]\n",
    "slice5 = table.loc[50:49, :]\n",
    "slice6 = table.loc[50:50, :]\n",
    "slice7 = table.loc[30:32, 'MPG':'Weight']\n",
    "slice8 = table.loc[(20, 21, 22), 'MPG':'Weight']\n",
    "\n",
    "print('>>>\\n', slice, '\\n>>>\\n', slice2)\n",
    "print('>>>\\n', slice3)\n",
    "print('>>>\\n', slice4)\n",
    "print('>>>\\n', slice5)\n",
    "print('>>>\\n', slice6)\n",
    "print('>>>\\n', slice7)\n",
    "print('>>>\\n', slice8)\n",
    "\n",
    "\n",
    "\n"
   ]
  },
  {
   "cell_type": "code",
   "execution_count": 4,
   "metadata": {
    "collapsed": true
   },
   "outputs": [
    {
     "name": "stdout",
     "output_type": "stream",
     "text": [
      ">>>\n <class 'pandas.core.series.Series'> >>>\n 0      False\n1      False\n2      False\n3      False\n4      False\n5       True\n6       True\n7       True\n8       True\n9       True\n10     False\n11     False\n12     False\n13      True\n14     False\n15     False\n16     False\n17     False\n18     False\n19     False\n20     False\n21     False\n22     False\n23     False\n24     False\n25      True\n26      True\n27      True\n28      True\n29     False\n       ...  \n364    False\n365    False\n366    False\n367    False\n368    False\n369    False\n370    False\n371    False\n372    False\n373    False\n374    False\n375    False\n376    False\n377    False\n378    False\n379    False\n380    False\n381    False\n382    False\n383    False\n384    False\n385    False\n386    False\n387    False\n388    False\n389    False\n390    False\n391    False\n392    False\n393    False\nName: Horsepower, Length: 394, dtype: bool\n>>>\n                             Model   MPG  Cylinders  Displacement  Horsepower  \\\n5                ford galaxie 500  15.0          8         429.0       198.0   \n6                chevrolet impala  14.0          8         454.0       220.0   \n7               plymouth fury iii  14.0          8         440.0       215.0   \n8                pontiac catalina  14.0          8         455.0       225.0   \n9              amc ambassador dpl  15.0          8         390.0       190.0   \n13        buick estate wagon (sw)  14.0          8         455.0       225.0   \n25                      ford f250  10.0          8         360.0       215.0   \n26                      chevy c20  10.0          8         307.0       200.0   \n27                     dodge d200  11.0          8         318.0       210.0   \n28                       hi 1200d   9.0          8         304.0       193.0   \n66                mercury marquis  11.0          8         429.0       208.0   \n69         chrysler newport royal  13.0          8         400.0       190.0   \n89       mercury marquis brougham  12.0          8         429.0       198.0   \n93   chrysler new yorker brougham  13.0          8         440.0       215.0   \n94       buick electra 225 custom  12.0          8         455.0       225.0   \n115            pontiac grand prix  16.0          8         400.0       230.0   \n229              chrysler cordoba  15.5          8         400.0       190.0   \n\n     Weight  Acceleration  Year Origin  \n5      4341          10.0    70     US  \n6      4354           9.0    70     US  \n7      4312           8.5    70     US  \n8      4425          10.0    70     US  \n9      3850           8.5    70     US  \n13     3086          10.0    70     US  \n25     4615          14.0    70     US  \n26     4376          15.0    70     US  \n27     4382          13.5    70     US  \n28     4732          18.5    70     US  \n66     4633          11.0    72     US  \n69     4422          12.5    72     US  \n89     4952          11.5    73     US  \n93     4735          11.0    73     US  \n94     4951          11.0    73     US  \n115    4278           9.5    73     US  \n229    4325          12.2    77     US  \n>>>\n      Cylinders  Displacement  Horsepower\n5            8         429.0       198.0\n6            8         454.0       220.0\n7            8         440.0       215.0\n8            8         455.0       225.0\n9            8         390.0       190.0\n13           8         455.0       225.0\n25           8         360.0       215.0\n26           8         307.0       200.0\n27           8         318.0       210.0\n28           8         304.0       193.0\n66           8         429.0       208.0\n69           8         400.0       190.0\n89           8         429.0       198.0\n93           8         440.0       215.0\n94           8         455.0       225.0\n115          8         400.0       230.0\n229          8         400.0       190.0\n"
     ]
    }
   ],
   "source": [
    "# filtering conditions\n",
    "# just like numpy , pandas can also filter based on certi conditionals\n",
    "filtered_indexes = table['Horsepower'] > 180\n",
    "#filtered_indexes = table['Otigine'] == 'US'\n",
    "#filtered_indexes = table['Cylinders'] > 180 | table['Otigine'] == 'US'\n",
    "#filtered_indexes = table['Horsepower'] > 180\n",
    "\n",
    "print('>>>\\n', type(filtered_indexes), '>>>\\n', filtered_indexes)\n",
    "print('>>>\\n', table[filtered_indexes])\n",
    "print('>>>\\n', table.loc[filtered_indexes, table.columns[2:5]])\n"
   ]
  },
  {
   "cell_type": "code",
   "execution_count": 5,
   "metadata": {},
   "outputs": [],
   "source": [
    "#====================== ==MULTI==INDEXING== ========="
   ]
  },
  {
   "cell_type": "code",
   "execution_count": 8,
   "metadata": {},
   "outputs": [
    {
     "name": "stdout",
     "output_type": "stream",
     "text": [
      "python version :3.6.6 |Anaconda custom (64-bit)| (default, Jun 28 2018, 11:27:44) [MSC v.1900 64 bit (AMD64)]\npandas version :0.23.4\nnumpy version :1.15.1\nseaborn version :0.9.0\n"
     ]
    }
   ],
   "source": [
    "import sys\n",
    "import pandas as pd\n",
    "import numpy as np\n",
    "import matplotlib.pyplot as plt\n",
    "import seaborn as sns\n",
    "\n",
    "print('python version :' + sys.version)\n",
    "print('pandas version :' + pd.__version__) # its version is hidden\n",
    "print('numpy version :' + np.__version__) # its version is hidden\n",
    "#print('matplotlib version :' ) # we haven't imported complete module\n",
    "print('seaborn version :' + sns.__version__) # its version is hidden\n",
    "\n",
    "# ---- will understand these lines in later part of course----\n",
    "sns.set()\n",
    "%matplotlib inline\n",
    "\n"
   ]
  },
  {
   "cell_type": "code",
   "execution_count": 19,
   "metadata": {},
   "outputs": [
    {
     "data": {
      "text/html": [
       "<div>\n",
       "<style scoped>\n",
       "    .dataframe tbody tr th:only-of-type {\n",
       "        vertical-align: middle;\n",
       "    }\n",
       "\n",
       "    .dataframe tbody tr th {\n",
       "        vertical-align: top;\n",
       "    }\n",
       "\n",
       "    .dataframe thead th {\n",
       "        text-align: right;\n",
       "    }\n",
       "</style>\n",
       "<table border=\"1\" class=\"dataframe\">\n",
       "  <thead>\n",
       "    <tr style=\"text-align: right;\">\n",
       "      <th></th>\n",
       "      <th>country</th>\n",
       "      <th>capital</th>\n",
       "      <th>currency</th>\n",
       "      <th>population</th>\n",
       "    </tr>\n",
       "  </thead>\n",
       "  <tbody>\n",
       "    <tr>\n",
       "      <th>0</th>\n",
       "      <td>apple</td>\n",
       "      <td>red</td>\n",
       "      <td>!!</td>\n",
       "      <td>988991</td>\n",
       "    </tr>\n",
       "    <tr>\n",
       "      <th>1</th>\n",
       "      <td>apple</td>\n",
       "      <td>green</td>\n",
       "      <td>@@</td>\n",
       "      <td>814252</td>\n",
       "    </tr>\n",
       "    <tr>\n",
       "      <th>2</th>\n",
       "      <td>pear</td>\n",
       "      <td>green</td>\n",
       "      <td>##</td>\n",
       "      <td>322231</td>\n",
       "    </tr>\n",
       "    <tr>\n",
       "      <th>3</th>\n",
       "      <td>mango</td>\n",
       "      <td>yellow</td>\n",
       "      <td>$$</td>\n",
       "      <td>10000005</td>\n",
       "    </tr>\n",
       "    <tr>\n",
       "      <th>4</th>\n",
       "      <td>mango</td>\n",
       "      <td>green</td>\n",
       "      <td>%%</td>\n",
       "      <td>2187</td>\n",
       "    </tr>\n",
       "  </tbody>\n",
       "</table>\n",
       "</div>"
      ],
      "text/plain": [
       "<div>\n",
       "<style scoped>\n",
       "    .dataframe tbody tr th:only-of-type {\n",
       "        vertical-align: middle;\n",
       "    }\n",
       "\n",
       "    .dataframe tbody tr th {\n",
       "        vertical-align: top;\n",
       "    }\n",
       "\n",
       "    .dataframe thead th {\n",
       "        text-align: right;\n",
       "    }\n",
       "</style>\n",
       "<table border=\"1\" class=\"dataframe\">\n",
       "  <thead>\n",
       "    <tr style=\"text-align: right;\">\n",
       "      <th></th>\n",
       "      <th>country</th>\n",
       "      <th>capital</th>\n",
       "      <th>currency</th>\n",
       "      <th>population</th>\n",
       "    </tr>\n",
       "  </thead>\n",
       "  <tbody>\n",
       "    <tr>\n",
       "      <th>0</th>\n",
       "      <td>apple</td>\n",
       "      <td>red</td>\n",
       "      <td>!!</td>\n",
       "      <td>988991</td>\n",
       "    </tr>\n",
       "    <tr>\n",
       "      <th>1</th>\n",
       "      <td>apple</td>\n",
       "      <td>green</td>\n",
       "      <td>@@</td>\n",
       "      <td>814252</td>\n",
       "    </tr>\n",
       "    <tr>\n",
       "      <th>2</th>\n",
       "      <td>pear</td>\n",
       "      <td>green</td>\n",
       "      <td>##</td>\n",
       "      <td>322231</td>\n",
       "    </tr>\n",
       "    <tr>\n",
       "      <th>3</th>\n",
       "      <td>mango</td>\n",
       "      <td>yellow</td>\n",
       "      <td>$$</td>\n",
       "      <td>10000005</td>\n",
       "    </tr>\n",
       "    <tr>\n",
       "      <th>4</th>\n",
       "      <td>mango</td>\n",
       "      <td>green</td>\n",
       "      <td>%%</td>\n",
       "      <td>2187</td>\n",
       "    </tr>\n",
       "  </tbody>\n",
       "</table>\n",
       "</div>"
      ]
     },
     "execution_count": 19,
     "metadata": {},
     "output_type": "execute_result"
    }
   ],
   "source": [
    "di = {\n",
    "    'country': \"apple apple pear mango mango\".split(' '),\n",
    "    'capital': \"red green green yellow green\".split(' '),\n",
    "    'currency': \"!! @@ ## $$ %%\".split(' '),\n",
    "    'population': (988991, 814252, 322231, 10000005, 2187)\n",
    "}\n",
    "\n",
    "dframe = pd.DataFrame(di)\n",
    "dframe\n"
   ]
  },
  {
   "cell_type": "code",
   "execution_count": 11,
   "metadata": {},
   "outputs": [
    {
     "data": {
      "text/plain": [
       "RangeIndex(start=0, stop=5, step=1)"
      ]
     },
     "execution_count": 11,
     "metadata": {},
     "output_type": "execute_result"
    }
   ],
   "source": [
    "# default index is RangeIndex(start=0, stop=5, step=1)\n",
    "dframe.index"
   ]
  },
  {
   "cell_type": "code",
   "execution_count": 17,
   "metadata": {},
   "outputs": [
    {
     "data": {
      "text/html": [
       "<div>\n",
       "<style scoped>\n",
       "    .dataframe tbody tr th:only-of-type {\n",
       "        vertical-align: middle;\n",
       "    }\n",
       "\n",
       "    .dataframe tbody tr th {\n",
       "        vertical-align: top;\n",
       "    }\n",
       "\n",
       "    .dataframe thead th {\n",
       "        text-align: right;\n",
       "    }\n",
       "</style>\n",
       "<table border=\"1\" class=\"dataframe\">\n",
       "  <thead>\n",
       "    <tr style=\"text-align: right;\">\n",
       "      <th></th>\n",
       "      <th>capital</th>\n",
       "      <th>currency</th>\n",
       "      <th>population</th>\n",
       "    </tr>\n",
       "    <tr>\n",
       "      <th>country</th>\n",
       "      <th></th>\n",
       "      <th></th>\n",
       "      <th></th>\n",
       "    </tr>\n",
       "  </thead>\n",
       "  <tbody>\n",
       "    <tr>\n",
       "      <th>apple</th>\n",
       "      <td>red</td>\n",
       "      <td>!!</td>\n",
       "      <td>988991</td>\n",
       "    </tr>\n",
       "    <tr>\n",
       "      <th>apple</th>\n",
       "      <td>green</td>\n",
       "      <td>@@</td>\n",
       "      <td>814252</td>\n",
       "    </tr>\n",
       "    <tr>\n",
       "      <th>pear</th>\n",
       "      <td>green</td>\n",
       "      <td>##</td>\n",
       "      <td>322231</td>\n",
       "    </tr>\n",
       "    <tr>\n",
       "      <th>mango</th>\n",
       "      <td>yellow</td>\n",
       "      <td>$$</td>\n",
       "      <td>10000005</td>\n",
       "    </tr>\n",
       "    <tr>\n",
       "      <th>mango</th>\n",
       "      <td>green</td>\n",
       "      <td>%%</td>\n",
       "      <td>2187</td>\n",
       "    </tr>\n",
       "  </tbody>\n",
       "</table>\n",
       "</div>"
      ],
      "text/plain": [
       "<div>\n",
       "<style scoped>\n",
       "    .dataframe tbody tr th:only-of-type {\n",
       "        vertical-align: middle;\n",
       "    }\n",
       "\n",
       "    .dataframe tbody tr th {\n",
       "        vertical-align: top;\n",
       "    }\n",
       "\n",
       "    .dataframe thead th {\n",
       "        text-align: right;\n",
       "    }\n",
       "</style>\n",
       "<table border=\"1\" class=\"dataframe\">\n",
       "  <thead>\n",
       "    <tr style=\"text-align: right;\">\n",
       "      <th></th>\n",
       "      <th>capital</th>\n",
       "      <th>currency</th>\n",
       "      <th>population</th>\n",
       "    </tr>\n",
       "    <tr>\n",
       "      <th>country</th>\n",
       "      <th></th>\n",
       "      <th></th>\n",
       "      <th></th>\n",
       "    </tr>\n",
       "  </thead>\n",
       "  <tbody>\n",
       "    <tr>\n",
       "      <th>apple</th>\n",
       "      <td>red</td>\n",
       "      <td>!!</td>\n",
       "      <td>988991</td>\n",
       "    </tr>\n",
       "    <tr>\n",
       "      <th>apple</th>\n",
       "      <td>green</td>\n",
       "      <td>@@</td>\n",
       "      <td>814252</td>\n",
       "    </tr>\n",
       "    <tr>\n",
       "      <th>pear</th>\n",
       "      <td>green</td>\n",
       "      <td>##</td>\n",
       "      <td>322231</td>\n",
       "    </tr>\n",
       "    <tr>\n",
       "      <th>mango</th>\n",
       "      <td>yellow</td>\n",
       "      <td>$$</td>\n",
       "      <td>10000005</td>\n",
       "    </tr>\n",
       "    <tr>\n",
       "      <th>mango</th>\n",
       "      <td>green</td>\n",
       "      <td>%%</td>\n",
       "      <td>2187</td>\n",
       "    </tr>\n",
       "  </tbody>\n",
       "</table>\n",
       "</div>"
      ]
     },
     "execution_count": 17,
     "metadata": {},
     "output_type": "execute_result"
    }
   ],
   "source": [
    "#resetting index\n",
    "dframe=dframe.set_index(['country'])\n",
    "dframe"
   ]
  },
  {
   "cell_type": "code",
   "execution_count": 22,
   "metadata": {},
   "outputs": [
    {
     "data": {
      "text/html": [
       "<div>\n",
       "<style scoped>\n",
       "    .dataframe tbody tr th:only-of-type {\n",
       "        vertical-align: middle;\n",
       "    }\n",
       "\n",
       "    .dataframe tbody tr th {\n",
       "        vertical-align: top;\n",
       "    }\n",
       "\n",
       "    .dataframe thead th {\n",
       "        text-align: right;\n",
       "    }\n",
       "</style>\n",
       "<table border=\"1\" class=\"dataframe\">\n",
       "  <thead>\n",
       "    <tr style=\"text-align: right;\">\n",
       "      <th></th>\n",
       "      <th></th>\n",
       "      <th>currency</th>\n",
       "      <th>population</th>\n",
       "    </tr>\n",
       "    <tr>\n",
       "      <th>country</th>\n",
       "      <th>capital</th>\n",
       "      <th></th>\n",
       "      <th></th>\n",
       "    </tr>\n",
       "  </thead>\n",
       "  <tbody>\n",
       "    <tr>\n",
       "      <th rowspan=\"2\" valign=\"top\">apple</th>\n",
       "      <th>red</th>\n",
       "      <td>!!</td>\n",
       "      <td>988991</td>\n",
       "    </tr>\n",
       "    <tr>\n",
       "      <th>green</th>\n",
       "      <td>@@</td>\n",
       "      <td>814252</td>\n",
       "    </tr>\n",
       "    <tr>\n",
       "      <th>pear</th>\n",
       "      <th>green</th>\n",
       "      <td>##</td>\n",
       "      <td>322231</td>\n",
       "    </tr>\n",
       "    <tr>\n",
       "      <th rowspan=\"2\" valign=\"top\">mango</th>\n",
       "      <th>yellow</th>\n",
       "      <td>$$</td>\n",
       "      <td>10000005</td>\n",
       "    </tr>\n",
       "    <tr>\n",
       "      <th>green</th>\n",
       "      <td>%%</td>\n",
       "      <td>2187</td>\n",
       "    </tr>\n",
       "  </tbody>\n",
       "</table>\n",
       "</div>"
      ],
      "text/plain": [
       "<div>\n",
       "<style scoped>\n",
       "    .dataframe tbody tr th:only-of-type {\n",
       "        vertical-align: middle;\n",
       "    }\n",
       "\n",
       "    .dataframe tbody tr th {\n",
       "        vertical-align: top;\n",
       "    }\n",
       "\n",
       "    .dataframe thead th {\n",
       "        text-align: right;\n",
       "    }\n",
       "</style>\n",
       "<table border=\"1\" class=\"dataframe\">\n",
       "  <thead>\n",
       "    <tr style=\"text-align: right;\">\n",
       "      <th></th>\n",
       "      <th></th>\n",
       "      <th>currency</th>\n",
       "      <th>population</th>\n",
       "    </tr>\n",
       "    <tr>\n",
       "      <th>country</th>\n",
       "      <th>capital</th>\n",
       "      <th></th>\n",
       "      <th></th>\n",
       "    </tr>\n",
       "  </thead>\n",
       "  <tbody>\n",
       "    <tr>\n",
       "      <th rowspan=\"2\" valign=\"top\">apple</th>\n",
       "      <th>red</th>\n",
       "      <td>!!</td>\n",
       "      <td>988991</td>\n",
       "    </tr>\n",
       "    <tr>\n",
       "      <th>green</th>\n",
       "      <td>@@</td>\n",
       "      <td>814252</td>\n",
       "    </tr>\n",
       "    <tr>\n",
       "      <th>pear</th>\n",
       "      <th>green</th>\n",
       "      <td>##</td>\n",
       "      <td>322231</td>\n",
       "    </tr>\n",
       "    <tr>\n",
       "      <th rowspan=\"2\" valign=\"top\">mango</th>\n",
       "      <th>yellow</th>\n",
       "      <td>$$</td>\n",
       "      <td>10000005</td>\n",
       "    </tr>\n",
       "    <tr>\n",
       "      <th>green</th>\n",
       "      <td>%%</td>\n",
       "      <td>2187</td>\n",
       "    </tr>\n",
       "  </tbody>\n",
       "</table>\n",
       "</div>"
      ]
     },
     "execution_count": 22,
     "metadata": {},
     "output_type": "execute_result"
    }
   ],
   "source": [
    "dframe\n"
   ]
  },
  {
   "cell_type": "code",
   "execution_count": 25,
   "metadata": {},
   "outputs": [
    {
     "name": "stdout",
     "output_type": "stream",
     "text": [
      "        currency  population\ncapital                     \nred           !!      988991\ngreen         @@      814252\n"
     ]
    },
    {
     "data": {
      "text/html": [
       "<div>\n",
       "<style scoped>\n",
       "    .dataframe tbody tr th:only-of-type {\n",
       "        vertical-align: middle;\n",
       "    }\n",
       "\n",
       "    .dataframe tbody tr th {\n",
       "        vertical-align: top;\n",
       "    }\n",
       "\n",
       "    .dataframe thead th {\n",
       "        text-align: right;\n",
       "    }\n",
       "</style>\n",
       "<table border=\"1\" class=\"dataframe\">\n",
       "  <thead>\n",
       "    <tr style=\"text-align: right;\">\n",
       "      <th></th>\n",
       "      <th>currency</th>\n",
       "      <th>population</th>\n",
       "    </tr>\n",
       "    <tr>\n",
       "      <th>capital</th>\n",
       "      <th></th>\n",
       "      <th></th>\n",
       "    </tr>\n",
       "  </thead>\n",
       "  <tbody>\n",
       "    <tr>\n",
       "      <th>red</th>\n",
       "      <td>!!</td>\n",
       "      <td>988991</td>\n",
       "    </tr>\n",
       "    <tr>\n",
       "      <th>green</th>\n",
       "      <td>@@</td>\n",
       "      <td>814252</td>\n",
       "    </tr>\n",
       "  </tbody>\n",
       "</table>\n",
       "</div>"
      ],
      "text/plain": [
       "<div>\n",
       "<style scoped>\n",
       "    .dataframe tbody tr th:only-of-type {\n",
       "        vertical-align: middle;\n",
       "    }\n",
       "\n",
       "    .dataframe tbody tr th {\n",
       "        vertical-align: top;\n",
       "    }\n",
       "\n",
       "    .dataframe thead th {\n",
       "        text-align: right;\n",
       "    }\n",
       "</style>\n",
       "<table border=\"1\" class=\"dataframe\">\n",
       "  <thead>\n",
       "    <tr style=\"text-align: right;\">\n",
       "      <th></th>\n",
       "      <th>currency</th>\n",
       "      <th>population</th>\n",
       "    </tr>\n",
       "    <tr>\n",
       "      <th>capital</th>\n",
       "      <th></th>\n",
       "      <th></th>\n",
       "    </tr>\n",
       "  </thead>\n",
       "  <tbody>\n",
       "    <tr>\n",
       "      <th>red</th>\n",
       "      <td>!!</td>\n",
       "      <td>988991</td>\n",
       "    </tr>\n",
       "    <tr>\n",
       "      <th>green</th>\n",
       "      <td>@@</td>\n",
       "      <td>814252</td>\n",
       "    </tr>\n",
       "  </tbody>\n",
       "</table>\n",
       "</div>"
      ]
     },
     "execution_count": 25,
     "metadata": {},
     "output_type": "execute_result"
    }
   ],
   "source": [
    "# working with multi indexes , accessing only the apple country'a data(primary index's data)\n",
    "print(dframe.xs('apple'))\n",
    "#or simply\n",
    "dframe.loc['apple',:]"
   ]
  },
  {
   "cell_type": "code",
   "execution_count": 28,
   "metadata": {},
   "outputs": [
    {
     "name": "stdout",
     "output_type": "stream",
     "text": [
      "        currency  population\ncountry                     \napple         @@      814252\npear          ##      322231\nmango         %%        2187\n"
     ]
    }
   ],
   "source": [
    "# working with multi indexes , accessing only the countries where capital is green (sec. index's data)\n",
    "print(dframe.xs('green', level='capital'))\n",
    "#or simply,\n",
    "#dframe.loc[:,'green'] #umm nope, that doesn't work\n"
   ]
  },
  {
   "cell_type": "code",
   "execution_count": null,
   "metadata": {},
   "outputs": [],
   "source": []
  }
 ],
 "metadata": {
  "kernelspec": {
   "display_name": "Python 3",
   "language": "python",
   "name": "python3"
  },
  "language_info": {
   "codemirror_mode": {
    "name": "ipython",
    "version": 3
   },
   "file_extension": ".py",
   "mimetype": "text/x-python",
   "name": "python",
   "nbconvert_exporter": "python",
   "pygments_lexer": "ipython3",
   "version": "3.6.6"
  }
 },
 "nbformat": 4,
 "nbformat_minor": 1
}
