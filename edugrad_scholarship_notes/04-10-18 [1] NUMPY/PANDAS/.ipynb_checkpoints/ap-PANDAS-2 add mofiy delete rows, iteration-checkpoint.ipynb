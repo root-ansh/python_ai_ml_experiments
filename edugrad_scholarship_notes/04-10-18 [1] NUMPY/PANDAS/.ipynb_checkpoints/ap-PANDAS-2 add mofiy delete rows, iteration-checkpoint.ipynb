{
 "cells": [
  {
   "cell_type": "code",
   "execution_count": 2,
   "metadata": {},
   "outputs": [
    {
     "name": "stdout",
     "output_type": "stream",
     "text": [
      "python version :3.6.6 |Anaconda custom (64-bit)| (default, Jun 28 2018, 11:27:44) [MSC v.1900 64 bit (AMD64)]\n",
      "pandas version :0.23.4\n",
      "numpy version :1.15.1\n"
     ]
    }
   ],
   "source": [
    "import sys\n",
    "import pandas as pd\n",
    "import numpy as np\n",
    "\n",
    "print('python version :' + sys.version)\n",
    "print('pandas version :' + pd.__version__) # its version is hidden\n",
    "print('numpy version :' + np.__version__) # its version is hidden\n"
   ]
  },
  {
   "cell_type": "code",
   "execution_count": 3,
   "metadata": {},
   "outputs": [
    {
     "name": "stdout",
     "output_type": "stream",
     "text": [
      ">>> <class 'pandas.core.frame.DataFrame'> \n",
      ">>>\n",
      "   emp_id               name   location  age    home_at\n",
      "0  emp12        Naman Arora    Lucknow   18      Delhi\n",
      "1  emp13         Vikas Jain     Bhopal   18    Gurgaon\n",
      "2  emp14      Nirmal Mishra    Gurgaon   21    Gurgaon\n",
      "3  emp15        Priya Singh    Gurgaon   25      Delhi\n",
      "4  cnt17  Rishab Srivastava     Mumbai   22      Noida\n",
      "5  emp16      Pravita Singh     Kanpur   21      Delhi\n",
      "6  tmp18        Naina Gupta    Sonipat   28  New Delhi\n",
      "7  cnt19         Jai Tiwari  Hyderabad   24      Noida\n"
     ]
    }
   ],
   "source": [
    "filename = r\"C:\\Users\\anshs\\00ANSH_PYTHON\\04-10-18 [1] NUMPY\\PANDAS\\new_records.csv\"\n",
    "\n",
    "col_names=\"emp_id,name,location,age,home_at\".split(',')\n",
    "table = pd.read_csv(filename, header=1,names=col_names)\n",
    "print(\">>>\", type(table), '\\n>>>\\n', table)\n"
   ]
  },
  {
   "cell_type": "code",
   "execution_count": 4,
   "metadata": {
    "collapsed": true
   },
   "outputs": [
    {
     "name": "stdout",
     "output_type": "stream",
     "text": [
      "  emp_id       name   location  age    home_at\n",
      "0  emp12  new_value    Lucknow   18      Delhi\n",
      "1  emp13  new_value     Bhopal   18    Gurgaon\n",
      "2  emp14  new_value    Gurgaon   21    Gurgaon\n",
      "3  emp15  new_value    Gurgaon   25      Delhi\n",
      "4  cnt17  new_value     Mumbai   22      Noida\n",
      "5  emp16  new_value     Kanpur   21      Delhi\n",
      "6  tmp18  new_value    Sonipat   28  New Delhi\n",
      "7  cnt19  new_value  Hyderabad   24      Noida\n",
      "\n",
      "\n",
      "  emp_id       name   location  age    home_at gender\n",
      "0  emp12  new_value    Lucknow   18      Delhi      M\n",
      "1  emp13  new_value     Bhopal   18    Gurgaon      F\n",
      "2  emp14  new_value    Gurgaon   21    Gurgaon      F\n",
      "3  emp15  new_value    Gurgaon   25      Delhi      F\n",
      "4  cnt17  new_value     Mumbai   22      Noida      M\n",
      "5  emp16  new_value     Kanpur   21      Delhi      M\n",
      "6  tmp18  new_value    Sonipat   28  New Delhi      M\n",
      "7  cnt19  new_value  Hyderabad   24      Noida      F\n"
     ]
    }
   ],
   "source": [
    "table['name']='new_value' #will assign 'new_val' to every cell in column 'name'        \n",
    "print(table)\n",
    "print()\n",
    "print()\n",
    "\n",
    "# will add a new column , along with its values for each column   \n",
    "table['gender']=list(\"MFFFMMMF\") \n",
    "print(table)\n"
   ]
  },
  {
   "cell_type": "code",
   "execution_count": 5,
   "metadata": {
    "collapsed": true
   },
   "outputs": [
    {
     "name": "stdout",
     "output_type": "stream",
     "text": [
      "  emp_id       name   location  age gender\n",
      "0  emp12  new_value    Lucknow   18      M\n",
      "1  emp13  new_value     Bhopal   18      F\n",
      "2  emp14  new_value    Gurgaon   21      F\n",
      "3  emp15  new_value    Gurgaon   25      F\n",
      "4  cnt17  new_value     Mumbai   22      M\n",
      "5  emp16  new_value     Kanpur   21      M\n",
      "6  tmp18  new_value    Sonipat   28      M\n",
      "7  cnt19  new_value  Hyderabad   24      F\n"
     ]
    }
   ],
   "source": [
    "del table['home_at']  # deletes all values of column 'home_at'\n",
    "print(table)\n",
    "a = \\\n",
    "    \"\"\"\n",
    "    del table[''] is dangerous to use. suppose del table['home_at']\n",
    "    is used once and somehow print() doesn't work. then we run this \n",
    "    code again and now we will get an error saying \"column does not exist\n",
    "    \n",
    "    a better way is to wrap it around some conditional function like:\n",
    "        if table.does_column_exist(col_name):\n",
    "            del table[col_name] \n",
    "            print(table)\n",
    "    does any function like that exists??\n",
    "    \n",
    "    \"\"\"\n"
   ]
  },
  {
   "cell_type": "code",
   "execution_count": 6,
   "metadata": {
    "collapsed": true
   },
   "outputs": [
    {
     "name": "stdout",
     "output_type": "stream",
     "text": [
      "  emp_id       name   location  age gender\n",
      "0  emp12  new_value    Lucknow   18      M\n",
      "2  emp14  new_value    Gurgaon   21      F\n",
      "3  emp15  new_value    Gurgaon   25      F\n",
      "4  cnt17  new_value     Mumbai   22      M\n",
      "5  emp16  new_value     Kanpur   21      M\n",
      "6  tmp18  new_value    Sonipat   28      M\n",
      "7  cnt19  new_value  Hyderabad   24      F\n"
     ]
    }
   ],
   "source": [
    "# how to remove rows???\n",
    "\n",
    "table=table.drop(table.index[1])\n",
    "print(table)\n",
    "#it removes row from a copy of main table. therefore to make changes\n",
    "#  in original table, you gotta assign it\n"
   ]
  },
  {
   "cell_type": "code",
   "execution_count": 36,
   "metadata": {
    "collapsed": true
   },
   "outputs": [
    {
     "name": "stdout",
     "output_type": "stream",
     "text": [
      ">>>\n",
      " <class 'pandas.core.series.Series'> emp_id          emp12\n",
      "name        new_value\n",
      "location      Lucknow\n",
      "age                18\n",
      "gender              M\n",
      "Name: 0, dtype: object\n",
      ">>>\n",
      " <class 'pandas.core.series.Series'> emp_id          emp13\n",
      "name        new_value\n",
      "location       Bhopal\n",
      "age                18\n",
      "gender              F\n",
      "Name: 1, dtype: object\n",
      ">>>\n",
      " <class 'pandas.core.series.Series'> emp_id          emp14\n",
      "name        new_value\n",
      "location      Gurgaon\n",
      "age                21\n",
      "gender              F\n",
      "Name: 2, dtype: object\n",
      ">>>\n",
      " <class 'pandas.core.series.Series'> emp_id          emp15\n",
      "name        new_value\n",
      "location      Gurgaon\n",
      "age                25\n",
      "gender              F\n",
      "Name: 3, dtype: object\n",
      ">>>\n",
      " <class 'pandas.core.series.Series'> emp_id          cnt17\n",
      "name        new_value\n",
      "location       Mumbai\n",
      "age                22\n",
      "gender              M\n",
      "Name: 4, dtype: object\n",
      ">>>\n",
      " <class 'pandas.core.series.Series'> emp_id          emp16\n",
      "name        new_value\n",
      "location       Kanpur\n",
      "age                21\n",
      "gender              M\n",
      "Name: 5, dtype: object\n",
      ">>>\n",
      " <class 'pandas.core.series.Series'> emp_id          tmp18\n",
      "name        new_value\n",
      "location      Sonipat\n",
      "age                28\n",
      "gender              M\n",
      "Name: 6, dtype: object\n",
      ">>>\n",
      " <class 'pandas.core.series.Series'> emp_id          cnt19\n",
      "name        new_value\n",
      "location    Hyderabad\n",
      "age                24\n",
      "gender              F\n",
      "Name: 7, dtype: object\n"
     ]
    }
   ],
   "source": [
    "# accessing each row:\n",
    "table_length = len(table)\n",
    "for i in range(table_length):\n",
    "    print(\">>>\\n\", type(table.loc[i]), table.loc[i])\n",
    "\n",
    "#but i think this is wrong for 3 aspects:\n",
    "#1) table.loc[:] is not defined anywhere\n",
    "#2) we want data in  a list format, and not in column-value format (series format)\n",
    "#3) since the indexes we are using are 0,1,2.. in this example, it does not mean ,\n",
    "#  it will be always the same(remember that pandas is a 2-d datastructure whose both  indexname and column_name can be \n",
    "# changed and need not be 0,1,2...\n"
   ]
  },
  {
   "cell_type": "code",
   "execution_count": 7,
   "metadata": {},
   "outputs": [
    {
     "name": "stdout",
     "output_type": "stream",
     "text": [
      "  emp_id       name   location  age gender\n",
      "0  emp12  new_value    Lucknow   18      M\n",
      "2  emp14  new_value    Gurgaon   21      F\n",
      "3  emp15  new_value    Gurgaon   25      F\n",
      "4  cnt17  new_value     Mumbai   22      M\n",
      "5  emp16  new_value     Kanpur   21      M\n",
      "6  tmp18  new_value    Sonipat   28      M\n",
      "7  cnt19  new_value  Hyderabad   24      F\n"
     ]
    }
   ],
   "source": [
    "#adding new row \n",
    "\n",
    "#table.loc[-1] = 'emp_-1', 'val_added', 'val_added', 0, 'G'\n",
    "print(table)\n",
    "a = \\\n",
    "    '''output(before executing the next statement)\n",
    "    \n",
    "        emp_id       name   location  age gender\n",
    "     0   emp12  new_value    Lucknow   18      M\n",
    "     1   emp13  new_value     Bhopal   18      F\n",
    "     2   emp14  new_value    Gurgaon   21      F\n",
    "     3   emp15  new_value    Gurgaon   25      F\n",
    "     4   cnt17  new_value     Mumbai   22      M\n",
    "     5   emp16  new_value     Kanpur   21      M\n",
    "     6   tmp18  new_value    Sonipat   28      M\n",
    "     7   cnt19  new_value  Hyderabad   24      F\n",
    "    -1  emp_-1  val_added  val_added    0      G\n",
    "    \n",
    "    '''\n",
    "#table.index+=1\n",
    "\n",
    "\n",
    "'''output(before after the next statement)\n",
    "\n",
    "    emp_id       name   location  age gender\n",
    "1   emp12  new_value    Lucknow   18      M\n",
    "2   emp13  new_value     Bhopal   18      F\n",
    "3   emp14  new_value    Gurgaon   21      F\n",
    "4   emp15  new_value    Gurgaon   25      F\n",
    "5   cnt17  new_value     Mumbai   22      M\n",
    "6   emp16  new_value     Kanpur   21      M\n",
    "7   tmp18  new_value    Sonipat   28      M\n",
    "8   cnt19  new_value  Hyderabad   24      F\n",
    "0  emp_-1  val_added  val_added    0      G\n",
    "\n",
    "'''\n",
    "\n",
    "#BUT THIS IS CLEARLY WRONG! THE ORDER GOT DISRUPTED!\n",
    "# but this guy solves it using the next line -_-\n",
    "table = table.sort_index()\n"
   ]
  },
  {
   "cell_type": "code",
   "execution_count": 8,
   "metadata": {},
   "outputs": [
    {
     "name": "stdout",
     "output_type": "stream",
     "text": [
      "  emp_id       name   location   age gender\n",
      "0  emp12  new_value    Lucknow    18      M\n",
      "2  emp14  new_value    Gurgaon    21      F\n",
      "3  emp15  new_value    Gurgaon    25      F\n",
      "4  cnt17  new_value     Mumbai    22      M\n",
      "5     hi         hi         hi    hi     hi\n",
      "6   this       will     change  full    row\n",
      "7  cnt19  new_value  Hyderabad    24      F\n"
     ]
    }
   ],
   "source": [
    "#modyfieng the current data,again it surely needs an if clause\n",
    "\n",
    "table.loc[5] = 'hi'\n",
    "table.loc[6] = 'this', 'will', 'change', 'full', 'row'\n",
    "print(table)\n"
   ]
  },
  {
   "cell_type": "code",
   "execution_count": 69,
   "metadata": {
    "collapsed": true
   },
   "outputs": [
    {
     "name": "stdout",
     "output_type": "stream",
     "text": [
      ">>> 7 \n",
      "    emp_id       name   location   age gender\n",
      "1  emp_-1  val_added  val_added     0      G\n",
      "2   emp14  new_value    Gurgaon    21      F\n",
      "3   emp15  new_value    Gurgaon    25      F\n",
      "4      hi         hi         hi    hi     hi\n",
      "5    this       will     change  full    row\n",
      "6   tmp18  new_value    Sonipat    28      M\n",
      "7   cnt19  new_value  Hyderabad    24      F\n",
      ">>>\n",
      "    emp_id       name   location   age gender\n",
      "a  emp_-1  val_added  val_added     0      G\n",
      "b   emp14  new_value    Gurgaon    21      F\n",
      "c   emp15  new_value    Gurgaon    25      F\n",
      "d      hi         hi         hi    hi     hi\n",
      "e    this       will     change  full    row\n",
      "f   tmp18  new_value    Sonipat    28      M\n",
      "g   cnt19  new_value  Hyderabad    24      F\n"
     ]
    }
   ],
   "source": [
    "print('>>>',table.__len__(),'\\n',table)\n",
    "table.index=list('abcdefg')\n",
    "print('>>>\\n',table)\n",
    "\n"
   ]
  },
  {
   "cell_type": "code",
   "execution_count": 70,
   "metadata": {},
   "outputs": [
    {
     "name": "stdout",
     "output_type": "stream",
     "text": [
      ">>>\n",
      "    emp_id       name   location   age gender\n",
      "a  emp_-1  val_added  val_added     0      G\n",
      "b   emp14  new_value    Gurgaon    21      F\n",
      "c   emp15  new_value    Gurgaon    25      F\n",
      "d      hi         hi         hi    hi     hi\n",
      "e    this       will     change  full    row\n",
      "f   tmp18  new_value    Sonipat    28      M\n",
      "g   cnt19  new_value  Hyderabad    24      F\n"
     ]
    }
   ],
   "source": [
    "table.reset_index()  #doesn't work, ideally it should revert to default index\n",
    "print('>>>\\n', table)\n",
    "\n",
    "#but table.rset_index() works in this example::\n",
    "a = \\\n",
    "    \"\"\"\n",
    "    suppose we have data like this :\n",
    "    \n",
    "     emp_id               name   location   age    home_at  spec_number\n",
    "    0  emp11       Aakash Kumar      Patna   22      Noida         0.00\n",
    "    1  emp12        Naman Arora    Lucknow   18      Delhi        -1.25\n",
    "    2  emp13         Vikas Jain     Bhopal   18    Gurgaon         1.00\n",
    "    3  emp14      Nirmal Mishra    Gurgaon   21    Gurgaon         2.00\n",
    "    4  emp15        Priya Singh    Gurgaon   25      Delhi        -1.75\n",
    "    5  cnt17  Rishab Srivastava     Mumbai   22      Noida         3.25\n",
    "    6  emp16      Pravita Singh     Kanpur   21      Delhi         0.00\n",
    "    7  tmp18        Naina Gupta    Sonipat   28  New Delhi         0.00\n",
    "    8  cnt19         Jai Tiwari  Hyderabad   24      Noida        -2.25\n",
    "    0  emp11       Aakash Kumar      Patna   22      Noida         0.00\n",
    "    1  emp12        Naman Arora    Lucknow   18      Delhi        -1.25\n",
    "    2  emp13         Vikas Jain     Bhopal   18    Gurgaon         1.00\n",
    "    3  emp14      Nirmal Mishra    Gurgaon   21    Gurgaon         2.00\n",
    "    4  emp15        Priya Singh    Gurgaon   25      Delhi        -1.75\n",
    "    5  cnt17  Rishab Srivastava     Mumbai   22      Noida         3.25\n",
    "    6  emp16      Pravita Singh     Kanpur   21      Delhi         0.00\n",
    "    7  tmp18        Naina Gupta    Sonipat   28  New Delhi         0.00\n",
    "    8  cnt19         Jai Tiwari  Hyderabad   24      Noida        -2.25\n",
    "    0  emp11       Aakash Kumar      Patna   22      Noida         0.00\n",
    "    1  emp12        Naman Arora    Lucknow   18      Delhi        -1.25\n",
    "    2  emp13         Vikas Jain     Bhopal   18    Gurgaon         1.00\n",
    "    3  emp14      Nirmal Mishra    Gurgaon   21    Gurgaon         2.00\n",
    "    4  emp15        Priya Singh    Gurgaon   25      Delhi        -1.75\n",
    "    5  cnt17  Rishab Srivastava     Mumbai   22      Noida         3.25\n",
    "    6  emp16      Pravita Singh     Kanpur   21      Delhi         0.00\n",
    "    7  tmp18        Naina Gupta    Sonipat   28  New Delhi         0.00\n",
    "    8  cnt19         Jai Tiwari  Hyderabad   24      Noida        -2.25\n",
    "    0  emp11       Aakash Kumar      Patna   22      Noida         0.00\n",
    "    1  emp12        Naman Arora    Lucknow   18      Delhi        -1.25\n",
    "    2  emp13         Vikas Jain     Bhopal   18    Gurgaon         1.00\n",
    "    3  emp14      Nirmal Mishra    Gurgaon   21    Gurgaon         2.00\n",
    "    4  emp15        Priya Singh    Gurgaon   25      Delhi        -1.75\n",
    "    5  cnt17  Rishab Srivastava     Mumbai   22      Noida         3.25\n",
    "    6  emp16      Pravita Singh     Kanpur   21      Delhi         0.00\n",
    "    \n",
    "    data.resetindex() will add current indexs as 0th column to your data \n",
    "    and replace it by new indeses. i.e,\n",
    "    \n",
    "         index emp_id            name   location    age    home_at   spec_number             \n",
    "    0       0  emp11       Aakash Kumar      Patna   22      Noida         0.00\n",
    "    1       1  emp12        Naman Arora    Lucknow   18      Delhi        -1.25\n",
    "    2       2  emp13         Vikas Jain     Bhopal   18    Gurgaon         1.00\n",
    "    3       3  emp14      Nirmal Mishra    Gurgaon   21    Gurgaon         2.00\n",
    "    4       4  emp15        Priya Singh    Gurgaon   25      Delhi        -1.75\n",
    "    5       5  cnt17  Rishab Srivastava     Mumbai   22      Noida         3.25\n",
    "    6       6  emp16      Pravita Singh     Kanpur   21      Delhi         0.00\n",
    "    7       7  tmp18        Naina Gupta    Sonipat   28  New Delhi         0.00\n",
    "    8       8  cnt19         Jai Tiwari  Hyderabad   24      Noida        -2.25\n",
    "    9       0  emp11       Aakash Kumar      Patna   22      Noida         0.00\n",
    "    10      1  emp12        Naman Arora    Lucknow   18      Delhi        -1.25\n",
    "    11      2  emp13         Vikas Jain     Bhopal   18    Gurgaon         1.00\n",
    "    ...\n",
    "    \n",
    "    \n",
    "    if we don't want that, we can simply write : \n",
    "    data=data.reset_index(drop=True)\n",
    "    \n",
    "       emp_id               name   location  age    home_at  spec_number\n",
    "    0   emp11       Aakash Kumar      Patna   22      Noida         0.00\n",
    "    1   emp12        Naman Arora    Lucknow   18      Delhi        -1.25\n",
    "    2   emp13         Vikas Jain     Bhopal   18    Gurgaon         1.00\n",
    "    3   emp14      Nirmal Mishra    Gurgaon   21    Gurgaon         2.00\n",
    "    4   emp15        Priya Singh    Gurgaon   25      Delhi        -1.75\n",
    "    5   cnt17  Rishab Srivastava     Mumbai   22      Noida         3.25\n",
    "    6   emp16      Pravita Singh     Kanpur   21      Delhi         0.00\n",
    "    7   tmp18        Naina Gupta    Sonipat   28  New Delhi         0.00\n",
    "    8   cnt19         Jai Tiwari  Hyderabad   24      Noida        -2.25\n",
    "    9   emp11       Aakash Kumar      Patna   22      Noida         0.00\n",
    "    10  emp12        Naman Arora    Lucknow   18      Delhi        -1.25\n",
    "    11  emp13         Vikas Jain     Bhopal   18    Gurgaon         1.00\n",
    "    12  emp14      Nirmal Mishra    Gurgaon   21    Gurgaon         2.00\n",
    "    13  emp15        Priya Singh    Gurgaon   25      Delhi        -1.75\n",
    "    14  cnt17  Rishab Srivastava     Mumbai   22      Noida         3.25\n",
    "    \"\"\"\n"
   ]
  },
  {
   "cell_type": "code",
   "execution_count": 1,
   "metadata": {},
   "outputs": [
    {
     "ename": "NameError",
     "evalue": "name 'table' is not defined",
     "output_type": "error",
     "traceback": [
      "\u001b[1;31m---------------------------------------------------------------------------\u001b[0m",
      "\u001b[1;31mNameError\u001b[0m                                 Traceback (most recent call last)",
      "\u001b[1;32m<ipython-input-1-0685f26eccf6>\u001b[0m in \u001b[0;36m<module>\u001b[1;34m()\u001b[0m\n\u001b[1;32m----> 1\u001b[1;33m \u001b[0mtable\u001b[0m\u001b[1;33m[\u001b[0m\u001b[1;34m'koo'\u001b[0m\u001b[1;33m]\u001b[0m\u001b[1;33m=\u001b[0m\u001b[1;34m'aah'\u001b[0m\u001b[1;33m\u001b[0m\u001b[0m\n\u001b[0m",
      "\u001b[1;31mNameError\u001b[0m: name 'table' is not defined"
     ]
    }
   ],
   "source": [
    "table['koo']='aah'"
   ]
  },
  {
   "cell_type": "code",
   "execution_count": 78,
   "metadata": {},
   "outputs": [
    {
     "name": "stdout",
     "output_type": "stream",
     "text": [
      "   emp_id       name   location   age gender     k  koo\n",
      "a  emp_-1  val_added  val_added     0      G  meow  aah\n",
      "b   emp14  new_value    Gurgaon    21      F  meow  aah\n",
      "c   emp15  new_value    Gurgaon    25      F  meow  aah\n",
      "d      hi         hi         hi    hi     hi  meow  aah\n",
      "e    this       will     change  full    row  meow  aah\n",
      "f   tmp18  new_value    Sonipat    28      M  meow  aah\n",
      "g   cnt19  new_value  Hyderabad    24      F  meow  aah\n"
     ]
    }
   ],
   "source": [
    "print(table)"
   ]
  },
  {
   "cell_type": "code",
   "execution_count": 79,
   "metadata": {},
   "outputs": [
    {
     "name": "stdout",
     "output_type": "stream",
     "text": [
      "   emp_id       name   location   age gender     k\n",
      "a  emp_-1  val_added  val_added     0      G  meow\n",
      "b   emp14  new_value    Gurgaon    21      F  meow\n",
      "c   emp15  new_value    Gurgaon    25      F  meow\n",
      "d      hi         hi         hi    hi     hi  meow\n",
      "e    this       will     change  full    row  meow\n",
      "f   tmp18  new_value    Sonipat    28      M  meow\n",
      "g   cnt19  new_value  Hyderabad    24      F  meow\n"
     ]
    }
   ],
   "source": [
    "del table['koo']\n",
    "print(table)"
   ]
  },
  {
   "cell_type": "code",
   "execution_count": 4,
   "metadata": {
    "collapsed": true
   },
   "outputs": [
    {
     "name": "stdout",
     "output_type": "stream",
     "text": [
      ">>> <class 'pandas.core.frame.DataFrame'> \n",
      ">>>\n",
      "                                  Model   MPG  Cylinders  Displacement  \\\n",
      "0            chevrolet chevelle malibu  18.0          8         307.0   \n",
      "1                    buick skylark 320  15.0          8         350.0   \n",
      "2                   plymouth satellite  18.0          8         318.0   \n",
      "3                        amc rebel sst  16.0          8         304.0   \n",
      "4                          ford torino  17.0          8         302.0   \n",
      "5                     ford galaxie 500  15.0          8         429.0   \n",
      "6                     chevrolet impala  14.0          8         454.0   \n",
      "7                    plymouth fury iii  14.0          8         440.0   \n",
      "8                     pontiac catalina  14.0          8         455.0   \n",
      "9                   amc ambassador dpl  15.0          8         390.0   \n",
      "10                 dodge challenger se  15.0          8         383.0   \n",
      "11                  plymouth 'cuda 340  14.0          8         340.0   \n",
      "12               chevrolet monte carlo  15.0          8         400.0   \n",
      "13             buick estate wagon (sw)  14.0          8         455.0   \n",
      "14               toyota corona mark ii  24.0          4         113.0   \n",
      "15                     plymouth duster  22.0          6         198.0   \n",
      "16                          amc hornet  18.0          6         199.0   \n",
      "17                       ford maverick  21.0          6         200.0   \n",
      "18                        datsun pl510  27.0          4          97.0   \n",
      "19        volkswagen 1131 deluxe sedan  26.0          4          97.0   \n",
      "20                         peugeot 504  25.0          4         110.0   \n",
      "21                         audi 100 ls  24.0          4         107.0   \n",
      "22                            saab 99e  25.0          4         104.0   \n",
      "23                            bmw 2002  26.0          4         121.0   \n",
      "24                         amc gremlin  21.0          6         199.0   \n",
      "25                           ford f250  10.0          8         360.0   \n",
      "26                           chevy c20  10.0          8         307.0   \n",
      "27                          dodge d200  11.0          8         318.0   \n",
      "28                            hi 1200d   9.0          8         304.0   \n",
      "29                        datsun pl510  27.0          4          97.0   \n",
      "..                                 ...   ...        ...           ...   \n",
      "364           chevrolet cavalier wagon  27.0          4         112.0   \n",
      "365          chevrolet cavalier 2-door  34.0          4         112.0   \n",
      "366         pontiac j2000 se hatchback  31.0          4         112.0   \n",
      "367                     dodge aries se  29.0          4         135.0   \n",
      "368                    pontiac phoenix  27.0          4         151.0   \n",
      "369               ford fairmont futura  24.0          4         140.0   \n",
      "370                     amc concord dl  23.0          4         151.0   \n",
      "371                volkswagen rabbit l  36.0          4         105.0   \n",
      "372                 mazda glc custom l  37.0          4          91.0   \n",
      "373                   mazda glc custom  31.0          4          91.0   \n",
      "374             plymouth horizon miser  38.0          4         105.0   \n",
      "375                     mercury lynx l  36.0          4          98.0   \n",
      "376                   nissan stanza xe  36.0          4         120.0   \n",
      "377                       honda accord  36.0          4         107.0   \n",
      "378                     toyota corolla  34.0          4         108.0   \n",
      "379                        honda civic  38.0          4          91.0   \n",
      "380                 honda civic (auto)  32.0          4          91.0   \n",
      "381                      datsun 310 gx  38.0          4          91.0   \n",
      "382              buick century limited  25.0          6         181.0   \n",
      "383  oldsmobile cutlass ciera (diesel)  38.0          6         262.0   \n",
      "384         chrysler lebaron medallion  26.0          4         156.0   \n",
      "385                     ford granada l  22.0          6         232.0   \n",
      "386                   toyota celica gt  32.0          4         144.0   \n",
      "387                  dodge charger 2.2  36.0          4         135.0   \n",
      "388                   chevrolet camaro  27.0          4         151.0   \n",
      "389                    ford mustang gl  27.0          4         140.0   \n",
      "390                          vw pickup  44.0          4          97.0   \n",
      "391                      dodge rampage  32.0          4         135.0   \n",
      "392                        ford ranger  28.0          4         120.0   \n",
      "393                         chevy s-10  31.0          4         119.0   \n",
      "\n",
      "     Horsepower  Weight  Acceleration  Year  Origin  \n",
      "0         130.0    3504          12.0    70      US  \n",
      "1         165.0    3693          11.5    70      US  \n",
      "2         150.0    3436          11.0    70      US  \n",
      "3         150.0    3433          12.0    70      US  \n",
      "4         140.0    3449          10.5    70      US  \n",
      "5         198.0    4341          10.0    70      US  \n",
      "6         220.0    4354           9.0    70      US  \n",
      "7         215.0    4312           8.5    70      US  \n",
      "8         225.0    4425          10.0    70      US  \n",
      "9         190.0    3850           8.5    70      US  \n",
      "10        170.0    3563          10.0    70      US  \n",
      "11        160.0    3609           8.0    70      US  \n",
      "12        150.0    3761           9.5    70      US  \n",
      "13        225.0    3086          10.0    70      US  \n",
      "14         95.0    2372          15.0    70   Japan  \n",
      "15         95.0    2833          15.5    70      US  \n",
      "16         97.0    2774          15.5    70      US  \n",
      "17         85.0    2587          16.0    70      US  \n",
      "18         88.0    2130          14.5    70   Japan  \n",
      "19         46.0    1835          20.5    70  Europe  \n",
      "20         87.0    2672          17.5    70  Europe  \n",
      "21         90.0    2430          14.5    70  Europe  \n",
      "22         95.0    2375          17.5    70  Europe  \n",
      "23        113.0    2234          12.5    70  Europe  \n",
      "24         90.0    2648          15.0    70      US  \n",
      "25        215.0    4615          14.0    70      US  \n",
      "26        200.0    4376          15.0    70      US  \n",
      "27        210.0    4382          13.5    70      US  \n",
      "28        193.0    4732          18.5    70      US  \n",
      "29         88.0    2130          14.5    71   Japan  \n",
      "..          ...     ...           ...   ...     ...  \n",
      "364        88.0    2640          18.6    82      US  \n",
      "365        88.0    2395          18.0    82      US  \n",
      "366        85.0    2575          16.2    82      US  \n",
      "367        84.0    2525          16.0    82      US  \n",
      "368        90.0    2735          18.0    82      US  \n",
      "369        92.0    2865          16.4    82      US  \n",
      "370         NaN    3035          20.5    82      US  \n",
      "371        74.0    1980          15.3    82  Europe  \n",
      "372        68.0    2025          18.2    82   Japan  \n",
      "373        68.0    1970          17.6    82   Japan  \n",
      "374        63.0    2125          14.7    82      US  \n",
      "375        70.0    2125          17.3    82      US  \n",
      "376        88.0    2160          14.5    82   Japan  \n",
      "377        75.0    2205          14.5    82   Japan  \n",
      "378        70.0    2245          16.9    82   Japan  \n",
      "379        67.0    1965          15.0    82   Japan  \n",
      "380        67.0    1965          15.7    82   Japan  \n",
      "381        67.0    1995          16.2    82   Japan  \n",
      "382       110.0    2945          16.4    82      US  \n",
      "383        85.0    3015          17.0    82      US  \n",
      "384        92.0    2585          14.5    82      US  \n",
      "385       112.0    2835          14.7    82      US  \n",
      "386        96.0    2665          13.9    82   Japan  \n",
      "387        84.0    2370          13.0    82      US  \n",
      "388        90.0    2950          17.3    82      US  \n",
      "389        86.0    2790          15.6    82      US  \n",
      "390        52.0    2130          24.6    82  Europe  \n",
      "391        84.0    2295          11.6    82      US  \n",
      "392        79.0    2625          18.6    82      US  \n",
      "393        82.0    2720          19.4    82      US  \n",
      "\n",
      "[394 rows x 9 columns]\n"
     ]
    }
   ],
   "source": [
    "###################################################################33\n",
    "#therefore finally:\n",
    "filename = r'C:\\Users\\anshs\\00ANSH_PYTHON\\04-10-18 [1] NUMPY\\PANDAS\\cars.csv'\n",
    "\n",
    "table = pd.read_csv(filename)\n",
    "print(\">>>\", type(table), '\\n>>>\\n', table)\n"
   ]
  },
  {
   "cell_type": "code",
   "execution_count": 5,
   "metadata": {},
   "outputs": [
    {
     "name": "stdout",
     "output_type": "stream",
     "text": [
      ">>>\n",
      " <class 'numpy.float64'> 318.0\n",
      ">>>\n",
      " <class 'pandas.core.series.Series'> Model           plymouth satellite\n",
      "MPG                             18\n",
      "Cylinders                        8\n",
      "Displacement                   318\n",
      "Horsepower                     150\n",
      "Weight                        3436\n",
      "Acceleration                    11\n",
      "Year                            70\n",
      "Origin                          US\n",
      "Name: 2, dtype: object\n",
      ">>>\n",
      " <class 'pandas.core.series.Series'> 0      307.0\n",
      "1      350.0\n",
      "2      318.0\n",
      "3      304.0\n",
      "4      302.0\n",
      "5      429.0\n",
      "6      454.0\n",
      "7      440.0\n",
      "8      455.0\n",
      "9      390.0\n",
      "10     383.0\n",
      "11     340.0\n",
      "12     400.0\n",
      "13     455.0\n",
      "14     113.0\n",
      "15     198.0\n",
      "16     199.0\n",
      "17     200.0\n",
      "18      97.0\n",
      "19      97.0\n",
      "20     110.0\n",
      "21     107.0\n",
      "22     104.0\n",
      "23     121.0\n",
      "24     199.0\n",
      "25     360.0\n",
      "26     307.0\n",
      "27     318.0\n",
      "28     304.0\n",
      "29      97.0\n",
      "       ...  \n",
      "364    112.0\n",
      "365    112.0\n",
      "366    112.0\n",
      "367    135.0\n",
      "368    151.0\n",
      "369    140.0\n",
      "370    151.0\n",
      "371    105.0\n",
      "372     91.0\n",
      "373     91.0\n",
      "374    105.0\n",
      "375     98.0\n",
      "376    120.0\n",
      "377    107.0\n",
      "378    108.0\n",
      "379     91.0\n",
      "380     91.0\n",
      "381     91.0\n",
      "382    181.0\n",
      "383    262.0\n",
      "384    156.0\n",
      "385    232.0\n",
      "386    144.0\n",
      "387    135.0\n",
      "388    151.0\n",
      "389    140.0\n",
      "390     97.0\n",
      "391    135.0\n",
      "392    120.0\n",
      "393    119.0\n",
      "Name: Displacement, Length: 394, dtype: float64\n"
     ]
    }
   ],
   "source": [
    "# Accessing a cell\n",
    "value = table['Displacement'][2]\n",
    "print('>>>\\n', type(value), value)\n",
    "\n",
    "# Accessing a row\n",
    "value = table.loc[2]  # not print(table[:][2])\n",
    "print('>>>\\n', type(value), value)  # gives the data in Series Data structure\n",
    "\n",
    "# Accessing a complete column\n",
    "value = table['Displacement']\n",
    "print('>>>\\n', type(value), value)  # gives the data in Series Data structure"
   ]
  },
  {
   "cell_type": "code",
   "execution_count": null,
   "metadata": {},
   "outputs": [],
   "source": []
  }
 ],
 "metadata": {
  "kernelspec": {
   "display_name": "Python 3",
   "language": "python",
   "name": "python3"
  },
  "language_info": {
   "codemirror_mode": {
    "name": "ipython",
    "version": 3
   },
   "file_extension": ".py",
   "mimetype": "text/x-python",
   "name": "python",
   "nbconvert_exporter": "python",
   "pygments_lexer": "ipython3",
   "version": "3.6.6"
  }
 },
 "nbformat": 4,
 "nbformat_minor": 1
}
