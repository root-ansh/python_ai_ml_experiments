{
 "cells": [
  {
   "cell_type": "code",
   "execution_count": 7,
   "metadata": {
    "collapsed": true
   },
   "outputs": [],
   "source": [
    "'''\n",
    "\"A histogram is a plot that lets you discover, and show, the underlying frequency \n",
    "distribution (shape) of a set of continuous data.\n",
    "This allows the inspection of the data for its underlying distribution \n",
    "(e.g., normal distribution), outliers, skewness, etc.\"\n",
    "\n",
    "basically , it is a way to convert a lot of discrete data into continuous \n",
    "distribution , and then represent it.\n",
    "For example,this is the data of ages in our locality:\n",
    " ______________________________\n",
    "|36,25,38,46,55,68,72,55,36,38 |\n",
    "|67,45,22,48,91,46,52,61,58,55 |\n",
    "|______________________________|\n",
    "\n",
    "we can convert it into a continuous frequency distributuion as:\n",
    "\n",
    "Bin\t    Frequency\tActual values(ages)\n",
    "20-30\t    2\t        25,22\n",
    "30-40\t    4\t        36,38,36,38\n",
    "40-50\t    4\t        46,45,48,46\n",
    "50-60\t    5\t        55,55,52,58,55\n",
    "60-70\t    3\t        68,67,61\n",
    "70-80\t    1\t        72\n",
    "80-90\t    0\t        -\n",
    "90-100\t    1\t        91\n",
    "here frequency will be the number of ages that fall in the group \n",
    "and the bin will be group itself.\n",
    "\n",
    "if we gotta represent it on a graph, it will be like:\n",
    "\n",
    "+--------------------------------------------------+\n",
    "| 5.0-|         +-+                                |\n",
    "|     |         | |                                |\n",
    "| 4.0-|     +-+-+ |                                |\n",
    "|     |     | | | |                                |\n",
    "| 3.0-|     | | | +-+                              |\n",
    "|     |     | | | | |                              |\n",
    "| 2.0-|   +-+ | | | |                              |\n",
    "|     |   | | | | | |                              |\n",
    "| 1.0-|   | | | | | +-+ +-+                        |\n",
    "|     |   | | | | | | | | |                        |\n",
    "|     +---+-+-+-+-+-+-+-+-+---------------------+  |\n",
    "|         2 3 4 5 6 7 8 9 1                        |\n",
    "|         0 0 0 0 0 0 0 0 0                        |\n",
    "|                         0                        |\n",
    "+--------------------------------------------------+\n",
    "but we rather use matplotlib to generate more real like graphs.\n",
    "'''\n",
    "a=5\n"
   ]
  },
  {
   "cell_type": "code",
   "execution_count": 6,
   "metadata": {},
   "outputs": [],
   "source": [
    "\n",
    "import  numpy as np\n",
    "import  matplotlib.pyplot as plt\n"
   ]
  },
  {
   "cell_type": "code",
   "execution_count": 8,
   "metadata": {},
   "outputs": [
    {
     "name": "stdout",
     "output_type": "stream",
     "text": [
      "(array([0, 2, 2, 1], dtype=int64), array([0, 1, 2, 3, 4]))\n"
     ]
    }
   ],
   "source": [
    "data = 1, 2, 2, 3, 1\n",
    "bins = 0,1,2,3,4\n",
    "\n",
    "freq_dist=np.histogram(data,bins)#frquency distributuion chart represented as nd arrays.\n",
    "\n",
    "print(freq_dist)\n",
    "#ans:(array([0, 2, 2, 1], dtype=int64), array([0, 1, 2, 3, 4]))\n",
    "\"\"\"\n",
    "#expl: \n",
    "0-1  : 0 items\n",
    "1-2 : 2 items\n",
    "2-3 : 2 irems\n",
    "3-4 :1 items \n",
    "\n",
    "\"\"\"\n",
    "\n"
   ]
  },
  {
   "cell_type": "code",
   "execution_count": 26,
   "metadata": {
    "collapsed": true
   },
   "outputs": [
    {
     "name": "stdout",
     "output_type": "stream",
     "text": [
      ">>>\n [ 1.5489163   1.42482827  1.81631071  2.25629568  2.3346663   1.56045708\n  1.90213386  0.94063532  2.88493151  2.91603343  2.39543938  1.70763019\n  2.41370982  2.03242394  1.27267907  2.31191646  1.67982649  1.86479523\n  2.29166866  2.21523945  2.55408546  2.67573963  1.30693977  2.15077425\n  1.63058702 -0.07568528  1.62037307  1.31661463  2.93599555  1.41142555\n  1.7028321   1.70803602  2.19086595  0.98458094  1.46138899  2.34656054\n  2.66073289  0.70642097  2.33707159  0.81459921  2.37320611  1.96794177\n  1.43842864  2.96456004  1.87928437  2.20168786  2.40682231  1.75851159\n  2.26642086  2.04048042  2.26793395  1.89650462  1.48061645  1.60876262\n  2.11227438  2.12916218  2.64139274  1.7485145   1.42452487  0.9171662\n  1.74758415  1.29911514  1.46000626  3.22885778  1.95755068  2.77940955\n  2.11329591  2.72055163  1.95962772  2.20362063  2.53427398  1.81326713\n  0.75748888  1.68654324  2.30764986  2.76787346  2.3185628   2.02486531\n  1.72720957  2.2784767   0.65963442  1.63279283  1.84978617  0.9543549\n  1.58409116  1.67484588  1.18509324  0.96417854  1.66058061  2.59033429\n  1.44979803  1.70379171  2.47308785  2.5793483   1.74342741  1.78917467\n  1.901144    2.59656375  1.5781128   2.76861034]\n>>> 100\n>>> -0.07568527591919327\n>>> 3.228857780261775\n>>> [-2. -1.  0.  1.  2.  3.  4.]\n(array([ 0,  1,  9, 46, 43,  1], dtype=int64), array([-2., -1.,  0.,  1.,  2.,  3.,  4.]))\n"
     ]
    }
   ],
   "source": [
    "avg, std_dev = 2, 0.6\n",
    "data = np.random.normal(avg, std_dev, 100)  # will generate 100 numbers having avg=2, std deviation = 0.6\n",
    "print(\">>>\\n\", data)\n",
    "print(\">>>\", len(data))\n",
    "print(\">>>\", data.min())\n",
    "print(\">>>\", data.max())\n",
    "\n",
    "bins = np.arange(np.round(data.min())-2, np.round(data.max() )+2, 1.0)\n",
    "print(\">>>\", bins)\n",
    "\n",
    "freq_dist=np.histogram(data,bins)\n",
    "print(freq_dist)\n"
   ]
  },
  {
   "cell_type": "code",
   "execution_count": 27,
   "metadata": {},
   "outputs": [
    {
     "name": "stdout",
     "output_type": "stream",
     "text": [
      ">>>\n [1.81466208 1.1909752  1.06730844 2.38197738 1.54976367 1.27537912\n 3.44397502 1.91054232 2.83821541 1.93092629 1.70212319 2.23972527\n 1.53196431 1.56789965 1.36365286 2.92096618 0.66141718 2.47360112\n 2.46972422 1.6617532  2.16535535 0.78286644 2.1050224  2.52955253\n 1.23443543 2.35201063 2.52591453 2.26445951 1.61899786 2.31237344\n 2.43886314 2.3308592  2.08140961 1.6119631  3.00984408 2.28965198\n 1.72260447 2.18668283 1.72862363 2.30748282 1.88081974 1.83151302\n 2.41673017 2.33313556 2.79438411 3.11195848 3.38786621 1.43695872\n 2.2021857  1.83511548 2.53088963 2.14945032 2.30610638 2.07539115\n 1.08047237 1.92197016 2.68458039 3.53391281 1.65658391 2.24067655\n 2.08954976 1.92131353 2.58228387 2.56398571 1.78044937 2.01876895\n 0.84768929 2.11099317 3.34580983 1.9812594  1.65611753 2.05527302\n 2.36820381 2.99673004 1.22174083 1.68432743 2.0443874  1.76015945\n 1.74964043 1.22924959 1.86024421 3.28294068 3.39988674 1.62323605\n 1.24799317 2.79318012 2.12528834 1.667591   1.62292137 1.61408036\n 2.20528005 1.46591313 1.76054176 2.88218653 1.32335677 2.06094928\n 2.07711773 1.81761329 3.26769938 1.17982269]\n>>> 100\n>>> 0.6614171801759721\n>>> 3.533912806949864\n(array([10, 26, 39, 15, 10], dtype=int64), array([0.66141718, 1.23591631, 1.81041543, 2.38491456, 2.95941368,\n       3.53391281]))\n"
     ]
    }
   ],
   "source": [
    "# in the last question , we were generating bins mathemetically.\n",
    "# we can also generated bind automatically by providing the number of \n",
    "# bins required. and it will automatically select the range for them\n",
    "\n",
    "\n",
    "avg, std_dev = 2, 0.6\n",
    "data = np.random.normal(avg, std_dev, 100)  # will generate 100 numbers having avg=2, std deviation = 0.6\n",
    "print(\">>>\\n\", data)\n",
    "print(\">>>\", len(data))\n",
    "print(\">>>\", data.min())\n",
    "print(\">>>\", data.max())\n",
    "\n",
    "bins_count= 5\n",
    "freq_dist=np.histogram(data,bins_count)\n",
    "print(freq_dist)\n",
    "# this will fit the whole data in weird ,5 non decimal bins \n"
   ]
  },
  {
   "cell_type": "code",
   "execution_count": 30,
   "metadata": {},
   "outputs": [
    {
     "data": {
      "image/png": "[encoded data removed]",
      "text/plain": [
       "<Figure size 432x288 with 1 Axes>"
      ]
     },
     "metadata": {},
     "output_type": "display_data"
    }
   ],
   "source": [
    "#plotting this data on a real graph\n",
    "#plt.plot(x values,y values)\n",
    "# we plot the x values from the second element of bins list.\n",
    "\n",
    "plt.plot(freq_dist[1][1:],freq_dist[0])\n",
    "plt.show()\n",
    "\n"
   ]
  },
  {
   "cell_type": "code",
   "execution_count": 38,
   "metadata": {},
   "outputs": [
    {
     "name": "stdout",
     "output_type": "stream",
     "text": [
      ">>> 100\n>>> 0.36443459689577384\n>>> 3.9981816032925668\n>>> [-2. -1.  0.  1.  2.  3.  4.  5.]\n(array([ 0,  0,  5, 50, 40,  5,  0], dtype=int64), array([-2., -1.,  0.,  1.,  2.,  3.,  4.,  5.]))\n"
     ]
    },
    {
     "data": {
      "text/plain": [
       "[<matplotlib.lines.Line2D at 0x226ccd55ac8>]"
      ]
     },
     "execution_count": 38,
     "metadata": {},
     "output_type": "execute_result"
    },
    {
     "data": {
      "image/png": "[encoded data removed]",
      "text/plain": [
       "<Figure size 432x288 with 1 Axes>"
      ]
     },
     "metadata": {},
     "output_type": "display_data"
    }
   ],
   "source": [
    "avg, std_dev = 2, 0.6\n",
    "data = np.random.normal(avg, std_dev, 100)  # will generate 100 numbers having avg=2, std deviation = 0.6\n",
    "#print(\">>>\\n\", data)\n",
    "print(\">>>\", len(data))\n",
    "print(\">>>\", data.min())\n",
    "print(\">>>\", data.max())\n",
    "\n",
    "bins = np.arange(np.round(data.min())-2, np.round(data.max() )+2, 1.0)\n",
    "print(\">>>\", bins)\n",
    "\n",
    "freq_dist=np.histogram(data,bins)\n",
    "print(freq_dist)\n",
    "plt.plot(freq_dist[1][1:],freq_dist[0])\n",
    "\n"
   ]
  },
  {
   "cell_type": "code",
   "execution_count": 39,
   "metadata": {},
   "outputs": [
    {
     "name": "stdout",
     "output_type": "stream",
     "text": [
      ">>> 100\n>>> 0.9562413258074594 3.8556743180461126\n>>> [-1.  0.  1.  2.  3.  4.  5.]\n"
     ]
    },
    {
     "data": {
      "image/png": "[encoded data removed]",
      "text/plain": [
       "<Figure size 432x288 with 1 Axes>"
      ]
     },
     "metadata": {},
     "output_type": "display_data"
    }
   ],
   "source": [
    "# but matplot lib has its own , and more efficient histogram plotting library\n",
    "avg, std_dev = 2, 0.6\n",
    "data = np.random.normal(avg, std_dev, 100)  # will generate 100 numbers having avg=2, std deviation = 0.6\n",
    "#print(\">>>\\n\", data)\n",
    "print(\">>>\", len(data))\n",
    "print(\">>>\", data.min(), data.max())\n",
    "bins = np.arange(np.round(data.min())-2, np.round(data.max() )+2, 1.0)\n",
    "print(\">>>\", bins)\n",
    "plt.hist(data,bins)\n",
    "plt.show()\n",
    "\n",
    "\n",
    "\n"
   ]
  },
  {
   "cell_type": "code",
   "execution_count": 43,
   "metadata": {},
   "outputs": [
    {
     "name": "stdout",
     "output_type": "stream",
     "text": [
      ">>> 100\n>>> 0.6800950891430217 3.1973201182075623\n>>> [-1.  0.  1.  2.  3.  4.]\n"
     ]
    },
    {
     "data": {
      "image/png": "[encoded data removed]",
      "text/plain": [
       "<Figure size 432x288 with 1 Axes>"
      ]
     },
     "metadata": {},
     "output_type": "display_data"
    }
   ],
   "source": [
    "# or we, could make it have fixed no. of bins and let it control bin edges automatically\n",
    "avg, std_dev = 2, 0.6\n",
    "data = np.random.normal(avg, std_dev, 100)  # will generate 100 numbers having avg=2, std deviation = 0.6\n",
    "#print(\">>>\\n\", data)\n",
    "print(\">>>\", len(data))\n",
    "print(\">>>\", data.min(), data.max())\n",
    "bins = np.arange(np.round(data.min())-2, np.round(data.max() )+2, 1.0)\n",
    "print(\">>>\", bins)\n",
    "plt.hist(data,bins=50)\n",
    "plt.show()\n"
   ]
  },
  {
   "cell_type": "code",
   "execution_count": 44,
   "metadata": {},
   "outputs": [
    {
     "name": "stdout",
     "output_type": "stream",
     "text": [
      ">>> 100\n>>> 0.4320959177375714 3.421411296063746\n"
     ]
    },
    {
     "data": {
      "image/png": "[encoded data removed]",
      "text/plain": [
       "<Figure size 432x288 with 1 Axes>"
      ]
     },
     "metadata": {},
     "output_type": "display_data"
    }
   ],
   "source": [
    "# hell, we don't even want to give it a number? just type 'auto', and it will \n",
    "# automatically decide how much bins would be good to represent this data\n",
    "avg, std_dev = 2, 0.6\n",
    "data = np.random.normal(avg, std_dev, 100)  # will generate 100 numbers having avg=2, std deviation = 0.6\n",
    "#print(\">>>\\n\", data)\n",
    "print(\">>>\", len(data))\n",
    "print(\">>>\", data.min(), data.max())\n",
    "\n",
    "plt.hist(data,bins='auto')\n",
    "plt.show()"
   ]
  },
  {
   "cell_type": "code",
   "execution_count": 55,
   "metadata": {},
   "outputs": [
    {
     "name": "stdout",
     "output_type": "stream",
     "text": [
      "(array([0, 6, 4, 5, 4, 2], dtype=int64), array([0, 1, 2, 3, 4, 5, 6]))\n"
     ]
    },
    {
     "data": {
      "image/png": "[encoded data removed]",
      "text/plain": [
       "<Figure size 432x288 with 1 Axes>"
      ]
     },
     "metadata": {},
     "output_type": "display_data"
    }
   ],
   "source": [
    "# assignment question\n",
    "import numpy as np\n",
    "import matplotlib.pyplot as plt\n",
    "\n",
    "data = [1, 2, 1, 3, 4, 5, 1, 3, 4, 1, 2, 3, 5, 4, 1, 2, 3, 4, 1, 3, 2]\n",
    "bins = [0, 1, 2, 3, 4, 5, 6]\n",
    "\n",
    "freq_dist = np.histogram(data, bins)\n",
    "print(freq_dist)  # numpy created in histogram\n",
    "\n",
    "plt.plot(freq_dist[1][1:], freq_dist[0]) # histogram using numpy histogram data\n",
    "#plt.hist(data, bins[1:]) #histogram created directly\n",
    "plt.show()"
   ]
  },
  {
   "cell_type": "code",
   "execution_count": null,
   "metadata": {},
   "outputs": [],
   "source": []
  }
 ],
 "metadata": {
  "kernelspec": {
   "display_name": "Python 2",
   "language": "python",
   "name": "python2"
  },
  "language_info": {
   "codemirror_mode": {
    "name": "ipython",
    "version": 2
   },
   "file_extension": ".py",
   "mimetype": "text/x-python",
   "name": "python",
   "nbconvert_exporter": "python",
   "pygments_lexer": "ipython2",
   "version": "2.7.6"
  }
 },
 "nbformat": 4,
 "nbformat_minor": 0
}
