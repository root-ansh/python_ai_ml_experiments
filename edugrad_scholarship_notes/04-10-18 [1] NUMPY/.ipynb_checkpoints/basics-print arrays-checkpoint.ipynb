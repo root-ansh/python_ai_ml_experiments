{
 "cells": [
  {
   "cell_type": "code",
   "execution_count": 1,
   "metadata": {},
   "outputs": [],
   "source": [
    "import numpy as np"
   ]
  },
  {
   "cell_type": "code",
   "execution_count": 5,
   "metadata": {},
   "outputs": [
    {
     "name": "stdout",
     "output_type": "stream",
     "text": [
      "[[[ 0  1  2]\n",
      "  [ 3  4  5]]\n",
      "\n",
      " [[ 6  7  8]\n",
      "  [ 9 10 11]]\n",
      "\n",
      " [[12 13 14]\n",
      "  [15 16 17]]]\n"
     ]
    }
   ],
   "source": [
    "#1.basic printing\n",
    "x=np.arange(18).reshape(3,2,3)\n",
    "print(x)"
   ]
  },
  {
   "cell_type": "code",
   "execution_count": 9,
   "metadata": {},
   "outputs": [
    {
     "name": "stdout",
     "output_type": "stream",
     "text": [
      "[   0    1    2 ... 9997 9998 9999]\n",
      "===================\n",
      "[[   0    1    2 ...   97   98   99]\n",
      " [ 100  101  102 ...  197  198  199]\n",
      " [ 200  201  202 ...  297  298  299]\n",
      " ...\n",
      " [9700 9701 9702 ... 9797 9798 9799]\n",
      " [9800 9801 9802 ... 9897 9898 9899]\n",
      " [9900 9901 9902 ... 9997 9998 9999]]\n",
      "===================\n",
      "[[[    0     1     2]\n",
      "  [    3     4     5]]\n",
      "\n",
      " [[    6     7     8]\n",
      "  [    9    10    11]]\n",
      "\n",
      " [[   12    13    14]\n",
      "  [   15    16    17]]\n",
      "\n",
      " ...\n",
      "\n",
      " [[17982 17983 17984]\n",
      "  [17985 17986 17987]]\n",
      "\n",
      " [[17988 17989 17990]\n",
      "  [17991 17992 17993]]\n",
      "\n",
      " [[17994 17995 17996]\n",
      "  [17997 17998 17999]]]\n",
      "===================\n"
     ]
    }
   ],
   "source": [
    "# but this print function turns weird when array has lots of elements\n",
    "\n",
    "x=np.arange(10000)\n",
    "y=np.arange(10000).reshape(100,100)\n",
    "z=np.arange(18000).reshape(3000,2,3)\n",
    "\n",
    "print(x)\n",
    "print(\"===================\")\n",
    "print(y)\n",
    "print(\"===================\")\n",
    "print(z)\n",
    "print(\"===================\")\n",
    "\n"
   ]
  },
  {
   "cell_type": "code",
   "execution_count": 17,
   "metadata": {},
   "outputs": [
    {
     "name": "stdout",
     "output_type": "stream",
     "text": [
      "[   0    1    2 ... 1998 1999 2000]\n",
      "[   0    1    2 ... 1998 1999 2000]\n"
     ]
    }
   ],
   "source": [
    "#however if we set a threshhold value in numpy's print options to some value 'x', \n",
    "#we won't get  the '...' until the array size is bigger than 'x'\n",
    "a= np.arange(2000)\n",
    "print(a)\n",
    "np.set_printoptions(threshold=2000)\n",
    "a= np.arange(2000)\n",
    "print(a)\n",
    "\n",
    "#footnotes:\n",
    "#1.default threshold is 1000\n",
    "#2.to print full array always, irrespective of the size:\n",
    "    # np.set_printoptions(threshold=np.nan)\n",
    "\n",
    "\n"
   ]
  },
  {
   "cell_type": "code",
   "execution_count": null,
   "metadata": {},
   "outputs": [],
   "source": []
  }
 ],
 "metadata": {
  "kernelspec": {
   "display_name": "Python 3",
   "language": "python",
   "name": "python3"
  },
  "language_info": {
   "codemirror_mode": {
    "name": "ipython",
    "version": 3
   },
   "file_extension": ".py",
   "mimetype": "text/x-python",
   "name": "python",
   "nbconvert_exporter": "python",
   "pygments_lexer": "ipython3",
   "version": "3.6.6"
  }
 },
 "nbformat": 4,
 "nbformat_minor": 2
}
