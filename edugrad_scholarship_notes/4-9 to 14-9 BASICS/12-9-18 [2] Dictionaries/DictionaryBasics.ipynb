{
 "cells": [
  {
   "cell_type": "code",
   "execution_count": 16,
   "metadata": {},
   "outputs": [
    {
     "name": "stdout",
     "output_type": "stream",
     "text": [
      "{'a': 1, 1: 'a'}\n",
      "{'a': 'not a', 1: 'a'}\n",
      "{'a': 'not a', 1: 'a', 'ansh': True}\n",
      "<class 'dict_keys'> dict_keys(['a', 1, 'ansh'])\n",
      "<class 'dict_values'> , dict_values(['not a', 'a', True])\n",
      "dict_items([('a', 'not a'), (1, 'a'), ('ansh', True)])\n",
      "{1: 'a', 'ansh': True}\n",
      "{}\n"
     ]
    }
   ],
   "source": [
    "# dictionaries : My personal favourite\n",
    "\n",
    "d= dict({'a':1,1:'a'})\n",
    "print(d)\n",
    "\n",
    "d['a']=\"not a\"\n",
    "print(d)\n",
    "\n",
    "d['ansh']=True\n",
    "print(d)\n",
    "print(type(d.keys()),d.keys()) #returns an object of class dict_keys with all the keys\n",
    "print(type(d.values()),\",\",d.values())#returns an object of class dict_values with all the values\n",
    "\n",
    "#keys are immutable . therefore you cannot use list as key. but tuples can be used(altho not recomended)\n",
    "\n",
    "print(d.items())#list of key-value tuples\n",
    "d.pop('a')\n",
    "print(d)\n",
    "\n",
    "d.clear()\n",
    "print(d)\n",
    "\n",
    "\n",
    "#dictionaries are not oredered\n",
    "\n"
   ]
  },
  {
   "cell_type": "code",
   "execution_count": null,
   "metadata": {},
   "outputs": [],
   "source": []
  }
 ],
 "metadata": {
  "kernelspec": {
   "display_name": "Python 3",
   "language": "python",
   "name": "python3"
  },
  "language_info": {
   "codemirror_mode": {
    "name": "ipython",
    "version": 3
   },
   "file_extension": ".py",
   "mimetype": "text/x-python",
   "name": "python",
   "nbconvert_exporter": "python",
   "pygments_lexer": "ipython3",
   "version": "3.6.5"
  }
 },
 "nbformat": 4,
 "nbformat_minor": 2
}
