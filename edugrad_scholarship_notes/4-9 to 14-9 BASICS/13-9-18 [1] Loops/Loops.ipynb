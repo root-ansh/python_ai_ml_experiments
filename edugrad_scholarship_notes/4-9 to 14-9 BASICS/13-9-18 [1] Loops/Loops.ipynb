{
 "cells": [
  {
   "cell_type": "code",
   "execution_count": 4,
   "metadata": {},
   "outputs": [
    {
     "name": "stdout",
     "output_type": "stream",
     "text": [
      "wow, loops are nice"
     ]
    }
   ],
   "source": [
    "# python loops\n",
    "\n",
    "s=\"wow, loops are nice\"\n",
    "\n",
    "for i in s:\n",
    "    print(i,end='')\n",
    "    "
   ]
  },
  {
   "cell_type": "code",
   "execution_count": 7,
   "metadata": {},
   "outputs": [
    {
     "name": "stdout",
     "output_type": "stream",
     "text": [
      "<class 'range'> : -0-1-2-3-4-5-6-7-8-9-\n",
      "\n",
      "\n",
      "<class 'list'>\n",
      "this is a list but iterable . \n",
      "\n",
      "\n",
      "{'@': 'val1', '&': 'val2', '$$': 'val3'}\n",
      "dict_keys(['@', '&', '$$'])\n",
      "dict_values(['val1', 'val2', 'val3'])\n",
      "@ & $$ \n",
      "val1 val2 val3 \n",
      "@ val1\n",
      "& val2\n",
      "$$ val3\n"
     ]
    }
   ],
   "source": [
    "#python loops runs on classes that implement\n",
    "#the iterator/iterative interface (i guess)\n",
    "\n",
    "it_1=range(10)\n",
    "print(type(it_1),': -',end='')\n",
    "for i in it_1 :\n",
    "    print(i,end='-')\n",
    "print('\\n\\n')\n",
    "\n",
    "\n",
    "it_2=['this','is','a', 'list','but iterable','.']\n",
    "print(type(it_2))\n",
    "for i in it_2 :\n",
    "    print(i,end=' ')\n",
    "print('\\n\\n')\n",
    "\n",
    "\n",
    "x={'@':\"val1\",\"&\":'val2',\"$$\":\"val3\"}\n",
    "it_3=x.keys()\n",
    "it_4=x.values()\n",
    "print(x)\n",
    "print(it_3)\n",
    "print(it_4)\n",
    "for i in it_3 :\n",
    "    print(i,end=\" \")\n",
    "print()\n",
    "for i in it_4 :\n",
    "    print(i,end=\" \")\n",
    "print()\n",
    "# we can also iterate through key-value pairs at the same time using kb pairs list\n",
    "k_v_list =x.items() # [(@,val1),(&,val2),...]\n",
    "for i,j in k_v_list:\n",
    "    print(i,j)\n"
   ]
  },
  {
   "cell_type": "code",
   "execution_count": 20,
   "metadata": {},
   "outputs": [
    {
     "ename": "SyntaxError",
     "evalue": "invalid syntax (<ipython-input-20-1732aeedf069>, line 55)",
     "output_type": "error",
     "traceback": [
      "\u001b[1;36m  File \u001b[1;32m\"<ipython-input-20-1732aeedf069>\"\u001b[1;36m, line \u001b[1;32m55\u001b[0m\n\u001b[1;33m    for i in range(::):\u001b[0m\n\u001b[1;37m                   ^\u001b[0m\n\u001b[1;31mSyntaxError\u001b[0m\u001b[1;31m:\u001b[0m invalid syntax\n"
     ]
    }
   ],
   "source": [
    "# break , continue,pass and LOOP'S else conditional\n",
    "\n",
    "'''\n",
    "break : whenever this statement is encountered inside a loop, the loop \n",
    "gets immediately stopped\n",
    "'''\n",
    "for i in range(10):\n",
    "    if(i>=5):\n",
    "        break\n",
    "    print(i,end=\"-\")\n",
    "print()\n",
    "\"\"\"\n",
    "else in loops :the syntax of loops also contain an optional 'else condition'\n",
    "in py2. it gets executed if loop is successfuly executed( and not stopped by \n",
    "statements like break)\n",
    "\"\"\"\n",
    "for i in range(10):\n",
    "    print(i,end='-')\n",
    "else:\n",
    "    print(\"finished sucessfully\")\n",
    "\n",
    "\"\"\"\n",
    "continue : when this statement is encountered , all the next lines to be executed are \n",
    "skipped for the current loop and next iteration is started  \n",
    "\"\"\"\n",
    "for i in range(10):\n",
    "    if( i==5):\n",
    "        continue\n",
    "    print(i,end='-')\n",
    "print()\n",
    "#be careful to use it in conditions only\n",
    "print(\"when used carelessly, Output:\")\n",
    "for i in range(10):\n",
    "    continue\n",
    "    print(i,end='-')\n",
    "print()\n",
    "\"\"\"\n",
    "pass: that's an utterly useless keyword made to provide sytntactic stability to a python's code.\n",
    "for eg, in other languages if you just write  \"if(a==5){}\", this will simply  do nothing when 5 is \n",
    "encountered. infact, the whole point of this statement is moot, if you don't have any plans for this \n",
    "check in nearby future.But it is especially useful when, for example you need the if check in future.\n",
    "currently its an harmless check, and when needed can be converted to a bunch of codelines to be executed \n",
    "on postive response, all thanks to braces:{ }. \n",
    "Also , since python is strict on indentations, youcan't write an empty for loop or empty if check. but\n",
    "using this, 'pass' keyword , you can happly do so\n",
    "\"\"\"\n",
    "\n",
    "for i in range(10):\n",
    "    if( i==5):\n",
    "        pass\n",
    "    print(i,end='-')\n",
    "print()   \n",
    "#============================\n",
    "\n",
    "# we can't make an infinite loop with for loop\n",
    "#i=0\n",
    "#for i in range(::):\n",
    "#    print(i++)"
   ]
  },
  {
   "cell_type": "code",
   "execution_count": 28,
   "metadata": {},
   "outputs": [
    {
     "name": "stdout",
     "output_type": "stream",
     "text": [
      "012345\n",
      "01234"
     ]
    }
   ],
   "source": [
    "# the solution for an infinite loop is A WHILE LOOP\n",
    "\"\"\"\n",
    "while is an alternative , more raw form of a for loop. its quite flexible and cool. we can make infinite \n",
    "loops with it, we can define logics which would run before or after  the checking of condition , we could \n",
    "make a loop that runs on decimal indexes and not integral indexes , basically its a superset of a for loop. \n",
    "\"\"\"\n",
    "\n",
    "#infinite loop\n",
    "#while True:\n",
    "#    print(\"I am god\")\n",
    "\n",
    "#(task : print numbers 0,1,2,3,4)\n",
    "# running logic 'after' the check:5 also gets printed since logic is checked after printing.\n",
    "i=0\n",
    "while True:\n",
    "    print(i,end='')\n",
    "    if(i>=5):\n",
    "        break\n",
    "    i+=1\n",
    "print()\n",
    "# running logic 'after' the check:5 does not get printed.\n",
    "i=0\n",
    "while True:\n",
    "    if(i>=5):\n",
    "        break\n",
    "    print(i,end='')\n",
    "   \n",
    "    i+=1\n",
    "\n",
    "# using float for iterating: printing 20 numbers between  0 and 1\n",
    "# todo\n",
    "\n",
    "\n",
    "# note we can also use continue /break/ else/... with while loops too\n"
   ]
  },
  {
   "cell_type": "code",
   "execution_count": null,
   "metadata": {},
   "outputs": [],
   "source": [
    "\n",
    "\n",
    "#todo more on print() function, \n",
    "#range() function, functions in general\n",
    "# naming variables in python"
   ]
  }
 ],
 "metadata": {
  "kernelspec": {
   "display_name": "Python 3",
   "language": "python",
   "name": "python3"
  },
  "language_info": {
   "codemirror_mode": {
    "name": "ipython",
    "version": 3
   },
   "file_extension": ".py",
   "mimetype": "text/x-python",
   "name": "python",
   "nbconvert_exporter": "python",
   "pygments_lexer": "ipython3",
   "version": "3.6.5"
  }
 },
 "nbformat": 4,
 "nbformat_minor": 2
}
