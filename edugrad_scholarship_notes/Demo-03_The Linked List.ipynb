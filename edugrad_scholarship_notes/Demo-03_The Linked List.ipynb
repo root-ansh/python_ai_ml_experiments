{
 "cells": [
  {
   "cell_type": "code",
   "execution_count": 1,
   "metadata": {},
   "outputs": [],
   "source": [
    "class ListNode:\n",
    "    \"\"\"\n",
    "    A node in a singly-linked list.\n",
    "    \"\"\"\n",
    "    def __init__(self, data=None, next=None):\n",
    "        self.data = data\n",
    "        self.next = next\n",
    "\n",
    "    def __repr__(self):\n",
    "        return repr(self.data)"
   ]
  },
  {
   "cell_type": "code",
   "execution_count": 2,
   "metadata": {},
   "outputs": [],
   "source": [
    "class LinkedList:\n",
    "    def __init__(self):\n",
    "        \"\"\"\n",
    "        Create a new singly-linked list.   \n",
    "        \"\"\"\n",
    "        self.head = None\n",
    "\n",
    "    def __repr__(self):\n",
    "        \"\"\"\n",
    "        Return a string representation of the list.\n",
    "        \"\"\"\n",
    "        nodes = []\n",
    "        curr = self.head\n",
    "        while curr:\n",
    "            nodes.append(repr(curr))\n",
    "            curr = curr.next\n",
    "        return '[' + ', '.join(nodes) + ']'\n",
    "\n",
    "    def prepend(self, data):\n",
    "        \"\"\"\n",
    "        Insert a new element at the beginning of the list.\n",
    "        \"\"\"\n",
    "        self.head = ListNode(data=data, next=self.head)\n",
    "\n",
    "    def addNode(self, data):\n",
    "        \"\"\"\n",
    "        Insert a new element at the end of the list.     \n",
    "        \"\"\"\n",
    "        if not self.head:\n",
    "            self.head = ListNode(data=data)\n",
    "            return\n",
    "        curr = self.head\n",
    "        while curr.next:\n",
    "            curr = curr.next\n",
    "        curr.next = ListNode(data=data)\n",
    "               \n",
    "    def addInbetween(self,middle_node,data):\n",
    "        \"\"\"\n",
    "        Insert a new element in between of the list.     \n",
    "        \"\"\"\n",
    "        if middle_node is None:\n",
    "            print(\"The mentioned node is absent\")\n",
    "            return\n",
    "        \n",
    "        curr = self.head\n",
    "        while curr and curr.data != middle_node:\n",
    "            curr = curr.next\n",
    "    \n",
    "        NewNode = ListNode(data = data)\n",
    "        NewNode.next = curr.next\n",
    "        curr.next = NewNode\n",
    "\n",
    "    def find(self, key):\n",
    "        \"\"\"\n",
    "        Search for the first element with `data` matching\n",
    "        `key`. Return the element or `None` if not found.\n",
    "        \"\"\"\n",
    "        curr = self.head\n",
    "        while curr and curr.data != key:\n",
    "            curr = curr.next\n",
    "        return curr  # Will be None if not found\n",
    "\n",
    "    def remove(self, key):\n",
    "        \"\"\"\n",
    "        Remove the first occurrence of `key` in the list.\n",
    "        \"\"\"\n",
    "        # Find the element and keep a\n",
    "        # reference to the element preceding it\n",
    "        curr = self.head\n",
    "        prev = None\n",
    "        while curr and curr.data != key:\n",
    "            prev = curr\n",
    "            curr = curr.next\n",
    "        # Unlink it from the list\n",
    "        if prev is None:\n",
    "            self.head = curr.next\n",
    "        elif curr:\n",
    "            prev.next = curr.next\n",
    "            curr.next = None\n",
    "\n",
    "    def reverse(self):\n",
    "        \"\"\"\n",
    "        Reverse the list in-place.\n",
    "        \"\"\"\n",
    "        curr = self.head\n",
    "        prev_node = None\n",
    "        next_node = None\n",
    "        while curr:\n",
    "            next_node = curr.next\n",
    "            curr.next = prev_node\n",
    "            prev_node = curr\n",
    "            curr = next_node\n",
    "        self.head = prev_node\n",
    "        \n",
    "    def countNodes(self):\n",
    "        \"\"\"\n",
    "        Count the number of nodes in the linked list.\n",
    "        \"\"\"\n",
    "        if (self.head  == None): \n",
    "            return  0\n",
    "        else: \n",
    "            curr = self.head\n",
    "            count = 0\n",
    "            while (curr != None):\n",
    "                curr = curr.next\n",
    "                count += 1            \n",
    "        return count"
   ]
  },
  {
   "cell_type": "code",
   "execution_count": 3,
   "metadata": {},
   "outputs": [],
   "source": [
    "days = LinkedList()"
   ]
  },
  {
   "cell_type": "code",
   "execution_count": 4,
   "metadata": {},
   "outputs": [
    {
     "data": {
      "text/plain": [
       "[]"
      ]
     },
     "execution_count": 4,
     "metadata": {},
     "output_type": "execute_result"
    }
   ],
   "source": [
    "days"
   ]
  },
  {
   "cell_type": "code",
   "execution_count": 5,
   "metadata": {},
   "outputs": [],
   "source": [
    "days.addNode(\"Sunday\")\n",
    "days.addNode(\"Monday\")\n",
    "days.addNode(\"Tuesday\")\n",
    "days.addNode(\"Wednesday\")\n",
    "days.addNode(\"Thrusday\")\n",
    "days.addNode(\"Friday\")\n",
    "days.addNode(\"Saturday\")"
   ]
  },
  {
   "cell_type": "code",
   "execution_count": 6,
   "metadata": {},
   "outputs": [
    {
     "data": {
      "text/plain": [
       "['Sunday', 'Monday', 'Tuesday', 'Wednesday', 'Thrusday', 'Friday', 'Saturday']"
      ]
     },
     "execution_count": 6,
     "metadata": {},
     "output_type": "execute_result"
    }
   ],
   "source": [
    "days"
   ]
  },
  {
   "cell_type": "code",
   "execution_count": 7,
   "metadata": {},
   "outputs": [],
   "source": [
    "days.reverse()"
   ]
  },
  {
   "cell_type": "code",
   "execution_count": 8,
   "metadata": {},
   "outputs": [
    {
     "data": {
      "text/plain": [
       "['Saturday', 'Friday', 'Thrusday', 'Wednesday', 'Tuesday', 'Monday', 'Sunday']"
      ]
     },
     "execution_count": 8,
     "metadata": {},
     "output_type": "execute_result"
    }
   ],
   "source": [
    "days"
   ]
  },
  {
   "cell_type": "code",
   "execution_count": 9,
   "metadata": {},
   "outputs": [],
   "source": [
    "days.reverse()"
   ]
  },
  {
   "cell_type": "code",
   "execution_count": 10,
   "metadata": {},
   "outputs": [
    {
     "data": {
      "text/plain": [
       "['Sunday', 'Monday', 'Tuesday', 'Wednesday', 'Thrusday', 'Friday', 'Saturday']"
      ]
     },
     "execution_count": 10,
     "metadata": {},
     "output_type": "execute_result"
    }
   ],
   "source": [
    "days"
   ]
  },
  {
   "cell_type": "code",
   "execution_count": 11,
   "metadata": {},
   "outputs": [],
   "source": [
    "days.remove(\"Monday\")"
   ]
  },
  {
   "cell_type": "code",
   "execution_count": 12,
   "metadata": {},
   "outputs": [
    {
     "data": {
      "text/plain": [
       "['Sunday', 'Tuesday', 'Wednesday', 'Thrusday', 'Friday', 'Saturday']"
      ]
     },
     "execution_count": 12,
     "metadata": {},
     "output_type": "execute_result"
    }
   ],
   "source": [
    "days"
   ]
  },
  {
   "cell_type": "code",
   "execution_count": 13,
   "metadata": {},
   "outputs": [],
   "source": [
    "days.addInbetween(\"Wednesday\",\"This is not a day\")"
   ]
  },
  {
   "cell_type": "code",
   "execution_count": 14,
   "metadata": {},
   "outputs": [
    {
     "data": {
      "text/plain": [
       "['Sunday', 'Tuesday', 'Wednesday', 'This is not a day', 'Thrusday', 'Friday', 'Saturday']"
      ]
     },
     "execution_count": 14,
     "metadata": {},
     "output_type": "execute_result"
    }
   ],
   "source": [
    "days"
   ]
  },
  {
   "cell_type": "code",
   "execution_count": 15,
   "metadata": {},
   "outputs": [
    {
     "data": {
      "text/plain": [
       "\"['Sunday', 'Tuesday', 'Wednesday', 'This is not a day', 'Thrusday', 'Friday', 'Saturday']\""
      ]
     },
     "execution_count": 15,
     "metadata": {},
     "output_type": "execute_result"
    }
   ],
   "source": [
    "days.__repr__()"
   ]
  },
  {
   "cell_type": "code",
   "execution_count": 16,
   "metadata": {},
   "outputs": [
    {
     "data": {
      "text/plain": [
       "7"
      ]
     },
     "execution_count": 16,
     "metadata": {},
     "output_type": "execute_result"
    }
   ],
   "source": [
    "days.countNodes()"
   ]
  }
 ],
 "metadata": {
  "kernelspec": {
   "display_name": "Python 3",
   "language": "python",
   "name": "python3"
  },
  "language_info": {
   "codemirror_mode": {
    "name": "ipython",
    "version": 3
   },
   "file_extension": ".py",
   "mimetype": "text/x-python",
   "name": "python",
   "nbconvert_exporter": "python",
   "pygments_lexer": "ipython3",
   "version": "3.6.4"
  }
 },
 "nbformat": 4,
 "nbformat_minor": 2
}
