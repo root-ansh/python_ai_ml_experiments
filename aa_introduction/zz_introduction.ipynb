{
 "cells": [
  {
   "cell_type": "markdown",
   "metadata": {
    "collapsed": true
   },
   "source": [
    "# Deep Learning.\n",
    "Q.) what is deep learning , what is it used for ?  \n",
    "Ans.)  \n",
    "### Defination:  \n",
    "\n",
    "### Uses:  \n",
    "\n",
    "- Games : being better players( computer against man)\n",
    "- forcasting : weather , gambling games , stock prices, etc\n",
    "- recognitions :  \n",
    "    - recognising object , patterns , texts , even cancer cells from pictures\n",
    "    - recognising spamming emails.\n",
    "    - recognising paths in a maze, seperating red and blue balls using a line\n",
    "    - self driving cars  \n",
    "    \n",
    "    \n",
    "### how it works?  \n",
    "Neural networks:  \n",
    "Neural network tries to replicate how actual neurons work.  \n",
    "It has a lots of nodes, edges, layers , information coming in ad going out\n",
    "\n",
    "### classification problems.  \n",
    "\n",
    "#### Defination:  \n",
    "\n",
    "#### example:  \n",
    "Suppose we are the admission office from a university and we have to accept or\n",
    "reject students based on 2 criteria:  \n",
    "- the results of the admission test.\n",
    "- the grade in school\n",
    "\n",
    "Let's check out some student data.  \n",
    "```\n",
    "|student    |entry test results     |school grade   |results    |\n",
    "|-----------|-----------------------|---------------|-----------|\n",
    "|     1     |      9/10             |      8/10     |Accepted   |\n",
    "|     1     |      3/10             |      4/10     |Accepted   |\n",
    "|     1     |      7/10             |      6/10     |Rejected   |\n",
    "...\n",
    "```"
   ]
  },
  {
   "cell_type": "code",
   "execution_count": 37,
   "metadata": {},
   "outputs": [
    {
     "name": "stdout",
     "output_type": "stream",
     "text": [
      "Populating the interactive namespace from numpy and matplotlib\n"
     ]
    }
   ],
   "source": [
    "import numpy as np\n",
    "import pandas as pd\n",
    "import matplotlib.pyplot as plt\n",
    "import seaborn as sns\n",
    "from IPython.display import Image\n",
    "from IPython.core.display import HTML \n",
    "%pylab inline\n",
    "\n",
    "import matplotlib.image as mpimg\n",
    "\n"
   ]
  },
  {
   "cell_type": "code",
   "execution_count": 28,
   "metadata": {},
   "outputs": [
    {
     "data": {
      "text/plain": [
       "Text(0, 0.5, 'School_grade(y)')"
      ]
     },
     "execution_count": 28,
     "metadata": {},
     "output_type": "execute_result"
    },
    {
     "data": {
      "image/png": "[encoded data removed]",
      "text/plain": [
       "<Figure size 432x288 with 1 Axes>"
      ]
     },
     "metadata": {},
     "output_type": "display_data"
    }
   ],
   "source": [
    "x1, y1 = np.random.uniform(6, 11, 100), np.random.uniform(1, 11, 100)\n",
    "x2, y2 = np.random.uniform(1, 6, 100), np.random.uniform(1, 11, 100)\n",
    "\n",
    "plt.grid()\n",
    "plt.xticks(np.arange(0, 11, 1))\n",
    "plt.yticks(np.arange(0, 11, 1))\n",
    "plt.scatter(x1, y1,alpha=0.5)\n",
    "plt.scatter(x2, y2,alpha=0.5)\n",
    "\n",
    "plt.xlabel(\"Test_grade(X2)\")\n",
    "plt.ylabel(\"School_grade(X1)\")\n",
    "\n"
   ]
  },
  {
   "cell_type": "markdown",
   "metadata": {},
   "source": [
    "\n",
    "although there might be a working criteria for such data to divide this data based on marks and grade values, let's check out how an AI Algorithm will analyse this data and predict weather the next student data is marked accepted or rejected.  \n",
    "1. our \"program\" will first plot all the data on a graph( just for reference,in color coded format since the data already has its results)\n",
    "2. then our \"algorithm\" analyses the points and then then converts its  analysis into an equation of a line such that the line divides the data into accepted and rejected groups of student.This function S of this line will be now known as the **\"model\" for classification.**  \n",
    "3. after this model is created, we can simply pass the new data for it to classify. the input passes through the the \"model\" (created by th \"algorithm) and is assigned a score t = 0 or 1 . this point(x,y) , after recieving the score is plotted by the \"program\" as (x,y,t) where x,y defines its position & t defines its color(i.e blue <if algorithm has predicted it as accepted or 1> or orange <if algorithm has predicted it as rejected or 0>\n",
    ").  \n",
    "4. How our algorithm ***creates a model*** is described later.\n",
    "5. in between step2 and step 3, we pass a lot of values to our model to **\"train it\"** . what is training how is it done, and what are its benefits is discussed later. \n",
    "\n",
    "So,for eg,  \n",
    "our algo has decided that line 2(x1)+(x2) = 18 is the model. now every student will be classified based on a score t( dependent on S).  \n",
    "S= 2(x1)+(x2)-18 .  \n",
    "if S>=0,\tt=1, We Accept(1)  \n",
    "if S<0 ,\tt=0, We Reject(0)  \n",
    "\n",
    "\n",
    "Thus, the general equation for a linar model will be:  \n",
    "**S= w1x1 + w2x2 +b** or , a line plot for eq.n : **w1x1+w2x2+b=0**   \n",
    "\n",
    "The vector equation of line will be:  \n",
    "**W.X+b=0**, where W=(w1,w2), X=(x1,x2)\n",
    "\n",
    "where:  \n",
    "w1,w2 are horizontal and vertical weights  \n",
    "x1,x2 are horizontal and vertical inputs  \n",
    "b is the bias.  \n",
    "\n",
    "thus, every new point (x,y) is now passed through this model to recieve a value t = 0 or 1 and our program plots them based on these values. "
   ]
  },
  {
   "cell_type": "markdown",
   "metadata": {},
   "source": [
    "---\n",
    "\n"
   ]
  },
  {
   "cell_type": "markdown",
   "metadata": {},
   "source": [
    "### Linear model in n dimensions.\n",
    "\n",
    "Let's say, we have another factor IQ to be considered while evaluation too. thus nw we will have student data as:\n"
   ]
  },
  {
   "cell_type": "code",
   "execution_count": 1,
   "metadata": {},
   "outputs": [],
   "source": [
    "#\n",
    "# student       |entry test results(x1)/10        |school grade(x2)/10        |IQ        |results(predicted or predefined)        |  \n",
    "#---------------|---------------------------------|---------------------------|----------|----------------------------------------|  \n",
    "#    1          |            9                    |            8/10           |3         |          Accepted                      |  \n",
    "#    1          |            3                    |            4/10           |7         |          Accepted                      |  \n",
    "#    1          |            7                    |            6/10           |5         |          Rejected                      |  \n",
    "#"
   ]
  },
  {
   "cell_type": "markdown",
   "metadata": {},
   "source": [
    "\n",
    "1. This data will be plotted on a 3 dimensional graph , and  with x1 axis as entry_test_results , x2 axis as school_grade and x3 axis as IQ.  \n",
    "2. instead of a linear model, our algorithm will create a 3 dimensional planer model such that:  \n",
    "\t- **S= w1x1 + w2x2 +w3x3 +b** \n",
    "\t- if (S>=0), we accept(1)  \n",
    "\tif(S<0), we reject(0)\n",
    "\n",
    "3. similarly , if there are n criterias for classification. our linear model wil be of n dimensions as:\n",
    "\t- **S= w1x1 + w2x2 +w3x3 + .... + wnxn +b** \n",
    "\n",
    "\n",
    "---  \n",
    "--- "
   ]
  },
  {
   "cell_type": "code",
   "execution_count": 1,
   "metadata": {},
   "outputs": [],
   "source": [
    "\n"
   ]
  },
  {
   "cell_type": "markdown",
   "metadata": {},
   "source": [
    "### Perceptron\n",
    "Perceptron is a single layer neural network and a multi-layer perceptron is called Neural Networks.Thus , perceptrons are the base of deep learning.It is basically a linear classifier , as described previously :  \n",
    "- It reads sample data (aka **inputs**) and creates a model.\n",
    "- It then reads any new input and multiplies it with a **weight** and adds/subtacts the *bias* . these weights are used as edgelabels and bias is often entered as another input(eg input node will be 1 and edgeweight will be -18) or simply as nodelabel. all these values are ***summed***.  \n",
    "- based on the value generated in the last step, it will predict a value, 0 or 1 based on certain condition ( eg , if Val(from last step) >2 , the 1 else 0) this condition checker function is called **Activation Function**.\n",
    "- based on this prediction , new values are plotted  \n",
    ", thus the perceptron is more like the image on right."
   ]
  },
  {
   "cell_type": "markdown",
   "metadata": {},
   "source": [
    "![this image is a gif, check in browser](https://cdn-images-1.medium.com/max/800/1*eEKb2RxREV6-MtLz2DNWFQ.gif){this image is a gif, check in browser}"
   ]
  },
  {
   "cell_type": "markdown",
   "metadata": {},
   "source": [
    "### Logical operators using perceptrons\n",
    "\n",
    "Logical operators can also be created using peceptronss.  \n",
    "Below , we can see the table of and gate. here we can simply have IN2 values as inputs and IN values as weights.  \n",
    "### our model will be the one taking the products of every point(x,y) i.e x.y and based on that, giving a value (i.e 0 or 1)  \n",
    "it can also be **IMAGINED** as:\n",
    "### our algorithm plotting the new values (x,y), and if they fall in the positve zone, giving  1 else 0  \n",
    "\n",
    "The below image shows the values being plotted in the second imagination manner.  \n"
   ]
  },
  {
   "cell_type": "code",
   "execution_count": 2,
   "metadata": {},
   "outputs": [],
   "source": [
    ""
   ]
  },
  {
   "cell_type": "markdown",
   "metadata": {},
   "source": [
    "**Here is a small working example of a model:**(check main() function)"
   ]
  },
  {
   "cell_type": "code",
   "execution_count": 129,
   "metadata": {},
   "outputs": [],
   "source": [
    ""
   ]
  },
  {
   "cell_type": "code",
   "execution_count": 130,
   "metadata": {},
   "outputs": [],
   "source": [
    ""
   ]
  },
  {
   "cell_type": "code",
   "execution_count": 2,
   "metadata": {},
   "outputs": [],
   "source": [
    ""
   ]
  },
  {
   "cell_type": "markdown",
   "metadata": {},
   "source": [
    "### Solution : w1 =1,w2,=1, b = -2"
   ]
  },
  {
   "cell_type": "code",
   "execution_count": 133,
   "metadata": {},
   "outputs": [],
   "source": [
    "weight1 = 1\n",
    "weight2 = 1\n",
    "bias = -2*1 # just for understanding\n",
    "inp = [(0, 0), (0, 1), (1, 0), (1, 1)]\n",
    "# i.e,\n",
    "# ---input1---input2--------correct_output\n",
    "# -----0--------0---------------False(-1/-2/-3/...)\n",
    "# -----0--------1---------------False(-1/-2/-3/...)\n",
    "# -----1--------0---------------False(-1/-2/-3/...)\n",
    "# -----1--------1---------------True(0/1/2/...)\n",
    "\n",
    "# lin_com = weight1 * inp[0] + weight2 * inp[1] + bias\n",
    "\n",
    "\n",
    "correct_outputs = [True, False, True,False]  # i.e 0,-1,0,-1 is the values we want using the next statement, for all inputs . \n",
    "                                             #  also 0 can be replaced with any value>=0 an -1 can be replaced with any value <0 i.e -1,-2,...\n",
    "\n",
    "\n",
    "\n",
    "#    weight1 * Input 1       :       1*(0011) = 0   ,0      ,1    ,1   \n",
    "#    weight2 * Input 2       :       1*(0101) = 0   ,1     ,0     ,1   \n",
    "#    value * bias            :     - 2*(1111) =-2   ,-2     ,-2   ,-2   \n",
    "# ===================================================================\n",
    "#            sum             :                -2    -1       -1       0\n",
    "# ===================================================================\n",
    "#          what we wanted    :              -1/-ve  -1/-ve  -1/-ve   0/+ve\n",
    "\n",
    "#correct answer will be:\n",
    "\n",
    "#    weight1 * Input 1       :      -1 *(0011) =0   ,0      ,-1    ,-1   \n",
    "#    weight2 * Input 2       :       1*(0101) =0    ,1      ,0     ,1   \n",
    "#    value * bias            :      -2 *(1111) =-2  ,-2    ,-2     ,-2   \n",
    "# ===================================================================\n",
    "#            sum             :                 -2    0       2       1\n",
    "# ===================================================================\n",
    "#          what we wanted    :               0/+ve  -1/-ve  0/+ve   -1/-ve\n",
    "\n",
    "\n"
   ]
  },
  {
   "cell_type": "markdown",
   "metadata": {},
   "source": [
    "i gave the following answer in udacity course:  \n",
    "\"\"\"  \n",
    "\n",
    "So here is me, a novice trying to explain what i understood for lesson 2.8 to help others . Try understanding the below code if you can . And others, please correct me if am wrong.  \n",
    "\n",
    "1. the `weights` and `bias` are the constants we need to tweak. lets assume them to `1`,`-1` and `1` respectively.  \n",
    "2. we have to  *multiply* the weights with inputs and add the results, along with the bias according to the `linear combination equation`.  \n",
    "3. also , we are provided with `correct_options` , which is a list of `boolean values` based on the condition `output = int(linear_combination >= 0)`.\n",
    "we can assume `True` as any `+ve number >=0` and `False` as any `-ve number` (keep this in mind for lateral steps.)\n",
    "4. now i multiplied all the inputs for `input1` (i.e,0011) with assumed weight (i,e `1`) which gave me *0,0,1,1* .\n",
    "Similarly i did for input2(i.e 1010) with its assumed weight(i.e `-1`)   which gae me *0,-1,0,-1*.\n",
    "the next step would be to add all of them, but before that, we have to add `bias`\n",
    "so i added bias to each input as 1*1111 =1111( it doesn't matter why i wrote like this, its just convineant , following a similar fashion.)\n",
    "\n",
    "5. after addition , i got 1021, which when interpretted through our code in step 3 , translates to `True,True,True,True` . now you have to \n",
    "correct this logic to find the correct combination for weight values and bias values.   \n",
    "\"\"\""
   ]
  },
  {
   "cell_type": "markdown",
   "metadata": {},
   "source": [
    "### OR MODEL"
   ]
  },
  {
   "cell_type": "code",
   "execution_count": 135,
   "metadata": {},
   "outputs": [
    {
     "name": "stdout",
     "output_type": "stream",
     "text": [
      "inp1=False(0)  ;  inp2=False(0)  ;  correct results=False  ;  predictive results=False \t;\tis correct prediction:  yes\ninp1=False(0)  ;  inp2=True(1)  ;  correct results=True  ;  predictive results=True \t;\tis correct prediction:  yes\ninp1=True(1)  ;  inp2=False(0)  ;  correct results=True  ;  predictive results=True \t;\tis correct prediction:  yes\ninp1=True(1)  ;  inp2=True(1)  ;  correct results=True  ;  predictive results=True \t;\tis correct prediction:  yes\n"
     ]
    }
   ],
   "source": [
    ""
   ]
  },
  {
   "cell_type": "markdown",
   "metadata": {},
   "source": [
    "### NOT Model\n",
    "since NOT is a unary function , therfore it will not consider the input for A and will simply give the result by inverting the input for B\n"
   ]
  },
  {
   "cell_type": "code",
   "execution_count": 136,
   "metadata": {},
   "outputs": [
    {
     "name": "stdout",
     "output_type": "stream",
     "text": [
      "inp1=False(0)  ;  inp2=False(0)  ;  correct results=True  ;  predictive results=True \t;\tis correct prediction:  yes\ninp1=False(0)  ;  inp2=True(1)  ;  correct results=False  ;  predictive results=False \t;\tis correct prediction:  yes\ninp1=True(1)  ;  inp2=False(0)  ;  correct results=True  ;  predictive results=True \t;\tis correct prediction:  yes\ninp1=True(1)  ;  inp2=True(1)  ;  correct results=False  ;  predictive results=False \t;\tis correct prediction:  yes\n"
     ]
    }
   ],
   "source": [
    ""
   ]
  },
  {
   "cell_type": "code",
   "execution_count": null,
   "metadata": {},
   "outputs": [],
   "source": []
  }
 ],
 "metadata": {
  "kernelspec": {
   "display_name": "Python 2",
   "language": "python",
   "name": "python2"
  },
  "language_info": {
   "codemirror_mode": {
    "name": "ipython",
    "version": 2
   },
   "file_extension": ".py",
   "mimetype": "text/x-python",
   "name": "python",
   "nbconvert_exporter": "python",
   "pygments_lexer": "ipython2",
   "version": "2.7.6"
  }
 },
 "nbformat": 4,
 "nbformat_minor": 0
}
