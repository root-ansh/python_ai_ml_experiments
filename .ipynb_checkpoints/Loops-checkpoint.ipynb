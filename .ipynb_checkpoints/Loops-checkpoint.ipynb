{
 "cells": [
  {
   "cell_type": "code",
   "execution_count": 1,
   "metadata": {},
   "outputs": [
    {
     "name": "stdout",
     "output_type": "stream",
     "text": [
      "wow,loops are nice"
     ]
    }
   ],
   "source": [
    "# python loops\n",
    "\n",
    "s=\"wow,loops are nice\"\n",
    "\n",
    "for i in s:\n",
    "    print(i,end='')\n",
    "    "
   ]
  },
  {
   "cell_type": "code",
   "execution_count": 10,
   "metadata": {},
   "outputs": [
    {
     "name": "stdout",
     "output_type": "stream",
     "text": [
      "<class 'range'> : -0-1-2-3-4-5-6-7-8-9-\n",
      "\n",
      "\n",
      "<class 'list'>\n",
      "this is a list but iterable . \n",
      "\n",
      "{'@': 'val1', '&': 'val2', '$$': 'val3'}\n",
      "dict_keys(['@', '&', '$$'])\n",
      "dict_values(['val1', 'val2', 'val3'])\n",
      "@ & $$ \n",
      "val1 val2 val3 "
     ]
    }
   ],
   "source": [
    "#python loops runs on classes that implement\n",
    "#the iterator/iterative interface (i guess)\n",
    "\n",
    "\n",
    "it_1=range(10)\n",
    "print(type(it_1),': -',end='')\n",
    "for i in it_1 :\n",
    "    print(i,end='-')\n",
    "print('\\n\\n')\n",
    "\n",
    "\n",
    "it_2=['this','is','a', 'list','but iterable','.']\n",
    "print(type(it_2))\n",
    "for i in it_2 :\n",
    "    print(i,end=' ')\n",
    "print()\n",
    "print()\n",
    "\n",
    "\n",
    "x={'@':\"val1\",\"&\":'val2',\"$$\":\"val3\"}\n",
    "it_3=x.keys()\n",
    "it_4=x.values()\n",
    "print(x)\n",
    "print(it_3)\n",
    "print(it_4)\n",
    "for i in it_3 :\n",
    "    print(i,end=\" \")\n",
    "print()\n",
    "for i in it_4 :\n",
    "    print(i,end=\" \")\n"
   ]
  },
  {
   "cell_type": "code",
   "execution_count": null,
   "metadata": {},
   "outputs": [],
   "source": []
  },
  {
   "cell_type": "code",
   "execution_count": null,
   "metadata": {},
   "outputs": [],
   "source": [
    "#todo more on print() function, \n",
    "#range() function, functions in general\n",
    "# naming variables in python"
   ]
  }
 ],
 "metadata": {
  "kernelspec": {
   "display_name": "Python 3",
   "language": "python",
   "name": "python3"
  },
  "language_info": {
   "codemirror_mode": {
    "name": "ipython",
    "version": 3
   },
   "file_extension": ".py",
   "mimetype": "text/x-python",
   "name": "python",
   "nbconvert_exporter": "python",
   "pygments_lexer": "ipython3",
   "version": "3.6.5"
  }
 },
 "nbformat": 4,
 "nbformat_minor": 2
}
