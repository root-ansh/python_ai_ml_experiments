{
 "cells": [
  {
   "cell_type": "code",
   "execution_count": 16,
   "metadata": {},
   "outputs": [],
   "source": [
    "#1+2+3+4+5"
   ]
  },
  {
   "cell_type": "code",
   "execution_count": 17,
   "metadata": {},
   "outputs": [],
   "source": [
    "def myAdd(a,b):\n",
    "    return a+b\n",
    "\n",
    "#myAdd(21.5,3)"
   ]
  },
  {
   "cell_type": "code",
   "execution_count": 18,
   "metadata": {
    "scrolled": true
   },
   "outputs": [],
   "source": [
    "def mySub(bigNo,smallNo):\n",
    "    return bigNo-smallNo\n",
    "#mySub(21,50)"
   ]
  },
  {
   "cell_type": "code",
   "execution_count": null,
   "metadata": {},
   "outputs": [],
   "source": [
    "def myMul(a,b):\n",
    "    return a*b"
   ]
  },
  {
   "cell_type": "code",
   "execution_count": 23,
   "metadata": {},
   "outputs": [],
   "source": [
    "def myExp(base,power):\n",
    "    return base**power\n",
    "#myExp(2,3)"
   ]
  },
  {
   "cell_type": "code",
   "execution_count": 24,
   "metadata": {},
   "outputs": [],
   "source": [
    "def myDiv(num,divider):\n",
    "    return num/divider # 12/5 =2.4 exact\n",
    "#myDiv(12,5)"
   ]
  },
  {
   "cell_type": "code",
   "execution_count": 25,
   "metadata": {},
   "outputs": [],
   "source": [
    "def myDivInteger(num,divider):\n",
    "    return num//divider # 12//5 =2( just the quotent)\n",
    "#myDivInteger(12,5)"
   ]
  },
  {
   "cell_type": "code",
   "execution_count": 27,
   "metadata": {},
   "outputs": [],
   "source": [
    "def myRemainder(num,divider):\n",
    "    return num%divider #14%5 =4\n",
    "#myRemainder(14,5)"
   ]
  },
  {
   "cell_type": "code",
   "execution_count": 32,
   "metadata": {},
   "outputs": [
    {
     "name": "stdout",
     "output_type": "stream",
     "text": [
      "hellobaby\n",
      "hello1\n"
     ]
    }
   ],
   "source": [
    "def concat(a,b):\n",
    "    return a+b\n",
    "\n",
    "print(concat(\"hello\",'baby'))\n",
    "print(concat(\"hello\",'      1'))\n",
    "print(concat(\"hello\",1))#Error #concatination between different data types not possible only string + char/ string possible"
   ]
  },
  {
   "cell_type": "code",
   "execution_count": 44,
   "metadata": {},
   "outputs": [
    {
     "data": {
      "text/plain": [
       "5"
      ]
     },
     "execution_count": 44,
     "metadata": {},
     "output_type": "execute_result"
    }
   ],
   "source": [
    "len(\"abc\")#3\n",
    "len((2,3))#2\n",
    "len([111,\"ansh\",22.3,0,'a'])#5\n",
    "#will show only the last len value"
   ]
  },
  {
   "cell_type": "code",
   "execution_count": 42,
   "metadata": {},
   "outputs": [
    {
     "data": {
      "text/plain": [
       "'ô'"
      ]
     },
     "execution_count": 42,
     "metadata": {},
     "output_type": "execute_result"
    }
   ],
   "source": [
    "chr(244)"
   ]
  },
  {
   "cell_type": "code",
   "execution_count": 43,
   "metadata": {},
   "outputs": [
    {
     "data": {
      "text/plain": [
       "64"
      ]
     },
     "execution_count": 43,
     "metadata": {},
     "output_type": "execute_result"
    }
   ],
   "source": [
    "ord('@')"
   ]
  },
  {
   "cell_type": "code",
   "execution_count": 56,
   "metadata": {},
   "outputs": [
    {
     "name": "stdout",
     "output_type": "stream",
     "text": [
      "<class 'int'>\n",
      "<class 'int'>\n",
      "<class 'bool'>\n",
      "<class 'float'>\n",
      "<class 'float'>\n",
      "<class 'str'>\n",
      "<class 'tuple'>\n",
      "<class 'int'>\n",
      "<class 'dict'>\n"
     ]
    }
   ],
   "source": [
    "print(type(123)) #int\n",
    "print(type(1299999999999999999999999999993)) #still int , their is no long or big integer\n",
    "print(type(True)) #boolean\n",
    "print(type(2.41))#float\n",
    "print(type(24.444444444444123488444444444)) #still float , ther is nodouble\n",
    "print(type(\"ansh\"))#string\n",
    "print(type((1,\"abc\",24.6)))#tuple\n",
    "print(type(123))#List\n",
    "print(type({\"a\":1})) #dictionary\n"
   ]
  },
  {
   "cell_type": "code",
   "execution_count": 65,
   "metadata": {},
   "outputs": [
    {
     "data": {
      "text/plain": [
       "True"
      ]
     },
     "execution_count": 65,
     "metadata": {},
     "output_type": "execute_result"
    }
   ],
   "source": [
    "True==1 and False==0"
   ]
  },
  {
   "cell_type": "code",
   "execution_count": 71,
   "metadata": {},
   "outputs": [
    {
     "name": "stdout",
     "output_type": "stream",
     "text": [
      "Value is  4.0 Rounded to 0 places\n",
      "Value is  3.9 Rounded to 1 places\n",
      "Value is  3.92 Rounded to 2 places\n",
      "Value is  3.919 Rounded to 3 places\n",
      "Value is  3.9192 Rounded to 4 places\n"
     ]
    }
   ],
   "source": [
    "print(\"Value is \", round(3.91919001 ,0),\"Rounded to\",0,\"places\")\n",
    "print(\"Value is \", round(3.91919001 ,1),\"Rounded to\",1,\"places\")\n",
    "print(\"Value is \", round(3.91919001 ,2),\"Rounded to\",2,\"places\")\n",
    "print(\"Value is \", round(3.91919001 ,3),\"Rounded to\",3,\"places\")\n",
    "print(\"Value is \", round(3.91919001 ,4),\"Rounded to\",4,\"places\")\n"
   ]
  },
  {
   "cell_type": "code",
   "execution_count": 72,
   "metadata": {},
   "outputs": [
    {
     "data": {
      "text/plain": [
       "'stonestonestone'"
      ]
     },
     "execution_count": 72,
     "metadata": {},
     "output_type": "execute_result"
    }
   ],
   "source": [
    "\"stone\"*3"
   ]
  },
  {
   "cell_type": "code",
   "execution_count": 73,
   "metadata": {},
   "outputs": [
    {
     "data": {
      "text/plain": [
       "'StoryStoryStory'"
      ]
     },
     "execution_count": 73,
     "metadata": {},
     "output_type": "execute_result"
    }
   ],
   "source": [
    "3*\"Story\""
   ]
  },
  {
   "cell_type": "code",
   "execution_count": 74,
   "metadata": {},
   "outputs": [
    {
     "data": {
      "text/plain": [
       "'stonestonestoneage'"
      ]
     },
     "execution_count": 74,
     "metadata": {},
     "output_type": "execute_result"
    }
   ],
   "source": [
    "3*'stone'+'age'"
   ]
  },
  {
   "cell_type": "code",
   "execution_count": null,
   "metadata": {},
   "outputs": [],
   "source": []
  }
 ],
 "metadata": {
  "kernelspec": {
   "display_name": "Python 3",
   "language": "python",
   "name": "python3"
  },
  "language_info": {
   "codemirror_mode": {
    "name": "ipython",
    "version": 3
   },
   "file_extension": ".py",
   "mimetype": "text/x-python",
   "name": "python",
   "nbconvert_exporter": "python",
   "pygments_lexer": "ipython3",
   "version": "3.6.5"
  }
 },
 "nbformat": 4,
 "nbformat_minor": 2
}
