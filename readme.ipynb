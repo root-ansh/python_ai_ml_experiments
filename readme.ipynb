{
 "cells": [
  {
   "cell_type": "code",
   "execution_count": 1,
   "metadata": {},
   "outputs": [],
   "source": [
    "import numpy as np\n",
    "import pandas as pd\n",
    "import matplotlib.pyplot as plt\n",
    "import nltk\n",
    "\n",
    "\n"
   ]
  },
  {
   "cell_type": "code",
   "execution_count": 2,
   "metadata": {},
   "outputs": [
    {
     "name": "stdout",
     "output_type": "stream",
     "text": [
      "['a', 'able', 'about', 'across', 'after', 'all', 'almost', 'also', 'am', 'among', 'an', 'and', 'any', 'are', 'as', 'at', 'be', 'because', 'been', 'but', 'by', 'can', 'cannot', 'could', 'dear', 'did', 'do', 'does', 'either', 'else', 'ever', 'every', 'for', 'from', 'get', 'got', 'had', 'has', 'have', 'he', 'her', 'hers', 'him', 'his', 'how', 'however', 'i', 'if', 'in', 'into', 'is', 'it', 'its', 'just', 'least', 'let', 'like', 'likely', 'may', 'me', 'might', 'most', 'must', 'my', 'neither', 'no', 'nor', 'not', 'of', 'off', 'often', 'on', 'only', 'or', 'other', 'our', 'own', 'rather', 'said', 'say', 'says', 'she', 'should', 'since', 'so', 'some', 'than', 'that', 'the', 'their', 'them', 'then', 'there', 'these', 'they', 'this', 'tis', 'to', 'too', 'twas', 'us', 'wants', 'was', 'we', 'were', 'what', 'when', 'where', 'which', 'while', 'who', 'whom', 'why', 'will', 'with', 'would', 'yes', 'yet', 'you', 'your', '—', 'more', 'new', 'it’s', 'one', 'company', 'out', 'year', 'people', 'over', 'now', 'percent', 'first', 'make', 'companies', 'that’s', 'u', 'lot']\n"
     ]
    }
   ],
   "source": [
    "stp_list = \"a,able,about,across,after,all,almost,also,am,among,an,and,any,are,as,at,be,\" \\\n",
    "    \"because,been,but,by,can,cannot,could,dear,did,do,does,either,else,ever,every,for,\" \\\n",
    "    \"from,get,got,had,has,have,he,her,hers,him,his,how,however,i,if,in,into,is,it,its,\" \\\n",
    "    \"just,least,let,like,likely,may,me,might,most,must,my,neither,no,nor,not,of,off,often,\" \\\n",
    "    \"on,only,or,other,our,own,rather,said,say,says,she,should,since,so,some,than,that,the,\" \\\n",
    "    \"their,them,then,there,these,they,this,tis,to,too,twas,us,wants,was,we,were,what,when,where,\" \\\n",
    "    \"which,while,who,whom,why,will,with,would,yes,yet,you,your,—,more,new,it’s,one,company,out,\" \\\n",
    "           \"year,people,over,now,percent,first,make,companies,that’s,u,lot\".split(',')\n",
    "# stopwords list\n",
    "print(stp_list)"
   ]
  },
  {
   "cell_type": "code",
   "execution_count": 3,
   "metadata": {},
   "outputs": [],
   "source": [
    "file1 = r'C:\\Users\\anshs\\00ANSH_PYTHON\\My_Projects\\NewsSiteCrawler\\Authorlist.txt'\n",
    "file2 = r'C:\\Users\\anshs\\00ANSH_PYTHON\\My_Projects\\NewsSiteCrawler\\raw_article.txt'\n",
    "\n",
    "with open(file1, 'r') as f:\n",
    "    authors = f.read().split('\\n')\n",
    "with open(file2, 'r') as f2:\n",
    "    raw_articles = f2.read()\n",
    "    # print(raw_articles[0:1000])\n",
    "    \n",
    "    raw_articles = raw_articles.lower()\n",
    "    # print(raw_articles[0:1000])\n",
    "    \n",
    "    raw_articles = raw_articles.replace('-', '')\n",
    "    # print(raw_articles[0:1000])\n",
    "\n",
    "    raw_articles = raw_articles.replace('\\n', '')\n",
    "    # print(raw_articles[0:1000])\n",
    "\n",
    "    raw_articles = raw_articles.replace(',', ' ')\n",
    "    # print(raw_articles[0:1000])\n",
    "     \n",
    "    raw_articles = raw_articles.replace('.', ' ')\n",
    "    # print(raw_articles[0:1000]) \n",
    "    \n",
    "    raw_articles = raw_articles.replace('”', ' ')\n",
    "    # print(raw_articles[0:1000])\n",
    "    \n",
    "    raw_articles = raw_articles.replace('“', ' ')\n",
    "    # print(raw_articles[0:1000])\n",
    "    \n",
    "    raw_articles = raw_articles.split(' ')\n",
    "    # print(raw_articles[0:1000])\n",
    "    \n",
    "    raw_articles=[i for i in raw_articles if i != '']\n",
    "    # print(raw_articles[0:100])\n",
    "    \n",
    "    raw_articles=[i for i in raw_articles if (i not in stp_list)]\n",
    "    # print(raw_articles[0:1000])\n"
   ]
  },
  {
   "cell_type": "code",
   "execution_count": 4,
   "metadata": {},
   "outputs": [
    {
     "name": "stdout",
     "output_type": "stream",
     "text": [
      "678\n",
      "232473\n",
      "[('game', 1110), ('games', 937), ('up', 719), ('time', 717), ('data', 709), ('million', 676), ('ai', 648), ('users', 533), ('google', 513), ('technology', 489), ('world', 484), ('above:', 472), ('use', 459), ('years', 451), ('even', 431), ('way', 425), ('app', 419), ('through', 410), ('see', 405), ('work', 393), ('team', 391), ('many', 389), ('such', 383), ('those', 380), ('business', 380), ('today', 376), ('well', 370), ('players', 367), ('last', 366), ('two', 366), ('we’re', 362), ('s', 358), ('want', 348), ('much', 348), ('platform', 340), ('video', 338), ('help', 337), ('around', 334), ('market', 330), ('system', 328), ('going', 321), ('developers', 317), ('5g', 317), ('things', 316), ('used', 314), ('using', 313), ('play', 309), ('2018', 309), ('customers', 309), ('part', 305), ('service', 305), ('think', 305), ('made', 301), ('including', 300), ('mobile', 300), ('go', 299), ('learning', 298), ('gaming', 297), ('both', 294), ('experience', 291), ('don’t', 288), ('next', 286), ('being', 285), ('still', 284), ('big', 283), ('need', 281), ('support', 281), ('2019', 279), ('2', 278), ('vr', 276), ('facebook', 275), ('apple', 274), ('esports', 274), ('industry', 272), ('content', 272), ('different', 269), ('back', 269), ('available', 268), ('very', 267), ('devices', 266), ('good', 263), ('take', 263), ('something', 263), ('better', 262), ('000', 262), ('top', 261), ('you’re', 260), ('software', 258), ('each', 258), ('create', 257), ('best', 255), ('home', 249), ('1', 248), ('before', 245), ('announced', 241), ('access', 240), ('number', 235), ('ceo', 235), ('cloud', 235), ('there’s', 232), ('look', 232), ('between', 230), ('really', 228), ('features', 226), ('working', 225), ('product', 225), ('right', 224), ('making', 224), ('4', 223), ('early', 221), ('future', 221), ('same', 216), ('network', 216), ('services', 215), ('alexa', 214), ('apps', 213), ('three', 212), ('products', 211), ('amazon', 210), ('10', 210), ('systems', 209), ('launch', 209), ('revenue', 209), ('without', 208), ('they’re', 208), ('tech', 206), ('machine', 206), ('digital', 204), ('billion', 203), ('month', 203), ('comes', 203), ('based', 202), ('model', 201), ('microsoft', 201), ('find', 200), ('build', 198), ('online', 194), ('company’s', 194), ('coming', 193), ('money', 193), ('security', 193), ('information', 190), ('according', 189), ('come', 189), ('great', 189), ('series', 188), ('smart', 186), ('i’m', 186), ('set', 185), ('growth', 185), ('during', 185), ('development', 184), ('down', 184), ('become', 183), ('open', 182), ('global', 182), ('another', 182), ('performance', 182), ('few', 181), ('research', 180), ('know', 179), ('we’ve', 178), ('3', 176), ('past', 176), ('voice', 173), ('end', 173), ('already', 172), ('launched', 171), ('2017', 171), ('media', 171), ('place', 169), ('feature', 169), ('show', 169), ('isn’t', 169), ('design', 168), ('human', 168), ('5', 167), ('multiple', 167), ('months', 167), ('far', 167), ('you’ll', 166), ('social', 166), ('device', 165), ('day', 165), ('looking', 164), ('search', 164), ('public', 163), ('sales', 163), ('small', 162), ('live', 161), ('important', 161), ('start', 160), ('though', 160), ('phone', 160), ('user', 159), ('startup', 159), ('store', 154), ('community', 154), ('times', 153), ('capital', 153)]\n"
     ]
    }
   ],
   "source": [
    "print(len(authors))\n",
    "print(len(raw_articles))\n",
    "\n",
    "authors_frq = nltk.FreqDist(authors)\n",
    "# print(authors_frq.most_common(20))\n",
    "df_authors = pd.DataFrame(index=range(20), data=authors_frq.most_common(20), columns=['name', 'freq'])\n",
    "\n",
    "word_freq = nltk.FreqDist(raw_articles)\n",
    "print(word_freq.most_common(200))\n",
    "df_words = pd.DataFrame(index=range(20), data=word_freq.most_common(20), columns=['word', 'freq'])"
   ]
  },
  {
   "cell_type": "code",
   "execution_count": 5,
   "metadata": {},
   "outputs": [
    {
     "data": {
      "text/html": [
       "<div>\n",
       "<style scoped>\n",
       "    .dataframe tbody tr th:only-of-type {\n",
       "        vertical-align: middle;\n",
       "    }\n",
       "\n",
       "    .dataframe tbody tr th {\n",
       "        vertical-align: top;\n",
       "    }\n",
       "\n",
       "    .dataframe thead th {\n",
       "        text-align: right;\n",
       "    }\n",
       "</style>\n",
       "<table border=\"1\" class=\"dataframe\">\n",
       "  <thead>\n",
       "    <tr style=\"text-align: right;\">\n",
       "      <th></th>\n",
       "      <th>name</th>\n",
       "      <th>freq</th>\n",
       "    </tr>\n",
       "  </thead>\n",
       "  <tbody>\n",
       "    <tr>\n",
       "      <th>0</th>\n",
       "      <td>Kyle Wiggers</td>\n",
       "      <td>109</td>\n",
       "    </tr>\n",
       "    <tr>\n",
       "      <th>1</th>\n",
       "      <td>Dean Takahashi</td>\n",
       "      <td>103</td>\n",
       "    </tr>\n",
       "    <tr>\n",
       "      <th>2</th>\n",
       "      <td>Jeremy Horwitz</td>\n",
       "      <td>50</td>\n",
       "    </tr>\n",
       "    <tr>\n",
       "      <th>3</th>\n",
       "      <td>Jeff Grubb</td>\n",
       "      <td>47</td>\n",
       "    </tr>\n",
       "    <tr>\n",
       "      <th>4</th>\n",
       "      <td>Paul Sawers</td>\n",
       "      <td>46</td>\n",
       "    </tr>\n",
       "  </tbody>\n",
       "</table>\n",
       "</div>"
      ],
      "text/plain": [
       "             name  freq\n",
       "0    Kyle Wiggers   109\n",
       "1  Dean Takahashi   103\n",
       "2  Jeremy Horwitz    50\n",
       "3      Jeff Grubb    47\n",
       "4     Paul Sawers    46"
      ]
     },
     "metadata": {},
     "output_type": "display_data"
    },
    {
     "data": {
      "text/html": [
       "<div>\n",
       "<style scoped>\n",
       "    .dataframe tbody tr th:only-of-type {\n",
       "        vertical-align: middle;\n",
       "    }\n",
       "\n",
       "    .dataframe tbody tr th {\n",
       "        vertical-align: top;\n",
       "    }\n",
       "\n",
       "    .dataframe thead th {\n",
       "        text-align: right;\n",
       "    }\n",
       "</style>\n",
       "<table border=\"1\" class=\"dataframe\">\n",
       "  <thead>\n",
       "    <tr style=\"text-align: right;\">\n",
       "      <th></th>\n",
       "      <th>word</th>\n",
       "      <th>freq</th>\n",
       "    </tr>\n",
       "  </thead>\n",
       "  <tbody>\n",
       "    <tr>\n",
       "      <th>0</th>\n",
       "      <td>game</td>\n",
       "      <td>1110</td>\n",
       "    </tr>\n",
       "    <tr>\n",
       "      <th>1</th>\n",
       "      <td>games</td>\n",
       "      <td>937</td>\n",
       "    </tr>\n",
       "    <tr>\n",
       "      <th>2</th>\n",
       "      <td>up</td>\n",
       "      <td>719</td>\n",
       "    </tr>\n",
       "    <tr>\n",
       "      <th>3</th>\n",
       "      <td>time</td>\n",
       "      <td>717</td>\n",
       "    </tr>\n",
       "    <tr>\n",
       "      <th>4</th>\n",
       "      <td>data</td>\n",
       "      <td>709</td>\n",
       "    </tr>\n",
       "  </tbody>\n",
       "</table>\n",
       "</div>"
      ],
      "text/plain": [
       "    word  freq\n",
       "0   game  1110\n",
       "1  games   937\n",
       "2     up   719\n",
       "3   time   717\n",
       "4   data   709"
      ]
     },
     "metadata": {},
     "output_type": "display_data"
    }
   ],
   "source": [
    "display(df_authors.head())\n",
    "display(df_words.head())\n"
   ]
  },
  {
   "cell_type": "code",
   "execution_count": 6,
   "metadata": {},
   "outputs": [
    {
     "data": {
      "text/plain": [
       "([0, 1, 2, 3, 4, 5, 6, 7, 8, 9, 10, 11, 12, 13, 14, 15, 16, 17, 18, 19],\n",
       " <a list of 20 Text xticklabel objects>)"
      ]
     },
     "execution_count": 6,
     "metadata": {},
     "output_type": "execute_result"
    },
    {
     "data": {
      "image/png": "[encoded data removed]",
      "text/plain": [
       "<Figure size 1152x576 with 1 Axes>"
      ]
     },
     "metadata": {
      "needs_background": "light"
     },
     "output_type": "display_data"
    }
   ],
   "source": [
    "fig, ax = plt.subplots(figsize=[16, 8])\n",
    "plt.bar(df_authors.name, df_authors.freq)\n",
    "plt.xticks(rotation=90)\n"
   ]
  },
  {
   "cell_type": "code",
   "execution_count": 50,
   "metadata": {},
   "outputs": [
    {
     "data": {
      "text/plain": [
       "['ab', 'aasb', 'b', 'b']"
      ]
     },
     "execution_count": 50,
     "metadata": {},
     "output_type": "execute_result"
    }
   ],
   "source": [
    "x=\" ab   aasb    b   b\".split(' ')\n",
    "x = [i for i in x if i != '']\n",
    "x"
   ]
  },
  {
   "cell_type": "code",
   "execution_count": null,
   "metadata": {},
   "outputs": [],
   "source": []
  }
 ],
 "metadata": {
  "kernelspec": {
   "display_name": "Python 3",
   "language": "python",
   "name": "python3"
  },
  "language_info": {
   "codemirror_mode": {
    "name": "ipython",
    "version": 3
   },
   "file_extension": ".py",
   "mimetype": "text/x-python",
   "name": "python",
   "nbconvert_exporter": "python",
   "pygments_lexer": "ipython3",
   "version": "3.6.6"
  }
 },
 "nbformat": 4,
 "nbformat_minor": 1
}
